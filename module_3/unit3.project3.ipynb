{
 "cells": [
  {
   "cell_type": "markdown",
   "metadata": {},
   "source": [
    "# Юнит 3, проект 3, Проект 3. О вкусной и здоровой пище"
   ]
  },
  {
   "cell_type": "code",
   "execution_count": null,
   "metadata": {},
   "outputs": [],
   "source": [
    "import pandas as pd\n",
    "import matplotlib.pyplot as plt\n",
    "import seaborn as sns\n",
    "from itertools import combinations\n",
    "from scipy.stats import ttest_ind\n",
    "import numpy as np\n",
    "\n",
    "pd.set_option('display.max_rows', 50) # показывать больше строк\n",
    "pd.set_option('display.max_columns', 50) # показывать больше колонок\n",
    "\n",
    "%matplotlib inline"
   ]
  },
  {
   "cell_type": "code",
   "execution_count": 2,
   "metadata": {},
   "outputs": [],
   "source": [
    "import os\n",
    "import math\n",
    "from datetime import datetime"
   ]
  },
  {
   "cell_type": "code",
   "execution_count": 3,
   "metadata": {},
   "outputs": [],
   "source": [
    "import string\n",
    "import collections"
   ]
  },
  {
   "cell_type": "code",
   "execution_count": 4,
   "metadata": {},
   "outputs": [],
   "source": [
    "from sklearn.preprocessing import MinMaxScaler\n",
    "from sklearn.preprocessing import StandardScaler\n",
    "from sklearn.preprocessing import PolynomialFeatures\n",
    "import sys"
   ]
  },
  {
   "cell_type": "code",
   "execution_count": 5,
   "metadata": {},
   "outputs": [],
   "source": [
    "from sklearn.model_selection import train_test_split  # Загружаем специальный инструмент для разбивки: \n",
    "from sklearn.ensemble import RandomForestRegressor # инструмент для создания и обучения модели  \n",
    "from sklearn import metrics # инструменты для оценки точности модели"
   ]
  },
  {
   "cell_type": "code",
   "execution_count": 30,
   "metadata": {},
   "outputs": [],
   "source": [
    "#np.set_printoptions(threshold=sys.maxsize)\n",
    "pd.set_option('display.max_columns', sys.maxsize)\n",
    "pd.set_option('display.max_rows', 5)#sys.maxsize)"
   ]
  },
  {
   "cell_type": "code",
   "execution_count": 31,
   "metadata": {},
   "outputs": [],
   "source": [
    "# разные вариаты для удобства отладки, включаю разные\n",
    "pd.set_option('display.max_rows', 50) # показывать больше строк\n",
    "pd.set_option('display.max_columns', 50) # показывать больше колонок"
   ]
  },
  {
   "cell_type": "code",
   "execution_count": 6,
   "metadata": {},
   "outputs": [],
   "source": [
    "# всегда фиксируйте RANDOM_SEED, чтобы ваши эксперименты были воспроизводимы!\n",
    "RANDOM_SEED = 42"
   ]
  },
  {
   "cell_type": "markdown",
   "metadata": {},
   "source": [
    "### Колонки\n",
    "\n",
    "* Restaurant_id — идентификационный номер ресторана / сети ресторанов;\n",
    "* City — город, в котором находится ресторан;\n",
    "* Cuisine Style — кухня или кухни, к которым можно отнести блюда, предлагаемые в ресторане;\n",
    "* Ranking — место, которое занимает данный ресторан среди всех ресторанов своего города;\n",
    "* Rating — рейтинг ресторана по данным TripAdvisor (именно это значение должна будет предсказывать модель);\n",
    "* Price Range — диапазон цен в ресторане;\n",
    "* Number of Reviews — количество отзывов о ресторане;\n",
    "* Reviews — данные о двух отзывах, которые отображаются на сайте ресторана;\n",
    "* URL_TA — URL страницы ресторана на TripAdvisor;\n",
    "* ID_TA — идентификатор ресторана в базе данных TripAdvisor."
   ]
  },
  {
   "cell_type": "code",
   "execution_count": 7,
   "metadata": {},
   "outputs": [],
   "source": [
    "model = RandomForestRegressor()"
   ]
  },
  {
   "cell_type": "code",
   "execution_count": 58,
   "metadata": {},
   "outputs": [
    {
     "name": "stdout",
     "output_type": "stream",
     "text": [
      "40000 10000\n"
     ]
    }
   ],
   "source": [
    "DATA_DIR = ''#'C:/skillfactory/git_sf_repo/skcourse_projects/module_3/'\n",
    "df_train = pd.read_csv(DATA_DIR+'main_task.csv')\n",
    "df_test = pd.read_csv(DATA_DIR+'kaggle_task.csv')\n",
    "sample_submission = pd.read_csv(DATA_DIR+'sample_submission.csv')\n",
    "print(len(df_train), len(df_test))\n",
    "#df_train.sample(5)\n",
    "#df_test.sample(5)\n",
    "\n",
    "df = df_test.append(df_train, sort=False).reset_index(drop=True) # объединяем"
   ]
  },
  {
   "cell_type": "code",
   "execution_count": 9,
   "metadata": {},
   "outputs": [],
   "source": [
    "def data_reload():\n",
    "    global df_train\n",
    "    global df_test\n",
    "    global df\n",
    "    DATA_DIR = 'C:/skillfactory/git_sf_repo/skcourse_projects/module_3/'\n",
    "    df_train = pd.read_csv(DATA_DIR+'main_task.csv')\n",
    "    df_test = pd.read_csv(DATA_DIR+'kaggle_task.csv')\n",
    "    \n",
    "    df_train['sample'] = 1 # помечаем где у нас трейн\n",
    "    df_test['sample'] = 0 # помечаем где у нас тест\n",
    "    df_test['Rating'] = 0 # в тесте у нас нет значения Rating, мы его должны предсказать, по этому пока просто заполняем нулями\n",
    "\n",
    "    df = df_test.append(df_train, sort=False).reset_index(drop=True) # объединяем"
   ]
  },
  {
   "cell_type": "code",
   "execution_count": 10,
   "metadata": {},
   "outputs": [],
   "source": [
    "def data_split(X, y):\n",
    "    X_train, X_test, y_train, y_test = train_test_split(X, y, test_size=0.2, random_state=RANDOM_SEED)"
   ]
  },
  {
   "cell_type": "code",
   "execution_count": 11,
   "metadata": {},
   "outputs": [],
   "source": [
    "def test_model(lst_del, score_var, df_var, pc=0.25):\n",
    "    global model\n",
    "    # Х - данные с информацией о ресторанах, у - целевая переменная (рейтинги ресторанов)\n",
    "    X = df_var.drop(lst_del, axis = 1)\n",
    "    y = df_var[score_var]\n",
    "    \n",
    "    # Наборы данных с меткой \"train\" будут использоваться для обучения модели, \"test\" - для тестирования.\n",
    "    # Для тестирования мы будем использовать 25% от исходного датасета.\n",
    "    #X_train, X_test, y_train, y_test = train_test_split(X, y, test_size=pc)\n",
    "    \n",
    "    X_train, X_test, y_train, y_test = train_test_split(X, y, test_size=pc, random_state=RANDOM_SEED)\n",
    "    \n",
    "    # Создаём модель\n",
    "    # regr = RandomForestRegressor(n_estimators=100)\n",
    "    # model\n",
    "    model = RandomForestRegressor(n_estimators=100, verbose=1, n_jobs=-1, random_state=RANDOM_SEED)\n",
    "\n",
    "    # Обучаем модель на тестовом наборе данных\n",
    "    model.fit(X_train, y_train)\n",
    "\n",
    "    # Используем обученную модель для предсказания рейтинга ресторанов в тестовой выборке.\n",
    "    # Предсказанные значения записываем в переменную y_pred\n",
    "    y_pred = model.predict(X_test)\n",
    "    \n",
    "    # Сравниваем предсказанные значения (y_pred) с реальными (y_test), и смотрим насколько они в среднем отличаются\n",
    "    # Метрика называется Mean Absolute Error (MAE) и показывает среднее отклонение предсказанных значений от фактических.\n",
    "    mean_err = metrics.mean_absolute_error(y_test, y_pred)\n",
    "    print('MAE:', mean_err)\n",
    "    return mean_err"
   ]
  },
  {
   "cell_type": "code",
   "execution_count": 12,
   "metadata": {},
   "outputs": [],
   "source": [
    "def test_model_local(lst_del, score_var, df_var, pc=0.25):\n",
    "    # Х - данные с информацией о ресторанах, у - целевая переменная (рейтинги ресторанов)\n",
    "    X = df_var.drop(lst_del, axis = 1)\n",
    "    y = df_var[score_var]\n",
    "    \n",
    "    # Наборы данных с меткой \"train\" будут использоваться для обучения модели, \"test\" - для тестирования.\n",
    "    # Для тестирования мы будем использовать 25% от исходного датасета.\n",
    "    #X_train, X_test, y_train, y_test = train_test_split(X, y, test_size=pc)\n",
    "    \n",
    "    X_train, X_test, y_train, y_test = train_test_split(X, y, test_size=pc, random_state=RANDOM_SEED)\n",
    "    \n",
    "    # Создаём модель\n",
    "    # regr = RandomForestRegressor(n_estimators=100)\n",
    "    # model\n",
    "    model = RandomForestRegressor(n_estimators=100, verbose=1, n_jobs=-1, random_state=RANDOM_SEED)\n",
    "\n",
    "    # Обучаем модель на тестовом наборе данных\n",
    "    model.fit(X_train, y_train)\n",
    "\n",
    "    # Используем обученную модель для предсказания рейтинга ресторанов в тестовой выборке.\n",
    "    # Предсказанные значения записываем в переменную y_pred\n",
    "    y_pred = model.predict(X_test)\n",
    "    \n",
    "    # Сравниваем предсказанные значения (y_pred) с реальными (y_test), и смотрим насколько они в среднем отличаются\n",
    "    # Метрика называется Mean Absolute Error (MAE) и показывает среднее отклонение предсказанных значений от фактических.\n",
    "    mean_err = metrics.mean_absolute_error(y_test, y_pred)\n",
    "    print('MAE:', mean_err)\n",
    "    return mean_err"
   ]
  },
  {
   "cell_type": "code",
   "execution_count": 13,
   "metadata": {},
   "outputs": [],
   "source": [
    "def save_model(model_in, test_data_in, save_v):\n",
    "    predict_submission = model_in.predict(test_data_in)\n",
    "    sample_submission['Rating'] = predict_submission\n",
    "    if (save_v==1):\n",
    "        sample_submission.to_csv('submission.csv', index=False)\n",
    "    sample_submission.head(10)"
   ]
  },
  {
   "cell_type": "code",
   "execution_count": 14,
   "metadata": {},
   "outputs": [],
   "source": [
    "# функция распечатки значений матрицы корреляций выше заданного\n",
    "def print_corr_over_threshold(correlation_in, threshold_in):\n",
    "    np.fill_diagonal(correlation_in.values, -2)\n",
    "    for i, ii in zip(correlation_in.columns, enumerate(correlation_in.columns)):\n",
    "        for j, jj in zip(correlation_in.columns, enumerate(correlation_in.columns)):\n",
    "            if (i==j):\n",
    "                continue\n",
    "            if (ii < jj):\n",
    "                continue\n",
    "            if (abs(correlation_in[i][j]) > threshold_in and abs(correlation_in[i][j]) < 2):\n",
    "                print(i, '\\t', j, '\\t', correlation_in[i][j])"
   ]
  },
  {
   "cell_type": "code",
   "execution_count": 15,
   "metadata": {},
   "outputs": [],
   "source": [
    "# нарисовать heatmap корреляци, вывести все пары выше заданных двух порогов - явной корреляции и хоть какой-то для интереса\n",
    "def correlation_workflow(input_df, threshold_in1, threshold_in2, sz_in=15):\n",
    "    correlation_input_df = input_df.corr()\n",
    "    print(correlation_input_df)\n",
    "    \n",
    "    annot_kws1 = {\"ha\": 'center',\"va\": 'bottom', 'color':'black'}\n",
    "\n",
    "    sns.heatmap(correlation_input_df, annot=True, cmap='coolwarm', annot_kws=annot_kws1)\n",
    "    sz = sz_in\n",
    "    if (len(input_df.columns) > 12):\n",
    "        sz = 20\n",
    "    fig = plt.gcf().set_size_inches(sz, sz)\n",
    "    print(\"---------Correlated---------\")\n",
    "    print_corr_over_threshold(correlation_input_df, threshold_in1)\n",
    "    print('---------end--------')\n",
    "    #print(\"---------Just something correlated---------\")\n",
    "    #print_corr_over_threshold(correlation_input_df, threshold_in2)\n",
    "    #print('---------end--------')"
   ]
  },
  {
   "cell_type": "code",
   "execution_count": null,
   "metadata": {},
   "outputs": [],
   "source": []
  },
  {
   "cell_type": "code",
   "execution_count": null,
   "metadata": {},
   "outputs": [],
   "source": []
  },
  {
   "cell_type": "code",
   "execution_count": null,
   "metadata": {},
   "outputs": [],
   "source": []
  },
  {
   "cell_type": "code",
   "execution_count": 16,
   "metadata": {},
   "outputs": [
    {
     "data": {
      "text/html": [
       "<div>\n",
       "<style scoped>\n",
       "    .dataframe tbody tr th:only-of-type {\n",
       "        vertical-align: middle;\n",
       "    }\n",
       "\n",
       "    .dataframe tbody tr th {\n",
       "        vertical-align: top;\n",
       "    }\n",
       "\n",
       "    .dataframe thead th {\n",
       "        text-align: right;\n",
       "    }\n",
       "</style>\n",
       "<table border=\"1\" class=\"dataframe\">\n",
       "  <thead>\n",
       "    <tr style=\"text-align: right;\">\n",
       "      <th></th>\n",
       "      <th>Restaurant_id</th>\n",
       "      <th>City</th>\n",
       "      <th>Cuisine Style</th>\n",
       "      <th>Ranking</th>\n",
       "      <th>Rating</th>\n",
       "      <th>Price Range</th>\n",
       "      <th>Number of Reviews</th>\n",
       "      <th>Reviews</th>\n",
       "      <th>URL_TA</th>\n",
       "      <th>ID_TA</th>\n",
       "    </tr>\n",
       "  </thead>\n",
       "  <tbody>\n",
       "    <tr>\n",
       "      <td>11389</td>\n",
       "      <td>id_2488</td>\n",
       "      <td>Berlin</td>\n",
       "      <td>['Italian', 'Mediterranean', 'Pizza']</td>\n",
       "      <td>2490.0</td>\n",
       "      <td>4.0</td>\n",
       "      <td>$$ - $$$</td>\n",
       "      <td>21.0</td>\n",
       "      <td>[['Great salami pizza!', 'Nice Italian Restaur...</td>\n",
       "      <td>/Restaurant_Review-g187323-d3158629-Reviews-Ma...</td>\n",
       "      <td>d3158629</td>\n",
       "    </tr>\n",
       "    <tr>\n",
       "      <td>22194</td>\n",
       "      <td>id_1054</td>\n",
       "      <td>Amsterdam</td>\n",
       "      <td>['Asian', 'Thai', 'Vegetarian Friendly', 'Vega...</td>\n",
       "      <td>1057.0</td>\n",
       "      <td>4.0</td>\n",
       "      <td>$$ - $$$</td>\n",
       "      <td>121.0</td>\n",
       "      <td>[['Delicious Thai cuisines, excellent seating....</td>\n",
       "      <td>/Restaurant_Review-g188590-d3209267-Reviews-Th...</td>\n",
       "      <td>d3209267</td>\n",
       "    </tr>\n",
       "    <tr>\n",
       "      <td>3322</td>\n",
       "      <td>id_421</td>\n",
       "      <td>Madrid</td>\n",
       "      <td>['Mediterranean', 'Spanish', 'Contemporary', '...</td>\n",
       "      <td>422.0</td>\n",
       "      <td>4.5</td>\n",
       "      <td>$$ - $$$</td>\n",
       "      <td>281.0</td>\n",
       "      <td>[['Thanks to Tripadvisor', 'Great food and eve...</td>\n",
       "      <td>/Restaurant_Review-g187514-d3783000-Reviews-Ma...</td>\n",
       "      <td>d3783000</td>\n",
       "    </tr>\n",
       "    <tr>\n",
       "      <td>23536</td>\n",
       "      <td>id_1842</td>\n",
       "      <td>Dublin</td>\n",
       "      <td>['Italian']</td>\n",
       "      <td>1846.0</td>\n",
       "      <td>2.5</td>\n",
       "      <td>NaN</td>\n",
       "      <td>2.0</td>\n",
       "      <td>[['great Italian', 'My review'], ['09/03/2015'...</td>\n",
       "      <td>/Restaurant_Review-g186605-d3293775-Reviews-Wa...</td>\n",
       "      <td>d3293775</td>\n",
       "    </tr>\n",
       "    <tr>\n",
       "      <td>26755</td>\n",
       "      <td>id_3006</td>\n",
       "      <td>Paris</td>\n",
       "      <td>['French', 'Bar', 'European']</td>\n",
       "      <td>3007.0</td>\n",
       "      <td>4.0</td>\n",
       "      <td>$$ - $$$</td>\n",
       "      <td>81.0</td>\n",
       "      <td>[['Nice situation, nice atmosphere', 'Very goo...</td>\n",
       "      <td>/Restaurant_Review-g187147-d7917474-Reviews-Co...</td>\n",
       "      <td>d7917474</td>\n",
       "    </tr>\n",
       "  </tbody>\n",
       "</table>\n",
       "</div>"
      ],
      "text/plain": [
       "      Restaurant_id       City  \\\n",
       "11389       id_2488     Berlin   \n",
       "22194       id_1054  Amsterdam   \n",
       "3322         id_421     Madrid   \n",
       "23536       id_1842     Dublin   \n",
       "26755       id_3006      Paris   \n",
       "\n",
       "                                           Cuisine Style  Ranking  Rating  \\\n",
       "11389              ['Italian', 'Mediterranean', 'Pizza']   2490.0     4.0   \n",
       "22194  ['Asian', 'Thai', 'Vegetarian Friendly', 'Vega...   1057.0     4.0   \n",
       "3322   ['Mediterranean', 'Spanish', 'Contemporary', '...    422.0     4.5   \n",
       "23536                                        ['Italian']   1846.0     2.5   \n",
       "26755                      ['French', 'Bar', 'European']   3007.0     4.0   \n",
       "\n",
       "      Price Range  Number of Reviews  \\\n",
       "11389    $$ - $$$               21.0   \n",
       "22194    $$ - $$$              121.0   \n",
       "3322     $$ - $$$              281.0   \n",
       "23536         NaN                2.0   \n",
       "26755    $$ - $$$               81.0   \n",
       "\n",
       "                                                 Reviews  \\\n",
       "11389  [['Great salami pizza!', 'Nice Italian Restaur...   \n",
       "22194  [['Delicious Thai cuisines, excellent seating....   \n",
       "3322   [['Thanks to Tripadvisor', 'Great food and eve...   \n",
       "23536  [['great Italian', 'My review'], ['09/03/2015'...   \n",
       "26755  [['Nice situation, nice atmosphere', 'Very goo...   \n",
       "\n",
       "                                                  URL_TA     ID_TA  \n",
       "11389  /Restaurant_Review-g187323-d3158629-Reviews-Ma...  d3158629  \n",
       "22194  /Restaurant_Review-g188590-d3209267-Reviews-Th...  d3209267  \n",
       "3322   /Restaurant_Review-g187514-d3783000-Reviews-Ma...  d3783000  \n",
       "23536  /Restaurant_Review-g186605-d3293775-Reviews-Wa...  d3293775  \n",
       "26755  /Restaurant_Review-g187147-d7917474-Reviews-Co...  d7917474  "
      ]
     },
     "execution_count": 16,
     "metadata": {},
     "output_type": "execute_result"
    }
   ],
   "source": [
    "df_train.sample(5)"
   ]
  },
  {
   "cell_type": "code",
   "execution_count": 17,
   "metadata": {
    "scrolled": true
   },
   "outputs": [
    {
     "name": "stdout",
     "output_type": "stream",
     "text": [
      "<class 'pandas.core.frame.DataFrame'>\n",
      "RangeIndex: 40000 entries, 0 to 39999\n",
      "Data columns (total 10 columns):\n",
      "Restaurant_id        40000 non-null object\n",
      "City                 40000 non-null object\n",
      "Cuisine Style        30717 non-null object\n",
      "Ranking              40000 non-null float64\n",
      "Rating               40000 non-null float64\n",
      "Price Range          26114 non-null object\n",
      "Number of Reviews    37457 non-null float64\n",
      "Reviews              40000 non-null object\n",
      "URL_TA               40000 non-null object\n",
      "ID_TA                40000 non-null object\n",
      "dtypes: float64(3), object(7)\n",
      "memory usage: 3.1+ MB\n"
     ]
    }
   ],
   "source": [
    "df_train.info(verbose=True)"
   ]
  },
  {
   "cell_type": "markdown",
   "metadata": {},
   "source": [
    "## Убираем NaN и заполняем где надо как-то разумно"
   ]
  },
  {
   "cell_type": "code",
   "execution_count": 18,
   "metadata": {},
   "outputs": [
    {
     "name": "stdout",
     "output_type": "stream",
     "text": [
      "                    Ranking    Rating  Number of Reviews\n",
      "Ranking            1.000000 -0.368371          -0.222670\n",
      "Rating            -0.368371  1.000000           0.030964\n",
      "Number of Reviews -0.222670  0.030964           1.000000\n",
      "---------Correlated---------\n",
      "---------end--------\n"
     ]
    },
    {
     "data": {
      "image/png": "[encoded data removed]",
      "text/plain": [
       "<Figure size 360x360 with 2 Axes>"
      ]
     },
     "metadata": {
      "needs_background": "light"
     },
     "output_type": "display_data"
    }
   ],
   "source": [
    "# посмотрим корреляцию в лоб\n",
    "correlation_workflow(df_train, 0.7, 0.1, 5)"
   ]
  },
  {
   "cell_type": "code",
   "execution_count": 19,
   "metadata": {},
   "outputs": [],
   "source": [
    "# пока ничего не видно"
   ]
  },
  {
   "cell_type": "markdown",
   "metadata": {},
   "source": [
    "### Restaurant_id"
   ]
  },
  {
   "cell_type": "code",
   "execution_count": 20,
   "metadata": {
    "scrolled": true
   },
   "outputs": [
    {
     "data": {
      "text/plain": [
       "id_0       15\n",
       "id_1        9\n",
       "id_10      14\n",
       "id_100     12\n",
       "id_1000    11\n",
       "           ..\n",
       "id_999     11\n",
       "id_9991     1\n",
       "id_9992     2\n",
       "id_9994     1\n",
       "id_9995     2\n",
       "Name: Restaurant_id, Length: 11909, dtype: int64"
      ]
     },
     "execution_count": 20,
     "metadata": {},
     "output_type": "execute_result"
    }
   ],
   "source": [
    "df_train['Restaurant_id'].value_counts().sort_index()"
   ]
  },
  {
   "cell_type": "code",
   "execution_count": 21,
   "metadata": {
    "scrolled": true
   },
   "outputs": [
    {
     "data": {
      "text/plain": [
       "id_8616     1\n",
       "id_4103     1\n",
       "id_9790     1\n",
       "id_6534     1\n",
       "id_7992     1\n",
       "           ..\n",
       "id_534     17\n",
       "id_227     18\n",
       "id_436     18\n",
       "id_633     18\n",
       "id_871     18\n",
       "Name: Restaurant_id, Length: 11909, dtype: int64"
      ]
     },
     "execution_count": 21,
     "metadata": {},
     "output_type": "execute_result"
    }
   ],
   "source": [
    "vc_sv_rest_id = df_train['Restaurant_id'].value_counts().sort_values()\n",
    "vc_sv_rest_id"
   ]
  },
  {
   "cell_type": "code",
   "execution_count": 22,
   "metadata": {},
   "outputs": [],
   "source": [
    "# как видно строк как пустых ячеек нет, странных значений тоже, кажется всё ок"
   ]
  },
  {
   "cell_type": "code",
   "execution_count": 23,
   "metadata": {},
   "outputs": [
    {
     "data": {
      "text/plain": [
       "<matplotlib.axes._subplots.AxesSubplot at 0x18321e17bc8>"
      ]
     },
     "execution_count": 23,
     "metadata": {},
     "output_type": "execute_result"
    },
    {
     "data": {
      "image/png": "[encoded data removed]",
      "text/plain": [
       "<Figure size 1080x360 with 1 Axes>"
      ]
     },
     "metadata": {
      "needs_background": "light"
     },
     "output_type": "display_data"
    }
   ],
   "source": [
    "# посмотрим как много много-ресторанных id\n",
    "df_train['Restaurant_id'].value_counts(dropna=True).hist(bins=19, figsize=(15,5))"
   ]
  },
  {
   "cell_type": "code",
   "execution_count": 24,
   "metadata": {
    "scrolled": true
   },
   "outputs": [
    {
     "data": {
      "text/plain": [
       "id_3049    4\n",
       "id_3013    3\n",
       "id_115     7\n",
       "id_8157    3\n",
       "id_422     7\n",
       "Name: Restaurant_id, dtype: int64"
      ]
     },
     "execution_count": 24,
     "metadata": {},
     "output_type": "execute_result"
    }
   ],
   "source": [
    "# посмотрим что значит одинаковый 'Restaurant_id', возмем пять случайных и посмотрим на их города и кухни\n",
    "vc_sv_many = vc_sv_rest_id[vc_sv_rest_id > 2].sample(5)\n",
    "vc_sv_many"
   ]
  },
  {
   "cell_type": "code",
   "execution_count": 25,
   "metadata": {
    "scrolled": true
   },
   "outputs": [
    {
     "name": "stdout",
     "output_type": "stream",
     "text": [
      "      Restaurant_id    City           Cuisine Style\n",
      "8686        id_3049  Prague    ['Chinese', 'Sushi']\n",
      "16850       id_3049  Madrid             ['Italian']\n",
      "24594       id_3049   Paris              ['French']\n",
      "26628       id_3049    Rome  ['Italian', 'Seafood']\n",
      "      Restaurant_id    City            Cuisine Style\n",
      "22889       id_3013   Milan                      NaN\n",
      "24726       id_3013   Paris  ['Asian', 'Vietnamese']\n",
      "33497       id_3013  Vienna                      NaN\n",
      "      Restaurant_id        City  \\\n",
      "1098         id_115  Luxembourg   \n",
      "1173         id_115      Zurich   \n",
      "3720         id_115   Stockholm   \n",
      "11800        id_115     Hamburg   \n",
      "25844        id_115      Vienna   \n",
      "26371        id_115      Dublin   \n",
      "36145        id_115    Helsinki   \n",
      "\n",
      "                                           Cuisine Style  \n",
      "1098   ['French', 'European', 'Vegetarian Friendly', ...  \n",
      "1173   ['German', 'Swiss', 'European', 'Asian', 'Cent...  \n",
      "3720   ['Indian', 'Vegetarian Friendly', 'Vegan Optio...  \n",
      "11800                            ['Vegetarian Friendly']  \n",
      "25844  ['Cafe', 'European', 'Central European', 'Aust...  \n",
      "26371  ['Japanese', 'Sushi', 'Asian', 'Vegetarian Fri...  \n",
      "36145  ['American', 'Steakhouse', 'European', 'Gluten...  \n",
      "      Restaurant_id    City Cuisine Style\n",
      "1357        id_8157  Madrid     ['Grill']\n",
      "15134       id_8157   Paris           NaN\n",
      "21020       id_8157  London           NaN\n",
      "      Restaurant_id       City  \\\n",
      "17827        id_422     Dublin   \n",
      "24077        id_422     Vienna   \n",
      "28596        id_422  Edinburgh   \n",
      "28723        id_422   Helsinki   \n",
      "29508        id_422  Ljubljana   \n",
      "33496        id_422     Geneva   \n",
      "35245        id_422      Milan   \n",
      "\n",
      "                                           Cuisine Style  \n",
      "17827  ['Italian', 'Pizza', 'European', 'Vegetarian F...  \n",
      "24077  ['Steakhouse', 'Bar', 'European', 'Vegetarian ...  \n",
      "28596                                     ['Bar', 'Pub']  \n",
      "28723                                     ['Vietnamese']  \n",
      "29508                          ['European', 'Slovenian']  \n",
      "33496  ['Italian', 'Bar', 'Pizza', 'European', 'Veget...  \n",
      "35245  ['Italian', 'Seafood', 'Mediterranean', 'Glute...  \n"
     ]
    }
   ],
   "source": [
    "for t in range(0, len(vc_sv_many)):\n",
    "    t_rest =  df_train.loc[df_train['Restaurant_id']==vc_sv_many.index[t]][['Restaurant_id', 'City', 'Cuisine Style']]\n",
    "    print(t_rest)"
   ]
  },
  {
   "cell_type": "code",
   "execution_count": 26,
   "metadata": {},
   "outputs": [],
   "source": [
    "# как видим - полное разнообразие, 'Restaurant_id' не говорит про сетевой ресторан, подумаем дальше"
   ]
  },
  {
   "cell_type": "markdown",
   "metadata": {},
   "source": [
    "### City"
   ]
  },
  {
   "cell_type": "code",
   "execution_count": 27,
   "metadata": {},
   "outputs": [
    {
     "data": {
      "text/plain": [
       "Amsterdam     1086\n",
       "Athens         628\n",
       "Barcelona     2734\n",
       "Berlin        2155\n",
       "Bratislava     301\n",
       "Brussels      1060\n",
       "Budapest       816\n",
       "Copenhagen     659\n",
       "Dublin         673\n",
       "Edinburgh      596\n",
       "Geneva         481\n",
       "Hamburg        949\n",
       "Helsinki       376\n",
       "Krakow         443\n",
       "Lisbon        1300\n",
       "Ljubljana      183\n",
       "London        5757\n",
       "Luxembourg     210\n",
       "Lyon           892\n",
       "Madrid        3108\n",
       "Milan         2133\n",
       "Munich         893\n",
       "Oporto         513\n",
       "Oslo           385\n",
       "Paris         4897\n",
       "Prague        1443\n",
       "Rome          2078\n",
       "Stockholm      820\n",
       "Vienna        1166\n",
       "Warsaw         727\n",
       "Zurich         538\n",
       "Name: City, dtype: int64"
      ]
     },
     "execution_count": 27,
     "metadata": {},
     "output_type": "execute_result"
    }
   ],
   "source": [
    "df_train['City'].value_counts().sort_index()"
   ]
  },
  {
   "cell_type": "code",
   "execution_count": 28,
   "metadata": {},
   "outputs": [],
   "source": [
    "# тут тоже всё ок"
   ]
  },
  {
   "cell_type": "markdown",
   "metadata": {},
   "source": [
    "### Ranking"
   ]
  },
  {
   "cell_type": "code",
   "execution_count": 29,
   "metadata": {},
   "outputs": [
    {
     "data": {
      "text/plain": [
       "1.0        15\n",
       "2.0         9\n",
       "3.0        14\n",
       "4.0         8\n",
       "5.0        13\n",
       "           ..\n",
       "16420.0     1\n",
       "16435.0     1\n",
       "16437.0     1\n",
       "16441.0     1\n",
       "16444.0     1\n",
       "Name: Ranking, Length: 11936, dtype: int64"
      ]
     },
     "execution_count": 29,
     "metadata": {},
     "output_type": "execute_result"
    }
   ],
   "source": [
    "df_train['Ranking'].value_counts().sort_index()"
   ]
  },
  {
   "cell_type": "code",
   "execution_count": 30,
   "metadata": {},
   "outputs": [
    {
     "data": {
      "text/plain": [
       "5699.0      1\n",
       "10638.0     1\n",
       "8490.0      1\n",
       "16381.0     1\n",
       "14357.0     1\n",
       "           ..\n",
       "431.0      18\n",
       "345.0      18\n",
       "491.0      18\n",
       "437.0      18\n",
       "1080.0     19\n",
       "Name: Ranking, Length: 11936, dtype: int64"
      ]
     },
     "execution_count": 30,
     "metadata": {},
     "output_type": "execute_result"
    }
   ],
   "source": [
    "df_train['Ranking'].value_counts().sort_values()"
   ]
  },
  {
   "cell_type": "code",
   "execution_count": 31,
   "metadata": {},
   "outputs": [],
   "source": [
    "# тут тоже всё ок"
   ]
  },
  {
   "cell_type": "code",
   "execution_count": 32,
   "metadata": {},
   "outputs": [
    {
     "data": {
      "text/plain": [
       "<matplotlib.axes._subplots.AxesSubplot at 0x18321ed8e48>"
      ]
     },
     "execution_count": 32,
     "metadata": {},
     "output_type": "execute_result"
    },
    {
     "data": {
      "image/png": "[encoded data removed]",
      "text/plain": [
       "<Figure size 1080x360 with 1 Axes>"
      ]
     },
     "metadata": {
      "needs_background": "light"
     },
     "output_type": "display_data"
    }
   ],
   "source": [
    "df_train['Ranking'].value_counts(dropna=True).hist(bins=19, figsize=(15,5))"
   ]
  },
  {
   "cell_type": "code",
   "execution_count": 33,
   "metadata": {},
   "outputs": [
    {
     "data": {
      "text/html": [
       "<div>\n",
       "<style scoped>\n",
       "    .dataframe tbody tr th:only-of-type {\n",
       "        vertical-align: middle;\n",
       "    }\n",
       "\n",
       "    .dataframe tbody tr th {\n",
       "        vertical-align: top;\n",
       "    }\n",
       "\n",
       "    .dataframe thead th {\n",
       "        text-align: right;\n",
       "    }\n",
       "</style>\n",
       "<table border=\"1\" class=\"dataframe\">\n",
       "  <thead>\n",
       "    <tr style=\"text-align: right;\">\n",
       "      <th></th>\n",
       "      <th>Restaurant_id</th>\n",
       "      <th>Ranking</th>\n",
       "    </tr>\n",
       "  </thead>\n",
       "  <tbody>\n",
       "    <tr>\n",
       "      <td>0</td>\n",
       "      <td>id_5569</td>\n",
       "      <td>5570.0</td>\n",
       "    </tr>\n",
       "    <tr>\n",
       "      <td>1</td>\n",
       "      <td>id_1535</td>\n",
       "      <td>1537.0</td>\n",
       "    </tr>\n",
       "    <tr>\n",
       "      <td>2</td>\n",
       "      <td>id_352</td>\n",
       "      <td>353.0</td>\n",
       "    </tr>\n",
       "    <tr>\n",
       "      <td>3</td>\n",
       "      <td>id_3456</td>\n",
       "      <td>3458.0</td>\n",
       "    </tr>\n",
       "    <tr>\n",
       "      <td>4</td>\n",
       "      <td>id_615</td>\n",
       "      <td>621.0</td>\n",
       "    </tr>\n",
       "    <tr>\n",
       "      <td>...</td>\n",
       "      <td>...</td>\n",
       "      <td>...</td>\n",
       "    </tr>\n",
       "    <tr>\n",
       "      <td>39995</td>\n",
       "      <td>id_499</td>\n",
       "      <td>500.0</td>\n",
       "    </tr>\n",
       "    <tr>\n",
       "      <td>39996</td>\n",
       "      <td>id_6340</td>\n",
       "      <td>6341.0</td>\n",
       "    </tr>\n",
       "    <tr>\n",
       "      <td>39997</td>\n",
       "      <td>id_1649</td>\n",
       "      <td>1652.0</td>\n",
       "    </tr>\n",
       "    <tr>\n",
       "      <td>39998</td>\n",
       "      <td>id_640</td>\n",
       "      <td>641.0</td>\n",
       "    </tr>\n",
       "    <tr>\n",
       "      <td>39999</td>\n",
       "      <td>id_4824</td>\n",
       "      <td>4827.0</td>\n",
       "    </tr>\n",
       "  </tbody>\n",
       "</table>\n",
       "<p>40000 rows × 2 columns</p>\n",
       "</div>"
      ],
      "text/plain": [
       "      Restaurant_id  Ranking\n",
       "0           id_5569   5570.0\n",
       "1           id_1535   1537.0\n",
       "2            id_352    353.0\n",
       "3           id_3456   3458.0\n",
       "4            id_615    621.0\n",
       "...             ...      ...\n",
       "39995        id_499    500.0\n",
       "39996       id_6340   6341.0\n",
       "39997       id_1649   1652.0\n",
       "39998        id_640    641.0\n",
       "39999       id_4824   4827.0\n",
       "\n",
       "[40000 rows x 2 columns]"
      ]
     },
     "execution_count": 33,
     "metadata": {},
     "output_type": "execute_result"
    }
   ],
   "source": [
    "# Очень похоже на Restaurant_Id\n",
    "df_train[['Restaurant_id', 'Ranking']]"
   ]
  },
  {
   "cell_type": "code",
   "execution_count": 34,
   "metadata": {},
   "outputs": [],
   "source": [
    "# Даже так бросается в глаза сходство o_O\n",
    "# Сделаем номерной признак и подсчитаем корреляцию опять\n",
    "def rest_id_to_num(rest_id_str):\n",
    "    parts = rest_id_str.split('_')\n",
    "    id_num = int(parts[1])\n",
    "    return id_num"
   ]
  },
  {
   "cell_type": "code",
   "execution_count": 35,
   "metadata": {},
   "outputs": [
    {
     "data": {
      "text/plain": [
       "<matplotlib.axes._subplots.AxesSubplot at 0x183222c0c48>"
      ]
     },
     "execution_count": 35,
     "metadata": {},
     "output_type": "execute_result"
    },
    {
     "data": {
      "image/png": "[encoded data removed]",
      "text/plain": [
       "<Figure size 1080x360 with 1 Axes>"
      ]
     },
     "metadata": {
      "needs_background": "light"
     },
     "output_type": "display_data"
    }
   ],
   "source": [
    "df_train['Restaurant_id_NUM'] = df_train['Restaurant_id'].apply(lambda x: rest_id_to_num(x))\n",
    "df_train['Restaurant_id_NUM'].hist(bins=100, figsize=(15,5))"
   ]
  },
  {
   "cell_type": "code",
   "execution_count": 36,
   "metadata": {},
   "outputs": [
    {
     "name": "stdout",
     "output_type": "stream",
     "text": [
      "                    Ranking    Rating  Number of Reviews  Restaurant_id_NUM\n",
      "Ranking            1.000000 -0.368371          -0.222670           1.000000\n",
      "Rating            -0.368371  1.000000           0.030964          -0.368308\n",
      "Number of Reviews -0.222670  0.030964           1.000000          -0.222637\n",
      "Restaurant_id_NUM  1.000000 -0.368308          -0.222637           1.000000\n",
      "---------Correlated---------\n",
      "Restaurant_id_NUM \t Ranking \t 0.9999995570800042\n",
      "---------end--------\n"
     ]
    },
    {
     "data": {
      "image/png": "[encoded data removed]",
      "text/plain": [
       "<Figure size 720x720 with 2 Axes>"
      ]
     },
     "metadata": {
      "needs_background": "light"
     },
     "output_type": "display_data"
    }
   ],
   "source": [
    "# (запускаю на полном наборе, а не подмножестве т.к. что-то в heatmap c отрисовкой и не видно цветового выделения\n",
    "# коррелирующих признаков, хотя значения те же\n",
    "correlation_workflow(df_train, 0.7, 0.1, 10)"
   ]
  },
  {
   "cell_type": "code",
   "execution_count": 37,
   "metadata": {},
   "outputs": [],
   "source": [
    "# код - если захочется проверить мои слова)\n",
    "# correlation_workflow(df_train[['Restaurant_id_NUM','Ranking']], 0.7, 0.1, 5)"
   ]
  },
  {
   "cell_type": "markdown",
   "metadata": {},
   "source": [
    "### как видим - явная корреляция, модели будем отдавать Ranking - он понятен"
   ]
  },
  {
   "cell_type": "markdown",
   "metadata": {},
   "source": [
    "### URL_TA"
   ]
  },
  {
   "cell_type": "code",
   "execution_count": 38,
   "metadata": {
    "scrolled": true
   },
   "outputs": [
    {
     "data": {
      "text/plain": [
       "/Restaurant_Review-g189400-d3709131-Reviews-Myrovolos_Metaxourgeio-Athens_Attica.html           1\n",
       "/Restaurant_Review-g187147-d3457832-Reviews-Paris_Nord_Cafe-Paris_Ile_de_France.html            1\n",
       "/Restaurant_Review-g187309-d8549016-Reviews-Schlemmermeyer-Munich_Upper_Bavaria_Bavaria.html    1\n",
       "/Restaurant_Review-g187791-d7908129-Reviews-Cocktail_caffe-Rome_Lazio.html                      1\n",
       "/Restaurant_Review-g187323-d2718797-Reviews-Asia_Wok-Berlin.html                                1\n",
       "                                                                                               ..\n",
       "/Restaurant_Review-g187514-d793170-Reviews-Caripen_Bistro-Madrid.html                           2\n",
       "/Restaurant_Review-g187514-d11698990-Reviews-Verdello_Restaurante-Madrid.html                   2\n",
       "/Restaurant_Review-g187514-d7809594-Reviews-La_Guapa-Madrid.html                                2\n",
       "/Restaurant_Review-g187514-d8753348-Reviews-Tropecientos-Madrid.html                            2\n",
       "/Restaurant_Review-g187514-d9802625-Reviews-La_Vie_en_Doux-Madrid.html                          2\n",
       "Name: URL_TA, Length: 39980, dtype: int64"
      ]
     },
     "execution_count": 38,
     "metadata": {},
     "output_type": "execute_result"
    }
   ],
   "source": [
    "vc_sv = df_train['URL_TA'].value_counts().sort_values()\n",
    "vc_sv"
   ]
  },
  {
   "cell_type": "code",
   "execution_count": 39,
   "metadata": {},
   "outputs": [
    {
     "data": {
      "text/plain": [
       "/Restaurant_Review-g187514-d987900-Reviews-Compostela_Restaurante-Madrid.html      2\n",
       "/Restaurant_Review-g187514-d4600226-Reviews-Cafeteria_Teresa-Madrid.html           2\n",
       "/Restaurant_Review-g187514-d3161682-Reviews-Cerveceria_La_Surena-Madrid.html       2\n",
       "/Restaurant_Review-g187514-d9877640-Reviews-Raku_Sushi-Madrid.html                 2\n",
       "/Restaurant_Review-g187514-d11921719-Reviews-Crepets-Madrid.html                   2\n",
       "/Restaurant_Review-g187514-d7342803-Reviews-Los_Hierros-Madrid.html                2\n",
       "/Restaurant_Review-g187514-d13002276-Reviews-Delish_Vegan_Doughnuts-Madrid.html    2\n",
       "/Restaurant_Review-g187514-d3685055-Reviews-Shukran-Madrid.html                    2\n",
       "/Restaurant_Review-g187514-d11674463-Reviews-Beerhouse-Madrid.html                 2\n",
       "/Restaurant_Review-g187514-d11999956-Reviews-SugarCane_Madrid-Madrid.html          2\n",
       "/Restaurant_Review-g187514-d697406-Reviews-Al_Mounia-Madrid.html                   2\n",
       "/Restaurant_Review-g187514-d7337366-Reviews-Lady_Madonna-Madrid.html               2\n",
       "/Restaurant_Review-g187514-d2477531-Reviews-Haya_19-Madrid.html                    2\n",
       "/Restaurant_Review-g187514-d1315077-Reviews-El_Pimiento_Verde-Madrid.html          2\n",
       "/Restaurant_Review-g187514-d10047799-Reviews-Entrepuntos-Madrid.html               2\n",
       "/Restaurant_Review-g187514-d793170-Reviews-Caripen_Bistro-Madrid.html              2\n",
       "/Restaurant_Review-g187514-d11698990-Reviews-Verdello_Restaurante-Madrid.html      2\n",
       "/Restaurant_Review-g187514-d7809594-Reviews-La_Guapa-Madrid.html                   2\n",
       "/Restaurant_Review-g187514-d8753348-Reviews-Tropecientos-Madrid.html               2\n",
       "/Restaurant_Review-g187514-d9802625-Reviews-La_Vie_en_Doux-Madrid.html             2\n",
       "Name: URL_TA, dtype: int64"
      ]
     },
     "execution_count": 39,
     "metadata": {},
     "output_type": "execute_result"
    }
   ],
   "source": [
    "# дальше странная история, возьмем те которые больше раза встречаются \n",
    "vc_sv2 = vc_sv[vc_sv > 1]\n",
    "vc_sv2"
   ]
  },
  {
   "cell_type": "code",
   "execution_count": 40,
   "metadata": {},
   "outputs": [
    {
     "data": {
      "text/plain": [
       "/Restaurant_Review-g187514-d4600226-Reviews-Cafeteria_Teresa-Madrid.html    2\n",
       "Name: URL_TA, dtype: int64"
      ]
     },
     "execution_count": 40,
     "metadata": {},
     "output_type": "execute_result"
    }
   ],
   "source": [
    "# возьмем случайную строку (здесь можно взять случайный индекс, но для дальнейшей демонстраци проще взять конкретное число)\n",
    "vc_sv_short = vc_sv2[1:2]\n",
    "vc_sv_short"
   ]
  },
  {
   "cell_type": "code",
   "execution_count": 50,
   "metadata": {},
   "outputs": [],
   "source": [
    "# функция разницы между строками, там где разница пишет значение вида \"значение1 Vs значение2\"\n",
    "def print_diffs_2rows(input_subdf, key_col):\n",
    "    global dfXXX\n",
    "    has_diffs_global = False\n",
    "    for i in range(0, len(input_subdf)-1):\n",
    "        #print(i)\n",
    "        irow = input_subdf.iloc[i]\n",
    "        for j in range(i+1, len(input_subdf)):\n",
    "            #print(j)\n",
    "            jrow = input_subdf.iloc[j]\n",
    "            diffrow = irow.copy()\n",
    "            has_diffs = False\n",
    "            for nn in input_subdf.columns:\n",
    "                if (nn == key_col):\n",
    "                    diffrow[nn] = irow[nn]\n",
    "                    continue\n",
    "                    \n",
    "                if ((pd.isnull(irow[nn]) == True and pd.isnull(irow[nn]) == True) or (irow[nn] == jrow[nn])):\n",
    "                    diffrow[nn] = irow[nn]\n",
    "                    #diffrow[nn] = np.nan\n",
    "                else:\n",
    "                    has_diffs = True\n",
    "                    has_diffs_global = True\n",
    "                    diffrow[nn] = '\"' + str(irow[nn]) + '\" Vs \"' + str(jrow[nn]) + '\"'\n",
    "\n",
    "            if (has_diffs == True):\n",
    "                dfXXX = dfXXX.append(diffrow)"
   ]
  },
  {
   "cell_type": "code",
   "execution_count": 53,
   "metadata": {},
   "outputs": [],
   "source": [
    "# функция разницы между всеми строками\n",
    "def get_diff_all_rows(v_in, df_in, key_col_in):\n",
    "    global dfXXX\n",
    "    for t in range(0, len(v_in)):\n",
    "        #print('v_in.index[t]' , v_in.index[t])\n",
    "        t_rest =  df_in.loc[df_in[key_col_in]==v_in.index[t]]\n",
    "        #print(t_rest)\n",
    "        print_diffs_2rows(t_rest, key_col_in)\n",
    "    dfXXX = dfXXX.reset_index()\n",
    "    return dfXXX"
   ]
  },
  {
   "cell_type": "code",
   "execution_count": 54,
   "metadata": {},
   "outputs": [
    {
     "data": {
      "text/html": [
       "<div>\n",
       "<style scoped>\n",
       "    .dataframe tbody tr th:only-of-type {\n",
       "        vertical-align: middle;\n",
       "    }\n",
       "\n",
       "    .dataframe tbody tr th {\n",
       "        vertical-align: top;\n",
       "    }\n",
       "\n",
       "    .dataframe thead th {\n",
       "        text-align: right;\n",
       "    }\n",
       "</style>\n",
       "<table border=\"1\" class=\"dataframe\">\n",
       "  <thead>\n",
       "    <tr style=\"text-align: right;\">\n",
       "      <th></th>\n",
       "      <th>index</th>\n",
       "      <th>Restaurant_id</th>\n",
       "      <th>City</th>\n",
       "      <th>Cuisine Style</th>\n",
       "      <th>Ranking</th>\n",
       "      <th>Number of Reviews</th>\n",
       "      <th>Reviews</th>\n",
       "      <th>URL_TA</th>\n",
       "      <th>ID_TA</th>\n",
       "      <th>Rating</th>\n",
       "      <th>Restaurant_id_NUM</th>\n",
       "    </tr>\n",
       "  </thead>\n",
       "  <tbody>\n",
       "    <tr>\n",
       "      <td>0</td>\n",
       "      <td>147</td>\n",
       "      <td>\"id_4110\" Vs \"id_4104\"</td>\n",
       "      <td>Madrid</td>\n",
       "      <td>['Spanish']</td>\n",
       "      <td>\"4112.0\" Vs \"4106.0\"</td>\n",
       "      <td>2.0</td>\n",
       "      <td>[[], []]</td>\n",
       "      <td>/Restaurant_Review-g187514-d4600226-Reviews-Ca...</td>\n",
       "      <td>d4600226</td>\n",
       "      <td>5.0</td>\n",
       "      <td>\"4110\" Vs \"4104\"</td>\n",
       "    </tr>\n",
       "  </tbody>\n",
       "</table>\n",
       "</div>"
      ],
      "text/plain": [
       "   index           Restaurant_id    City Cuisine Style               Ranking  \\\n",
       "0    147  \"id_4110\" Vs \"id_4104\"  Madrid   ['Spanish']  \"4112.0\" Vs \"4106.0\"   \n",
       "\n",
       "   Number of Reviews   Reviews  \\\n",
       "0                2.0  [[], []]   \n",
       "\n",
       "                                              URL_TA     ID_TA  Rating  \\\n",
       "0  /Restaurant_Review-g187514-d4600226-Reviews-Ca...  d4600226     5.0   \n",
       "\n",
       "  Restaurant_id_NUM  \n",
       "0  \"4110\" Vs \"4104\"  "
      ]
     },
     "execution_count": 54,
     "metadata": {},
     "output_type": "execute_result"
    }
   ],
   "source": [
    "# смотрим разницу\n",
    "dfXXX = pd.DataFrame(columns=df.columns)\n",
    "#print(dfXXX)\n",
    "col_name = 'URL_TA'\n",
    "res = get_diff_all_rows(vc_sv_short, df_train, col_name)\n",
    "res = res.dropna(axis=1, how='all')\n",
    "res"
   ]
  },
  {
   "cell_type": "code",
   "execution_count": 55,
   "metadata": {},
   "outputs": [
    {
     "data": {
      "text/html": [
       "<div>\n",
       "<style scoped>\n",
       "    .dataframe tbody tr th:only-of-type {\n",
       "        vertical-align: middle;\n",
       "    }\n",
       "\n",
       "    .dataframe tbody tr th {\n",
       "        vertical-align: top;\n",
       "    }\n",
       "\n",
       "    .dataframe thead th {\n",
       "        text-align: right;\n",
       "    }\n",
       "</style>\n",
       "<table border=\"1\" class=\"dataframe\">\n",
       "  <thead>\n",
       "    <tr style=\"text-align: right;\">\n",
       "      <th></th>\n",
       "      <th>Restaurant_id</th>\n",
       "      <th>City</th>\n",
       "      <th>Cuisine Style</th>\n",
       "      <th>Ranking</th>\n",
       "      <th>Price Range</th>\n",
       "      <th>Number of Reviews</th>\n",
       "      <th>Reviews</th>\n",
       "      <th>URL_TA</th>\n",
       "      <th>ID_TA</th>\n",
       "      <th>Rating</th>\n",
       "    </tr>\n",
       "  </thead>\n",
       "  <tbody>\n",
       "    <tr>\n",
       "      <td>3239</td>\n",
       "      <td>id_3239</td>\n",
       "      <td>Zurich</td>\n",
       "      <td>['Mexican']</td>\n",
       "      <td>1035.0</td>\n",
       "      <td>NaN</td>\n",
       "      <td>2.0</td>\n",
       "      <td>[[\"It's soo good I've been there sooo many ti....</td>\n",
       "      <td>/Restaurant_Review-g188113-d12839345-Reviews-Z...</td>\n",
       "      <td>d12839345</td>\n",
       "      <td>NaN</td>\n",
       "    </tr>\n",
       "    <tr>\n",
       "      <td>13267</td>\n",
       "      <td>id_3239</td>\n",
       "      <td>Prague</td>\n",
       "      <td>['American', 'Fast Food']</td>\n",
       "      <td>3246.0</td>\n",
       "      <td>$</td>\n",
       "      <td>59.0</td>\n",
       "      <td>[['You can do better', 'Worst customer service...</td>\n",
       "      <td>/Restaurant_Review-g274707-d4768666-Reviews-KF...</td>\n",
       "      <td>d4768666</td>\n",
       "      <td>3.5</td>\n",
       "    </tr>\n",
       "    <tr>\n",
       "      <td>17253</td>\n",
       "      <td>id_3239</td>\n",
       "      <td>Lisbon</td>\n",
       "      <td>['European', 'Portuguese']</td>\n",
       "      <td>3243.0</td>\n",
       "      <td>NaN</td>\n",
       "      <td>40.0</td>\n",
       "      <td>[['Unexpected gem', 'Great food!'], ['05/08/20...</td>\n",
       "      <td>/Restaurant_Review-g189158-d1519119-Reviews-Re...</td>\n",
       "      <td>d1519119</td>\n",
       "      <td>4.0</td>\n",
       "    </tr>\n",
       "    <tr>\n",
       "      <td>19478</td>\n",
       "      <td>id_3239</td>\n",
       "      <td>Vienna</td>\n",
       "      <td>['Fast Food']</td>\n",
       "      <td>3241.0</td>\n",
       "      <td>$</td>\n",
       "      <td>43.0</td>\n",
       "      <td>[['Omg', 'Loved the fact we could order bespok...</td>\n",
       "      <td>/Restaurant_Review-g190454-d1997490-Reviews-Mc...</td>\n",
       "      <td>d1997490</td>\n",
       "      <td>3.0</td>\n",
       "    </tr>\n",
       "    <tr>\n",
       "      <td>22134</td>\n",
       "      <td>id_3239</td>\n",
       "      <td>Barcelona</td>\n",
       "      <td>['Cafe', 'Mediterranean', 'European', 'Pizza',...</td>\n",
       "      <td>3240.0</td>\n",
       "      <td>$$ - $$$</td>\n",
       "      <td>64.0</td>\n",
       "      <td>[['More than good', 'Healthy food'], ['08/16/2...</td>\n",
       "      <td>/Restaurant_Review-g187497-d7205454-Reviews-Me...</td>\n",
       "      <td>d7205454</td>\n",
       "      <td>4.0</td>\n",
       "    </tr>\n",
       "    <tr>\n",
       "      <td>23980</td>\n",
       "      <td>id_3239</td>\n",
       "      <td>Madrid</td>\n",
       "      <td>NaN</td>\n",
       "      <td>3241.0</td>\n",
       "      <td>NaN</td>\n",
       "      <td>13.0</td>\n",
       "      <td>[[], []]</td>\n",
       "      <td>/Restaurant_Review-g187514-d10047799-Reviews-E...</td>\n",
       "      <td>d10047799</td>\n",
       "      <td>5.0</td>\n",
       "    </tr>\n",
       "    <tr>\n",
       "      <td>33217</td>\n",
       "      <td>id_3239</td>\n",
       "      <td>London</td>\n",
       "      <td>['Fast Food', 'European', 'Portuguese']</td>\n",
       "      <td>3246.0</td>\n",
       "      <td>$$ - $$$</td>\n",
       "      <td>219.0</td>\n",
       "      <td>[['Always a THUMB up', 'Great chicken from the...</td>\n",
       "      <td>/Restaurant_Review-g186338-d1021861-Reviews-Na...</td>\n",
       "      <td>d1021861</td>\n",
       "      <td>4.0</td>\n",
       "    </tr>\n",
       "    <tr>\n",
       "      <td>39500</td>\n",
       "      <td>id_3239</td>\n",
       "      <td>Berlin</td>\n",
       "      <td>['Japanese', 'Sushi', 'Asian', 'Fusion']</td>\n",
       "      <td>3241.0</td>\n",
       "      <td>$$ - $$$</td>\n",
       "      <td>NaN</td>\n",
       "      <td>[[], []]</td>\n",
       "      <td>/Restaurant_Review-g187323-d12807643-Reviews-O...</td>\n",
       "      <td>d12807643</td>\n",
       "      <td>5.0</td>\n",
       "    </tr>\n",
       "    <tr>\n",
       "      <td>49853</td>\n",
       "      <td>id_3239</td>\n",
       "      <td>Paris</td>\n",
       "      <td>NaN</td>\n",
       "      <td>3240.0</td>\n",
       "      <td>NaN</td>\n",
       "      <td>43.0</td>\n",
       "      <td>[['Deliciousness', 'Romantic and delicious'], ...</td>\n",
       "      <td>/Restaurant_Review-g187147-d10248508-Reviews-J...</td>\n",
       "      <td>d10248508</td>\n",
       "      <td>4.5</td>\n",
       "    </tr>\n",
       "  </tbody>\n",
       "</table>\n",
       "</div>"
      ],
      "text/plain": [
       "      Restaurant_id       City  \\\n",
       "3239        id_3239     Zurich   \n",
       "13267       id_3239     Prague   \n",
       "17253       id_3239     Lisbon   \n",
       "19478       id_3239     Vienna   \n",
       "22134       id_3239  Barcelona   \n",
       "23980       id_3239     Madrid   \n",
       "33217       id_3239     London   \n",
       "39500       id_3239     Berlin   \n",
       "49853       id_3239      Paris   \n",
       "\n",
       "                                           Cuisine Style  Ranking Price Range  \\\n",
       "3239                                         ['Mexican']   1035.0         NaN   \n",
       "13267                          ['American', 'Fast Food']   3246.0           $   \n",
       "17253                         ['European', 'Portuguese']   3243.0         NaN   \n",
       "19478                                      ['Fast Food']   3241.0           $   \n",
       "22134  ['Cafe', 'Mediterranean', 'European', 'Pizza',...   3240.0    $$ - $$$   \n",
       "23980                                                NaN   3241.0         NaN   \n",
       "33217            ['Fast Food', 'European', 'Portuguese']   3246.0    $$ - $$$   \n",
       "39500           ['Japanese', 'Sushi', 'Asian', 'Fusion']   3241.0    $$ - $$$   \n",
       "49853                                                NaN   3240.0         NaN   \n",
       "\n",
       "       Number of Reviews                                            Reviews  \\\n",
       "3239                 2.0  [[\"It's soo good I've been there sooo many ti....   \n",
       "13267               59.0  [['You can do better', 'Worst customer service...   \n",
       "17253               40.0  [['Unexpected gem', 'Great food!'], ['05/08/20...   \n",
       "19478               43.0  [['Omg', 'Loved the fact we could order bespok...   \n",
       "22134               64.0  [['More than good', 'Healthy food'], ['08/16/2...   \n",
       "23980               13.0                                           [[], []]   \n",
       "33217              219.0  [['Always a THUMB up', 'Great chicken from the...   \n",
       "39500                NaN                                           [[], []]   \n",
       "49853               43.0  [['Deliciousness', 'Romantic and delicious'], ...   \n",
       "\n",
       "                                                  URL_TA      ID_TA  Rating  \n",
       "3239   /Restaurant_Review-g188113-d12839345-Reviews-Z...  d12839345     NaN  \n",
       "13267  /Restaurant_Review-g274707-d4768666-Reviews-KF...   d4768666     3.5  \n",
       "17253  /Restaurant_Review-g189158-d1519119-Reviews-Re...   d1519119     4.0  \n",
       "19478  /Restaurant_Review-g190454-d1997490-Reviews-Mc...   d1997490     3.0  \n",
       "22134  /Restaurant_Review-g187497-d7205454-Reviews-Me...   d7205454     4.0  \n",
       "23980  /Restaurant_Review-g187514-d10047799-Reviews-E...  d10047799     5.0  \n",
       "33217  /Restaurant_Review-g186338-d1021861-Reviews-Na...   d1021861     4.0  \n",
       "39500  /Restaurant_Review-g187323-d12807643-Reviews-O...  d12807643     5.0  \n",
       "49853  /Restaurant_Review-g187147-d10248508-Reviews-J...  d10248508     4.5  "
      ]
     },
     "execution_count": 55,
     "metadata": {},
     "output_type": "execute_result"
    }
   ],
   "source": [
    "# глянем эти самые id\n",
    "df.loc[df['Restaurant_id']=='id_3239']"
   ]
  },
  {
   "cell_type": "code",
   "execution_count": 56,
   "metadata": {
    "scrolled": true
   },
   "outputs": [
    {
     "data": {
      "text/html": [
       "<div>\n",
       "<style scoped>\n",
       "    .dataframe tbody tr th:only-of-type {\n",
       "        vertical-align: middle;\n",
       "    }\n",
       "\n",
       "    .dataframe tbody tr th {\n",
       "        vertical-align: top;\n",
       "    }\n",
       "\n",
       "    .dataframe thead th {\n",
       "        text-align: right;\n",
       "    }\n",
       "</style>\n",
       "<table border=\"1\" class=\"dataframe\">\n",
       "  <thead>\n",
       "    <tr style=\"text-align: right;\">\n",
       "      <th></th>\n",
       "      <th>Restaurant_id</th>\n",
       "      <th>City</th>\n",
       "      <th>Cuisine Style</th>\n",
       "      <th>Ranking</th>\n",
       "      <th>Price Range</th>\n",
       "      <th>Number of Reviews</th>\n",
       "      <th>Reviews</th>\n",
       "      <th>URL_TA</th>\n",
       "      <th>ID_TA</th>\n",
       "      <th>Rating</th>\n",
       "    </tr>\n",
       "  </thead>\n",
       "  <tbody>\n",
       "    <tr>\n",
       "      <td>3242</td>\n",
       "      <td>id_3242</td>\n",
       "      <td>Barcelona</td>\n",
       "      <td>['Fast Food']</td>\n",
       "      <td>7709.0</td>\n",
       "      <td>NaN</td>\n",
       "      <td>185.0</td>\n",
       "      <td>[['Bad service and food', 'Ripoff, avoid at al...</td>\n",
       "      <td>/Restaurant_Review-g187497-d1114210-Reviews-La...</td>\n",
       "      <td>d1114210</td>\n",
       "      <td>NaN</td>\n",
       "    </tr>\n",
       "    <tr>\n",
       "      <td>18854</td>\n",
       "      <td>id_3242</td>\n",
       "      <td>London</td>\n",
       "      <td>['Japanese', 'Vegetarian Friendly']</td>\n",
       "      <td>3249.0</td>\n",
       "      <td>$$ - $$$</td>\n",
       "      <td>16.0</td>\n",
       "      <td>[['Best Ramen I’ve had outside of Japan!', 'Th...</td>\n",
       "      <td>/Restaurant_Review-g186338-d12874584-Reviews-M...</td>\n",
       "      <td>d12874584</td>\n",
       "      <td>5.0</td>\n",
       "    </tr>\n",
       "    <tr>\n",
       "      <td>19854</td>\n",
       "      <td>id_3242</td>\n",
       "      <td>Vienna</td>\n",
       "      <td>['Italian', 'Pizza', 'Grill']</td>\n",
       "      <td>3244.0</td>\n",
       "      <td>$$ - $$$</td>\n",
       "      <td>6.0</td>\n",
       "      <td>[['A place to enjoy eating any time of the da....</td>\n",
       "      <td>/Restaurant_Review-g190454-d6827920-Reviews-De...</td>\n",
       "      <td>d6827920</td>\n",
       "      <td>3.0</td>\n",
       "    </tr>\n",
       "    <tr>\n",
       "      <td>22465</td>\n",
       "      <td>id_3242</td>\n",
       "      <td>Prague</td>\n",
       "      <td>['Czech', 'Bar', 'European']</td>\n",
       "      <td>3249.0</td>\n",
       "      <td>$$ - $$$</td>\n",
       "      <td>30.0</td>\n",
       "      <td>[['Not worth it', 'Eating Good With the locals...</td>\n",
       "      <td>/Restaurant_Review-g274707-d3598472-Reviews-U_...</td>\n",
       "      <td>d3598472</td>\n",
       "      <td>4.0</td>\n",
       "    </tr>\n",
       "    <tr>\n",
       "      <td>35798</td>\n",
       "      <td>id_3242</td>\n",
       "      <td>Berlin</td>\n",
       "      <td>NaN</td>\n",
       "      <td>3244.0</td>\n",
       "      <td>NaN</td>\n",
       "      <td>3.0</td>\n",
       "      <td>[['Friendly and quirky bar', 'POSH Teckel'], [...</td>\n",
       "      <td>/Restaurant_Review-g187323-d7251843-Reviews-Po...</td>\n",
       "      <td>d7251843</td>\n",
       "      <td>5.0</td>\n",
       "    </tr>\n",
       "    <tr>\n",
       "      <td>43832</td>\n",
       "      <td>id_3242</td>\n",
       "      <td>Lisbon</td>\n",
       "      <td>NaN</td>\n",
       "      <td>3246.0</td>\n",
       "      <td>NaN</td>\n",
       "      <td>10.0</td>\n",
       "      <td>[['Alright', 'Pao de Deus is my new favorite']...</td>\n",
       "      <td>/Restaurant_Review-g189158-d10248474-Reviews-P...</td>\n",
       "      <td>d10248474</td>\n",
       "      <td>3.5</td>\n",
       "    </tr>\n",
       "    <tr>\n",
       "      <td>48946</td>\n",
       "      <td>id_3242</td>\n",
       "      <td>Madrid</td>\n",
       "      <td>NaN</td>\n",
       "      <td>3244.0</td>\n",
       "      <td>NaN</td>\n",
       "      <td>13.0</td>\n",
       "      <td>[[], []]</td>\n",
       "      <td>/Restaurant_Review-g187514-d10047799-Reviews-E...</td>\n",
       "      <td>d10047799</td>\n",
       "      <td>5.0</td>\n",
       "    </tr>\n",
       "  </tbody>\n",
       "</table>\n",
       "</div>"
      ],
      "text/plain": [
       "      Restaurant_id       City                        Cuisine Style  Ranking  \\\n",
       "3242        id_3242  Barcelona                        ['Fast Food']   7709.0   \n",
       "18854       id_3242     London  ['Japanese', 'Vegetarian Friendly']   3249.0   \n",
       "19854       id_3242     Vienna        ['Italian', 'Pizza', 'Grill']   3244.0   \n",
       "22465       id_3242     Prague         ['Czech', 'Bar', 'European']   3249.0   \n",
       "35798       id_3242     Berlin                                  NaN   3244.0   \n",
       "43832       id_3242     Lisbon                                  NaN   3246.0   \n",
       "48946       id_3242     Madrid                                  NaN   3244.0   \n",
       "\n",
       "      Price Range  Number of Reviews  \\\n",
       "3242          NaN              185.0   \n",
       "18854    $$ - $$$               16.0   \n",
       "19854    $$ - $$$                6.0   \n",
       "22465    $$ - $$$               30.0   \n",
       "35798         NaN                3.0   \n",
       "43832         NaN               10.0   \n",
       "48946         NaN               13.0   \n",
       "\n",
       "                                                 Reviews  \\\n",
       "3242   [['Bad service and food', 'Ripoff, avoid at al...   \n",
       "18854  [['Best Ramen I’ve had outside of Japan!', 'Th...   \n",
       "19854  [['A place to enjoy eating any time of the da....   \n",
       "22465  [['Not worth it', 'Eating Good With the locals...   \n",
       "35798  [['Friendly and quirky bar', 'POSH Teckel'], [...   \n",
       "43832  [['Alright', 'Pao de Deus is my new favorite']...   \n",
       "48946                                           [[], []]   \n",
       "\n",
       "                                                  URL_TA      ID_TA  Rating  \n",
       "3242   /Restaurant_Review-g187497-d1114210-Reviews-La...   d1114210     NaN  \n",
       "18854  /Restaurant_Review-g186338-d12874584-Reviews-M...  d12874584     5.0  \n",
       "19854  /Restaurant_Review-g190454-d6827920-Reviews-De...   d6827920     3.0  \n",
       "22465  /Restaurant_Review-g274707-d3598472-Reviews-U_...   d3598472     4.0  \n",
       "35798  /Restaurant_Review-g187323-d7251843-Reviews-Po...   d7251843     5.0  \n",
       "43832  /Restaurant_Review-g189158-d10248474-Reviews-P...  d10248474     3.5  \n",
       "48946  /Restaurant_Review-g187514-d10047799-Reviews-E...  d10047799     5.0  "
      ]
     },
     "execution_count": 56,
     "metadata": {},
     "output_type": "execute_result"
    }
   ],
   "source": [
    "df.loc[df['Restaurant_id']=='id_3242']"
   ]
  },
  {
   "cell_type": "markdown",
   "metadata": {},
   "source": [
    "##### Неясность Restaurant_id была обсуждена выше, тут по-прежнему непонятно. Так как строки явно дублируются, возможно это просто какие-то ошибки обновления БД..."
   ]
  },
  {
   "cell_type": "markdown",
   "metadata": {},
   "source": [
    "### ID_TA"
   ]
  },
  {
   "cell_type": "code",
   "execution_count": 435,
   "metadata": {},
   "outputs": [
    {
     "data": {
      "text/plain": [
       "d719802      1\n",
       "d10230697    1\n",
       "d12322365    1\n",
       "d1872794     1\n",
       "d1037204     1\n",
       "            ..\n",
       "d11698990    2\n",
       "d697406      2\n",
       "d4600226     2\n",
       "d11921719    2\n",
       "d10047799    2\n",
       "Name: ID_TA, Length: 39980, dtype: int64"
      ]
     },
     "execution_count": 435,
     "metadata": {},
     "output_type": "execute_result"
    }
   ],
   "source": [
    "df_train['ID_TA'].value_counts().sort_values()"
   ]
  },
  {
   "cell_type": "code",
   "execution_count": null,
   "metadata": {},
   "outputs": [],
   "source": [
    "# тут тоже всё ок"
   ]
  },
  {
   "cell_type": "markdown",
   "metadata": {},
   "source": [
    "### Cuisine"
   ]
  },
  {
   "cell_type": "code",
   "execution_count": 408,
   "metadata": {},
   "outputs": [],
   "source": [
    "all_cuisine_types = collections.Counter()"
   ]
  },
  {
   "cell_type": "code",
   "execution_count": 417,
   "metadata": {},
   "outputs": [],
   "source": [
    "def get_cuisines(row_next):\n",
    "    global all_cuisine_types\n",
    "    if (pd.isnull(row_next['Cuisine Style'])==True):\n",
    "        return 0\n",
    "    next_cuisines = row_next['Cuisine Style'][1:-1].replace(\"'\",\"\").replace(\", \",\",\").split(',') # replace(\"'\",\"\").replace(\", \",\",\")\n",
    "    for nc in next_cuisines:\n",
    "        all_cuisine_types[nc] += 1\n",
    "    return len(next_cuisines)"
   ]
  },
  {
   "cell_type": "code",
   "execution_count": 418,
   "metadata": {},
   "outputs": [],
   "source": [
    "def check_cuisine_nan(row_next):\n",
    "    if (row_next['cuisine_count'] == 0):\n",
    "        return 1\n",
    "    return 0"
   ]
  },
  {
   "cell_type": "code",
   "execution_count": 419,
   "metadata": {},
   "outputs": [],
   "source": [
    "all_cuisine_types = collections.Counter()\n",
    "# выключаем предупреждение - здесь создаем колонку, никаких chained-операций\n",
    "pd.options.mode.chained_assignment = None\n",
    "# делаем новую колонку - массив директоров, а не строку\n",
    "df_train['cuisine_count'] = df_train.apply(\n",
    "    (lambda row: get_cuisines(row)), axis=1)\n",
    "df_train['cuisine_nan'] = df_train.apply(\n",
    "    (lambda row: check_cuisine_nan(row)), axis=1)\n",
    "pd.options.mode.chained_assignment = 'warn'"
   ]
  },
  {
   "cell_type": "code",
   "execution_count": 421,
   "metadata": {},
   "outputs": [
    {
     "data": {
      "text/plain": [
       "(115,\n",
       " 24063,\n",
       " ['Afghani',\n",
       "  'African',\n",
       "  'American',\n",
       "  'Arabic',\n",
       "  'Argentinean',\n",
       "  'Armenian',\n",
       "  'Asian',\n",
       "  'Australian',\n",
       "  'Austrian',\n",
       "  'Azerbaijani',\n",
       "  'Balti',\n",
       "  'Bangladeshi',\n",
       "  'Bar',\n",
       "  'Barbecue',\n",
       "  'Belgian',\n",
       "  'Brazilian',\n",
       "  'Brew Pub',\n",
       "  'British',\n",
       "  'Cafe',\n",
       "  'Cajun & Creole',\n",
       "  'Cambodian',\n",
       "  'Canadian',\n",
       "  'Caribbean',\n",
       "  'Central American',\n",
       "  'Central European',\n",
       "  'Chilean',\n",
       "  'Chinese',\n",
       "  'Colombian',\n",
       "  'Contemporary',\n",
       "  'Croatian',\n",
       "  'Cuban',\n",
       "  'Czech',\n",
       "  'Danish',\n",
       "  'Delicatessen',\n",
       "  'Diner',\n",
       "  'Dutch',\n",
       "  'Eastern European',\n",
       "  'Ecuadorean',\n",
       "  'Egyptian',\n",
       "  'Ethiopian',\n",
       "  'European',\n",
       "  'Fast Food',\n",
       "  'Filipino',\n",
       "  'French',\n",
       "  'Fusion',\n",
       "  'Gastropub',\n",
       "  'Georgian',\n",
       "  'German',\n",
       "  'Gluten Free Options',\n",
       "  'Greek',\n",
       "  'Grill',\n",
       "  'Halal',\n",
       "  'Hawaiian',\n",
       "  'Healthy',\n",
       "  'Hungarian',\n",
       "  'Indian',\n",
       "  'Indonesian',\n",
       "  'International',\n",
       "  'Irish',\n",
       "  'Israeli',\n",
       "  'Italian',\n",
       "  'Jamaican',\n",
       "  'Japanese',\n",
       "  'Korean',\n",
       "  'Kosher',\n",
       "  'Latin',\n",
       "  'Lebanese',\n",
       "  'Malaysian',\n",
       "  'Mediterranean',\n",
       "  'Mexican',\n",
       "  'Middle Eastern',\n",
       "  'Minority Chinese',\n",
       "  'Mongolian',\n",
       "  'Moroccan',\n",
       "  'Native American',\n",
       "  'Nepali',\n",
       "  'New Zealand',\n",
       "  'Norwegian',\n",
       "  'Pakistani',\n",
       "  'Persian',\n",
       "  'Peruvian',\n",
       "  'Pizza',\n",
       "  'Polish',\n",
       "  'Portuguese',\n",
       "  'Pub',\n",
       "  'Romanian',\n",
       "  'Russian',\n",
       "  'Scandinavian',\n",
       "  'Scottish',\n",
       "  'Seafood',\n",
       "  'Singaporean',\n",
       "  'Slovenian',\n",
       "  'Soups',\n",
       "  'South American',\n",
       "  'Southwestern',\n",
       "  'Spanish',\n",
       "  'Sri Lankan',\n",
       "  'Steakhouse',\n",
       "  'Street Food',\n",
       "  'Sushi',\n",
       "  'Swedish',\n",
       "  'Swiss',\n",
       "  'Taiwanese',\n",
       "  'Thai',\n",
       "  'Tibetan',\n",
       "  'Tunisian',\n",
       "  'Turkish',\n",
       "  'Ukrainian',\n",
       "  'Vegan Options',\n",
       "  'Vegetarian Friendly',\n",
       "  'Venezuelan',\n",
       "  'Vietnamese',\n",
       "  'Welsh',\n",
       "  'Wine Bar',\n",
       "  'Yunnan'])"
      ]
     },
     "execution_count": 421,
     "metadata": {},
     "output_type": "execute_result"
    }
   ],
   "source": [
    "len(all_cuisine_types), sum(all_cuisine_types.values()), sorted(all_cuisine_types)"
   ]
  },
  {
   "cell_type": "code",
   "execution_count": null,
   "metadata": {},
   "outputs": [],
   "source": []
  },
  {
   "cell_type": "code",
   "execution_count": null,
   "metadata": {},
   "outputs": [],
   "source": []
  },
  {
   "cell_type": "code",
   "execution_count": null,
   "metadata": {},
   "outputs": [],
   "source": []
  },
  {
   "cell_type": "code",
   "execution_count": null,
   "metadata": {},
   "outputs": [],
   "source": []
  },
  {
   "cell_type": "code",
   "execution_count": null,
   "metadata": {},
   "outputs": [],
   "source": []
  },
  {
   "cell_type": "code",
   "execution_count": null,
   "metadata": {},
   "outputs": [],
   "source": []
  },
  {
   "cell_type": "code",
   "execution_count": null,
   "metadata": {},
   "outputs": [],
   "source": []
  },
  {
   "cell_type": "code",
   "execution_count": null,
   "metadata": {},
   "outputs": [],
   "source": []
  },
  {
   "cell_type": "code",
   "execution_count": 437,
   "metadata": {},
   "outputs": [
    {
     "data": {
      "text/plain": [
       "/Restaurant_Review-g187514-d7342803-Reviews-Los_Hierros-Madrid.html                2\n",
       "/Restaurant_Review-g187514-d10047799-Reviews-Entrepuntos-Madrid.html               2\n",
       "/Restaurant_Review-g187514-d4600226-Reviews-Cafeteria_Teresa-Madrid.html           2\n",
       "/Restaurant_Review-g187514-d7337366-Reviews-Lady_Madonna-Madrid.html               2\n",
       "/Restaurant_Review-g187514-d11921719-Reviews-Crepets-Madrid.html                   2\n",
       "/Restaurant_Review-g187514-d8753348-Reviews-Tropecientos-Madrid.html               2\n",
       "/Restaurant_Review-g187514-d7809594-Reviews-La_Guapa-Madrid.html                   2\n",
       "/Restaurant_Review-g187514-d987900-Reviews-Compostela_Restaurante-Madrid.html      2\n",
       "/Restaurant_Review-g187514-d13002276-Reviews-Delish_Vegan_Doughnuts-Madrid.html    2\n",
       "/Restaurant_Review-g187514-d1315077-Reviews-El_Pimiento_Verde-Madrid.html          2\n",
       "/Restaurant_Review-g187514-d9877640-Reviews-Raku_Sushi-Madrid.html                 2\n",
       "/Restaurant_Review-g187514-d3161682-Reviews-Cerveceria_La_Surena-Madrid.html       2\n",
       "/Restaurant_Review-g187514-d697406-Reviews-Al_Mounia-Madrid.html                   2\n",
       "/Restaurant_Review-g187514-d11674463-Reviews-Beerhouse-Madrid.html                 2\n",
       "/Restaurant_Review-g187514-d793170-Reviews-Caripen_Bistro-Madrid.html              2\n",
       "/Restaurant_Review-g187514-d2477531-Reviews-Haya_19-Madrid.html                    2\n",
       "/Restaurant_Review-g187514-d3685055-Reviews-Shukran-Madrid.html                    2\n",
       "/Restaurant_Review-g187514-d9802625-Reviews-La_Vie_en_Doux-Madrid.html             2\n",
       "/Restaurant_Review-g187514-d11698990-Reviews-Verdello_Restaurante-Madrid.html      2\n",
       "/Restaurant_Review-g187514-d11999956-Reviews-SugarCane_Madrid-Madrid.html          2\n",
       "Name: URL_TA, dtype: int64"
      ]
     },
     "execution_count": 437,
     "metadata": {},
     "output_type": "execute_result"
    }
   ],
   "source": [
    "vc_sv2 = vc_sv[vc_sv > 1]\n",
    "vc_sv2"
   ]
  },
  {
   "cell_type": "code",
   "execution_count": 461,
   "metadata": {},
   "outputs": [
    {
     "data": {
      "text/plain": [
       "/Restaurant_Review-g187514-d10047799-Reviews-Entrepuntos-Madrid.html    2\n",
       "Name: URL_TA, dtype: int64"
      ]
     },
     "execution_count": 461,
     "metadata": {},
     "output_type": "execute_result"
    }
   ],
   "source": [
    "vc_sv_short = vc_sv2[12:13]\n",
    "vc_sv_short\n",
    "vc_sv_short = vc_sv2[1:2]\n",
    "vc_sv_short"
   ]
  },
  {
   "cell_type": "code",
   "execution_count": 439,
   "metadata": {
    "scrolled": true
   },
   "outputs": [
    {
     "data": {
      "text/plain": [
       "'/Restaurant_Review-g187514-d697406-Reviews-Al_Mounia-Madrid.html'"
      ]
     },
     "execution_count": 439,
     "metadata": {},
     "output_type": "execute_result"
    }
   ],
   "source": [
    "vc_sv_short.index[0]"
   ]
  },
  {
   "cell_type": "code",
   "execution_count": 440,
   "metadata": {},
   "outputs": [],
   "source": [
    "dfXXX = pd.DataFrame(columns=df.columns)"
   ]
  },
  {
   "cell_type": "code",
   "execution_count": 448,
   "metadata": {},
   "outputs": [],
   "source": [
    "def print_changes(input_subdf):\n",
    "    #dfXXX = pd.DataFrame(columns=df.columns)    \n",
    "    global dfXXX\n",
    "    has_diffs_global = False\n",
    "    for i in range(0, len(input_subdf)-1):\n",
    "        #print(i)\n",
    "        irow = input_subdf.iloc[i]\n",
    "        for j in range(i+1, len(input_subdf)):\n",
    "            #print(j)\n",
    "            jrow = input_subdf.iloc[j]\n",
    "            diffrow = irow.copy()\n",
    "            has_diffs = False\n",
    "            for nn in input_subdf.columns:\n",
    "                if (nn == 'URL_TA'):\n",
    "                    diffrow[nn] = irow[nn]\n",
    "                    continue\n",
    "                    #if ((pd.isnull(irow[nn]) == True and pd.isnull(irow[nn]) == True) or (irow[nn] == jrow[nn])):\n",
    "                    #    #diffrow[nn] = irow[nn]\n",
    "                    #    diffrow[nn] = np.nan\n",
    "                    #else:\n",
    "                    #    has_diffs = True\n",
    "                    #    has_diffs_global = True\n",
    "                    #    diffrow[nn] = '\"' + str(irow[nn]) + '\" Vs \"' + str(jrow[nn]) + '\"'\n",
    "                    #continue\n",
    "                if ((pd.isnull(irow[nn]) == True and pd.isnull(irow[nn]) == True) or (irow[nn] == jrow[nn])):\n",
    "                    diffrow[nn] = irow[nn]\n",
    "                    #diffrow[nn] = np.nan\n",
    "                else:\n",
    "                    has_diffs = True\n",
    "                    has_diffs_global = True\n",
    "                    diffrow[nn] = '\"' + str(irow[nn]) + '\" Vs \"' + str(jrow[nn]) + '\"'\n",
    "\n",
    "            if (has_diffs == True):\n",
    "                dfXXX = dfXXX.append(diffrow)\n",
    "            #print(diffrow)\n",
    "    #if (has_diffs_global == True):\n",
    "    #    dfXXX = dfXXX.reset_index()\n",
    "    #    print(dfXXX)"
   ]
  },
  {
   "cell_type": "code",
   "execution_count": 451,
   "metadata": {},
   "outputs": [],
   "source": [
    "def get_diff(v_in):\n",
    "    global dfXXX\n",
    "    for t in range(0, len(v_in)):\n",
    "        #print('v_in.index[t]' , v_in.index[t])\n",
    "        t_rest =  df.loc[df['URL_TA']==v_in.index[t]]\n",
    "        print(t_rest)\n",
    "        print_changes(t_rest)\n",
    "    dfXXX = dfXXX.reset_index()\n",
    "    return dfXXX"
   ]
  },
  {
   "cell_type": "code",
   "execution_count": 457,
   "metadata": {
    "scrolled": true
   },
   "outputs": [
    {
     "name": "stdout",
     "output_type": "stream",
     "text": [
      "Empty DataFrame\n",
      "Columns: [Restaurant_id, City, Cuisine Style, Ranking, Price Range, Number of Reviews, Reviews, URL_TA, ID_TA, Rating]\n",
      "Index: []\n",
      "      Restaurant_id    City Cuisine Style  Ranking Price Range  \\\n",
      "23980       id_3239  Madrid           NaN   3241.0         NaN   \n",
      "48946       id_3242  Madrid           NaN   3244.0         NaN   \n",
      "\n",
      "       Number of Reviews   Reviews  \\\n",
      "23980               13.0  [[], []]   \n",
      "48946               13.0  [[], []]   \n",
      "\n",
      "                                                  URL_TA      ID_TA  Rating  \n",
      "23980  /Restaurant_Review-g187514-d10047799-Reviews-E...  d10047799     5.0  \n",
      "48946  /Restaurant_Review-g187514-d10047799-Reviews-E...  d10047799     5.0  \n"
     ]
    },
    {
     "data": {
      "text/html": [
       "<div>\n",
       "<style scoped>\n",
       "    .dataframe tbody tr th:only-of-type {\n",
       "        vertical-align: middle;\n",
       "    }\n",
       "\n",
       "    .dataframe tbody tr th {\n",
       "        vertical-align: top;\n",
       "    }\n",
       "\n",
       "    .dataframe thead th {\n",
       "        text-align: right;\n",
       "    }\n",
       "</style>\n",
       "<table border=\"1\" class=\"dataframe\">\n",
       "  <thead>\n",
       "    <tr style=\"text-align: right;\">\n",
       "      <th></th>\n",
       "      <th>index</th>\n",
       "      <th>Restaurant_id</th>\n",
       "      <th>City</th>\n",
       "      <th>Ranking</th>\n",
       "      <th>Number of Reviews</th>\n",
       "      <th>Reviews</th>\n",
       "      <th>URL_TA</th>\n",
       "      <th>ID_TA</th>\n",
       "      <th>Rating</th>\n",
       "    </tr>\n",
       "  </thead>\n",
       "  <tbody>\n",
       "    <tr>\n",
       "      <td>0</td>\n",
       "      <td>23980</td>\n",
       "      <td>\"id_3239\" Vs \"id_3242\"</td>\n",
       "      <td>Madrid</td>\n",
       "      <td>\"3241.0\" Vs \"3244.0\"</td>\n",
       "      <td>13.0</td>\n",
       "      <td>[[], []]</td>\n",
       "      <td>/Restaurant_Review-g187514-d10047799-Reviews-E...</td>\n",
       "      <td>d10047799</td>\n",
       "      <td>5.0</td>\n",
       "    </tr>\n",
       "  </tbody>\n",
       "</table>\n",
       "</div>"
      ],
      "text/plain": [
       "   index           Restaurant_id    City               Ranking  \\\n",
       "0  23980  \"id_3239\" Vs \"id_3242\"  Madrid  \"3241.0\" Vs \"3244.0\"   \n",
       "\n",
       "   Number of Reviews   Reviews  \\\n",
       "0               13.0  [[], []]   \n",
       "\n",
       "                                              URL_TA      ID_TA  Rating  \n",
       "0  /Restaurant_Review-g187514-d10047799-Reviews-E...  d10047799     5.0  "
      ]
     },
     "execution_count": 457,
     "metadata": {},
     "output_type": "execute_result"
    }
   ],
   "source": [
    "dfXXX = pd.DataFrame(columns=df.columns)\n",
    "print(dfXXX)\n",
    "res = get_diff(vc_sv_short)\n",
    "#res = get_diff(vc_sv2)\n",
    "res = res.dropna(axis=1, how='all')\n",
    "res"
   ]
  },
  {
   "cell_type": "code",
   "execution_count": 453,
   "metadata": {},
   "outputs": [
    {
     "data": {
      "text/html": [
       "<div>\n",
       "<style scoped>\n",
       "    .dataframe tbody tr th:only-of-type {\n",
       "        vertical-align: middle;\n",
       "    }\n",
       "\n",
       "    .dataframe tbody tr th {\n",
       "        vertical-align: top;\n",
       "    }\n",
       "\n",
       "    .dataframe thead th {\n",
       "        text-align: right;\n",
       "    }\n",
       "</style>\n",
       "<table border=\"1\" class=\"dataframe\">\n",
       "  <thead>\n",
       "    <tr style=\"text-align: right;\">\n",
       "      <th></th>\n",
       "      <th>Restaurant_id</th>\n",
       "      <th>City</th>\n",
       "      <th>Cuisine Style</th>\n",
       "      <th>Ranking</th>\n",
       "      <th>Price Range</th>\n",
       "      <th>Number of Reviews</th>\n",
       "      <th>Reviews</th>\n",
       "      <th>URL_TA</th>\n",
       "      <th>ID_TA</th>\n",
       "      <th>Rating</th>\n",
       "    </tr>\n",
       "  </thead>\n",
       "  <tbody>\n",
       "    <tr>\n",
       "      <td>1180</td>\n",
       "      <td>id_1180</td>\n",
       "      <td>Amsterdam</td>\n",
       "      <td>['Chinese']</td>\n",
       "      <td>1826.0</td>\n",
       "      <td>$</td>\n",
       "      <td>13.0</td>\n",
       "      <td>[['Nice Chinese food', 'Great Wok, home style!...</td>\n",
       "      <td>/Restaurant_Review-g188590-d4063578-Reviews-Wo...</td>\n",
       "      <td>d4063578</td>\n",
       "      <td>NaN</td>\n",
       "    </tr>\n",
       "    <tr>\n",
       "      <td>14578</td>\n",
       "      <td>id_1180</td>\n",
       "      <td>Madrid</td>\n",
       "      <td>['Moroccan', 'Vegetarian Friendly', 'Vegan Opt...</td>\n",
       "      <td>1181.0</td>\n",
       "      <td>$$ - $$$</td>\n",
       "      <td>341.0</td>\n",
       "      <td>[['Great food, service and atmosphere', 'Decor...</td>\n",
       "      <td>/Restaurant_Review-g187514-d697406-Reviews-Al_...</td>\n",
       "      <td>d697406</td>\n",
       "      <td>4.0</td>\n",
       "    </tr>\n",
       "    <tr>\n",
       "      <td>25708</td>\n",
       "      <td>id_1180</td>\n",
       "      <td>Budapest</td>\n",
       "      <td>['Italian', 'International', 'European', 'Hung...</td>\n",
       "      <td>1181.0</td>\n",
       "      <td>$$ - $$$</td>\n",
       "      <td>2.0</td>\n",
       "      <td>[['Great stop off by the river'], ['01/01/2018']]</td>\n",
       "      <td>/Restaurant_Review-g274887-d12993963-Reviews-P...</td>\n",
       "      <td>d12993963</td>\n",
       "      <td>5.0</td>\n",
       "    </tr>\n",
       "    <tr>\n",
       "      <td>42142</td>\n",
       "      <td>id_1180</td>\n",
       "      <td>Lyon</td>\n",
       "      <td>['Pizza']</td>\n",
       "      <td>1180.0</td>\n",
       "      <td>$$ - $$$</td>\n",
       "      <td>5.0</td>\n",
       "      <td>[[], []]</td>\n",
       "      <td>/Restaurant_Review-g187265-d11656254-Reviews-P...</td>\n",
       "      <td>d11656254</td>\n",
       "      <td>5.0</td>\n",
       "    </tr>\n",
       "    <tr>\n",
       "      <td>43030</td>\n",
       "      <td>id_1180</td>\n",
       "      <td>Warsaw</td>\n",
       "      <td>['Italian']</td>\n",
       "      <td>1181.0</td>\n",
       "      <td>$$ - $$$</td>\n",
       "      <td>7.0</td>\n",
       "      <td>[['Great pizza', 'Average but expensive pizza'...</td>\n",
       "      <td>/Restaurant_Review-g274856-d12959565-Reviews-I...</td>\n",
       "      <td>d12959565</td>\n",
       "      <td>4.0</td>\n",
       "    </tr>\n",
       "    <tr>\n",
       "      <td>45423</td>\n",
       "      <td>id_1180</td>\n",
       "      <td>Munich</td>\n",
       "      <td>['American', 'Vegetarian Friendly']</td>\n",
       "      <td>1191.0</td>\n",
       "      <td>$$ - $$$</td>\n",
       "      <td>118.0</td>\n",
       "      <td>[['Fantastic bio burger! Definitely need to c....</td>\n",
       "      <td>/Restaurant_Review-g187309-d6895782-Reviews-Ho...</td>\n",
       "      <td>d6895782</td>\n",
       "      <td>4.0</td>\n",
       "    </tr>\n",
       "  </tbody>\n",
       "</table>\n",
       "</div>"
      ],
      "text/plain": [
       "      Restaurant_id       City  \\\n",
       "1180        id_1180  Amsterdam   \n",
       "14578       id_1180     Madrid   \n",
       "25708       id_1180   Budapest   \n",
       "42142       id_1180       Lyon   \n",
       "43030       id_1180     Warsaw   \n",
       "45423       id_1180     Munich   \n",
       "\n",
       "                                           Cuisine Style  Ranking Price Range  \\\n",
       "1180                                         ['Chinese']   1826.0           $   \n",
       "14578  ['Moroccan', 'Vegetarian Friendly', 'Vegan Opt...   1181.0    $$ - $$$   \n",
       "25708  ['Italian', 'International', 'European', 'Hung...   1181.0    $$ - $$$   \n",
       "42142                                          ['Pizza']   1180.0    $$ - $$$   \n",
       "43030                                        ['Italian']   1181.0    $$ - $$$   \n",
       "45423                ['American', 'Vegetarian Friendly']   1191.0    $$ - $$$   \n",
       "\n",
       "       Number of Reviews                                            Reviews  \\\n",
       "1180                13.0  [['Nice Chinese food', 'Great Wok, home style!...   \n",
       "14578              341.0  [['Great food, service and atmosphere', 'Decor...   \n",
       "25708                2.0  [['Great stop off by the river'], ['01/01/2018']]   \n",
       "42142                5.0                                           [[], []]   \n",
       "43030                7.0  [['Great pizza', 'Average but expensive pizza'...   \n",
       "45423              118.0  [['Fantastic bio burger! Definitely need to c....   \n",
       "\n",
       "                                                  URL_TA      ID_TA  Rating  \n",
       "1180   /Restaurant_Review-g188590-d4063578-Reviews-Wo...   d4063578     NaN  \n",
       "14578  /Restaurant_Review-g187514-d697406-Reviews-Al_...    d697406     4.0  \n",
       "25708  /Restaurant_Review-g274887-d12993963-Reviews-P...  d12993963     5.0  \n",
       "42142  /Restaurant_Review-g187265-d11656254-Reviews-P...  d11656254     5.0  \n",
       "43030  /Restaurant_Review-g274856-d12959565-Reviews-I...  d12959565     4.0  \n",
       "45423  /Restaurant_Review-g187309-d6895782-Reviews-Ho...   d6895782     4.0  "
      ]
     },
     "execution_count": 453,
     "metadata": {},
     "output_type": "execute_result"
    }
   ],
   "source": [
    "df.loc[df['Restaurant_id']=='id_1180']"
   ]
  },
  {
   "cell_type": "code",
   "execution_count": 454,
   "metadata": {},
   "outputs": [
    {
     "data": {
      "text/html": [
       "<div>\n",
       "<style scoped>\n",
       "    .dataframe tbody tr th:only-of-type {\n",
       "        vertical-align: middle;\n",
       "    }\n",
       "\n",
       "    .dataframe tbody tr th {\n",
       "        vertical-align: top;\n",
       "    }\n",
       "\n",
       "    .dataframe thead th {\n",
       "        text-align: right;\n",
       "    }\n",
       "</style>\n",
       "<table border=\"1\" class=\"dataframe\">\n",
       "  <thead>\n",
       "    <tr style=\"text-align: right;\">\n",
       "      <th></th>\n",
       "      <th>Restaurant_id</th>\n",
       "      <th>City</th>\n",
       "      <th>Cuisine Style</th>\n",
       "      <th>Ranking</th>\n",
       "      <th>Price Range</th>\n",
       "      <th>Number of Reviews</th>\n",
       "      <th>Reviews</th>\n",
       "      <th>URL_TA</th>\n",
       "      <th>ID_TA</th>\n",
       "      <th>Rating</th>\n",
       "    </tr>\n",
       "  </thead>\n",
       "  <tbody>\n",
       "    <tr>\n",
       "      <td>1209</td>\n",
       "      <td>id_1209</td>\n",
       "      <td>Barcelona</td>\n",
       "      <td>['Cafe']</td>\n",
       "      <td>7401.0</td>\n",
       "      <td>$</td>\n",
       "      <td>2.0</td>\n",
       "      <td>[['Go somewhere else', 'Delicious!'], ['01/09/...</td>\n",
       "      <td>/Restaurant_Review-g187497-d10664301-Reviews-P...</td>\n",
       "      <td>d10664301</td>\n",
       "      <td>NaN</td>\n",
       "    </tr>\n",
       "    <tr>\n",
       "      <td>13099</td>\n",
       "      <td>id_1209</td>\n",
       "      <td>Edinburgh</td>\n",
       "      <td>['Indian']</td>\n",
       "      <td>1210.0</td>\n",
       "      <td>$$ - $$$</td>\n",
       "      <td>2.0</td>\n",
       "      <td>[['good Indian food', 'good Indian curry in Ed...</td>\n",
       "      <td>/Restaurant_Review-g186525-d11778986-Reviews-S...</td>\n",
       "      <td>d11778986</td>\n",
       "      <td>5.0</td>\n",
       "    </tr>\n",
       "    <tr>\n",
       "      <td>22480</td>\n",
       "      <td>id_1209</td>\n",
       "      <td>Athens</td>\n",
       "      <td>NaN</td>\n",
       "      <td>1211.0</td>\n",
       "      <td>NaN</td>\n",
       "      <td>4.0</td>\n",
       "      <td>[[], []]</td>\n",
       "      <td>/Restaurant_Review-g189400-d11747446-Reviews-C...</td>\n",
       "      <td>d11747446</td>\n",
       "      <td>4.5</td>\n",
       "    </tr>\n",
       "    <tr>\n",
       "      <td>38096</td>\n",
       "      <td>id_1209</td>\n",
       "      <td>Madrid</td>\n",
       "      <td>['Moroccan', 'Vegetarian Friendly', 'Vegan Opt...</td>\n",
       "      <td>1210.0</td>\n",
       "      <td>$$ - $$$</td>\n",
       "      <td>341.0</td>\n",
       "      <td>[['Great food, service and atmosphere', 'Decor...</td>\n",
       "      <td>/Restaurant_Review-g187514-d697406-Reviews-Al_...</td>\n",
       "      <td>d697406</td>\n",
       "      <td>4.0</td>\n",
       "    </tr>\n",
       "    <tr>\n",
       "      <td>41955</td>\n",
       "      <td>id_1209</td>\n",
       "      <td>Munich</td>\n",
       "      <td>NaN</td>\n",
       "      <td>1221.0</td>\n",
       "      <td>NaN</td>\n",
       "      <td>16.0</td>\n",
       "      <td>[['Bavarian Theme Dinner', 'Nice hotel with go...</td>\n",
       "      <td>/Restaurant_Review-g187309-d4131064-Reviews-Hi...</td>\n",
       "      <td>d4131064</td>\n",
       "      <td>4.0</td>\n",
       "    </tr>\n",
       "  </tbody>\n",
       "</table>\n",
       "</div>"
      ],
      "text/plain": [
       "      Restaurant_id       City  \\\n",
       "1209        id_1209  Barcelona   \n",
       "13099       id_1209  Edinburgh   \n",
       "22480       id_1209     Athens   \n",
       "38096       id_1209     Madrid   \n",
       "41955       id_1209     Munich   \n",
       "\n",
       "                                           Cuisine Style  Ranking Price Range  \\\n",
       "1209                                            ['Cafe']   7401.0           $   \n",
       "13099                                         ['Indian']   1210.0    $$ - $$$   \n",
       "22480                                                NaN   1211.0         NaN   \n",
       "38096  ['Moroccan', 'Vegetarian Friendly', 'Vegan Opt...   1210.0    $$ - $$$   \n",
       "41955                                                NaN   1221.0         NaN   \n",
       "\n",
       "       Number of Reviews                                            Reviews  \\\n",
       "1209                 2.0  [['Go somewhere else', 'Delicious!'], ['01/09/...   \n",
       "13099                2.0  [['good Indian food', 'good Indian curry in Ed...   \n",
       "22480                4.0                                           [[], []]   \n",
       "38096              341.0  [['Great food, service and atmosphere', 'Decor...   \n",
       "41955               16.0  [['Bavarian Theme Dinner', 'Nice hotel with go...   \n",
       "\n",
       "                                                  URL_TA      ID_TA  Rating  \n",
       "1209   /Restaurant_Review-g187497-d10664301-Reviews-P...  d10664301     NaN  \n",
       "13099  /Restaurant_Review-g186525-d11778986-Reviews-S...  d11778986     5.0  \n",
       "22480  /Restaurant_Review-g189400-d11747446-Reviews-C...  d11747446     4.5  \n",
       "38096  /Restaurant_Review-g187514-d697406-Reviews-Al_...    d697406     4.0  \n",
       "41955  /Restaurant_Review-g187309-d4131064-Reviews-Hi...   d4131064     4.0  "
      ]
     },
     "execution_count": 454,
     "metadata": {},
     "output_type": "execute_result"
    }
   ],
   "source": [
    "df.loc[df['Restaurant_id']=='id_1209']"
   ]
  },
  {
   "cell_type": "code",
   "execution_count": null,
   "metadata": {},
   "outputs": [],
   "source": []
  },
  {
   "cell_type": "code",
   "execution_count": 458,
   "metadata": {},
   "outputs": [
    {
     "data": {
      "text/html": [
       "<div>\n",
       "<style scoped>\n",
       "    .dataframe tbody tr th:only-of-type {\n",
       "        vertical-align: middle;\n",
       "    }\n",
       "\n",
       "    .dataframe tbody tr th {\n",
       "        vertical-align: top;\n",
       "    }\n",
       "\n",
       "    .dataframe thead th {\n",
       "        text-align: right;\n",
       "    }\n",
       "</style>\n",
       "<table border=\"1\" class=\"dataframe\">\n",
       "  <thead>\n",
       "    <tr style=\"text-align: right;\">\n",
       "      <th></th>\n",
       "      <th>Restaurant_id</th>\n",
       "      <th>City</th>\n",
       "      <th>Cuisine Style</th>\n",
       "      <th>Ranking</th>\n",
       "      <th>Price Range</th>\n",
       "      <th>Number of Reviews</th>\n",
       "      <th>Reviews</th>\n",
       "      <th>URL_TA</th>\n",
       "      <th>ID_TA</th>\n",
       "      <th>Rating</th>\n",
       "    </tr>\n",
       "  </thead>\n",
       "  <tbody>\n",
       "    <tr>\n",
       "      <td>3239</td>\n",
       "      <td>id_3239</td>\n",
       "      <td>Zurich</td>\n",
       "      <td>['Mexican']</td>\n",
       "      <td>1035.0</td>\n",
       "      <td>NaN</td>\n",
       "      <td>2.0</td>\n",
       "      <td>[[\"It's soo good I've been there sooo many ti....</td>\n",
       "      <td>/Restaurant_Review-g188113-d12839345-Reviews-Z...</td>\n",
       "      <td>d12839345</td>\n",
       "      <td>NaN</td>\n",
       "    </tr>\n",
       "    <tr>\n",
       "      <td>13267</td>\n",
       "      <td>id_3239</td>\n",
       "      <td>Prague</td>\n",
       "      <td>['American', 'Fast Food']</td>\n",
       "      <td>3246.0</td>\n",
       "      <td>$</td>\n",
       "      <td>59.0</td>\n",
       "      <td>[['You can do better', 'Worst customer service...</td>\n",
       "      <td>/Restaurant_Review-g274707-d4768666-Reviews-KF...</td>\n",
       "      <td>d4768666</td>\n",
       "      <td>3.5</td>\n",
       "    </tr>\n",
       "    <tr>\n",
       "      <td>17253</td>\n",
       "      <td>id_3239</td>\n",
       "      <td>Lisbon</td>\n",
       "      <td>['European', 'Portuguese']</td>\n",
       "      <td>3243.0</td>\n",
       "      <td>NaN</td>\n",
       "      <td>40.0</td>\n",
       "      <td>[['Unexpected gem', 'Great food!'], ['05/08/20...</td>\n",
       "      <td>/Restaurant_Review-g189158-d1519119-Reviews-Re...</td>\n",
       "      <td>d1519119</td>\n",
       "      <td>4.0</td>\n",
       "    </tr>\n",
       "    <tr>\n",
       "      <td>19478</td>\n",
       "      <td>id_3239</td>\n",
       "      <td>Vienna</td>\n",
       "      <td>['Fast Food']</td>\n",
       "      <td>3241.0</td>\n",
       "      <td>$</td>\n",
       "      <td>43.0</td>\n",
       "      <td>[['Omg', 'Loved the fact we could order bespok...</td>\n",
       "      <td>/Restaurant_Review-g190454-d1997490-Reviews-Mc...</td>\n",
       "      <td>d1997490</td>\n",
       "      <td>3.0</td>\n",
       "    </tr>\n",
       "    <tr>\n",
       "      <td>22134</td>\n",
       "      <td>id_3239</td>\n",
       "      <td>Barcelona</td>\n",
       "      <td>['Cafe', 'Mediterranean', 'European', 'Pizza',...</td>\n",
       "      <td>3240.0</td>\n",
       "      <td>$$ - $$$</td>\n",
       "      <td>64.0</td>\n",
       "      <td>[['More than good', 'Healthy food'], ['08/16/2...</td>\n",
       "      <td>/Restaurant_Review-g187497-d7205454-Reviews-Me...</td>\n",
       "      <td>d7205454</td>\n",
       "      <td>4.0</td>\n",
       "    </tr>\n",
       "    <tr>\n",
       "      <td>23980</td>\n",
       "      <td>id_3239</td>\n",
       "      <td>Madrid</td>\n",
       "      <td>NaN</td>\n",
       "      <td>3241.0</td>\n",
       "      <td>NaN</td>\n",
       "      <td>13.0</td>\n",
       "      <td>[[], []]</td>\n",
       "      <td>/Restaurant_Review-g187514-d10047799-Reviews-E...</td>\n",
       "      <td>d10047799</td>\n",
       "      <td>5.0</td>\n",
       "    </tr>\n",
       "    <tr>\n",
       "      <td>33217</td>\n",
       "      <td>id_3239</td>\n",
       "      <td>London</td>\n",
       "      <td>['Fast Food', 'European', 'Portuguese']</td>\n",
       "      <td>3246.0</td>\n",
       "      <td>$$ - $$$</td>\n",
       "      <td>219.0</td>\n",
       "      <td>[['Always a THUMB up', 'Great chicken from the...</td>\n",
       "      <td>/Restaurant_Review-g186338-d1021861-Reviews-Na...</td>\n",
       "      <td>d1021861</td>\n",
       "      <td>4.0</td>\n",
       "    </tr>\n",
       "    <tr>\n",
       "      <td>39500</td>\n",
       "      <td>id_3239</td>\n",
       "      <td>Berlin</td>\n",
       "      <td>['Japanese', 'Sushi', 'Asian', 'Fusion']</td>\n",
       "      <td>3241.0</td>\n",
       "      <td>$$ - $$$</td>\n",
       "      <td>NaN</td>\n",
       "      <td>[[], []]</td>\n",
       "      <td>/Restaurant_Review-g187323-d12807643-Reviews-O...</td>\n",
       "      <td>d12807643</td>\n",
       "      <td>5.0</td>\n",
       "    </tr>\n",
       "    <tr>\n",
       "      <td>49853</td>\n",
       "      <td>id_3239</td>\n",
       "      <td>Paris</td>\n",
       "      <td>NaN</td>\n",
       "      <td>3240.0</td>\n",
       "      <td>NaN</td>\n",
       "      <td>43.0</td>\n",
       "      <td>[['Deliciousness', 'Romantic and delicious'], ...</td>\n",
       "      <td>/Restaurant_Review-g187147-d10248508-Reviews-J...</td>\n",
       "      <td>d10248508</td>\n",
       "      <td>4.5</td>\n",
       "    </tr>\n",
       "  </tbody>\n",
       "</table>\n",
       "</div>"
      ],
      "text/plain": [
       "      Restaurant_id       City  \\\n",
       "3239        id_3239     Zurich   \n",
       "13267       id_3239     Prague   \n",
       "17253       id_3239     Lisbon   \n",
       "19478       id_3239     Vienna   \n",
       "22134       id_3239  Barcelona   \n",
       "23980       id_3239     Madrid   \n",
       "33217       id_3239     London   \n",
       "39500       id_3239     Berlin   \n",
       "49853       id_3239      Paris   \n",
       "\n",
       "                                           Cuisine Style  Ranking Price Range  \\\n",
       "3239                                         ['Mexican']   1035.0         NaN   \n",
       "13267                          ['American', 'Fast Food']   3246.0           $   \n",
       "17253                         ['European', 'Portuguese']   3243.0         NaN   \n",
       "19478                                      ['Fast Food']   3241.0           $   \n",
       "22134  ['Cafe', 'Mediterranean', 'European', 'Pizza',...   3240.0    $$ - $$$   \n",
       "23980                                                NaN   3241.0         NaN   \n",
       "33217            ['Fast Food', 'European', 'Portuguese']   3246.0    $$ - $$$   \n",
       "39500           ['Japanese', 'Sushi', 'Asian', 'Fusion']   3241.0    $$ - $$$   \n",
       "49853                                                NaN   3240.0         NaN   \n",
       "\n",
       "       Number of Reviews                                            Reviews  \\\n",
       "3239                 2.0  [[\"It's soo good I've been there sooo many ti....   \n",
       "13267               59.0  [['You can do better', 'Worst customer service...   \n",
       "17253               40.0  [['Unexpected gem', 'Great food!'], ['05/08/20...   \n",
       "19478               43.0  [['Omg', 'Loved the fact we could order bespok...   \n",
       "22134               64.0  [['More than good', 'Healthy food'], ['08/16/2...   \n",
       "23980               13.0                                           [[], []]   \n",
       "33217              219.0  [['Always a THUMB up', 'Great chicken from the...   \n",
       "39500                NaN                                           [[], []]   \n",
       "49853               43.0  [['Deliciousness', 'Romantic and delicious'], ...   \n",
       "\n",
       "                                                  URL_TA      ID_TA  Rating  \n",
       "3239   /Restaurant_Review-g188113-d12839345-Reviews-Z...  d12839345     NaN  \n",
       "13267  /Restaurant_Review-g274707-d4768666-Reviews-KF...   d4768666     3.5  \n",
       "17253  /Restaurant_Review-g189158-d1519119-Reviews-Re...   d1519119     4.0  \n",
       "19478  /Restaurant_Review-g190454-d1997490-Reviews-Mc...   d1997490     3.0  \n",
       "22134  /Restaurant_Review-g187497-d7205454-Reviews-Me...   d7205454     4.0  \n",
       "23980  /Restaurant_Review-g187514-d10047799-Reviews-E...  d10047799     5.0  \n",
       "33217  /Restaurant_Review-g186338-d1021861-Reviews-Na...   d1021861     4.0  \n",
       "39500  /Restaurant_Review-g187323-d12807643-Reviews-O...  d12807643     5.0  \n",
       "49853  /Restaurant_Review-g187147-d10248508-Reviews-J...  d10248508     4.5  "
      ]
     },
     "execution_count": 458,
     "metadata": {},
     "output_type": "execute_result"
    }
   ],
   "source": [
    "df.loc[df['Restaurant_id']=='id_3239']"
   ]
  },
  {
   "cell_type": "code",
   "execution_count": 459,
   "metadata": {},
   "outputs": [
    {
     "data": {
      "text/html": [
       "<div>\n",
       "<style scoped>\n",
       "    .dataframe tbody tr th:only-of-type {\n",
       "        vertical-align: middle;\n",
       "    }\n",
       "\n",
       "    .dataframe tbody tr th {\n",
       "        vertical-align: top;\n",
       "    }\n",
       "\n",
       "    .dataframe thead th {\n",
       "        text-align: right;\n",
       "    }\n",
       "</style>\n",
       "<table border=\"1\" class=\"dataframe\">\n",
       "  <thead>\n",
       "    <tr style=\"text-align: right;\">\n",
       "      <th></th>\n",
       "      <th>Restaurant_id</th>\n",
       "      <th>City</th>\n",
       "      <th>Cuisine Style</th>\n",
       "      <th>Ranking</th>\n",
       "      <th>Price Range</th>\n",
       "      <th>Number of Reviews</th>\n",
       "      <th>Reviews</th>\n",
       "      <th>URL_TA</th>\n",
       "      <th>ID_TA</th>\n",
       "      <th>Rating</th>\n",
       "    </tr>\n",
       "  </thead>\n",
       "  <tbody>\n",
       "    <tr>\n",
       "      <td>3242</td>\n",
       "      <td>id_3242</td>\n",
       "      <td>Barcelona</td>\n",
       "      <td>['Fast Food']</td>\n",
       "      <td>7709.0</td>\n",
       "      <td>NaN</td>\n",
       "      <td>185.0</td>\n",
       "      <td>[['Bad service and food', 'Ripoff, avoid at al...</td>\n",
       "      <td>/Restaurant_Review-g187497-d1114210-Reviews-La...</td>\n",
       "      <td>d1114210</td>\n",
       "      <td>NaN</td>\n",
       "    </tr>\n",
       "    <tr>\n",
       "      <td>18854</td>\n",
       "      <td>id_3242</td>\n",
       "      <td>London</td>\n",
       "      <td>['Japanese', 'Vegetarian Friendly']</td>\n",
       "      <td>3249.0</td>\n",
       "      <td>$$ - $$$</td>\n",
       "      <td>16.0</td>\n",
       "      <td>[['Best Ramen I’ve had outside of Japan!', 'Th...</td>\n",
       "      <td>/Restaurant_Review-g186338-d12874584-Reviews-M...</td>\n",
       "      <td>d12874584</td>\n",
       "      <td>5.0</td>\n",
       "    </tr>\n",
       "    <tr>\n",
       "      <td>19854</td>\n",
       "      <td>id_3242</td>\n",
       "      <td>Vienna</td>\n",
       "      <td>['Italian', 'Pizza', 'Grill']</td>\n",
       "      <td>3244.0</td>\n",
       "      <td>$$ - $$$</td>\n",
       "      <td>6.0</td>\n",
       "      <td>[['A place to enjoy eating any time of the da....</td>\n",
       "      <td>/Restaurant_Review-g190454-d6827920-Reviews-De...</td>\n",
       "      <td>d6827920</td>\n",
       "      <td>3.0</td>\n",
       "    </tr>\n",
       "    <tr>\n",
       "      <td>22465</td>\n",
       "      <td>id_3242</td>\n",
       "      <td>Prague</td>\n",
       "      <td>['Czech', 'Bar', 'European']</td>\n",
       "      <td>3249.0</td>\n",
       "      <td>$$ - $$$</td>\n",
       "      <td>30.0</td>\n",
       "      <td>[['Not worth it', 'Eating Good With the locals...</td>\n",
       "      <td>/Restaurant_Review-g274707-d3598472-Reviews-U_...</td>\n",
       "      <td>d3598472</td>\n",
       "      <td>4.0</td>\n",
       "    </tr>\n",
       "    <tr>\n",
       "      <td>35798</td>\n",
       "      <td>id_3242</td>\n",
       "      <td>Berlin</td>\n",
       "      <td>NaN</td>\n",
       "      <td>3244.0</td>\n",
       "      <td>NaN</td>\n",
       "      <td>3.0</td>\n",
       "      <td>[['Friendly and quirky bar', 'POSH Teckel'], [...</td>\n",
       "      <td>/Restaurant_Review-g187323-d7251843-Reviews-Po...</td>\n",
       "      <td>d7251843</td>\n",
       "      <td>5.0</td>\n",
       "    </tr>\n",
       "    <tr>\n",
       "      <td>43832</td>\n",
       "      <td>id_3242</td>\n",
       "      <td>Lisbon</td>\n",
       "      <td>NaN</td>\n",
       "      <td>3246.0</td>\n",
       "      <td>NaN</td>\n",
       "      <td>10.0</td>\n",
       "      <td>[['Alright', 'Pao de Deus is my new favorite']...</td>\n",
       "      <td>/Restaurant_Review-g189158-d10248474-Reviews-P...</td>\n",
       "      <td>d10248474</td>\n",
       "      <td>3.5</td>\n",
       "    </tr>\n",
       "    <tr>\n",
       "      <td>48946</td>\n",
       "      <td>id_3242</td>\n",
       "      <td>Madrid</td>\n",
       "      <td>NaN</td>\n",
       "      <td>3244.0</td>\n",
       "      <td>NaN</td>\n",
       "      <td>13.0</td>\n",
       "      <td>[[], []]</td>\n",
       "      <td>/Restaurant_Review-g187514-d10047799-Reviews-E...</td>\n",
       "      <td>d10047799</td>\n",
       "      <td>5.0</td>\n",
       "    </tr>\n",
       "  </tbody>\n",
       "</table>\n",
       "</div>"
      ],
      "text/plain": [
       "      Restaurant_id       City                        Cuisine Style  Ranking  \\\n",
       "3242        id_3242  Barcelona                        ['Fast Food']   7709.0   \n",
       "18854       id_3242     London  ['Japanese', 'Vegetarian Friendly']   3249.0   \n",
       "19854       id_3242     Vienna        ['Italian', 'Pizza', 'Grill']   3244.0   \n",
       "22465       id_3242     Prague         ['Czech', 'Bar', 'European']   3249.0   \n",
       "35798       id_3242     Berlin                                  NaN   3244.0   \n",
       "43832       id_3242     Lisbon                                  NaN   3246.0   \n",
       "48946       id_3242     Madrid                                  NaN   3244.0   \n",
       "\n",
       "      Price Range  Number of Reviews  \\\n",
       "3242          NaN              185.0   \n",
       "18854    $$ - $$$               16.0   \n",
       "19854    $$ - $$$                6.0   \n",
       "22465    $$ - $$$               30.0   \n",
       "35798         NaN                3.0   \n",
       "43832         NaN               10.0   \n",
       "48946         NaN               13.0   \n",
       "\n",
       "                                                 Reviews  \\\n",
       "3242   [['Bad service and food', 'Ripoff, avoid at al...   \n",
       "18854  [['Best Ramen I’ve had outside of Japan!', 'Th...   \n",
       "19854  [['A place to enjoy eating any time of the da....   \n",
       "22465  [['Not worth it', 'Eating Good With the locals...   \n",
       "35798  [['Friendly and quirky bar', 'POSH Teckel'], [...   \n",
       "43832  [['Alright', 'Pao de Deus is my new favorite']...   \n",
       "48946                                           [[], []]   \n",
       "\n",
       "                                                  URL_TA      ID_TA  Rating  \n",
       "3242   /Restaurant_Review-g187497-d1114210-Reviews-La...   d1114210     NaN  \n",
       "18854  /Restaurant_Review-g186338-d12874584-Reviews-M...  d12874584     5.0  \n",
       "19854  /Restaurant_Review-g190454-d6827920-Reviews-De...   d6827920     3.0  \n",
       "22465  /Restaurant_Review-g274707-d3598472-Reviews-U_...   d3598472     4.0  \n",
       "35798  /Restaurant_Review-g187323-d7251843-Reviews-Po...   d7251843     5.0  \n",
       "43832  /Restaurant_Review-g189158-d10248474-Reviews-P...  d10248474     3.5  \n",
       "48946  /Restaurant_Review-g187514-d10047799-Reviews-E...  d10047799     5.0  "
      ]
     },
     "execution_count": 459,
     "metadata": {},
     "output_type": "execute_result"
    }
   ],
   "source": [
    "df.loc[df['Restaurant_id']=='id_3242']"
   ]
  },
  {
   "cell_type": "code",
   "execution_count": null,
   "metadata": {},
   "outputs": [],
   "source": []
  },
  {
   "cell_type": "code",
   "execution_count": null,
   "metadata": {},
   "outputs": [],
   "source": []
  },
  {
   "cell_type": "code",
   "execution_count": null,
   "metadata": {},
   "outputs": [],
   "source": []
  },
  {
   "cell_type": "code",
   "execution_count": null,
   "metadata": {},
   "outputs": [],
   "source": []
  },
  {
   "cell_type": "code",
   "execution_count": null,
   "metadata": {},
   "outputs": [],
   "source": []
  },
  {
   "cell_type": "code",
   "execution_count": null,
   "metadata": {},
   "outputs": [],
   "source": []
  },
  {
   "cell_type": "code",
   "execution_count": 45,
   "metadata": {
    "scrolled": true
   },
   "outputs": [
    {
     "data": {
      "text/plain": [
       "id_871      19\n",
       "id_227      19\n",
       "id_633      19\n",
       "id_436      19\n",
       "id_430      18\n",
       "            ..\n",
       "id_14292     1\n",
       "id_13443     1\n",
       "id_8595      1\n",
       "id_8409      1\n",
       "id_9215      1\n",
       "Name: Restaurant_id, Length: 13094, dtype: int64"
      ]
     },
     "execution_count": 45,
     "metadata": {},
     "output_type": "execute_result"
    }
   ],
   "source": [
    "df['Restaurant_id'].value_counts(dropna=True)"
   ]
  },
  {
   "cell_type": "code",
   "execution_count": null,
   "metadata": {},
   "outputs": [],
   "source": [
    "dfXXX = pd.DataFrame(columns=df.columns)\n",
    "\n",
    "traku =  df.loc[df['URL_TA']=='/Restaurant_Review-g187514-d9877640-Reviews-Raku_Sushi-Madrid.html']\n",
    "\n",
    "for i in range(0, len(traku_c)-1):\n",
    "    #print(i)\n",
    "    irow = traku_c.iloc[i]\n",
    "    for j in range(i+1, len(traku_c)):\n",
    "        #print(j)\n",
    "        jrow = traku_c.iloc[j]\n",
    "        diffrow = irow.copy()\n",
    "        for nn in traku_c.columns:\n",
    "            if (irow[nn] != jrow[nn]):\n",
    "                diffrow[nn] = str(irow[nn]) + ' XXX ' + str(jrow[nn])\n",
    "            else:\n",
    "                diffrow[nn] = \"\"\n",
    "        \n",
    "        dfXXX = dfXXX.append(diffrow)\n",
    "        #print(diffrow)\n",
    "dfXXX = dfXXX.reset_index()\n",
    "print(dfXXX)"
   ]
  },
  {
   "cell_type": "code",
   "execution_count": null,
   "metadata": {},
   "outputs": [],
   "source": []
  },
  {
   "cell_type": "code",
   "execution_count": 274,
   "metadata": {},
   "outputs": [
    {
     "data": {
      "text/plain": [
       "2"
      ]
     },
     "execution_count": 274,
     "metadata": {},
     "output_type": "execute_result"
    }
   ],
   "source": [
    "vc_sv.loc['/Restaurant_Review-g187514-d11698990-Reviews-Verdello_Restaurante-Madrid.html']"
   ]
  },
  {
   "cell_type": "code",
   "execution_count": 273,
   "metadata": {},
   "outputs": [
    {
     "name": "stderr",
     "output_type": "stream",
     "text": [
      "C:\\ProgramData\\Anaconda3\\lib\\site-packages\\ipykernel_launcher.py:1: UserWarning: Boolean Series key will be reindexed to match DataFrame index.\n",
      "  \"\"\"Entry point for launching an IPython kernel.\n"
     ]
    },
    {
     "ename": "ValueError",
     "evalue": "cannot reindex from a duplicate axis",
     "output_type": "error",
     "traceback": [
      "\u001b[1;31m---------------------------------------------------------------------------\u001b[0m",
      "\u001b[1;31mValueError\u001b[0m                                Traceback (most recent call last)",
      "\u001b[1;32m<ipython-input-273-28f0014d690f>\u001b[0m in \u001b[0;36m<module>\u001b[1;34m\u001b[0m\n\u001b[1;32m----> 1\u001b[1;33m \u001b[0msub_df_by_url\u001b[0m \u001b[1;33m=\u001b[0m \u001b[0mdf\u001b[0m\u001b[1;33m[\u001b[0m\u001b[0mvc_sv\u001b[0m\u001b[1;33m.\u001b[0m\u001b[0mloc\u001b[0m\u001b[1;33m[\u001b[0m\u001b[0mdf\u001b[0m\u001b[1;33m[\u001b[0m\u001b[1;34m'URL_TA'\u001b[0m\u001b[1;33m]\u001b[0m\u001b[1;33m]\u001b[0m\u001b[1;33m>\u001b[0m\u001b[1;36m1\u001b[0m\u001b[1;33m]\u001b[0m\u001b[1;33m\u001b[0m\u001b[1;33m\u001b[0m\u001b[0m\n\u001b[0m",
      "\u001b[1;32mC:\\ProgramData\\Anaconda3\\lib\\site-packages\\pandas\\core\\frame.py\u001b[0m in \u001b[0;36m__getitem__\u001b[1;34m(self, key)\u001b[0m\n\u001b[0;32m   2969\u001b[0m         \u001b[1;31m# Do we have a (boolean) 1d indexer?\u001b[0m\u001b[1;33m\u001b[0m\u001b[1;33m\u001b[0m\u001b[1;33m\u001b[0m\u001b[0m\n\u001b[0;32m   2970\u001b[0m         \u001b[1;32mif\u001b[0m \u001b[0mcom\u001b[0m\u001b[1;33m.\u001b[0m\u001b[0mis_bool_indexer\u001b[0m\u001b[1;33m(\u001b[0m\u001b[0mkey\u001b[0m\u001b[1;33m)\u001b[0m\u001b[1;33m:\u001b[0m\u001b[1;33m\u001b[0m\u001b[1;33m\u001b[0m\u001b[0m\n\u001b[1;32m-> 2971\u001b[1;33m             \u001b[1;32mreturn\u001b[0m \u001b[0mself\u001b[0m\u001b[1;33m.\u001b[0m\u001b[0m_getitem_bool_array\u001b[0m\u001b[1;33m(\u001b[0m\u001b[0mkey\u001b[0m\u001b[1;33m)\u001b[0m\u001b[1;33m\u001b[0m\u001b[1;33m\u001b[0m\u001b[0m\n\u001b[0m\u001b[0;32m   2972\u001b[0m \u001b[1;33m\u001b[0m\u001b[0m\n\u001b[0;32m   2973\u001b[0m         \u001b[1;31m# We are left with two options: a single key, and a collection of keys,\u001b[0m\u001b[1;33m\u001b[0m\u001b[1;33m\u001b[0m\u001b[1;33m\u001b[0m\u001b[0m\n",
      "\u001b[1;32mC:\\ProgramData\\Anaconda3\\lib\\site-packages\\pandas\\core\\frame.py\u001b[0m in \u001b[0;36m_getitem_bool_array\u001b[1;34m(self, key)\u001b[0m\n\u001b[0;32m   3021\u001b[0m         \u001b[1;31m# check_bool_indexer will throw exception if Series key cannot\u001b[0m\u001b[1;33m\u001b[0m\u001b[1;33m\u001b[0m\u001b[1;33m\u001b[0m\u001b[0m\n\u001b[0;32m   3022\u001b[0m         \u001b[1;31m# be reindexed to match DataFrame rows\u001b[0m\u001b[1;33m\u001b[0m\u001b[1;33m\u001b[0m\u001b[1;33m\u001b[0m\u001b[0m\n\u001b[1;32m-> 3023\u001b[1;33m         \u001b[0mkey\u001b[0m \u001b[1;33m=\u001b[0m \u001b[0mcheck_bool_indexer\u001b[0m\u001b[1;33m(\u001b[0m\u001b[0mself\u001b[0m\u001b[1;33m.\u001b[0m\u001b[0mindex\u001b[0m\u001b[1;33m,\u001b[0m \u001b[0mkey\u001b[0m\u001b[1;33m)\u001b[0m\u001b[1;33m\u001b[0m\u001b[1;33m\u001b[0m\u001b[0m\n\u001b[0m\u001b[0;32m   3024\u001b[0m         \u001b[0mindexer\u001b[0m \u001b[1;33m=\u001b[0m \u001b[0mkey\u001b[0m\u001b[1;33m.\u001b[0m\u001b[0mnonzero\u001b[0m\u001b[1;33m(\u001b[0m\u001b[1;33m)\u001b[0m\u001b[1;33m[\u001b[0m\u001b[1;36m0\u001b[0m\u001b[1;33m]\u001b[0m\u001b[1;33m\u001b[0m\u001b[1;33m\u001b[0m\u001b[0m\n\u001b[0;32m   3025\u001b[0m         \u001b[1;32mreturn\u001b[0m \u001b[0mself\u001b[0m\u001b[1;33m.\u001b[0m\u001b[0mtake\u001b[0m\u001b[1;33m(\u001b[0m\u001b[0mindexer\u001b[0m\u001b[1;33m,\u001b[0m \u001b[0maxis\u001b[0m\u001b[1;33m=\u001b[0m\u001b[1;36m0\u001b[0m\u001b[1;33m)\u001b[0m\u001b[1;33m\u001b[0m\u001b[1;33m\u001b[0m\u001b[0m\n",
      "\u001b[1;32mC:\\ProgramData\\Anaconda3\\lib\\site-packages\\pandas\\core\\indexing.py\u001b[0m in \u001b[0;36mcheck_bool_indexer\u001b[1;34m(index, key)\u001b[0m\n\u001b[0;32m   2405\u001b[0m     \u001b[0mresult\u001b[0m \u001b[1;33m=\u001b[0m \u001b[0mkey\u001b[0m\u001b[1;33m\u001b[0m\u001b[1;33m\u001b[0m\u001b[0m\n\u001b[0;32m   2406\u001b[0m     \u001b[1;32mif\u001b[0m \u001b[0misinstance\u001b[0m\u001b[1;33m(\u001b[0m\u001b[0mkey\u001b[0m\u001b[1;33m,\u001b[0m \u001b[0mABCSeries\u001b[0m\u001b[1;33m)\u001b[0m \u001b[1;32mand\u001b[0m \u001b[1;32mnot\u001b[0m \u001b[0mkey\u001b[0m\u001b[1;33m.\u001b[0m\u001b[0mindex\u001b[0m\u001b[1;33m.\u001b[0m\u001b[0mequals\u001b[0m\u001b[1;33m(\u001b[0m\u001b[0mindex\u001b[0m\u001b[1;33m)\u001b[0m\u001b[1;33m:\u001b[0m\u001b[1;33m\u001b[0m\u001b[1;33m\u001b[0m\u001b[0m\n\u001b[1;32m-> 2407\u001b[1;33m         \u001b[0mresult\u001b[0m \u001b[1;33m=\u001b[0m \u001b[0mresult\u001b[0m\u001b[1;33m.\u001b[0m\u001b[0mreindex\u001b[0m\u001b[1;33m(\u001b[0m\u001b[0mindex\u001b[0m\u001b[1;33m)\u001b[0m\u001b[1;33m\u001b[0m\u001b[1;33m\u001b[0m\u001b[0m\n\u001b[0m\u001b[0;32m   2408\u001b[0m         \u001b[0mmask\u001b[0m \u001b[1;33m=\u001b[0m \u001b[0misna\u001b[0m\u001b[1;33m(\u001b[0m\u001b[0mresult\u001b[0m\u001b[1;33m.\u001b[0m\u001b[0m_values\u001b[0m\u001b[1;33m)\u001b[0m\u001b[1;33m\u001b[0m\u001b[1;33m\u001b[0m\u001b[0m\n\u001b[0;32m   2409\u001b[0m         \u001b[1;32mif\u001b[0m \u001b[0mmask\u001b[0m\u001b[1;33m.\u001b[0m\u001b[0many\u001b[0m\u001b[1;33m(\u001b[0m\u001b[1;33m)\u001b[0m\u001b[1;33m:\u001b[0m\u001b[1;33m\u001b[0m\u001b[1;33m\u001b[0m\u001b[0m\n",
      "\u001b[1;32mC:\\ProgramData\\Anaconda3\\lib\\site-packages\\pandas\\core\\series.py\u001b[0m in \u001b[0;36mreindex\u001b[1;34m(self, index, **kwargs)\u001b[0m\n\u001b[0;32m   4216\u001b[0m     \u001b[1;33m@\u001b[0m\u001b[0mAppender\u001b[0m\u001b[1;33m(\u001b[0m\u001b[0mgeneric\u001b[0m\u001b[1;33m.\u001b[0m\u001b[0mNDFrame\u001b[0m\u001b[1;33m.\u001b[0m\u001b[0mreindex\u001b[0m\u001b[1;33m.\u001b[0m\u001b[0m__doc__\u001b[0m\u001b[1;33m)\u001b[0m\u001b[1;33m\u001b[0m\u001b[1;33m\u001b[0m\u001b[0m\n\u001b[0;32m   4217\u001b[0m     \u001b[1;32mdef\u001b[0m \u001b[0mreindex\u001b[0m\u001b[1;33m(\u001b[0m\u001b[0mself\u001b[0m\u001b[1;33m,\u001b[0m \u001b[0mindex\u001b[0m\u001b[1;33m=\u001b[0m\u001b[1;32mNone\u001b[0m\u001b[1;33m,\u001b[0m \u001b[1;33m**\u001b[0m\u001b[0mkwargs\u001b[0m\u001b[1;33m)\u001b[0m\u001b[1;33m:\u001b[0m\u001b[1;33m\u001b[0m\u001b[1;33m\u001b[0m\u001b[0m\n\u001b[1;32m-> 4218\u001b[1;33m         \u001b[1;32mreturn\u001b[0m \u001b[0msuper\u001b[0m\u001b[1;33m(\u001b[0m\u001b[1;33m)\u001b[0m\u001b[1;33m.\u001b[0m\u001b[0mreindex\u001b[0m\u001b[1;33m(\u001b[0m\u001b[0mindex\u001b[0m\u001b[1;33m=\u001b[0m\u001b[0mindex\u001b[0m\u001b[1;33m,\u001b[0m \u001b[1;33m**\u001b[0m\u001b[0mkwargs\u001b[0m\u001b[1;33m)\u001b[0m\u001b[1;33m\u001b[0m\u001b[1;33m\u001b[0m\u001b[0m\n\u001b[0m\u001b[0;32m   4219\u001b[0m \u001b[1;33m\u001b[0m\u001b[0m\n\u001b[0;32m   4220\u001b[0m     def drop(\n",
      "\u001b[1;32mC:\\ProgramData\\Anaconda3\\lib\\site-packages\\pandas\\core\\generic.py\u001b[0m in \u001b[0;36mreindex\u001b[1;34m(self, *args, **kwargs)\u001b[0m\n\u001b[0;32m   4512\u001b[0m         \u001b[1;31m# perform the reindex on the axes\u001b[0m\u001b[1;33m\u001b[0m\u001b[1;33m\u001b[0m\u001b[1;33m\u001b[0m\u001b[0m\n\u001b[0;32m   4513\u001b[0m         return self._reindex_axes(\n\u001b[1;32m-> 4514\u001b[1;33m             \u001b[0maxes\u001b[0m\u001b[1;33m,\u001b[0m \u001b[0mlevel\u001b[0m\u001b[1;33m,\u001b[0m \u001b[0mlimit\u001b[0m\u001b[1;33m,\u001b[0m \u001b[0mtolerance\u001b[0m\u001b[1;33m,\u001b[0m \u001b[0mmethod\u001b[0m\u001b[1;33m,\u001b[0m \u001b[0mfill_value\u001b[0m\u001b[1;33m,\u001b[0m \u001b[0mcopy\u001b[0m\u001b[1;33m\u001b[0m\u001b[1;33m\u001b[0m\u001b[0m\n\u001b[0m\u001b[0;32m   4515\u001b[0m         ).__finalize__(self)\n\u001b[0;32m   4516\u001b[0m \u001b[1;33m\u001b[0m\u001b[0m\n",
      "\u001b[1;32mC:\\ProgramData\\Anaconda3\\lib\\site-packages\\pandas\\core\\generic.py\u001b[0m in \u001b[0;36m_reindex_axes\u001b[1;34m(self, axes, level, limit, tolerance, method, fill_value, copy)\u001b[0m\n\u001b[0;32m   4533\u001b[0m                 \u001b[0mfill_value\u001b[0m\u001b[1;33m=\u001b[0m\u001b[0mfill_value\u001b[0m\u001b[1;33m,\u001b[0m\u001b[1;33m\u001b[0m\u001b[1;33m\u001b[0m\u001b[0m\n\u001b[0;32m   4534\u001b[0m                 \u001b[0mcopy\u001b[0m\u001b[1;33m=\u001b[0m\u001b[0mcopy\u001b[0m\u001b[1;33m,\u001b[0m\u001b[1;33m\u001b[0m\u001b[1;33m\u001b[0m\u001b[0m\n\u001b[1;32m-> 4535\u001b[1;33m                 \u001b[0mallow_dups\u001b[0m\u001b[1;33m=\u001b[0m\u001b[1;32mFalse\u001b[0m\u001b[1;33m,\u001b[0m\u001b[1;33m\u001b[0m\u001b[1;33m\u001b[0m\u001b[0m\n\u001b[0m\u001b[0;32m   4536\u001b[0m             )\n\u001b[0;32m   4537\u001b[0m \u001b[1;33m\u001b[0m\u001b[0m\n",
      "\u001b[1;32mC:\\ProgramData\\Anaconda3\\lib\\site-packages\\pandas\\core\\generic.py\u001b[0m in \u001b[0;36m_reindex_with_indexers\u001b[1;34m(self, reindexers, fill_value, copy, allow_dups)\u001b[0m\n\u001b[0;32m   4575\u001b[0m                 \u001b[0mfill_value\u001b[0m\u001b[1;33m=\u001b[0m\u001b[0mfill_value\u001b[0m\u001b[1;33m,\u001b[0m\u001b[1;33m\u001b[0m\u001b[1;33m\u001b[0m\u001b[0m\n\u001b[0;32m   4576\u001b[0m                 \u001b[0mallow_dups\u001b[0m\u001b[1;33m=\u001b[0m\u001b[0mallow_dups\u001b[0m\u001b[1;33m,\u001b[0m\u001b[1;33m\u001b[0m\u001b[1;33m\u001b[0m\u001b[0m\n\u001b[1;32m-> 4577\u001b[1;33m                 \u001b[0mcopy\u001b[0m\u001b[1;33m=\u001b[0m\u001b[0mcopy\u001b[0m\u001b[1;33m,\u001b[0m\u001b[1;33m\u001b[0m\u001b[1;33m\u001b[0m\u001b[0m\n\u001b[0m\u001b[0;32m   4578\u001b[0m             )\n\u001b[0;32m   4579\u001b[0m \u001b[1;33m\u001b[0m\u001b[0m\n",
      "\u001b[1;32mC:\\ProgramData\\Anaconda3\\lib\\site-packages\\pandas\\core\\internals\\managers.py\u001b[0m in \u001b[0;36mreindex_indexer\u001b[1;34m(self, new_axis, indexer, axis, fill_value, allow_dups, copy)\u001b[0m\n\u001b[0;32m   1249\u001b[0m         \u001b[1;31m# some axes don't allow reindexing with dups\u001b[0m\u001b[1;33m\u001b[0m\u001b[1;33m\u001b[0m\u001b[1;33m\u001b[0m\u001b[0m\n\u001b[0;32m   1250\u001b[0m         \u001b[1;32mif\u001b[0m \u001b[1;32mnot\u001b[0m \u001b[0mallow_dups\u001b[0m\u001b[1;33m:\u001b[0m\u001b[1;33m\u001b[0m\u001b[1;33m\u001b[0m\u001b[0m\n\u001b[1;32m-> 1251\u001b[1;33m             \u001b[0mself\u001b[0m\u001b[1;33m.\u001b[0m\u001b[0maxes\u001b[0m\u001b[1;33m[\u001b[0m\u001b[0maxis\u001b[0m\u001b[1;33m]\u001b[0m\u001b[1;33m.\u001b[0m\u001b[0m_can_reindex\u001b[0m\u001b[1;33m(\u001b[0m\u001b[0mindexer\u001b[0m\u001b[1;33m)\u001b[0m\u001b[1;33m\u001b[0m\u001b[1;33m\u001b[0m\u001b[0m\n\u001b[0m\u001b[0;32m   1252\u001b[0m \u001b[1;33m\u001b[0m\u001b[0m\n\u001b[0;32m   1253\u001b[0m         \u001b[1;32mif\u001b[0m \u001b[0maxis\u001b[0m \u001b[1;33m>=\u001b[0m \u001b[0mself\u001b[0m\u001b[1;33m.\u001b[0m\u001b[0mndim\u001b[0m\u001b[1;33m:\u001b[0m\u001b[1;33m\u001b[0m\u001b[1;33m\u001b[0m\u001b[0m\n",
      "\u001b[1;32mC:\\ProgramData\\Anaconda3\\lib\\site-packages\\pandas\\core\\indexes\\base.py\u001b[0m in \u001b[0;36m_can_reindex\u001b[1;34m(self, indexer)\u001b[0m\n\u001b[0;32m   3360\u001b[0m         \u001b[1;31m# trying to reindex on an axis with duplicates\u001b[0m\u001b[1;33m\u001b[0m\u001b[1;33m\u001b[0m\u001b[1;33m\u001b[0m\u001b[0m\n\u001b[0;32m   3361\u001b[0m         \u001b[1;32mif\u001b[0m \u001b[1;32mnot\u001b[0m \u001b[0mself\u001b[0m\u001b[1;33m.\u001b[0m\u001b[0mis_unique\u001b[0m \u001b[1;32mand\u001b[0m \u001b[0mlen\u001b[0m\u001b[1;33m(\u001b[0m\u001b[0mindexer\u001b[0m\u001b[1;33m)\u001b[0m\u001b[1;33m:\u001b[0m\u001b[1;33m\u001b[0m\u001b[1;33m\u001b[0m\u001b[0m\n\u001b[1;32m-> 3362\u001b[1;33m             \u001b[1;32mraise\u001b[0m \u001b[0mValueError\u001b[0m\u001b[1;33m(\u001b[0m\u001b[1;34m\"cannot reindex from a duplicate axis\"\u001b[0m\u001b[1;33m)\u001b[0m\u001b[1;33m\u001b[0m\u001b[1;33m\u001b[0m\u001b[0m\n\u001b[0m\u001b[0;32m   3363\u001b[0m \u001b[1;33m\u001b[0m\u001b[0m\n\u001b[0;32m   3364\u001b[0m     \u001b[1;32mdef\u001b[0m \u001b[0mreindex\u001b[0m\u001b[1;33m(\u001b[0m\u001b[0mself\u001b[0m\u001b[1;33m,\u001b[0m \u001b[0mtarget\u001b[0m\u001b[1;33m,\u001b[0m \u001b[0mmethod\u001b[0m\u001b[1;33m=\u001b[0m\u001b[1;32mNone\u001b[0m\u001b[1;33m,\u001b[0m \u001b[0mlevel\u001b[0m\u001b[1;33m=\u001b[0m\u001b[1;32mNone\u001b[0m\u001b[1;33m,\u001b[0m \u001b[0mlimit\u001b[0m\u001b[1;33m=\u001b[0m\u001b[1;32mNone\u001b[0m\u001b[1;33m,\u001b[0m \u001b[0mtolerance\u001b[0m\u001b[1;33m=\u001b[0m\u001b[1;32mNone\u001b[0m\u001b[1;33m)\u001b[0m\u001b[1;33m:\u001b[0m\u001b[1;33m\u001b[0m\u001b[1;33m\u001b[0m\u001b[0m\n",
      "\u001b[1;31mValueError\u001b[0m: cannot reindex from a duplicate axis"
     ]
    }
   ],
   "source": [
    "sub_df_by_url = df[vc_sv.loc[df['URL_TA']]>1]"
   ]
  },
  {
   "cell_type": "code",
   "execution_count": null,
   "metadata": {},
   "outputs": [],
   "source": []
  },
  {
   "cell_type": "code",
   "execution_count": 59,
   "metadata": {},
   "outputs": [],
   "source": [
    "tt = df['Restaurant_id'].value_counts(dropna=True)"
   ]
  },
  {
   "cell_type": "code",
   "execution_count": 80,
   "metadata": {},
   "outputs": [
    {
     "data": {
      "text/plain": [
       "(pandas.core.series.Series, 19, id_871    19\n",
       " Name: Restaurant_id, dtype: int64, id_871    19\n",
       " id_227    19\n",
       " id_633    19\n",
       " id_436    19\n",
       " Name: Restaurant_id, dtype: int64)"
      ]
     },
     "execution_count": 80,
     "metadata": {},
     "output_type": "execute_result"
    }
   ],
   "source": [
    "type(tt), tt.loc['id_871'], tt[tt.index == 'id_871'],tt[tt == 19]"
   ]
  },
  {
   "cell_type": "code",
   "execution_count": 65,
   "metadata": {
    "scrolled": true
   },
   "outputs": [
    {
     "data": {
      "text/plain": [
       "<matplotlib.axes._subplots.AxesSubplot at 0x1783ca21308>"
      ]
     },
     "execution_count": 65,
     "metadata": {},
     "output_type": "execute_result"
    },
    {
     "data": {
      "image/png": "[encoded data removed]",
      "text/plain": [
       "<Figure size 1080x360 with 1 Axes>"
      ]
     },
     "metadata": {
      "needs_background": "light"
     },
     "output_type": "display_data"
    }
   ],
   "source": [
    "df['Restaurant_id'].value_counts(dropna=True).hist(bins=19, figsize=(15,5))"
   ]
  },
  {
   "cell_type": "code",
   "execution_count": 81,
   "metadata": {},
   "outputs": [
    {
     "data": {
      "text/plain": [
       "(3.0, 3.81854284405071)"
      ]
     },
     "execution_count": 81,
     "metadata": {},
     "output_type": "execute_result"
    }
   ],
   "source": [
    "tt.median(), tt.mean()"
   ]
  },
  {
   "cell_type": "code",
   "execution_count": 82,
   "metadata": {},
   "outputs": [
    {
     "data": {
      "text/plain": [
       "count    13094.000000\n",
       "mean         3.818543\n",
       "std          3.379358\n",
       "min          1.000000\n",
       "25%          1.000000\n",
       "50%          3.000000\n",
       "75%          5.000000\n",
       "max         19.000000\n",
       "Name: Restaurant_id, dtype: float64"
      ]
     },
     "execution_count": 82,
     "metadata": {},
     "output_type": "execute_result"
    }
   ],
   "source": [
    "tt.describe()"
   ]
  },
  {
   "cell_type": "code",
   "execution_count": 73,
   "metadata": {},
   "outputs": [
    {
     "data": {
      "text/plain": [
       "1     3807\n",
       "2     2555\n",
       "3     1845\n",
       "4     1226\n",
       "5      812\n",
       "6      514\n",
       "7      413\n",
       "8      384\n",
       "10     332\n",
       "9      311\n",
       "11     255\n",
       "12     221\n",
       "13     151\n",
       "14     129\n",
       "15      74\n",
       "16      37\n",
       "17      18\n",
       "18       6\n",
       "19       4\n",
       "Name: Restaurant_id, dtype: int64"
      ]
     },
     "execution_count": 73,
     "metadata": {},
     "output_type": "execute_result"
    }
   ],
   "source": [
    "yy = tt.value_counts()\n",
    "yy"
   ]
  },
  {
   "cell_type": "code",
   "execution_count": null,
   "metadata": {},
   "outputs": [],
   "source": []
  },
  {
   "cell_type": "code",
   "execution_count": null,
   "metadata": {},
   "outputs": [],
   "source": []
  },
  {
   "cell_type": "code",
   "execution_count": null,
   "metadata": {},
   "outputs": [],
   "source": []
  },
  {
   "cell_type": "code",
   "execution_count": null,
   "metadata": {},
   "outputs": [],
   "source": []
  },
  {
   "cell_type": "code",
   "execution_count": null,
   "metadata": {},
   "outputs": [],
   "source": []
  },
  {
   "cell_type": "code",
   "execution_count": null,
   "metadata": {},
   "outputs": [],
   "source": []
  },
  {
   "cell_type": "code",
   "execution_count": null,
   "metadata": {},
   "outputs": [],
   "source": []
  },
  {
   "cell_type": "code",
   "execution_count": 46,
   "metadata": {},
   "outputs": [
    {
     "data": {
      "text/plain": [
       "$$ - $$$    23041\n",
       "NaN         17361\n",
       "$            7816\n",
       "$$$$         1782\n",
       "Name: Price Range, dtype: int64"
      ]
     },
     "execution_count": 46,
     "metadata": {},
     "output_type": "execute_result"
    }
   ],
   "source": [
    "df['Price Range'].value_counts(dropna=False)"
   ]
  },
  {
   "cell_type": "code",
   "execution_count": 47,
   "metadata": {},
   "outputs": [
    {
     "data": {
      "text/plain": [
       "$$ - $$$    23041\n",
       "$            7816\n",
       "$$$$         1782\n",
       "Name: Price Range, dtype: int64"
      ]
     },
     "execution_count": 47,
     "metadata": {},
     "output_type": "execute_result"
    }
   ],
   "source": [
    "df['Price Range'].value_counts(dropna=True)"
   ]
  },
  {
   "cell_type": "code",
   "execution_count": 48,
   "metadata": {},
   "outputs": [
    {
     "data": {
      "text/plain": [
       "50000"
      ]
     },
     "execution_count": 48,
     "metadata": {},
     "output_type": "execute_result"
    }
   ],
   "source": [
    "df['Price Range'].value_counts(dropna=False).sum()"
   ]
  },
  {
   "cell_type": "code",
   "execution_count": 49,
   "metadata": {},
   "outputs": [
    {
     "data": {
      "text/plain": [
       "32639"
      ]
     },
     "execution_count": 49,
     "metadata": {},
     "output_type": "execute_result"
    }
   ],
   "source": [
    "df['Price Range'].value_counts(dropna=True).sum()"
   ]
  },
  {
   "cell_type": "code",
   "execution_count": null,
   "metadata": {},
   "outputs": [],
   "source": []
  },
  {
   "cell_type": "code",
   "execution_count": null,
   "metadata": {},
   "outputs": [],
   "source": []
  },
  {
   "cell_type": "code",
   "execution_count": 83,
   "metadata": {},
   "outputs": [
    {
     "data": {
      "text/plain": [
       "/Restaurant_Review-g187514-d9877640-Reviews-Raku_Sushi-Madrid.html                        2\n",
       "/Restaurant_Review-g187514-d13002276-Reviews-Delish_Vegan_Doughnuts-Madrid.html           2\n",
       "/Restaurant_Review-g187514-d1568045-Reviews-Restaurante_Lateral_Santa_Ana-Madrid.html     2\n",
       "/Restaurant_Review-g187514-d7827387-Reviews-El_Gusto_Es_Nuestro-Madrid.html               2\n",
       "/Restaurant_Review-g187514-d3647024-Reviews-La_Zamorana-Madrid.html                       2\n",
       "                                                                                         ..\n",
       "/Restaurant_Review-g187147-d12438151-Reviews-A_Mia-Paris_Ile_de_France.html               1\n",
       "/Restaurant_Review-g187147-d3578267-Reviews-L_Apesanteur-Paris_Ile_de_France.html         1\n",
       "/Restaurant_Review-g187323-d13076814-Reviews-La_Vong-Berlin.html                          1\n",
       "/Restaurant_Review-g186338-d2014574-Reviews-Zizzi_Central_St_Giles-London_England.html    1\n",
       "/Restaurant_Review-g187323-d12477034-Reviews-Endorphina_Backkunst-Berlin.html             1\n",
       "Name: URL_TA, Length: 49963, dtype: int64"
      ]
     },
     "execution_count": 83,
     "metadata": {},
     "output_type": "execute_result"
    }
   ],
   "source": [
    "df['URL_TA'].value_counts(dropna=True)"
   ]
  },
  {
   "cell_type": "code",
   "execution_count": 84,
   "metadata": {},
   "outputs": [
    {
     "data": {
      "text/plain": [
       "/Restaurant_Review-g187514-d9877640-Reviews-Raku_Sushi-Madrid.html                        2\n",
       "/Restaurant_Review-g187514-d13002276-Reviews-Delish_Vegan_Doughnuts-Madrid.html           2\n",
       "/Restaurant_Review-g187514-d1568045-Reviews-Restaurante_Lateral_Santa_Ana-Madrid.html     2\n",
       "/Restaurant_Review-g187514-d7827387-Reviews-El_Gusto_Es_Nuestro-Madrid.html               2\n",
       "/Restaurant_Review-g187514-d3647024-Reviews-La_Zamorana-Madrid.html                       2\n",
       "                                                                                         ..\n",
       "/Restaurant_Review-g187147-d12438151-Reviews-A_Mia-Paris_Ile_de_France.html               1\n",
       "/Restaurant_Review-g187147-d3578267-Reviews-L_Apesanteur-Paris_Ile_de_France.html         1\n",
       "/Restaurant_Review-g187323-d13076814-Reviews-La_Vong-Berlin.html                          1\n",
       "/Restaurant_Review-g186338-d2014574-Reviews-Zizzi_Central_St_Giles-London_England.html    1\n",
       "/Restaurant_Review-g187323-d12477034-Reviews-Endorphina_Backkunst-Berlin.html             1\n",
       "Name: URL_TA, Length: 49963, dtype: int64"
      ]
     },
     "execution_count": 84,
     "metadata": {},
     "output_type": "execute_result"
    }
   ],
   "source": [
    "df['URL_TA'].value_counts(dropna=False)"
   ]
  },
  {
   "cell_type": "code",
   "execution_count": 119,
   "metadata": {},
   "outputs": [
    {
     "data": {
      "text/plain": [
       "50000"
      ]
     },
     "execution_count": 119,
     "metadata": {},
     "output_type": "execute_result"
    }
   ],
   "source": [
    "df['URL_TA'].value_counts(dropna=False).sum()"
   ]
  },
  {
   "cell_type": "code",
   "execution_count": 108,
   "metadata": {
    "scrolled": true
   },
   "outputs": [
    {
     "data": {
      "text/html": [
       "<div>\n",
       "<style scoped>\n",
       "    .dataframe tbody tr th:only-of-type {\n",
       "        vertical-align: middle;\n",
       "    }\n",
       "\n",
       "    .dataframe tbody tr th {\n",
       "        vertical-align: top;\n",
       "    }\n",
       "\n",
       "    .dataframe thead th {\n",
       "        text-align: right;\n",
       "    }\n",
       "</style>\n",
       "<table border=\"1\" class=\"dataframe\">\n",
       "  <thead>\n",
       "    <tr style=\"text-align: right;\">\n",
       "      <th></th>\n",
       "      <th>Restaurant_id</th>\n",
       "      <th>City</th>\n",
       "      <th>Cuisine Style</th>\n",
       "      <th>Ranking</th>\n",
       "      <th>Price Range</th>\n",
       "      <th>Number of Reviews</th>\n",
       "      <th>Reviews</th>\n",
       "      <th>URL_TA</th>\n",
       "      <th>ID_TA</th>\n",
       "      <th>Rating</th>\n",
       "    </tr>\n",
       "  </thead>\n",
       "  <tbody>\n",
       "    <tr>\n",
       "      <td>25295</td>\n",
       "      <td>id_475</td>\n",
       "      <td>Madrid</td>\n",
       "      <td>['Japanese', 'Vegetarian Friendly', 'Vegan Opt...</td>\n",
       "      <td>476.0</td>\n",
       "      <td>$$ - $$$</td>\n",
       "      <td>67.0</td>\n",
       "      <td>[['Whenever in Madrid, we never miss this gem....</td>\n",
       "      <td>/Restaurant_Review-g187514-d9877640-Reviews-Ra...</td>\n",
       "      <td>d9877640</td>\n",
       "      <td>4.5</td>\n",
       "    </tr>\n",
       "    <tr>\n",
       "      <td>25565</td>\n",
       "      <td>id_530</td>\n",
       "      <td>Madrid</td>\n",
       "      <td>['Japanese', 'Vegetarian Friendly', 'Vegan Opt...</td>\n",
       "      <td>531.0</td>\n",
       "      <td>$$ - $$$</td>\n",
       "      <td>67.0</td>\n",
       "      <td>[['Whenever in Madrid, we never miss this gem....</td>\n",
       "      <td>/Restaurant_Review-g187514-d9877640-Reviews-Ra...</td>\n",
       "      <td>d9877640</td>\n",
       "      <td>4.5</td>\n",
       "    </tr>\n",
       "  </tbody>\n",
       "</table>\n",
       "</div>"
      ],
      "text/plain": [
       "      Restaurant_id    City  \\\n",
       "25295        id_475  Madrid   \n",
       "25565        id_530  Madrid   \n",
       "\n",
       "                                           Cuisine Style  Ranking Price Range  \\\n",
       "25295  ['Japanese', 'Vegetarian Friendly', 'Vegan Opt...    476.0    $$ - $$$   \n",
       "25565  ['Japanese', 'Vegetarian Friendly', 'Vegan Opt...    531.0    $$ - $$$   \n",
       "\n",
       "       Number of Reviews                                            Reviews  \\\n",
       "25295               67.0  [['Whenever in Madrid, we never miss this gem....   \n",
       "25565               67.0  [['Whenever in Madrid, we never miss this gem....   \n",
       "\n",
       "                                                  URL_TA     ID_TA  Rating  \n",
       "25295  /Restaurant_Review-g187514-d9877640-Reviews-Ra...  d9877640     4.5  \n",
       "25565  /Restaurant_Review-g187514-d9877640-Reviews-Ra...  d9877640     4.5  "
      ]
     },
     "execution_count": 108,
     "metadata": {},
     "output_type": "execute_result"
    }
   ],
   "source": [
    "traku =  df.loc[df['URL_TA']=='/Restaurant_Review-g187514-d9877640-Reviews-Raku_Sushi-Madrid.html']\n",
    "traku"
   ]
  },
  {
   "cell_type": "code",
   "execution_count": 109,
   "metadata": {
    "scrolled": true
   },
   "outputs": [
    {
     "name": "stdout",
     "output_type": "stream",
     "text": [
      "<class 'pandas.core.frame.DataFrame'>\n",
      "Int64Index: 2 entries, 25295 to 25565\n",
      "Data columns (total 10 columns):\n",
      "Restaurant_id        2 non-null object\n",
      "City                 2 non-null object\n",
      "Cuisine Style        2 non-null object\n",
      "Ranking              2 non-null float64\n",
      "Price Range          2 non-null object\n",
      "Number of Reviews    2 non-null float64\n",
      "Reviews              2 non-null object\n",
      "URL_TA               2 non-null object\n",
      "ID_TA                2 non-null object\n",
      "Rating               2 non-null float64\n",
      "dtypes: float64(3), object(7)\n",
      "memory usage: 176.0+ bytes\n"
     ]
    }
   ],
   "source": [
    "traku.info(verbose=True)"
   ]
  },
  {
   "cell_type": "code",
   "execution_count": 110,
   "metadata": {},
   "outputs": [],
   "source": [
    "traku_c = traku.copy()"
   ]
  },
  {
   "cell_type": "code",
   "execution_count": 111,
   "metadata": {
    "scrolled": true
   },
   "outputs": [
    {
     "data": {
      "text/plain": [
       "10"
      ]
     },
     "execution_count": 111,
     "metadata": {},
     "output_type": "execute_result"
    }
   ],
   "source": [
    "len(traku_c.iloc[0])"
   ]
  },
  {
   "cell_type": "code",
   "execution_count": 112,
   "metadata": {},
   "outputs": [
    {
     "data": {
      "text/plain": [
       "'/Restaurant_Review-g187514-d9877640-Reviews-Raku_Sushi-Madrid.html'"
      ]
     },
     "execution_count": 112,
     "metadata": {},
     "output_type": "execute_result"
    }
   ],
   "source": [
    "traku_c.iloc[0]['URL_TA']"
   ]
  },
  {
   "cell_type": "code",
   "execution_count": 113,
   "metadata": {
    "scrolled": true
   },
   "outputs": [
    {
     "data": {
      "text/plain": [
       "2"
      ]
     },
     "execution_count": 113,
     "metadata": {},
     "output_type": "execute_result"
    }
   ],
   "source": [
    "len(traku_c)"
   ]
  },
  {
   "cell_type": "code",
   "execution_count": 118,
   "metadata": {},
   "outputs": [
    {
     "name": "stdout",
     "output_type": "stream",
     "text": [
      "   index      Restaurant_id City Cuisine Style          Ranking Price Range  \\\n",
      "0  25295  id_475 XXX id_530                     476.0 XXX 531.0               \n",
      "\n",
      "  Number of Reviews Reviews URL_TA ID_TA Rating  \n",
      "0                                                \n"
     ]
    }
   ],
   "source": [
    "dfXXX = pd.DataFrame(columns=traku_c.columns)\n",
    "\n",
    "for i in range(0, len(traku_c)-1):\n",
    "    #print(i)\n",
    "    irow = traku_c.iloc[i]\n",
    "    for j in range(i+1, len(traku_c)):\n",
    "        #print(j)\n",
    "        jrow = traku_c.iloc[j]\n",
    "        diffrow = irow.copy()\n",
    "        for nn in traku_c.columns:\n",
    "            if (irow[nn] != jrow[nn]):\n",
    "                diffrow[nn] = str(irow[nn]) + ' XXX ' + str(jrow[nn])\n",
    "            else:\n",
    "                diffrow[nn] = \"\"\n",
    "        \n",
    "        dfXXX = dfXXX.append(diffrow)\n",
    "        #print(diffrow)\n",
    "dfXXX = dfXXX.reset_index()\n",
    "print(dfXXX)"
   ]
  },
  {
   "cell_type": "code",
   "execution_count": 116,
   "metadata": {},
   "outputs": [
    {
     "data": {
      "text/html": [
       "<div>\n",
       "<style scoped>\n",
       "    .dataframe tbody tr th:only-of-type {\n",
       "        vertical-align: middle;\n",
       "    }\n",
       "\n",
       "    .dataframe tbody tr th {\n",
       "        vertical-align: top;\n",
       "    }\n",
       "\n",
       "    .dataframe thead th {\n",
       "        text-align: right;\n",
       "    }\n",
       "</style>\n",
       "<table border=\"1\" class=\"dataframe\">\n",
       "  <thead>\n",
       "    <tr style=\"text-align: right;\">\n",
       "      <th></th>\n",
       "      <th>Restaurant_id</th>\n",
       "      <th>City</th>\n",
       "      <th>Cuisine Style</th>\n",
       "      <th>Ranking</th>\n",
       "      <th>Price Range</th>\n",
       "      <th>Number of Reviews</th>\n",
       "      <th>Reviews</th>\n",
       "      <th>URL_TA</th>\n",
       "      <th>ID_TA</th>\n",
       "      <th>Rating</th>\n",
       "    </tr>\n",
       "  </thead>\n",
       "  <tbody>\n",
       "    <tr>\n",
       "      <td>25295</td>\n",
       "      <td>id_475 XXX id_530</td>\n",
       "      <td></td>\n",
       "      <td></td>\n",
       "      <td>476.0 XXX 531.0</td>\n",
       "      <td></td>\n",
       "      <td></td>\n",
       "      <td></td>\n",
       "      <td></td>\n",
       "      <td></td>\n",
       "      <td></td>\n",
       "    </tr>\n",
       "  </tbody>\n",
       "</table>\n",
       "</div>"
      ],
      "text/plain": [
       "           Restaurant_id City Cuisine Style          Ranking Price Range  \\\n",
       "25295  id_475 XXX id_530                     476.0 XXX 531.0               \n",
       "\n",
       "      Number of Reviews Reviews URL_TA ID_TA Rating  \n",
       "25295                                                "
      ]
     },
     "execution_count": 116,
     "metadata": {},
     "output_type": "execute_result"
    }
   ],
   "source": [
    "dfXXX"
   ]
  },
  {
   "cell_type": "code",
   "execution_count": 90,
   "metadata": {},
   "outputs": [],
   "source": []
  },
  {
   "cell_type": "code",
   "execution_count": 194,
   "metadata": {},
   "outputs": [],
   "source": [
    "test_part = df[:3].copy()"
   ]
  },
  {
   "cell_type": "code",
   "execution_count": 197,
   "metadata": {},
   "outputs": [],
   "source": [
    "test_part = df[df['Restaurant_id'] == 'id_1130'].copy()"
   ]
  },
  {
   "cell_type": "code",
   "execution_count": 198,
   "metadata": {
    "scrolled": true
   },
   "outputs": [
    {
     "data": {
      "text/html": [
       "<div>\n",
       "<style scoped>\n",
       "    .dataframe tbody tr th:only-of-type {\n",
       "        vertical-align: middle;\n",
       "    }\n",
       "\n",
       "    .dataframe tbody tr th {\n",
       "        vertical-align: top;\n",
       "    }\n",
       "\n",
       "    .dataframe thead th {\n",
       "        text-align: right;\n",
       "    }\n",
       "</style>\n",
       "<table border=\"1\" class=\"dataframe\">\n",
       "  <thead>\n",
       "    <tr style=\"text-align: right;\">\n",
       "      <th></th>\n",
       "      <th>Restaurant_id</th>\n",
       "      <th>City</th>\n",
       "      <th>Cuisine Style</th>\n",
       "      <th>Ranking</th>\n",
       "      <th>Price Range</th>\n",
       "      <th>Number of Reviews</th>\n",
       "      <th>Reviews</th>\n",
       "      <th>URL_TA</th>\n",
       "      <th>ID_TA</th>\n",
       "      <th>Rating</th>\n",
       "    </tr>\n",
       "  </thead>\n",
       "  <tbody>\n",
       "    <tr>\n",
       "      <td>1130</td>\n",
       "      <td>id_1130</td>\n",
       "      <td>Rome</td>\n",
       "      <td>NaN</td>\n",
       "      <td>5863.0</td>\n",
       "      <td>NaN</td>\n",
       "      <td>NaN</td>\n",
       "      <td>[[], []]</td>\n",
       "      <td>/Restaurant_Review-g187791-d8339185-Reviews-Sa...</td>\n",
       "      <td>d8339185</td>\n",
       "      <td>NaN</td>\n",
       "    </tr>\n",
       "    <tr>\n",
       "      <td>11553</td>\n",
       "      <td>id_1130</td>\n",
       "      <td>Krakow</td>\n",
       "      <td>['International']</td>\n",
       "      <td>1131.0</td>\n",
       "      <td>$$ - $$$</td>\n",
       "      <td>19.0</td>\n",
       "      <td>[['Good stop off in Summer', 'Late night party...</td>\n",
       "      <td>/Restaurant_Review-g274772-d6715484-Reviews-Pl...</td>\n",
       "      <td>d6715484</td>\n",
       "      <td>3.5</td>\n",
       "    </tr>\n",
       "    <tr>\n",
       "      <td>12108</td>\n",
       "      <td>id_1130</td>\n",
       "      <td>Paris</td>\n",
       "      <td>['French', 'European', 'Wine Bar', 'Vegetarian...</td>\n",
       "      <td>1131.0</td>\n",
       "      <td>$$$$</td>\n",
       "      <td>265.0</td>\n",
       "      <td>[['they accommodated a vegan meal without war....</td>\n",
       "      <td>/Restaurant_Review-g187147-d2500555-Reviews-Al...</td>\n",
       "      <td>d2500555</td>\n",
       "      <td>4.5</td>\n",
       "    </tr>\n",
       "    <tr>\n",
       "      <td>12602</td>\n",
       "      <td>id_1130</td>\n",
       "      <td>Warsaw</td>\n",
       "      <td>NaN</td>\n",
       "      <td>1132.0</td>\n",
       "      <td>NaN</td>\n",
       "      <td>NaN</td>\n",
       "      <td>[['1930'], ['12/14/2017']]</td>\n",
       "      <td>/Restaurant_Review-g274856-d13125943-Reviews-D...</td>\n",
       "      <td>d13125943</td>\n",
       "      <td>5.0</td>\n",
       "    </tr>\n",
       "    <tr>\n",
       "      <td>13914</td>\n",
       "      <td>id_1130</td>\n",
       "      <td>Lisbon</td>\n",
       "      <td>['European', 'Portuguese', 'Bar', 'Cafe', 'Veg...</td>\n",
       "      <td>1131.0</td>\n",
       "      <td>$$ - $$$</td>\n",
       "      <td>65.0</td>\n",
       "      <td>[['Great hamburgers!', 'Wonderful burger!'], [...</td>\n",
       "      <td>/Restaurant_Review-g189158-d3512851-Reviews-En...</td>\n",
       "      <td>d3512851</td>\n",
       "      <td>4.5</td>\n",
       "    </tr>\n",
       "    <tr>\n",
       "      <td>25494</td>\n",
       "      <td>id_1130</td>\n",
       "      <td>Edinburgh</td>\n",
       "      <td>NaN</td>\n",
       "      <td>1131.0</td>\n",
       "      <td>NaN</td>\n",
       "      <td>12.0</td>\n",
       "      <td>[['Delicious deli', 'Yummy'], ['09/27/2017', '...</td>\n",
       "      <td>/Restaurant_Review-g186525-d1316243-Reviews-He...</td>\n",
       "      <td>d1316243</td>\n",
       "      <td>4.5</td>\n",
       "    </tr>\n",
       "    <tr>\n",
       "      <td>28211</td>\n",
       "      <td>id_1130</td>\n",
       "      <td>Barcelona</td>\n",
       "      <td>['French', 'Spanish', 'Fusion', 'Croatian', 'V...</td>\n",
       "      <td>1131.0</td>\n",
       "      <td>$$ - $$$</td>\n",
       "      <td>91.0</td>\n",
       "      <td>[['Excellent food and great service', 'A Gem']...</td>\n",
       "      <td>/Restaurant_Review-g187497-d6610761-Reviews-Ro...</td>\n",
       "      <td>d6610761</td>\n",
       "      <td>5.0</td>\n",
       "    </tr>\n",
       "    <tr>\n",
       "      <td>36645</td>\n",
       "      <td>id_1130</td>\n",
       "      <td>Oporto</td>\n",
       "      <td>['European', 'Portuguese']</td>\n",
       "      <td>1131.0</td>\n",
       "      <td>$$ - $$$</td>\n",
       "      <td>23.0</td>\n",
       "      <td>[['Yummy', 'Very pleasant evening'], ['03/23/2...</td>\n",
       "      <td>/Restaurant_Review-g189180-d11960911-Reviews-R...</td>\n",
       "      <td>d11960911</td>\n",
       "      <td>3.5</td>\n",
       "    </tr>\n",
       "    <tr>\n",
       "      <td>47064</td>\n",
       "      <td>id_1130</td>\n",
       "      <td>Rome</td>\n",
       "      <td>['Italian', 'Bar', 'Fast Food', 'Pub', 'Vegeta...</td>\n",
       "      <td>1131.0</td>\n",
       "      <td>$</td>\n",
       "      <td>111.0</td>\n",
       "      <td>[['Simple, tasty', 'Great street food'], ['12/...</td>\n",
       "      <td>/Restaurant_Review-g187791-d11909188-Reviews-B...</td>\n",
       "      <td>d11909188</td>\n",
       "      <td>4.5</td>\n",
       "    </tr>\n",
       "  </tbody>\n",
       "</table>\n",
       "</div>"
      ],
      "text/plain": [
       "      Restaurant_id       City  \\\n",
       "1130        id_1130       Rome   \n",
       "11553       id_1130     Krakow   \n",
       "12108       id_1130      Paris   \n",
       "12602       id_1130     Warsaw   \n",
       "13914       id_1130     Lisbon   \n",
       "25494       id_1130  Edinburgh   \n",
       "28211       id_1130  Barcelona   \n",
       "36645       id_1130     Oporto   \n",
       "47064       id_1130       Rome   \n",
       "\n",
       "                                           Cuisine Style  Ranking Price Range  \\\n",
       "1130                                                 NaN   5863.0         NaN   \n",
       "11553                                  ['International']   1131.0    $$ - $$$   \n",
       "12108  ['French', 'European', 'Wine Bar', 'Vegetarian...   1131.0        $$$$   \n",
       "12602                                                NaN   1132.0         NaN   \n",
       "13914  ['European', 'Portuguese', 'Bar', 'Cafe', 'Veg...   1131.0    $$ - $$$   \n",
       "25494                                                NaN   1131.0         NaN   \n",
       "28211  ['French', 'Spanish', 'Fusion', 'Croatian', 'V...   1131.0    $$ - $$$   \n",
       "36645                         ['European', 'Portuguese']   1131.0    $$ - $$$   \n",
       "47064  ['Italian', 'Bar', 'Fast Food', 'Pub', 'Vegeta...   1131.0           $   \n",
       "\n",
       "       Number of Reviews                                            Reviews  \\\n",
       "1130                 NaN                                           [[], []]   \n",
       "11553               19.0  [['Good stop off in Summer', 'Late night party...   \n",
       "12108              265.0  [['they accommodated a vegan meal without war....   \n",
       "12602                NaN                         [['1930'], ['12/14/2017']]   \n",
       "13914               65.0  [['Great hamburgers!', 'Wonderful burger!'], [...   \n",
       "25494               12.0  [['Delicious deli', 'Yummy'], ['09/27/2017', '...   \n",
       "28211               91.0  [['Excellent food and great service', 'A Gem']...   \n",
       "36645               23.0  [['Yummy', 'Very pleasant evening'], ['03/23/2...   \n",
       "47064              111.0  [['Simple, tasty', 'Great street food'], ['12/...   \n",
       "\n",
       "                                                  URL_TA      ID_TA  Rating  \n",
       "1130   /Restaurant_Review-g187791-d8339185-Reviews-Sa...   d8339185     NaN  \n",
       "11553  /Restaurant_Review-g274772-d6715484-Reviews-Pl...   d6715484     3.5  \n",
       "12108  /Restaurant_Review-g187147-d2500555-Reviews-Al...   d2500555     4.5  \n",
       "12602  /Restaurant_Review-g274856-d13125943-Reviews-D...  d13125943     5.0  \n",
       "13914  /Restaurant_Review-g189158-d3512851-Reviews-En...   d3512851     4.5  \n",
       "25494  /Restaurant_Review-g186525-d1316243-Reviews-He...   d1316243     4.5  \n",
       "28211  /Restaurant_Review-g187497-d6610761-Reviews-Ro...   d6610761     5.0  \n",
       "36645  /Restaurant_Review-g189180-d11960911-Reviews-R...  d11960911     3.5  \n",
       "47064  /Restaurant_Review-g187791-d11909188-Reviews-B...  d11909188     4.5  "
      ]
     },
     "execution_count": 198,
     "metadata": {},
     "output_type": "execute_result"
    }
   ],
   "source": [
    "test_part"
   ]
  },
  {
   "cell_type": "code",
   "execution_count": 158,
   "metadata": {},
   "outputs": [],
   "source": [
    "all_words = set()"
   ]
  },
  {
   "cell_type": "code",
   "execution_count": 202,
   "metadata": {},
   "outputs": [],
   "source": [
    "def fmt_str_test(input_str):\n",
    "    global all_words\n",
    "    #print(type(input_str))\n",
    "    #input_str = input_row['Reviews']\n",
    "    #clean_view = str(input_str).replace(\"[\",\"\").replace(\"]\",\"\").replace(\", \",\",\").replace(\"'\",\"\")\n",
    "    #print(input_str)\n",
    "    half_view = input_str.split('], [')\n",
    "    \n",
    "    if (len(half_view) != 2):\n",
    "        print('half_view', len(half_view), half_view) \n",
    "        return (False, )\n",
    "    \n",
    "    #print('half_view', half_view[0])\n",
    "    \n",
    "    #sec_part = half_view[0].replace(\"[\",\"\").replace(\"]\",\"\").replace(\",\",\" \").replace(\"  \",\" \").split(' ')\n",
    "    \n",
    "    #txt = \"Hello Sam!\"\n",
    "    mytable = half_view[0].maketrans(\"\", \"\", string.punctuation)\n",
    "    #print(txt.translate(mytable))\n",
    "\n",
    "    translated = half_view[0].translate(mytable)\n",
    "    sec_part = translated.split(' ')\n",
    "    \n",
    "    \n",
    "    #if (len(sec_part) != 2):\n",
    "    #print('sec_part', len(sec_part), sec_part) \n",
    "        #return\n",
    "        \n",
    "    finn = set([sstr for sstr in sec_part if (len(sstr)>3 and not any(elem in sstr for elem in \"1234567890\"))])\n",
    "    #print('finn', len(finn), finn)\n",
    "    #print('all_words', len(all_words), all_words)\n",
    "    all_words.update(finn)\n",
    "\n",
    "    return (True, finn)"
   ]
  },
  {
   "cell_type": "code",
   "execution_count": 175,
   "metadata": {},
   "outputs": [],
   "source": [
    "def fmt_rev(input_row):\n",
    "    #print(type(input_str))\n",
    "    input_str = input_row['Reviews']\n",
    "    if (pd.isnull(input_str)==True):\n",
    "        return \"bad\"\n",
    "    res = fmt_str_test(input_str)\n",
    "    if (res[0] == True):\n",
    "        return \"good\"\n",
    "    \n",
    "    return \"bad\""
   ]
  },
  {
   "cell_type": "code",
   "execution_count": 204,
   "metadata": {},
   "outputs": [],
   "source": [
    "df_w = df.copy()"
   ]
  },
  {
   "cell_type": "code",
   "execution_count": 205,
   "metadata": {},
   "outputs": [],
   "source": [
    "def get_words(df_to):\n",
    "    pd.options.mode.chained_assignment = None\n",
    "    # делаем новую колонку - массив директоров, а не строку\n",
    "    df_to.apply((lambda row: fmt_rev(row)), axis=1)\n",
    "    # включаем предупреждение обратно\n",
    "    pd.options.mode.chained_assignment ='warn'"
   ]
  },
  {
   "cell_type": "code",
   "execution_count": 206,
   "metadata": {},
   "outputs": [
    {
     "name": "stdout",
     "output_type": "stream",
     "text": [
      "<class 'list'> 19078\n"
     ]
    }
   ],
   "source": [
    "all_words = set()\n",
    "get_words(df_w)\n",
    "all_words = sorted(all_words)\n",
    "print(type(all_words), len(all_words))\n",
    "#all_words"
   ]
  },
  {
   "cell_type": "code",
   "execution_count": 207,
   "metadata": {},
   "outputs": [],
   "source": [
    "with open(\"words.txt\", \"w\", encoding=\"utf-8\") as write_file:\n",
    "    for t in all_words:\n",
    "        write_file.write(t+'\\n')"
   ]
  },
  {
   "cell_type": "code",
   "execution_count": null,
   "metadata": {},
   "outputs": [],
   "source": []
  },
  {
   "cell_type": "code",
   "execution_count": null,
   "metadata": {},
   "outputs": [],
   "source": []
  },
  {
   "cell_type": "code",
   "execution_count": null,
   "metadata": {},
   "outputs": [],
   "source": []
  },
  {
   "cell_type": "code",
   "execution_count": 169,
   "metadata": {},
   "outputs": [
    {
     "data": {
      "text/plain": [
       "Restaurant_id                                                  id_8168\n",
       "City                                                            Lisbon\n",
       "Cuisine Style                                                      NaN\n",
       "Ranking                                                           3389\n",
       "Price Range                                                        NaN\n",
       "Number of Reviews                                                    2\n",
       "Reviews                                                            NaN\n",
       "URL_TA               /Restaurant_Review-g189158-d12683988-Reviews-O...\n",
       "ID_TA                                                        d12683988\n",
       "Rating                                                             NaN\n",
       "Name: 8168, dtype: object"
      ]
     },
     "execution_count": 169,
     "metadata": {},
     "output_type": "execute_result"
    }
   ],
   "source": [
    "df_w.iloc[8168]"
   ]
  },
  {
   "cell_type": "code",
   "execution_count": null,
   "metadata": {},
   "outputs": [],
   "source": []
  },
  {
   "cell_type": "code",
   "execution_count": 203,
   "metadata": {},
   "outputs": [
    {
     "data": {
      "text/plain": [
       "['Delicious',\n",
       " 'Excellent',\n",
       " 'Food',\n",
       " 'Good',\n",
       " 'Great',\n",
       " 'Late',\n",
       " 'ServiceGreat',\n",
       " 'Simple',\n",
       " 'Summer',\n",
       " 'Very',\n",
       " 'Wonderful',\n",
       " 'Yummy',\n",
       " 'accommodated',\n",
       " 'burger',\n",
       " 'deli',\n",
       " 'evening',\n",
       " 'food',\n",
       " 'great',\n",
       " 'hamburgers',\n",
       " 'meal',\n",
       " 'night',\n",
       " 'party',\n",
       " 'pleasant',\n",
       " 'service',\n",
       " 'stop',\n",
       " 'street',\n",
       " 'tasty',\n",
       " 'they',\n",
       " 'vegan',\n",
       " 'without']"
      ]
     },
     "execution_count": 203,
     "metadata": {},
     "output_type": "execute_result"
    }
   ],
   "source": [
    "all_words = set()\n",
    "# выключаем предупреждение - здесь создаем колонку, никаких chained-операций\n",
    "pd.options.mode.chained_assignment = None\n",
    "# делаем новую колонку - массив директоров, а не строку\n",
    "test_part['arr'] = test_part.apply(\n",
    "    (lambda row: fmt_rev(row)), axis=1)\n",
    "# включаем предупреждение обратно\n",
    "pd.options.mode.chained_assignment ='warn'\n",
    "# размножаем/дублируем строки так, чтобы в каждой строке был один режиссер\n",
    "#df_cuis_copy_nn_exploded = df_cuis_copy_nn.explode('cuisine')\n",
    "#test_part\n",
    "all_words = sorted(all_words)\n",
    "all_words"
   ]
  },
  {
   "cell_type": "code",
   "execution_count": null,
   "metadata": {},
   "outputs": [],
   "source": []
  },
  {
   "cell_type": "code",
   "execution_count": null,
   "metadata": {},
   "outputs": [],
   "source": []
  },
  {
   "cell_type": "code",
   "execution_count": null,
   "metadata": {},
   "outputs": [],
   "source": []
  },
  {
   "cell_type": "code",
   "execution_count": 217,
   "metadata": {},
   "outputs": [],
   "source": [
    "dict_df = pd.read_csv('subjclueslen.csv',  delimiter=';')"
   ]
  },
  {
   "cell_type": "code",
   "execution_count": 219,
   "metadata": {
    "scrolled": true
   },
   "outputs": [
    {
     "data": {
      "text/html": [
       "<div>\n",
       "<style scoped>\n",
       "    .dataframe tbody tr th:only-of-type {\n",
       "        vertical-align: middle;\n",
       "    }\n",
       "\n",
       "    .dataframe tbody tr th {\n",
       "        vertical-align: top;\n",
       "    }\n",
       "\n",
       "    .dataframe thead th {\n",
       "        text-align: right;\n",
       "    }\n",
       "</style>\n",
       "<table border=\"1\" class=\"dataframe\">\n",
       "  <thead>\n",
       "    <tr style=\"text-align: right;\">\n",
       "      <th></th>\n",
       "      <th>type</th>\n",
       "      <th>word</th>\n",
       "      <th>polarity</th>\n",
       "    </tr>\n",
       "  </thead>\n",
       "  <tbody>\n",
       "    <tr>\n",
       "      <td>0</td>\n",
       "      <td>weak</td>\n",
       "      <td>abandoned</td>\n",
       "      <td>negative</td>\n",
       "    </tr>\n",
       "    <tr>\n",
       "      <td>1</td>\n",
       "      <td>weak</td>\n",
       "      <td>abandonment</td>\n",
       "      <td>negative</td>\n",
       "    </tr>\n",
       "    <tr>\n",
       "      <td>2</td>\n",
       "      <td>weak</td>\n",
       "      <td>abandon</td>\n",
       "      <td>negative</td>\n",
       "    </tr>\n",
       "    <tr>\n",
       "      <td>3</td>\n",
       "      <td>strong</td>\n",
       "      <td>abase</td>\n",
       "      <td>negative</td>\n",
       "    </tr>\n",
       "    <tr>\n",
       "      <td>4</td>\n",
       "      <td>strong</td>\n",
       "      <td>abasement</td>\n",
       "      <td>negative</td>\n",
       "    </tr>\n",
       "    <tr>\n",
       "      <td>...</td>\n",
       "      <td>...</td>\n",
       "      <td>...</td>\n",
       "      <td>...</td>\n",
       "    </tr>\n",
       "    <tr>\n",
       "      <td>8217</td>\n",
       "      <td>strong</td>\n",
       "      <td>zealot</td>\n",
       "      <td>negative</td>\n",
       "    </tr>\n",
       "    <tr>\n",
       "      <td>8218</td>\n",
       "      <td>strong</td>\n",
       "      <td>zealous</td>\n",
       "      <td>negative</td>\n",
       "    </tr>\n",
       "    <tr>\n",
       "      <td>8219</td>\n",
       "      <td>strong</td>\n",
       "      <td>zealously</td>\n",
       "      <td>negative</td>\n",
       "    </tr>\n",
       "    <tr>\n",
       "      <td>8220</td>\n",
       "      <td>strong</td>\n",
       "      <td>zenith</td>\n",
       "      <td>positive</td>\n",
       "    </tr>\n",
       "    <tr>\n",
       "      <td>8221</td>\n",
       "      <td>strong</td>\n",
       "      <td>zest</td>\n",
       "      <td>positive</td>\n",
       "    </tr>\n",
       "  </tbody>\n",
       "</table>\n",
       "<p>8222 rows × 3 columns</p>\n",
       "</div>"
      ],
      "text/plain": [
       "        type         word  polarity\n",
       "0       weak    abandoned  negative\n",
       "1       weak  abandonment  negative\n",
       "2       weak      abandon  negative\n",
       "3     strong        abase  negative\n",
       "4     strong    abasement  negative\n",
       "...      ...          ...       ...\n",
       "8217  strong       zealot  negative\n",
       "8218  strong      zealous  negative\n",
       "8219  strong    zealously  negative\n",
       "8220  strong       zenith  positive\n",
       "8221  strong         zest  positive\n",
       "\n",
       "[8222 rows x 3 columns]"
      ]
     },
     "execution_count": 219,
     "metadata": {},
     "output_type": "execute_result"
    }
   ],
   "source": [
    "dict_df = dict_df.drop(['trash'], axis=1)\n",
    "dict_df"
   ]
  },
  {
   "cell_type": "code",
   "execution_count": 221,
   "metadata": {
    "scrolled": true
   },
   "outputs": [
    {
     "data": {
      "text/plain": [
       "(6886,\n",
       " array(['abandoned', 'abandonment', 'abandon', ..., 'zealously', 'zenith',\n",
       "        'zest'], dtype=object))"
      ]
     },
     "execution_count": 221,
     "metadata": {},
     "output_type": "execute_result"
    }
   ],
   "source": [
    "dict_df['word'].nunique(), dict_df['word'].unique()"
   ]
  },
  {
   "cell_type": "code",
   "execution_count": 222,
   "metadata": {
    "scrolled": true
   },
   "outputs": [
    {
     "data": {
      "text/plain": [
       "welcome        4\n",
       "trouble        4\n",
       "savage         3\n",
       "autocratic     3\n",
       "protest        3\n",
       "              ..\n",
       "dignity        1\n",
       "romanticize    1\n",
       "heresy         1\n",
       "unorthodox     1\n",
       "elatedly       1\n",
       "Name: word, Length: 6886, dtype: int64"
      ]
     },
     "execution_count": 222,
     "metadata": {},
     "output_type": "execute_result"
    }
   ],
   "source": [
    "pp = dict_df['word'].value_counts()\n",
    "pp"
   ]
  },
  {
   "cell_type": "code",
   "execution_count": 223,
   "metadata": {},
   "outputs": [],
   "source": [
    "pp2 = pp[pp > 1]"
   ]
  },
  {
   "cell_type": "code",
   "execution_count": 227,
   "metadata": {},
   "outputs": [
    {
     "data": {
      "text/plain": [
       "'savage'"
      ]
     },
     "execution_count": 227,
     "metadata": {},
     "output_type": "execute_result"
    }
   ],
   "source": [
    "pp2.index[2]"
   ]
  },
  {
   "cell_type": "code",
   "execution_count": 228,
   "metadata": {},
   "outputs": [],
   "source": [
    "pp3 = pp2[:4]"
   ]
  },
  {
   "cell_type": "code",
   "execution_count": 229,
   "metadata": {
    "scrolled": true
   },
   "outputs": [
    {
     "data": {
      "text/plain": [
       "welcome       4\n",
       "trouble       4\n",
       "savage        3\n",
       "autocratic    3\n",
       "Name: word, dtype: int64"
      ]
     },
     "execution_count": 229,
     "metadata": {},
     "output_type": "execute_result"
    }
   ],
   "source": [
    "pp3"
   ]
  },
  {
   "cell_type": "code",
   "execution_count": 248,
   "metadata": {},
   "outputs": [],
   "source": [
    "def check_d(pps, printb=False):\n",
    "    for ind in pp3.index:\n",
    "        if (printb==True):\n",
    "            print(ind)\n",
    "        this_word = dict_df[dict_df['word']==ind]\n",
    "        if (printb==True):\n",
    "            print(this_word)\n",
    "        polart = this_word['polarity'].value_counts()\n",
    "        if (len(polart) != 1):\n",
    "            if (printb==True):\n",
    "                print(\"alert\", polart, len(polart), polart.index[0])\n",
    "            print(\"alert\", polart, len(polart), polart.index[0])\n",
    "        else:\n",
    "            if (printb==True):\n",
    "                print(\"good\", polart.index[0])\n",
    "        strength = this_word['type'].value_counts()\n",
    "        if (len(strength) != 1):\n",
    "            if (printb==True):\n",
    "                print(\"diff\", strength, len(strength))\n",
    "        else:\n",
    "            if (printb==True):\n",
    "                print(\"good\", strength.index[0])"
   ]
  },
  {
   "cell_type": "code",
   "execution_count": 256,
   "metadata": {},
   "outputs": [],
   "source": [
    "def check_d2(pps, printb=False):\n",
    "    global dict_df2_clean\n",
    "    for ind in pp3.index:\n",
    "        if (printb==True):\n",
    "            print(ind)\n",
    "        this_word = dict_df[dict_df['word']==ind]\n",
    "        if (printb==True):\n",
    "            print(this_word)\n",
    "        polart = this_word['polarity'].value_counts()\n",
    "        if (len(polart) != 1):\n",
    "            if (printb==True):\n",
    "                print(\"alert\", polart, len(polart), polart.index[0])\n",
    "            print(\"alert\", polart, len(polart), polart.index[0])\n",
    "        else:\n",
    "            if (printb==True):\n",
    "                print(\"good\", polart.index[0])\n",
    "            dict_df2_clean[dict_df2_clean['word']==ind]['polarity']=polart.index[0]\n",
    "        strength = this_word['type'].value_counts()\n",
    "        if (len(strength) != 1):\n",
    "            if (printb==True):\n",
    "                print(\"diff\", strength, len(strength))\n",
    "            dict_df2_clean[dict_df2_clean['word']==ind]['type']=strength.index[0]\n",
    "        else:\n",
    "            if (printb==True):\n",
    "                print(\"good\", strength.index[0])\n",
    "            dict_df2_clean[dict_df2_clean['word']==ind]['polarity']=polart.index[0]"
   ]
  },
  {
   "cell_type": "code",
   "execution_count": 249,
   "metadata": {},
   "outputs": [],
   "source": [
    "check_d(pp3, False)"
   ]
  },
  {
   "cell_type": "code",
   "execution_count": 250,
   "metadata": {},
   "outputs": [],
   "source": [
    "check_d(pp2, False)"
   ]
  },
  {
   "cell_type": "code",
   "execution_count": 251,
   "metadata": {},
   "outputs": [],
   "source": [
    "dict_df2 = dict_df.copy()"
   ]
  },
  {
   "cell_type": "code",
   "execution_count": 255,
   "metadata": {},
   "outputs": [],
   "source": [
    "dict_df2_clean = dict_df2.drop_duplicates(['word'])"
   ]
  },
  {
   "cell_type": "code",
   "execution_count": 258,
   "metadata": {},
   "outputs": [],
   "source": [
    "pd.options.mode.chained_assignment = None\n",
    "check_d2(pp2, False)\n",
    "pd.options.mode.chained_assignment = 'warn'"
   ]
  },
  {
   "cell_type": "code",
   "execution_count": 259,
   "metadata": {},
   "outputs": [],
   "source": [
    "tst = dict_df2_clean[dict_df2_clean['word']=='welcome'].copy()"
   ]
  },
  {
   "cell_type": "code",
   "execution_count": 260,
   "metadata": {},
   "outputs": [
    {
     "data": {
      "text/html": [
       "<div>\n",
       "<style scoped>\n",
       "    .dataframe tbody tr th:only-of-type {\n",
       "        vertical-align: middle;\n",
       "    }\n",
       "\n",
       "    .dataframe tbody tr th {\n",
       "        vertical-align: top;\n",
       "    }\n",
       "\n",
       "    .dataframe thead th {\n",
       "        text-align: right;\n",
       "    }\n",
       "</style>\n",
       "<table border=\"1\" class=\"dataframe\">\n",
       "  <thead>\n",
       "    <tr style=\"text-align: right;\">\n",
       "      <th></th>\n",
       "      <th>type</th>\n",
       "      <th>word</th>\n",
       "      <th>trash</th>\n",
       "      <th>polarity</th>\n",
       "    </tr>\n",
       "  </thead>\n",
       "  <tbody>\n",
       "    <tr>\n",
       "      <td>8060</td>\n",
       "      <td>strong</td>\n",
       "      <td>welcome</td>\n",
       "      <td>adj stemmed1=n</td>\n",
       "      <td>positive</td>\n",
       "    </tr>\n",
       "  </tbody>\n",
       "</table>\n",
       "</div>"
      ],
      "text/plain": [
       "        type     word           trash  polarity\n",
       "8060  strong  welcome  adj stemmed1=n  positive"
      ]
     },
     "execution_count": 260,
     "metadata": {},
     "output_type": "execute_result"
    }
   ],
   "source": [
    "tst"
   ]
  },
  {
   "cell_type": "code",
   "execution_count": 261,
   "metadata": {},
   "outputs": [
    {
     "name": "stdout",
     "output_type": "stream",
     "text": [
      "<class 'pandas.core.frame.DataFrame'>\n",
      "Int64Index: 6886 entries, 0 to 8221\n",
      "Data columns (total 4 columns):\n",
      "type        6886 non-null object\n",
      "word        6886 non-null object\n",
      "trash       6886 non-null object\n",
      "polarity    6886 non-null object\n",
      "dtypes: object(4)\n",
      "memory usage: 269.0+ KB\n"
     ]
    }
   ],
   "source": [
    "dict_df2_clean.info()"
   ]
  },
  {
   "cell_type": "code",
   "execution_count": null,
   "metadata": {},
   "outputs": [],
   "source": []
  },
  {
   "cell_type": "code",
   "execution_count": 253,
   "metadata": {},
   "outputs": [
    {
     "data": {
      "text/html": [
       "<div>\n",
       "<style scoped>\n",
       "    .dataframe tbody tr th:only-of-type {\n",
       "        vertical-align: middle;\n",
       "    }\n",
       "\n",
       "    .dataframe tbody tr th {\n",
       "        vertical-align: top;\n",
       "    }\n",
       "\n",
       "    .dataframe thead th {\n",
       "        text-align: right;\n",
       "    }\n",
       "</style>\n",
       "<table border=\"1\" class=\"dataframe\">\n",
       "  <thead>\n",
       "    <tr style=\"text-align: right;\">\n",
       "      <th></th>\n",
       "      <th>type</th>\n",
       "      <th>word</th>\n",
       "      <th>trash</th>\n",
       "      <th>polarity</th>\n",
       "    </tr>\n",
       "  </thead>\n",
       "  <tbody>\n",
       "    <tr>\n",
       "      <td>8060</td>\n",
       "      <td>strong</td>\n",
       "      <td>welcome</td>\n",
       "      <td>adj stemmed1=n</td>\n",
       "      <td>positive</td>\n",
       "    </tr>\n",
       "    <tr>\n",
       "      <td>8061</td>\n",
       "      <td>weak</td>\n",
       "      <td>welcome</td>\n",
       "      <td>anypos stemmed1=y</td>\n",
       "      <td>positive</td>\n",
       "    </tr>\n",
       "    <tr>\n",
       "      <td>8062</td>\n",
       "      <td>strong</td>\n",
       "      <td>welcome</td>\n",
       "      <td>noun stemmed1=n</td>\n",
       "      <td>positive</td>\n",
       "    </tr>\n",
       "    <tr>\n",
       "      <td>8063</td>\n",
       "      <td>strong</td>\n",
       "      <td>welcome</td>\n",
       "      <td>verb stemmed1=y</td>\n",
       "      <td>positive</td>\n",
       "    </tr>\n",
       "  </tbody>\n",
       "</table>\n",
       "</div>"
      ],
      "text/plain": [
       "        type     word              trash  polarity\n",
       "8060  strong  welcome     adj stemmed1=n  positive\n",
       "8061    weak  welcome  anypos stemmed1=y  positive\n",
       "8062  strong  welcome    noun stemmed1=n  positive\n",
       "8063  strong  welcome    verb stemmed1=y  positive"
      ]
     },
     "execution_count": 253,
     "metadata": {},
     "output_type": "execute_result"
    }
   ],
   "source": [
    "this_xxword = dict_df[dict_df['word']=='welcome'].copy()\n",
    "this_xxword"
   ]
  },
  {
   "cell_type": "code",
   "execution_count": 254,
   "metadata": {},
   "outputs": [
    {
     "data": {
      "text/html": [
       "<div>\n",
       "<style scoped>\n",
       "    .dataframe tbody tr th:only-of-type {\n",
       "        vertical-align: middle;\n",
       "    }\n",
       "\n",
       "    .dataframe tbody tr th {\n",
       "        vertical-align: top;\n",
       "    }\n",
       "\n",
       "    .dataframe thead th {\n",
       "        text-align: right;\n",
       "    }\n",
       "</style>\n",
       "<table border=\"1\" class=\"dataframe\">\n",
       "  <thead>\n",
       "    <tr style=\"text-align: right;\">\n",
       "      <th></th>\n",
       "      <th>type</th>\n",
       "      <th>word</th>\n",
       "      <th>trash</th>\n",
       "      <th>polarity</th>\n",
       "    </tr>\n",
       "  </thead>\n",
       "  <tbody>\n",
       "    <tr>\n",
       "      <td>8060</td>\n",
       "      <td>strong</td>\n",
       "      <td>welcome</td>\n",
       "      <td>adj stemmed1=n</td>\n",
       "      <td>positive</td>\n",
       "    </tr>\n",
       "  </tbody>\n",
       "</table>\n",
       "</div>"
      ],
      "text/plain": [
       "        type     word           trash  polarity\n",
       "8060  strong  welcome  adj stemmed1=n  positive"
      ]
     },
     "execution_count": 254,
     "metadata": {},
     "output_type": "execute_result"
    }
   ],
   "source": [
    "this_xxword_c = this_xxword.drop_duplicates(['word'])\n",
    "this_xxword_c"
   ]
  },
  {
   "cell_type": "code",
   "execution_count": null,
   "metadata": {},
   "outputs": [],
   "source": []
  },
  {
   "cell_type": "code",
   "execution_count": null,
   "metadata": {},
   "outputs": [],
   "source": []
  },
  {
   "cell_type": "code",
   "execution_count": 224,
   "metadata": {},
   "outputs": [
    {
     "data": {
      "text/plain": [
       "welcome       4\n",
       "trouble       4\n",
       "savage        3\n",
       "autocratic    3\n",
       "protest       3\n",
       "             ..\n",
       "coupists      2\n",
       "eyebrows      2\n",
       "humanists     2\n",
       "defrauding    2\n",
       "spiritual     2\n",
       "Name: word, Length: 1254, dtype: int64"
      ]
     },
     "execution_count": 224,
     "metadata": {},
     "output_type": "execute_result"
    }
   ],
   "source": [
    "pp2"
   ]
  },
  {
   "cell_type": "code",
   "execution_count": 216,
   "metadata": {},
   "outputs": [
    {
     "name": "stdout",
     "output_type": "stream",
     "text": [
      "<class 'pandas.core.frame.DataFrame'>\n",
      "RangeIndex: 8222 entries, 0 to 8221\n",
      "Data columns (total 4 columns):\n",
      "type        8222 non-null object\n",
      "word        8222 non-null object\n",
      "trash       8222 non-null object\n",
      "polarity    8222 non-null object\n",
      "dtypes: object(4)\n",
      "memory usage: 257.1+ KB\n"
     ]
    }
   ],
   "source": [
    "dict_df.info()"
   ]
  },
  {
   "cell_type": "code",
   "execution_count": 214,
   "metadata": {},
   "outputs": [
    {
     "data": {
      "text/html": [
       "<div>\n",
       "<style scoped>\n",
       "    .dataframe tbody tr th:only-of-type {\n",
       "        vertical-align: middle;\n",
       "    }\n",
       "\n",
       "    .dataframe tbody tr th {\n",
       "        vertical-align: top;\n",
       "    }\n",
       "\n",
       "    .dataframe thead th {\n",
       "        text-align: right;\n",
       "    }\n",
       "</style>\n",
       "<table border=\"1\" class=\"dataframe\">\n",
       "  <thead>\n",
       "    <tr style=\"text-align: right;\">\n",
       "      <th></th>\n",
       "      <th>0</th>\n",
       "      <th>1</th>\n",
       "      <th>2</th>\n",
       "      <th>3</th>\n",
       "    </tr>\n",
       "  </thead>\n",
       "  <tbody>\n",
       "    <tr>\n",
       "      <td>947</td>\n",
       "      <td>strong</td>\n",
       "      <td>brutish</td>\n",
       "      <td>adj stemmed1=n</td>\n",
       "      <td>negative</td>\n",
       "    </tr>\n",
       "    <tr>\n",
       "      <td>6619</td>\n",
       "      <td>weak</td>\n",
       "      <td>shake</td>\n",
       "      <td>verb stemmed1=y</td>\n",
       "      <td>negative</td>\n",
       "    </tr>\n",
       "    <tr>\n",
       "      <td>2799</td>\n",
       "      <td>weak</td>\n",
       "      <td>fast-paced</td>\n",
       "      <td>adj stemmed1=n</td>\n",
       "      <td>positive</td>\n",
       "    </tr>\n",
       "    <tr>\n",
       "      <td>5449</td>\n",
       "      <td>strong</td>\n",
       "      <td>partisans</td>\n",
       "      <td>noun stemmed1=n</td>\n",
       "      <td>negative</td>\n",
       "    </tr>\n",
       "    <tr>\n",
       "      <td>957</td>\n",
       "      <td>strong</td>\n",
       "      <td>bully</td>\n",
       "      <td>adj stemmed1=n</td>\n",
       "      <td>negative</td>\n",
       "    </tr>\n",
       "  </tbody>\n",
       "</table>\n",
       "</div>"
      ],
      "text/plain": [
       "           0           1                2         3\n",
       "947   strong     brutish   adj stemmed1=n  negative\n",
       "6619    weak       shake  verb stemmed1=y  negative\n",
       "2799    weak  fast-paced   adj stemmed1=n  positive\n",
       "5449  strong   partisans  noun stemmed1=n  negative\n",
       "957   strong       bully   adj stemmed1=n  negative"
      ]
     },
     "execution_count": 214,
     "metadata": {},
     "output_type": "execute_result"
    }
   ],
   "source": [
    "dict_df.sample(5)"
   ]
  },
  {
   "cell_type": "code",
   "execution_count": null,
   "metadata": {},
   "outputs": [],
   "source": []
  }
 ],
 "metadata": {
  "kernelspec": {
   "display_name": "Python 3",
   "language": "python",
   "name": "python3"
  },
  "language_info": {
   "codemirror_mode": {
    "name": "ipython",
    "version": 3
   },
   "file_extension": ".py",
   "mimetype": "text/x-python",
   "name": "python",
   "nbconvert_exporter": "python",
   "pygments_lexer": "ipython3",
   "version": "3.7.4"
  }
 },
 "nbformat": 4,
 "nbformat_minor": 2
}
