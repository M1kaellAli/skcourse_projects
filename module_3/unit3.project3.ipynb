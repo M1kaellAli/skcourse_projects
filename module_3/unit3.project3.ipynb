{
 "cells": [
  {
   "cell_type": "markdown",
   "metadata": {},
   "source": [
    "# Юнит 3, проект 3, Проект 3. О вкусной и здоровой пище"
   ]
  },
  {
   "cell_type": "code",
   "execution_count": null,
   "metadata": {},
   "outputs": [],
   "source": [
    "import pandas as pd\n",
    "import matplotlib.pyplot as plt\n",
    "import seaborn as sns\n",
    "from itertools import combinations\n",
    "from scipy.stats import ttest_ind\n",
    "import numpy as np\n",
    "\n",
    "pd.set_option('display.max_rows', 50) # показывать больше строк\n",
    "pd.set_option('display.max_columns', 50) # показывать больше колонок\n",
    "\n",
    "%matplotlib inline"
   ]
  },
  {
   "cell_type": "code",
   "execution_count": 251,
   "metadata": {},
   "outputs": [],
   "source": [
    "import os\n",
    "import math\n",
    "import datetime\n",
    "from datetime import datetime\n",
    "from datetime import date as my_dt"
   ]
  },
  {
   "cell_type": "code",
   "execution_count": 3,
   "metadata": {},
   "outputs": [],
   "source": [
    "import string\n",
    "import collections"
   ]
  },
  {
   "cell_type": "code",
   "execution_count": 4,
   "metadata": {},
   "outputs": [],
   "source": [
    "from sklearn.preprocessing import MinMaxScaler\n",
    "from sklearn.preprocessing import StandardScaler\n",
    "from sklearn.preprocessing import PolynomialFeatures\n",
    "import sys"
   ]
  },
  {
   "cell_type": "code",
   "execution_count": 5,
   "metadata": {},
   "outputs": [],
   "source": [
    "from sklearn.model_selection import train_test_split  # Загружаем специальный инструмент для разбивки: \n",
    "from sklearn.ensemble import RandomForestRegressor # инструмент для создания и обучения модели  \n",
    "from sklearn import metrics # инструменты для оценки точности модели"
   ]
  },
  {
   "cell_type": "code",
   "execution_count": 30,
   "metadata": {},
   "outputs": [],
   "source": [
    "#np.set_printoptions(threshold=sys.maxsize)\n",
    "pd.set_option('display.max_columns', sys.maxsize)\n",
    "pd.set_option('display.max_rows', sys.maxsize)"
   ]
  },
  {
   "cell_type": "code",
   "execution_count": 134,
   "metadata": {},
   "outputs": [],
   "source": [
    "# разные вариаты для удобства отладки, включаю разные\n",
    "pd.set_option('display.max_rows', 5) # показывать больше строк\n",
    "pd.set_option('display.max_columns', 20) # показывать больше колонок"
   ]
  },
  {
   "cell_type": "code",
   "execution_count": 6,
   "metadata": {},
   "outputs": [],
   "source": [
    "# всегда фиксируйте RANDOM_SEED, чтобы ваши эксперименты были воспроизводимы!\n",
    "RANDOM_SEED = 42"
   ]
  },
  {
   "cell_type": "markdown",
   "metadata": {},
   "source": [
    "### Колонки\n",
    "\n",
    "* Restaurant_id — идентификационный номер ресторана / сети ресторанов;\n",
    "* City — город, в котором находится ресторан;\n",
    "* Cuisine Style — кухня или кухни, к которым можно отнести блюда, предлагаемые в ресторане;\n",
    "* Ranking — место, которое занимает данный ресторан среди всех ресторанов своего города;\n",
    "* Rating — рейтинг ресторана по данным TripAdvisor (именно это значение должна будет предсказывать модель);\n",
    "* Price Range — диапазон цен в ресторане;\n",
    "* Number of Reviews — количество отзывов о ресторане;\n",
    "* Reviews — данные о двух отзывах, которые отображаются на сайте ресторана;\n",
    "* URL_TA — URL страницы ресторана на TripAdvisor;\n",
    "* ID_TA — идентификатор ресторана в базе данных TripAdvisor."
   ]
  },
  {
   "cell_type": "code",
   "execution_count": 284,
   "metadata": {},
   "outputs": [],
   "source": [
    "# переменная модели для удобства вызова функций\n",
    "model = RandomForestRegressor()"
   ]
  },
  {
   "cell_type": "code",
   "execution_count": 631,
   "metadata": {},
   "outputs": [],
   "source": [
    "DATA_DIR = ''#'C:/skillfactory/git_sf_repo/skcourse_projects/module_3/'\n",
    "df_train = pd.read_csv(DATA_DIR+'main_task.csv')\n",
    "df_test = pd.read_csv(DATA_DIR+'kaggle_task.csv')\n",
    "sample_submission = pd.read_csv(DATA_DIR+'sample_submission.csv')\n",
    "#print(len(df_train), len(df_test))\n",
    "#df_train.sample(5)\n",
    "#df_test.sample(5)\n",
    "\n",
    "df_train['sample'] = 1 # помечаем где у нас трейн\n",
    "df_test['sample'] = 0 # помечаем где у нас тест\n",
    "df_test['Rating'] = 0 # в тесте у нас нет значения Rating, мы его должны предсказать, по этому пока просто заполняем нулями\n",
    "    \n",
    "df = df_test.append(df_train, sort=False).reset_index(drop=True) # объединяем"
   ]
  },
  {
   "cell_type": "code",
   "execution_count": 9,
   "metadata": {},
   "outputs": [],
   "source": [
    "def data_reload():\n",
    "    global df_train\n",
    "    global df_test\n",
    "    global df\n",
    "    DATA_DIR = 'C:/skillfactory/git_sf_repo/skcourse_projects/module_3/'\n",
    "    df_train = pd.read_csv(DATA_DIR+'main_task.csv')\n",
    "    df_test = pd.read_csv(DATA_DIR+'kaggle_task.csv')\n",
    "    \n",
    "    df_train['sample'] = 1 # помечаем где у нас трейн\n",
    "    df_test['sample'] = 0 # помечаем где у нас тест\n",
    "    df_test['Rating'] = 0 # в тесте у нас нет значения Rating, мы его должны предсказать, по этому пока просто заполняем нулями\n",
    "\n",
    "    df = df_test.append(df_train, sort=False).reset_index(drop=True) # объединяем"
   ]
  },
  {
   "cell_type": "code",
   "execution_count": 10,
   "metadata": {},
   "outputs": [],
   "source": [
    "def data_split(X, y):\n",
    "    X_train, X_test, y_train, y_test = train_test_split(X, y, test_size=0.2, random_state=RANDOM_SEED)"
   ]
  },
  {
   "cell_type": "code",
   "execution_count": 414,
   "metadata": {},
   "outputs": [],
   "source": [
    "def test_model(lst_del, score_var, df_var, pc=0.25):\n",
    "    global model\n",
    "    # Х - данные с информацией о ресторанах, у - целевая переменная (рейтинги ресторанов)\n",
    "    y = df_var[score_var]\n",
    "    X = df_var.drop(lst_del, axis = 1)\n",
    "    X = X.drop([score_var], axis = 1)\n",
    "    #y = df_var[score_var]\n",
    "    \n",
    "    # Наборы данных с меткой \"train\" будут использоваться для обучения модели, \"test\" - для тестирования.\n",
    "    # Для тестирования мы будем использовать 25% от исходного датасета.\n",
    "    #X_train, X_test, y_train, y_test = train_test_split(X, y, test_size=pc)\n",
    "    \n",
    "    X_train, X_test, y_train, y_test = train_test_split(X, y, test_size=pc, random_state=RANDOM_SEED)\n",
    "    \n",
    "    # Создаём модель\n",
    "    # regr = RandomForestRegressor(n_estimators=100)\n",
    "    # model\n",
    "    model = RandomForestRegressor(n_estimators=100, verbose=1, n_jobs=-1, random_state=RANDOM_SEED)\n",
    "\n",
    "    # Обучаем модель на тестовом наборе данных\n",
    "    model.fit(X_train, y_train)\n",
    "\n",
    "    # Используем обученную модель для предсказания рейтинга ресторанов в тестовой выборке.\n",
    "    # Предсказанные значения записываем в переменную y_pred\n",
    "    y_pred = model.predict(X_test)\n",
    "    \n",
    "    # Сравниваем предсказанные значения (y_pred) с реальными (y_test), и смотрим насколько они в среднем отличаются\n",
    "    # Метрика называется Mean Absolute Error (MAE) и показывает среднее отклонение предсказанных значений от фактических.\n",
    "    mean_err = metrics.mean_absolute_error(y_test, y_pred)\n",
    "    print('MAE:', mean_err)\n",
    "    #return mean_err"
   ]
  },
  {
   "cell_type": "code",
   "execution_count": 415,
   "metadata": {},
   "outputs": [],
   "source": [
    "def test_model_local(lst_del, score_var, df_var, pc=0.25):\n",
    "    # Х - данные с информацией о ресторанах, у - целевая переменная (рейтинги ресторанов)\n",
    "    y = df_var[score_var]\n",
    "    X = df_var.drop(lst_del, axis = 1)\n",
    "    X = X.drop([score_var], axis = 1)\n",
    "    \n",
    "    # Наборы данных с меткой \"train\" будут использоваться для обучения модели, \"test\" - для тестирования.\n",
    "    # Для тестирования мы будем использовать 25% от исходного датасета.\n",
    "    #X_train, X_test, y_train, y_test = train_test_split(X, y, test_size=pc)\n",
    "    \n",
    "    X_train, X_test, y_train, y_test = train_test_split(X, y, test_size=pc, random_state=RANDOM_SEED)\n",
    "    \n",
    "    # Создаём модель\n",
    "    # regr = RandomForestRegressor(n_estimators=100)\n",
    "    # model\n",
    "    model = RandomForestRegressor(n_estimators=100, verbose=1, n_jobs=-1, random_state=RANDOM_SEED)\n",
    "\n",
    "    # Обучаем модель на тестовом наборе данных\n",
    "    model.fit(X_train, y_train)\n",
    "\n",
    "    # Используем обученную модель для предсказания рейтинга ресторанов в тестовой выборке.\n",
    "    # Предсказанные значения записываем в переменную y_pred\n",
    "    y_pred = model.predict(X_test)\n",
    "    \n",
    "    # Сравниваем предсказанные значения (y_pred) с реальными (y_test), и смотрим насколько они в среднем отличаются\n",
    "    # Метрика называется Mean Absolute Error (MAE) и показывает среднее отклонение предсказанных значений от фактических.\n",
    "    mean_err = metrics.mean_absolute_error(y_test, y_pred)\n",
    "    print('MAE:', mean_err)\n",
    "    #return mean_err"
   ]
  },
  {
   "cell_type": "code",
   "execution_count": 13,
   "metadata": {},
   "outputs": [],
   "source": [
    "def save_model(model_in, test_data_in, save_v):\n",
    "    predict_submission = model_in.predict(test_data_in)\n",
    "    sample_submission['Rating'] = predict_submission\n",
    "    if (save_v==1):\n",
    "        sample_submission.to_csv('submission.csv', index=False)\n",
    "    sample_submission.head(10)"
   ]
  },
  {
   "cell_type": "code",
   "execution_count": 14,
   "metadata": {},
   "outputs": [],
   "source": [
    "# функция распечатки значений матрицы корреляций выше заданного\n",
    "def print_corr_over_threshold(correlation_in, threshold_in):\n",
    "    np.fill_diagonal(correlation_in.values, -2)\n",
    "    for i, ii in zip(correlation_in.columns, enumerate(correlation_in.columns)):\n",
    "        for j, jj in zip(correlation_in.columns, enumerate(correlation_in.columns)):\n",
    "            if (i==j):\n",
    "                continue\n",
    "            if (ii < jj):\n",
    "                continue\n",
    "            if (abs(correlation_in[i][j]) > threshold_in and abs(correlation_in[i][j]) < 2):\n",
    "                print(i, '\\t', j, '\\t', correlation_in[i][j])"
   ]
  },
  {
   "cell_type": "code",
   "execution_count": 15,
   "metadata": {},
   "outputs": [],
   "source": [
    "# нарисовать heatmap корреляци, вывести все пары выше заданных двух порогов - явной корреляции и хоть какой-то для интереса\n",
    "# параметр второго порога пока отключен\n",
    "def correlation_workflow(input_df, threshold_in1, threshold_in2, sz_in=15):\n",
    "    correlation_input_df = input_df.corr()\n",
    "    print(correlation_input_df)\n",
    "    \n",
    "    annot_kws1 = {\"ha\": 'center',\"va\": 'bottom', 'color':'black'}\n",
    "\n",
    "    sns.heatmap(correlation_input_df, annot=True, cmap='coolwarm', annot_kws=annot_kws1)\n",
    "    sz = sz_in\n",
    "    if (len(input_df.columns) > 12):\n",
    "        sz = 20\n",
    "    fig = plt.gcf().set_size_inches(sz, sz)\n",
    "    print(\"---------Correlated---------\")\n",
    "    print_corr_over_threshold(correlation_input_df, threshold_in1)\n",
    "    print('---------end--------')\n",
    "    #print(\"---------Just something correlated---------\")\n",
    "    #print_corr_over_threshold(correlation_input_df, threshold_in2)\n",
    "    #print('---------end--------')"
   ]
  },
  {
   "cell_type": "code",
   "execution_count": 326,
   "metadata": {},
   "outputs": [],
   "source": [
    "# проход по колонкам и удаление не участвующих в создании модели\n",
    "def set_cols_to_del(df_in, lst_keep):\n",
    "    lst_del = []\n",
    "    for cc in df_in.columns:\n",
    "        if cc not in lst_keep:\n",
    "            lst_del.append(cc)\n",
    "    return lst_del"
   ]
  },
  {
   "cell_type": "code",
   "execution_count": 446,
   "metadata": {},
   "outputs": [],
   "source": [
    "# отрисовка с указанием значений квантилей, минимумов и максимумов\n",
    "def pic_global(what_to_pic, bins_here, range_left=-1, range_right=-1):\n",
    "    IQR = what_to_pic.quantile(0.75) - what_to_pic.quantile(0.25)\n",
    "    perc25 = what_to_pic.quantile(0.25)\n",
    "    perc75 = what_to_pic.quantile(0.75)\n",
    "\n",
    "    perc_min = what_to_pic.min()\n",
    "    perc_max = what_to_pic.max()\n",
    "    \n",
    "    rl = range_left\n",
    "    rr = range_right\n",
    "    if (range_right == -1):\n",
    "        rr = perc_max\n",
    "    if (range_left == -1):\n",
    "        rl = perc_min\n",
    "        \n",
    "    print(\n",
    "    '25-й перцентиль: {},'.format(perc25),\n",
    "    '75-й перцентиль: {},'.format(perc75),\n",
    "    \"IQR: {}, \".format(IQR),\n",
    "    \"Границы выбросов: [{f}, {l}].\".format(f=perc25 - 1.5*IQR, l=perc75 + 1.5*IQR),\n",
    "    'минимум: {},'.format(perc_min),\n",
    "    'максимум: {},'.format(perc_max))\n",
    "\n",
    "    what_to_pic.loc[what_to_pic.between(rl, rr)].hist(\n",
    "        alpha = 0.5, bins = bins_here, range = (rl, rr), label = 'All')\n",
    "    \n",
    "    plt.legend();\n",
    "    \n",
    "    return (IQR, perc25, perc75)"
   ]
  },
  {
   "cell_type": "code",
   "execution_count": 596,
   "metadata": {},
   "outputs": [],
   "source": [
    "# функция сохранения файла результата\n",
    "def save_result(test_data_in, predict_submission_precision_in, file_name):\n",
    "    sample_submission = pd.DataFrame()\n",
    "    sample_submission['Restaurant_id'] = test_data['Restaurant_id']\n",
    "    sample_submission['Rating'] = predict_submission_precision_in\n",
    "    sample_submission.to_csv(file_name+'.csv', index=False)"
   ]
  },
  {
   "cell_type": "code",
   "execution_count": null,
   "metadata": {},
   "outputs": [],
   "source": [
    "# создание номерного признака для Restaurant_id\n",
    "def rest_id_to_num(rest_id_str):\n",
    "    parts = rest_id_str.split('_')\n",
    "    id_num = int(parts[1])\n",
    "    return id_num"
   ]
  },
  {
   "cell_type": "code",
   "execution_count": 642,
   "metadata": {},
   "outputs": [],
   "source": [
    "dfXXX = pd.DataFrame()"
   ]
  },
  {
   "cell_type": "code",
   "execution_count": 637,
   "metadata": {},
   "outputs": [],
   "source": [
    "# функция разницы между строками, там где разница пишет значение вида \"значение1 Vs значение2\"\n",
    "# на вход датафрейм (sub так как вызываться должно после выборки по колонке key_col), key_col - колонка для \n",
    "# одинаковых значений которой и ищется разница\n",
    "def print_diffs_2rows(input_subdf, key_col):\n",
    "    global dfXXX\n",
    "    has_diffs_global = False\n",
    "    for i in range(0, len(input_subdf)-1):\n",
    "        #print(i)\n",
    "        irow = input_subdf.iloc[i]\n",
    "        for j in range(i+1, len(input_subdf)):\n",
    "            #print(j)\n",
    "            jrow = input_subdf.iloc[j]\n",
    "            diffrow = irow.copy()\n",
    "            has_diffs = False\n",
    "            for nn in input_subdf.columns:\n",
    "                if (nn == key_col):\n",
    "                    diffrow[nn] = irow[nn]\n",
    "                    continue\n",
    "                    \n",
    "                if ((pd.isnull(irow[nn]) == True and pd.isnull(irow[nn]) == True) or (irow[nn] == jrow[nn])):\n",
    "                    #diffrow[nn] = irow[nn]\n",
    "                    diffrow[nn] = np.nan\n",
    "                else:\n",
    "                    has_diffs = True\n",
    "                    has_diffs_global = True\n",
    "                    diffrow[nn] = '\"' + str(irow[nn]) + '\" Vs \"' + str(jrow[nn]) + '\"'\n",
    "\n",
    "            if (has_diffs == True):\n",
    "                dfXXX = dfXXX.append(diffrow)"
   ]
  },
  {
   "cell_type": "code",
   "execution_count": 638,
   "metadata": {},
   "outputs": [],
   "source": [
    "# функция разницы между всеми строками по всем значениям колонки key_col_in в датафрейме df_in для \n",
    "# списка повторяющихся значений v_in\n",
    "def get_diff_all_rows(v_in, df_in, key_col_in):\n",
    "    global dfXXX\n",
    "    for t in range(0, len(v_in)):\n",
    "        #print('v_in.index[t]' , v_in.index[t])\n",
    "        t_rest =  df_in.loc[df_in[key_col_in]==v_in.index[t]]\n",
    "        #print(t_rest)\n",
    "        print_diffs_2rows(t_rest, key_col_in)\n",
    "    dfXXX = dfXXX.reset_index()\n",
    "    return dfXXX"
   ]
  },
  {
   "cell_type": "code",
   "execution_count": 651,
   "metadata": {},
   "outputs": [],
   "source": [
    "# полная функция разницы между всеми строками по всем значениям колонки key_col_in в датафрейме df_in для \n",
    "# списка повторяющихся значений v_in\n",
    "def get_nice_diff_for_column(v_in, df_in, key_col_in):\n",
    "    global dfXXX\n",
    "    dfXXX = pd.DataFrame(columns=df_in.columns)\n",
    "    res = get_diff_all_rows(v_in, df_in, key_col_in)\n",
    "    res = res.dropna(axis=1, how='all')\n",
    "    #print(res)\n",
    "    return res"
   ]
  },
  {
   "cell_type": "code",
   "execution_count": 664,
   "metadata": {},
   "outputs": [],
   "source": [
    "# создание номерного признака для ID_TA\n",
    "def idta_to_num(rest_id_str):\n",
    "    idta_num = int(rest_id_str[1:])\n",
    "    return idta_num"
   ]
  },
  {
   "cell_type": "code",
   "execution_count": null,
   "metadata": {},
   "outputs": [],
   "source": []
  },
  {
   "cell_type": "code",
   "execution_count": null,
   "metadata": {},
   "outputs": [],
   "source": []
  },
  {
   "cell_type": "code",
   "execution_count": null,
   "metadata": {},
   "outputs": [],
   "source": []
  },
  {
   "cell_type": "code",
   "execution_count": null,
   "metadata": {},
   "outputs": [],
   "source": []
  },
  {
   "cell_type": "code",
   "execution_count": null,
   "metadata": {},
   "outputs": [],
   "source": []
  },
  {
   "cell_type": "code",
   "execution_count": null,
   "metadata": {},
   "outputs": [],
   "source": []
  },
  {
   "cell_type": "code",
   "execution_count": 676,
   "metadata": {},
   "outputs": [
    {
     "data": {
      "text/html": [
       "<div>\n",
       "<style scoped>\n",
       "    .dataframe tbody tr th:only-of-type {\n",
       "        vertical-align: middle;\n",
       "    }\n",
       "\n",
       "    .dataframe tbody tr th {\n",
       "        vertical-align: top;\n",
       "    }\n",
       "\n",
       "    .dataframe thead th {\n",
       "        text-align: right;\n",
       "    }\n",
       "</style>\n",
       "<table border=\"1\" class=\"dataframe\">\n",
       "  <thead>\n",
       "    <tr style=\"text-align: right;\">\n",
       "      <th></th>\n",
       "      <th>Restaurant_id</th>\n",
       "      <th>City</th>\n",
       "      <th>Cuisine Style</th>\n",
       "      <th>Ranking</th>\n",
       "      <th>Rating</th>\n",
       "      <th>Price Range</th>\n",
       "      <th>Number of Reviews</th>\n",
       "      <th>Reviews</th>\n",
       "      <th>URL_TA</th>\n",
       "      <th>ID_TA</th>\n",
       "      <th>sample</th>\n",
       "      <th>Restaurant_id_NUM</th>\n",
       "      <th>ID_TA_NUM</th>\n",
       "    </tr>\n",
       "  </thead>\n",
       "  <tbody>\n",
       "    <tr>\n",
       "      <td>0</td>\n",
       "      <td>id_5569</td>\n",
       "      <td>Paris</td>\n",
       "      <td>['European', 'French', 'International']</td>\n",
       "      <td>5570.0</td>\n",
       "      <td>3.5</td>\n",
       "      <td>$$ - $$$</td>\n",
       "      <td>194.0</td>\n",
       "      <td>[['Good food at your doorstep', 'A good hotel ...</td>\n",
       "      <td>/Restaurant_Review-g187147-d1912643-Reviews-R_...</td>\n",
       "      <td>d1912643</td>\n",
       "      <td>1</td>\n",
       "      <td>5569</td>\n",
       "      <td>1912643</td>\n",
       "    </tr>\n",
       "    <tr>\n",
       "      <td>1</td>\n",
       "      <td>id_1535</td>\n",
       "      <td>Stockholm</td>\n",
       "      <td>NaN</td>\n",
       "      <td>1537.0</td>\n",
       "      <td>4.0</td>\n",
       "      <td>NaN</td>\n",
       "      <td>10.0</td>\n",
       "      <td>[['Unique cuisine', 'Delicious Nepalese food']...</td>\n",
       "      <td>/Restaurant_Review-g189852-d7992032-Reviews-Bu...</td>\n",
       "      <td>d7992032</td>\n",
       "      <td>1</td>\n",
       "      <td>1535</td>\n",
       "      <td>7992032</td>\n",
       "    </tr>\n",
       "    <tr>\n",
       "      <td>2</td>\n",
       "      <td>id_352</td>\n",
       "      <td>London</td>\n",
       "      <td>['Japanese', 'Sushi', 'Asian', 'Grill', 'Veget...</td>\n",
       "      <td>353.0</td>\n",
       "      <td>4.5</td>\n",
       "      <td>$$$$</td>\n",
       "      <td>688.0</td>\n",
       "      <td>[['Catch up with friends', 'Not exceptional'],...</td>\n",
       "      <td>/Restaurant_Review-g186338-d8632781-Reviews-RO...</td>\n",
       "      <td>d8632781</td>\n",
       "      <td>1</td>\n",
       "      <td>352</td>\n",
       "      <td>8632781</td>\n",
       "    </tr>\n",
       "    <tr>\n",
       "      <td>3</td>\n",
       "      <td>id_3456</td>\n",
       "      <td>Berlin</td>\n",
       "      <td>NaN</td>\n",
       "      <td>3458.0</td>\n",
       "      <td>5.0</td>\n",
       "      <td>NaN</td>\n",
       "      <td>3.0</td>\n",
       "      <td>[[], []]</td>\n",
       "      <td>/Restaurant_Review-g187323-d1358776-Reviews-Es...</td>\n",
       "      <td>d1358776</td>\n",
       "      <td>1</td>\n",
       "      <td>3456</td>\n",
       "      <td>1358776</td>\n",
       "    </tr>\n",
       "    <tr>\n",
       "      <td>4</td>\n",
       "      <td>id_615</td>\n",
       "      <td>Munich</td>\n",
       "      <td>['German', 'Central European', 'Vegetarian Fri...</td>\n",
       "      <td>621.0</td>\n",
       "      <td>4.0</td>\n",
       "      <td>$$ - $$$</td>\n",
       "      <td>84.0</td>\n",
       "      <td>[['Best place to try a Bavarian food', 'Nice b...</td>\n",
       "      <td>/Restaurant_Review-g187309-d6864963-Reviews-Au...</td>\n",
       "      <td>d6864963</td>\n",
       "      <td>1</td>\n",
       "      <td>615</td>\n",
       "      <td>6864963</td>\n",
       "    </tr>\n",
       "  </tbody>\n",
       "</table>\n",
       "</div>"
      ],
      "text/plain": [
       "  Restaurant_id       City                                      Cuisine Style  \\\n",
       "0       id_5569      Paris            ['European', 'French', 'International']   \n",
       "1       id_1535  Stockholm                                                NaN   \n",
       "2        id_352     London  ['Japanese', 'Sushi', 'Asian', 'Grill', 'Veget...   \n",
       "3       id_3456     Berlin                                                NaN   \n",
       "4        id_615     Munich  ['German', 'Central European', 'Vegetarian Fri...   \n",
       "\n",
       "   Ranking  Rating Price Range  Number of Reviews  \\\n",
       "0   5570.0     3.5    $$ - $$$              194.0   \n",
       "1   1537.0     4.0         NaN               10.0   \n",
       "2    353.0     4.5        $$$$              688.0   \n",
       "3   3458.0     5.0         NaN                3.0   \n",
       "4    621.0     4.0    $$ - $$$               84.0   \n",
       "\n",
       "                                             Reviews  \\\n",
       "0  [['Good food at your doorstep', 'A good hotel ...   \n",
       "1  [['Unique cuisine', 'Delicious Nepalese food']...   \n",
       "2  [['Catch up with friends', 'Not exceptional'],...   \n",
       "3                                           [[], []]   \n",
       "4  [['Best place to try a Bavarian food', 'Nice b...   \n",
       "\n",
       "                                              URL_TA     ID_TA  sample  \\\n",
       "0  /Restaurant_Review-g187147-d1912643-Reviews-R_...  d1912643       1   \n",
       "1  /Restaurant_Review-g189852-d7992032-Reviews-Bu...  d7992032       1   \n",
       "2  /Restaurant_Review-g186338-d8632781-Reviews-RO...  d8632781       1   \n",
       "3  /Restaurant_Review-g187323-d1358776-Reviews-Es...  d1358776       1   \n",
       "4  /Restaurant_Review-g187309-d6864963-Reviews-Au...  d6864963       1   \n",
       "\n",
       "   Restaurant_id_NUM  ID_TA_NUM  \n",
       "0               5569    1912643  \n",
       "1               1535    7992032  \n",
       "2                352    8632781  \n",
       "3               3456    1358776  \n",
       "4                615    6864963  "
      ]
     },
     "execution_count": 676,
     "metadata": {},
     "output_type": "execute_result"
    }
   ],
   "source": [
    "df_train.head()"
   ]
  },
  {
   "cell_type": "markdown",
   "metadata": {},
   "source": [
    "## Убираем NaN и заполняем где надо как-то разумно"
   ]
  },
  {
   "cell_type": "code",
   "execution_count": 633,
   "metadata": {},
   "outputs": [
    {
     "name": "stdout",
     "output_type": "stream",
     "text": [
      "                    Ranking    Rating  Number of Reviews\n",
      "Ranking            1.000000 -0.368371          -0.222670\n",
      "Rating            -0.368371  1.000000           0.030964\n",
      "Number of Reviews -0.222670  0.030964           1.000000\n",
      "---------Correlated---------\n",
      "---------end--------\n"
     ]
    },
    {
     "data": {
      "image/png": "[encoded data removed]",
      "text/plain": [
       "<Figure size 360x360 with 2 Axes>"
      ]
     },
     "metadata": {
      "needs_background": "light"
     },
     "output_type": "display_data"
    }
   ],
   "source": [
    "# посмотрим корреляцию в лоб\n",
    "correlation_workflow(df_train.drop(['sample'], axis=1), 0.7, 0.1, 5)"
   ]
  },
  {
   "cell_type": "code",
   "execution_count": 602,
   "metadata": {},
   "outputs": [],
   "source": [
    "# пока ничего не видно"
   ]
  },
  {
   "cell_type": "markdown",
   "metadata": {},
   "source": [
    "### Restaurant_id"
   ]
  },
  {
   "cell_type": "code",
   "execution_count": 603,
   "metadata": {
    "scrolled": true
   },
   "outputs": [
    {
     "data": {
      "text/plain": [
       "id_0       15\n",
       "id_1        9\n",
       "id_10      14\n",
       "id_100     12\n",
       "id_1000    11\n",
       "           ..\n",
       "id_999     11\n",
       "id_9991     1\n",
       "id_9992     2\n",
       "id_9994     1\n",
       "id_9995     2\n",
       "Name: Restaurant_id, Length: 11909, dtype: int64"
      ]
     },
     "execution_count": 603,
     "metadata": {},
     "output_type": "execute_result"
    }
   ],
   "source": [
    "df_train['Restaurant_id'].value_counts().sort_index()"
   ]
  },
  {
   "cell_type": "code",
   "execution_count": 604,
   "metadata": {
    "scrolled": true
   },
   "outputs": [
    {
     "data": {
      "text/plain": [
       "id_8616     1\n",
       "id_4103     1\n",
       "id_9790     1\n",
       "id_6534     1\n",
       "id_7992     1\n",
       "           ..\n",
       "id_534     17\n",
       "id_227     18\n",
       "id_436     18\n",
       "id_633     18\n",
       "id_871     18\n",
       "Name: Restaurant_id, Length: 11909, dtype: int64"
      ]
     },
     "execution_count": 604,
     "metadata": {},
     "output_type": "execute_result"
    }
   ],
   "source": [
    "vc_sv_rest_id = df_train['Restaurant_id'].value_counts().sort_values()\n",
    "vc_sv_rest_id"
   ]
  },
  {
   "cell_type": "code",
   "execution_count": 605,
   "metadata": {},
   "outputs": [],
   "source": [
    "# как видно строк как пустых ячеек нет, странных значений тоже, кажется всё ок"
   ]
  },
  {
   "cell_type": "code",
   "execution_count": 624,
   "metadata": {},
   "outputs": [
    {
     "data": {
      "text/plain": [
       "<matplotlib.axes._subplots.AxesSubplot at 0x1832bcc5b48>"
      ]
     },
     "execution_count": 624,
     "metadata": {},
     "output_type": "execute_result"
    },
    {
     "data": {
      "image/png": "[encoded data removed]",
      "text/plain": [
       "<Figure size 1080x360 with 1 Axes>"
      ]
     },
     "metadata": {
      "needs_background": "light"
     },
     "output_type": "display_data"
    }
   ],
   "source": [
    "# посмотрим как много много-ресторанных id\n",
    "df_train['Restaurant_id'].value_counts(dropna=True).hist(bins=40, figsize=(15,5))"
   ]
  },
  {
   "cell_type": "code",
   "execution_count": 607,
   "metadata": {
    "scrolled": true
   },
   "outputs": [
    {
     "data": {
      "text/plain": [
       "id_5191    4\n",
       "id_23      9\n",
       "id_6942    3\n",
       "id_3916    4\n",
       "id_2886    4\n",
       "Name: Restaurant_id, dtype: int64"
      ]
     },
     "execution_count": 607,
     "metadata": {},
     "output_type": "execute_result"
    }
   ],
   "source": [
    "# посмотрим что значит одинаковый 'Restaurant_id', возмем пять случайных и посмотрим на их города и кухни\n",
    "vc_sv_many = vc_sv_rest_id[vc_sv_rest_id > 2].sample(5)\n",
    "vc_sv_many"
   ]
  },
  {
   "cell_type": "code",
   "execution_count": 608,
   "metadata": {
    "scrolled": true
   },
   "outputs": [
    {
     "name": "stdout",
     "output_type": "stream",
     "text": [
      "      Restaurant_id    City                                      Cuisine Style\n",
      "1111        id_5191    Rome                                                NaN\n",
      "17270       id_5191   Milan  ['Italian', 'Pizza', 'Mediterranean', 'Vegetar...\n",
      "17520       id_5191  London  ['Bar', 'British', 'Contemporary', 'Gluten Fre...\n",
      "18337       id_5191  Madrid                                        ['Italian']\n",
      "      Restaurant_id       City  \\\n",
      "3228          id_23     Lisbon   \n",
      "9938          id_23  Ljubljana   \n",
      "10957         id_23     Zurich   \n",
      "13600         id_23    Hamburg   \n",
      "16642         id_23     Munich   \n",
      "22132         id_23     Berlin   \n",
      "26397         id_23       Rome   \n",
      "39646         id_23       Lyon   \n",
      "39840         id_23     Madrid   \n",
      "\n",
      "                                           Cuisine Style  \n",
      "3228   ['Mediterranean', 'European', 'Portuguese', 'V...  \n",
      "9938   ['Italian', 'Pizza', 'European', 'Vegetarian F...  \n",
      "10957  ['Japanese', 'Sushi', 'Asian', 'Vegetarian Fri...  \n",
      "13600  ['American', 'Steakhouse', 'Barbecue', 'Europe...  \n",
      "16642  ['Middle Eastern', 'Afghani', 'Vegetarian Frie...  \n",
      "22132                  ['German', 'Vegetarian Friendly']  \n",
      "26397  ['Italian', 'Pizza', 'Mediterranean', 'Vegetar...  \n",
      "39646                             ['French', 'European']  \n",
      "39840  ['Mediterranean', 'European', 'Spanish', 'Vege...  \n",
      "      Restaurant_id       City                    Cuisine Style\n",
      "2340        id_6942      Paris  ['French', 'Chinese', 'Indian']\n",
      "15870       id_6942  Barcelona                              NaN\n",
      "32729       id_6942     London                      ['Seafood']\n",
      "      Restaurant_id    City                                      Cuisine Style\n",
      "14460       id_3916  Prague                     ['Pizza', 'European', 'Czech']\n",
      "19801       id_3916  Madrid  ['American', 'International', 'Barbecue', 'Eur...\n",
      "29151       id_3916   Paris  ['Lebanese', 'Moroccan', 'Mediterranean', 'Mid...\n",
      "36144       id_3916  London               ['Steakhouse', 'Brazilian', 'Latin']\n",
      "      Restaurant_id       City  \\\n",
      "14721       id_2886      Milan   \n",
      "19257       id_2886     Lisbon   \n",
      "26467       id_2886   Brussels   \n",
      "28424       id_2886  Barcelona   \n",
      "\n",
      "                                           Cuisine Style  \n",
      "14721  ['Italian', 'International', 'Mediterranean', ...  \n",
      "19257              ['Seafood', 'European', 'Portuguese']  \n",
      "26467                      ['Cafe', 'Spanish', 'Fusion']  \n",
      "28424                       ['Mediterranean', 'Spanish']  \n"
     ]
    }
   ],
   "source": [
    "for t in range(0, len(vc_sv_many)):\n",
    "    t_rest =  df_train.loc[df_train['Restaurant_id']==vc_sv_many.index[t]][['Restaurant_id', 'City', 'Cuisine Style']]\n",
    "    print(t_rest)"
   ]
  },
  {
   "cell_type": "code",
   "execution_count": 609,
   "metadata": {},
   "outputs": [],
   "source": [
    "# как видим - полное разнообразие, 'Restaurant_id' не говорит про сетевой ресторан, подумаем дальше"
   ]
  },
  {
   "cell_type": "markdown",
   "metadata": {},
   "source": [
    "### City"
   ]
  },
  {
   "cell_type": "code",
   "execution_count": 610,
   "metadata": {},
   "outputs": [
    {
     "data": {
      "text/plain": [
       "Amsterdam     1086\n",
       "Athens         628\n",
       "Barcelona     2734\n",
       "Berlin        2155\n",
       "Bratislava     301\n",
       "              ... \n",
       "Rome          2078\n",
       "Stockholm      820\n",
       "Vienna        1166\n",
       "Warsaw         727\n",
       "Zurich         538\n",
       "Name: City, Length: 31, dtype: int64"
      ]
     },
     "execution_count": 610,
     "metadata": {},
     "output_type": "execute_result"
    }
   ],
   "source": [
    "df_train['City'].value_counts().sort_index()"
   ]
  },
  {
   "cell_type": "code",
   "execution_count": 611,
   "metadata": {},
   "outputs": [],
   "source": [
    "# тут тоже всё ок"
   ]
  },
  {
   "cell_type": "markdown",
   "metadata": {},
   "source": [
    "### Ranking"
   ]
  },
  {
   "cell_type": "code",
   "execution_count": 612,
   "metadata": {},
   "outputs": [
    {
     "data": {
      "text/plain": [
       "1.0        15\n",
       "2.0         9\n",
       "3.0        14\n",
       "4.0         8\n",
       "5.0        13\n",
       "           ..\n",
       "16420.0     1\n",
       "16435.0     1\n",
       "16437.0     1\n",
       "16441.0     1\n",
       "16444.0     1\n",
       "Name: Ranking, Length: 11936, dtype: int64"
      ]
     },
     "execution_count": 612,
     "metadata": {},
     "output_type": "execute_result"
    }
   ],
   "source": [
    "df_train['Ranking'].value_counts().sort_index()"
   ]
  },
  {
   "cell_type": "code",
   "execution_count": 613,
   "metadata": {},
   "outputs": [
    {
     "data": {
      "text/plain": [
       "5699.0      1\n",
       "10638.0     1\n",
       "8490.0      1\n",
       "16381.0     1\n",
       "14357.0     1\n",
       "           ..\n",
       "431.0      18\n",
       "345.0      18\n",
       "491.0      18\n",
       "437.0      18\n",
       "1080.0     19\n",
       "Name: Ranking, Length: 11936, dtype: int64"
      ]
     },
     "execution_count": 613,
     "metadata": {},
     "output_type": "execute_result"
    }
   ],
   "source": [
    "df_train['Ranking'].value_counts().sort_values()"
   ]
  },
  {
   "cell_type": "code",
   "execution_count": 614,
   "metadata": {},
   "outputs": [],
   "source": [
    "# тут тоже всё ок"
   ]
  },
  {
   "cell_type": "code",
   "execution_count": 625,
   "metadata": {},
   "outputs": [
    {
     "data": {
      "text/plain": [
       "<matplotlib.axes._subplots.AxesSubplot at 0x1835f8eb5c8>"
      ]
     },
     "execution_count": 625,
     "metadata": {},
     "output_type": "execute_result"
    },
    {
     "data": {
      "image/png": "[encoded data removed]",
      "text/plain": [
       "<Figure size 1080x360 with 1 Axes>"
      ]
     },
     "metadata": {
      "needs_background": "light"
     },
     "output_type": "display_data"
    }
   ],
   "source": [
    "df_train['Ranking'].value_counts(dropna=True).hist(bins=40, figsize=(15,5))"
   ]
  },
  {
   "cell_type": "code",
   "execution_count": 616,
   "metadata": {
    "scrolled": true
   },
   "outputs": [
    {
     "data": {
      "text/html": [
       "<div>\n",
       "<style scoped>\n",
       "    .dataframe tbody tr th:only-of-type {\n",
       "        vertical-align: middle;\n",
       "    }\n",
       "\n",
       "    .dataframe tbody tr th {\n",
       "        vertical-align: top;\n",
       "    }\n",
       "\n",
       "    .dataframe thead th {\n",
       "        text-align: right;\n",
       "    }\n",
       "</style>\n",
       "<table border=\"1\" class=\"dataframe\">\n",
       "  <thead>\n",
       "    <tr style=\"text-align: right;\">\n",
       "      <th></th>\n",
       "      <th>Restaurant_id</th>\n",
       "      <th>Ranking</th>\n",
       "    </tr>\n",
       "  </thead>\n",
       "  <tbody>\n",
       "    <tr>\n",
       "      <td>0</td>\n",
       "      <td>id_5569</td>\n",
       "      <td>5570.0</td>\n",
       "    </tr>\n",
       "    <tr>\n",
       "      <td>1</td>\n",
       "      <td>id_1535</td>\n",
       "      <td>1537.0</td>\n",
       "    </tr>\n",
       "    <tr>\n",
       "      <td>2</td>\n",
       "      <td>id_352</td>\n",
       "      <td>353.0</td>\n",
       "    </tr>\n",
       "    <tr>\n",
       "      <td>3</td>\n",
       "      <td>id_3456</td>\n",
       "      <td>3458.0</td>\n",
       "    </tr>\n",
       "    <tr>\n",
       "      <td>4</td>\n",
       "      <td>id_615</td>\n",
       "      <td>621.0</td>\n",
       "    </tr>\n",
       "    <tr>\n",
       "      <td>...</td>\n",
       "      <td>...</td>\n",
       "      <td>...</td>\n",
       "    </tr>\n",
       "    <tr>\n",
       "      <td>39995</td>\n",
       "      <td>id_499</td>\n",
       "      <td>500.0</td>\n",
       "    </tr>\n",
       "    <tr>\n",
       "      <td>39996</td>\n",
       "      <td>id_6340</td>\n",
       "      <td>6341.0</td>\n",
       "    </tr>\n",
       "    <tr>\n",
       "      <td>39997</td>\n",
       "      <td>id_1649</td>\n",
       "      <td>1652.0</td>\n",
       "    </tr>\n",
       "    <tr>\n",
       "      <td>39998</td>\n",
       "      <td>id_640</td>\n",
       "      <td>641.0</td>\n",
       "    </tr>\n",
       "    <tr>\n",
       "      <td>39999</td>\n",
       "      <td>id_4824</td>\n",
       "      <td>4827.0</td>\n",
       "    </tr>\n",
       "  </tbody>\n",
       "</table>\n",
       "<p>40000 rows × 2 columns</p>\n",
       "</div>"
      ],
      "text/plain": [
       "      Restaurant_id  Ranking\n",
       "0           id_5569   5570.0\n",
       "1           id_1535   1537.0\n",
       "2            id_352    353.0\n",
       "3           id_3456   3458.0\n",
       "4            id_615    621.0\n",
       "...             ...      ...\n",
       "39995        id_499    500.0\n",
       "39996       id_6340   6341.0\n",
       "39997       id_1649   1652.0\n",
       "39998        id_640    641.0\n",
       "39999       id_4824   4827.0\n",
       "\n",
       "[40000 rows x 2 columns]"
      ]
     },
     "execution_count": 616,
     "metadata": {},
     "output_type": "execute_result"
    }
   ],
   "source": [
    "# Очень похоже на Restaurant_Id\n",
    "df_train[['Restaurant_id', 'Ranking']]"
   ]
  },
  {
   "cell_type": "code",
   "execution_count": 617,
   "metadata": {},
   "outputs": [],
   "source": [
    "# Даже так бросается в глаза сходство o_O"
   ]
  },
  {
   "cell_type": "code",
   "execution_count": 618,
   "metadata": {},
   "outputs": [],
   "source": [
    "# Сделаем номерной признак и подсчитаем корреляцию опять\n",
    "#def rest_id_to_num(rest_id_str):\n",
    "#    parts = rest_id_str.split('_')\n",
    "#    id_num = int(parts[1])\n",
    "#    return id_num"
   ]
  },
  {
   "cell_type": "code",
   "execution_count": 634,
   "metadata": {},
   "outputs": [
    {
     "data": {
      "text/plain": [
       "<matplotlib.axes._subplots.AxesSubplot at 0x1834e8d0e48>"
      ]
     },
     "execution_count": 634,
     "metadata": {},
     "output_type": "execute_result"
    },
    {
     "data": {
      "image/png": "[encoded data removed]",
      "text/plain": [
       "<Figure size 1080x360 with 1 Axes>"
      ]
     },
     "metadata": {
      "needs_background": "light"
     },
     "output_type": "display_data"
    }
   ],
   "source": [
    "# Сделаем номерной признак и подсчитаем корреляцию опять\n",
    "df['Restaurant_id_NUM'] = df['Restaurant_id'].apply(lambda x: rest_id_to_num(x))\n",
    "df['Restaurant_id_NUM'].hist(bins=100, figsize=(15,5))\n",
    "\n",
    "# это для корелляции\n",
    "df_train['Restaurant_id_NUM'] = df_train['Restaurant_id'].apply(lambda x: rest_id_to_num(x))\n",
    "df_train['Restaurant_id_NUM'].hist(bins=100, figsize=(15,5))"
   ]
  },
  {
   "cell_type": "code",
   "execution_count": 636,
   "metadata": {
    "scrolled": true
   },
   "outputs": [
    {
     "name": "stdout",
     "output_type": "stream",
     "text": [
      "                    Ranking    Rating  Number of Reviews  Restaurant_id_NUM\n",
      "Ranking            1.000000 -0.368371          -0.222670           1.000000\n",
      "Rating            -0.368371  1.000000           0.030964          -0.368308\n",
      "Number of Reviews -0.222670  0.030964           1.000000          -0.222637\n",
      "Restaurant_id_NUM  1.000000 -0.368308          -0.222637           1.000000\n",
      "---------Correlated---------\n",
      "Restaurant_id_NUM \t Ranking \t 0.9999995570800042\n",
      "---------end--------\n"
     ]
    },
    {
     "data": {
      "image/png": "[encoded data removed]",
      "text/plain": [
       "<Figure size 720x720 with 2 Axes>"
      ]
     },
     "metadata": {
      "needs_background": "light"
     },
     "output_type": "display_data"
    }
   ],
   "source": [
    "correlation_workflow(df_train.drop(['sample'], axis=1), 0.7, 0.1, 10)"
   ]
  },
  {
   "cell_type": "markdown",
   "metadata": {},
   "source": [
    "### как видим - явная корелляция"
   ]
  },
  {
   "cell_type": "markdown",
   "metadata": {},
   "source": [
    "### URL_TA"
   ]
  },
  {
   "cell_type": "code",
   "execution_count": 460,
   "metadata": {
    "scrolled": true
   },
   "outputs": [
    {
     "data": {
      "text/plain": [
       "/Restaurant_Review-g189400-d3709131-Reviews-Myrovolos_Metaxourgeio-Athens_Attica.html    1\n",
       "/Restaurant_Review-g187147-d3457832-Reviews-Paris_Nord_Cafe-Paris_Ile_de_France.html     1\n",
       "                                                                                        ..\n",
       "/Restaurant_Review-g187514-d8753348-Reviews-Tropecientos-Madrid.html                     2\n",
       "/Restaurant_Review-g187514-d9802625-Reviews-La_Vie_en_Doux-Madrid.html                   2\n",
       "Name: URL_TA, Length: 39980, dtype: int64"
      ]
     },
     "execution_count": 460,
     "metadata": {},
     "output_type": "execute_result"
    }
   ],
   "source": [
    "vc_sv = df_train['URL_TA'].value_counts().sort_values()\n",
    "vc_sv"
   ]
  },
  {
   "cell_type": "code",
   "execution_count": 461,
   "metadata": {},
   "outputs": [
    {
     "data": {
      "text/plain": [
       "/Restaurant_Review-g187514-d987900-Reviews-Compostela_Restaurante-Madrid.html    2\n",
       "/Restaurant_Review-g187514-d4600226-Reviews-Cafeteria_Teresa-Madrid.html         2\n",
       "                                                                                ..\n",
       "/Restaurant_Review-g187514-d8753348-Reviews-Tropecientos-Madrid.html             2\n",
       "/Restaurant_Review-g187514-d9802625-Reviews-La_Vie_en_Doux-Madrid.html           2\n",
       "Name: URL_TA, Length: 20, dtype: int64"
      ]
     },
     "execution_count": 461,
     "metadata": {},
     "output_type": "execute_result"
    }
   ],
   "source": [
    "# дальше странная история, возьмем те которые больше раза встречаются \n",
    "vc_sv2 = vc_sv[vc_sv > 1]\n",
    "vc_sv2"
   ]
  },
  {
   "cell_type": "code",
   "execution_count": 462,
   "metadata": {},
   "outputs": [],
   "source": [
    "# # функция разницы между строками, там где разница пишет значение вида \"значение1 Vs значение2\"\n",
    "# def print_diffs_2rows(input_subdf, key_col):\n",
    "#     global dfXXX\n",
    "#     has_diffs_global = False\n",
    "#     for i in range(0, len(input_subdf)-1):\n",
    "#         #print(i)\n",
    "#         irow = input_subdf.iloc[i]\n",
    "#         for j in range(i+1, len(input_subdf)):\n",
    "#             #print(j)\n",
    "#             jrow = input_subdf.iloc[j]\n",
    "#             diffrow = irow.copy()\n",
    "#             has_diffs = False\n",
    "#             for nn in input_subdf.columns:\n",
    "#                 if (nn == key_col):\n",
    "#                     diffrow[nn] = irow[nn]\n",
    "#                     continue\n",
    "                    \n",
    "#                 if ((pd.isnull(irow[nn]) == True and pd.isnull(irow[nn]) == True) or (irow[nn] == jrow[nn])):\n",
    "#                     #diffrow[nn] = irow[nn]\n",
    "#                     diffrow[nn] = np.nan\n",
    "#                 else:\n",
    "#                     has_diffs = True\n",
    "#                     has_diffs_global = True\n",
    "#                     diffrow[nn] = '\"' + str(irow[nn]) + '\" Vs \"' + str(jrow[nn]) + '\"'\n",
    "\n",
    "#             if (has_diffs == True):\n",
    "#                 dfXXX = dfXXX.append(diffrow)"
   ]
  },
  {
   "cell_type": "code",
   "execution_count": 463,
   "metadata": {},
   "outputs": [],
   "source": [
    "# # функция разницы между всеми строками\n",
    "# def get_diff_all_rows(v_in, df_in, key_col_in):\n",
    "#     global dfXXX\n",
    "#     for t in range(0, len(v_in)):\n",
    "#         #print('v_in.index[t]' , v_in.index[t])\n",
    "#         t_rest =  df_in.loc[df_in[key_col_in]==v_in.index[t]]\n",
    "#         #print(t_rest)\n",
    "#         print_diffs_2rows(t_rest, key_col_in)\n",
    "#     dfXXX = dfXXX.reset_index()\n",
    "#     return dfXXX"
   ]
  },
  {
   "cell_type": "code",
   "execution_count": 464,
   "metadata": {},
   "outputs": [],
   "source": [
    "pd.set_option('display.max_rows', 15) # показывать больше строк"
   ]
  },
  {
   "cell_type": "code",
   "execution_count": 653,
   "metadata": {},
   "outputs": [],
   "source": [
    "# # смотрим разницу\n",
    "# dfXXX = pd.DataFrame(columns=df.columns)\n",
    "# res = get_diff_all_rows(vc_sv2, df_train, 'URL_TA')\n",
    "# # убираем одинаковое\n",
    "# res = res.dropna(axis=1, how='all')\n",
    "# #print(res)\n",
    "# res"
   ]
  },
  {
   "cell_type": "code",
   "execution_count": 652,
   "metadata": {},
   "outputs": [
    {
     "data": {
      "text/html": [
       "<div>\n",
       "<style scoped>\n",
       "    .dataframe tbody tr th:only-of-type {\n",
       "        vertical-align: middle;\n",
       "    }\n",
       "\n",
       "    .dataframe tbody tr th {\n",
       "        vertical-align: top;\n",
       "    }\n",
       "\n",
       "    .dataframe thead th {\n",
       "        text-align: right;\n",
       "    }\n",
       "</style>\n",
       "<table border=\"1\" class=\"dataframe\">\n",
       "  <thead>\n",
       "    <tr style=\"text-align: right;\">\n",
       "      <th></th>\n",
       "      <th>index</th>\n",
       "      <th>Restaurant_id</th>\n",
       "      <th>Ranking</th>\n",
       "      <th>URL_TA</th>\n",
       "      <th>Restaurant_id_NUM</th>\n",
       "    </tr>\n",
       "  </thead>\n",
       "  <tbody>\n",
       "    <tr>\n",
       "      <td>0</td>\n",
       "      <td>8019</td>\n",
       "      <td>\"id_2361\" Vs \"id_2312\"</td>\n",
       "      <td>\"2363.0\" Vs \"2314.0\"</td>\n",
       "      <td>/Restaurant_Review-g187514-d987900-Reviews-Com...</td>\n",
       "      <td>\"2361\" Vs \"2312\"</td>\n",
       "    </tr>\n",
       "    <tr>\n",
       "      <td>1</td>\n",
       "      <td>147</td>\n",
       "      <td>\"id_4110\" Vs \"id_4104\"</td>\n",
       "      <td>\"4112.0\" Vs \"4106.0\"</td>\n",
       "      <td>/Restaurant_Review-g187514-d4600226-Reviews-Ca...</td>\n",
       "      <td>\"4110\" Vs \"4104\"</td>\n",
       "    </tr>\n",
       "    <tr>\n",
       "      <td>2</td>\n",
       "      <td>25251</td>\n",
       "      <td>\"id_3575\" Vs \"id_3709\"</td>\n",
       "      <td>\"3577.0\" Vs \"3711.0\"</td>\n",
       "      <td>/Restaurant_Review-g187514-d3161682-Reviews-Ce...</td>\n",
       "      <td>\"3575\" Vs \"3709\"</td>\n",
       "    </tr>\n",
       "    <tr>\n",
       "      <td>3</td>\n",
       "      <td>15295</td>\n",
       "      <td>\"id_475\" Vs \"id_530\"</td>\n",
       "      <td>\"476.0\" Vs \"531.0\"</td>\n",
       "      <td>/Restaurant_Review-g187514-d9877640-Reviews-Ra...</td>\n",
       "      <td>\"475\" Vs \"530\"</td>\n",
       "    </tr>\n",
       "    <tr>\n",
       "      <td>4</td>\n",
       "      <td>10819</td>\n",
       "      <td>\"id_2197\" Vs \"id_2329\"</td>\n",
       "      <td>\"2199.0\" Vs \"2331.0\"</td>\n",
       "      <td>/Restaurant_Review-g187514-d11921719-Reviews-C...</td>\n",
       "      <td>\"2197\" Vs \"2329\"</td>\n",
       "    </tr>\n",
       "    <tr>\n",
       "      <td>...</td>\n",
       "      <td>...</td>\n",
       "      <td>...</td>\n",
       "      <td>...</td>\n",
       "      <td>...</td>\n",
       "      <td>...</td>\n",
       "    </tr>\n",
       "    <tr>\n",
       "      <td>15</td>\n",
       "      <td>5240</td>\n",
       "      <td>\"id_2406\" Vs \"id_2487\"</td>\n",
       "      <td>\"2408.0\" Vs \"2489.0\"</td>\n",
       "      <td>/Restaurant_Review-g187514-d793170-Reviews-Car...</td>\n",
       "      <td>\"2406\" Vs \"2487\"</td>\n",
       "    </tr>\n",
       "    <tr>\n",
       "      <td>16</td>\n",
       "      <td>26431</td>\n",
       "      <td>\"id_3238\" Vs \"id_3240\"</td>\n",
       "      <td>\"3240.0\" Vs \"3242.0\"</td>\n",
       "      <td>/Restaurant_Review-g187514-d11698990-Reviews-V...</td>\n",
       "      <td>\"3238\" Vs \"3240\"</td>\n",
       "    </tr>\n",
       "    <tr>\n",
       "      <td>17</td>\n",
       "      <td>15525</td>\n",
       "      <td>\"id_3967\" Vs \"id_4331\"</td>\n",
       "      <td>\"3969.0\" Vs \"4333.0\"</td>\n",
       "      <td>/Restaurant_Review-g187514-d7809594-Reviews-La...</td>\n",
       "      <td>\"3967\" Vs \"4331\"</td>\n",
       "    </tr>\n",
       "    <tr>\n",
       "      <td>18</td>\n",
       "      <td>13942</td>\n",
       "      <td>\"id_1103\" Vs \"id_1212\"</td>\n",
       "      <td>\"1104.0\" Vs \"1213.0\"</td>\n",
       "      <td>/Restaurant_Review-g187514-d8753348-Reviews-Tr...</td>\n",
       "      <td>\"1103\" Vs \"1212\"</td>\n",
       "    </tr>\n",
       "    <tr>\n",
       "      <td>19</td>\n",
       "      <td>10594</td>\n",
       "      <td>\"id_2677\" Vs \"id_2486\"</td>\n",
       "      <td>\"2679.0\" Vs \"2488.0\"</td>\n",
       "      <td>/Restaurant_Review-g187514-d9802625-Reviews-La...</td>\n",
       "      <td>\"2677\" Vs \"2486\"</td>\n",
       "    </tr>\n",
       "  </tbody>\n",
       "</table>\n",
       "<p>20 rows × 5 columns</p>\n",
       "</div>"
      ],
      "text/plain": [
       "    index           Restaurant_id               Ranking  \\\n",
       "0    8019  \"id_2361\" Vs \"id_2312\"  \"2363.0\" Vs \"2314.0\"   \n",
       "1     147  \"id_4110\" Vs \"id_4104\"  \"4112.0\" Vs \"4106.0\"   \n",
       "2   25251  \"id_3575\" Vs \"id_3709\"  \"3577.0\" Vs \"3711.0\"   \n",
       "3   15295    \"id_475\" Vs \"id_530\"    \"476.0\" Vs \"531.0\"   \n",
       "4   10819  \"id_2197\" Vs \"id_2329\"  \"2199.0\" Vs \"2331.0\"   \n",
       "..    ...                     ...                   ...   \n",
       "15   5240  \"id_2406\" Vs \"id_2487\"  \"2408.0\" Vs \"2489.0\"   \n",
       "16  26431  \"id_3238\" Vs \"id_3240\"  \"3240.0\" Vs \"3242.0\"   \n",
       "17  15525  \"id_3967\" Vs \"id_4331\"  \"3969.0\" Vs \"4333.0\"   \n",
       "18  13942  \"id_1103\" Vs \"id_1212\"  \"1104.0\" Vs \"1213.0\"   \n",
       "19  10594  \"id_2677\" Vs \"id_2486\"  \"2679.0\" Vs \"2488.0\"   \n",
       "\n",
       "                                               URL_TA Restaurant_id_NUM  \n",
       "0   /Restaurant_Review-g187514-d987900-Reviews-Com...  \"2361\" Vs \"2312\"  \n",
       "1   /Restaurant_Review-g187514-d4600226-Reviews-Ca...  \"4110\" Vs \"4104\"  \n",
       "2   /Restaurant_Review-g187514-d3161682-Reviews-Ce...  \"3575\" Vs \"3709\"  \n",
       "3   /Restaurant_Review-g187514-d9877640-Reviews-Ra...    \"475\" Vs \"530\"  \n",
       "4   /Restaurant_Review-g187514-d11921719-Reviews-C...  \"2197\" Vs \"2329\"  \n",
       "..                                                ...               ...  \n",
       "15  /Restaurant_Review-g187514-d793170-Reviews-Car...  \"2406\" Vs \"2487\"  \n",
       "16  /Restaurant_Review-g187514-d11698990-Reviews-V...  \"3238\" Vs \"3240\"  \n",
       "17  /Restaurant_Review-g187514-d7809594-Reviews-La...  \"3967\" Vs \"4331\"  \n",
       "18  /Restaurant_Review-g187514-d8753348-Reviews-Tr...  \"1103\" Vs \"1212\"  \n",
       "19  /Restaurant_Review-g187514-d9802625-Reviews-La...  \"2677\" Vs \"2486\"  \n",
       "\n",
       "[20 rows x 5 columns]"
      ]
     },
     "execution_count": 652,
     "metadata": {},
     "output_type": "execute_result"
    }
   ],
   "source": [
    "get_nice_diff_for_column(vc_sv2, df_train, 'URL_TA')"
   ]
  },
  {
   "cell_type": "code",
   "execution_count": 654,
   "metadata": {},
   "outputs": [],
   "source": [
    "pd.set_option('display.max_rows', 5) # показывать больше строк"
   ]
  },
  {
   "cell_type": "code",
   "execution_count": 655,
   "metadata": {},
   "outputs": [
    {
     "data": {
      "text/html": [
       "<div>\n",
       "<style scoped>\n",
       "    .dataframe tbody tr th:only-of-type {\n",
       "        vertical-align: middle;\n",
       "    }\n",
       "\n",
       "    .dataframe tbody tr th {\n",
       "        vertical-align: top;\n",
       "    }\n",
       "\n",
       "    .dataframe thead th {\n",
       "        text-align: right;\n",
       "    }\n",
       "</style>\n",
       "<table border=\"1\" class=\"dataframe\">\n",
       "  <thead>\n",
       "    <tr style=\"text-align: right;\">\n",
       "      <th></th>\n",
       "      <th>Restaurant_id</th>\n",
       "      <th>City</th>\n",
       "      <th>Cuisine Style</th>\n",
       "      <th>Ranking</th>\n",
       "      <th>Rating</th>\n",
       "      <th>Price Range</th>\n",
       "      <th>Number of Reviews</th>\n",
       "      <th>Reviews</th>\n",
       "      <th>URL_TA</th>\n",
       "      <th>ID_TA</th>\n",
       "      <th>sample</th>\n",
       "      <th>Restaurant_id_NUM</th>\n",
       "    </tr>\n",
       "  </thead>\n",
       "  <tbody>\n",
       "    <tr>\n",
       "      <td>4110</td>\n",
       "      <td>id_1312</td>\n",
       "      <td>Milan</td>\n",
       "      <td>['Italian', 'Bar', 'Vegetarian Friendly']</td>\n",
       "      <td>1314.0</td>\n",
       "      <td>3.5</td>\n",
       "      <td>$$ - $$$</td>\n",
       "      <td>578.0</td>\n",
       "      <td>[['Great place to end a perfect night in Mila....</td>\n",
       "      <td>/Restaurant_Review-g187849-d1319744-Reviews-Le...</td>\n",
       "      <td>d1319744</td>\n",
       "      <td>1</td>\n",
       "      <td>1312</td>\n",
       "    </tr>\n",
       "    <tr>\n",
       "      <td>10147</td>\n",
       "      <td>id_627</td>\n",
       "      <td>Vienna</td>\n",
       "      <td>['Italian', 'Pizza', 'Mediterranean', 'Europea...</td>\n",
       "      <td>628.0</td>\n",
       "      <td>4.0</td>\n",
       "      <td>$$ - $$$</td>\n",
       "      <td>91.0</td>\n",
       "      <td>[['Tasty big pizza!', 'Really tasty pizza'], [...</td>\n",
       "      <td>/Restaurant_Review-g190454-d10386740-Reviews-R...</td>\n",
       "      <td>d10386740</td>\n",
       "      <td>1</td>\n",
       "      <td>627</td>\n",
       "    </tr>\n",
       "    <tr>\n",
       "      <td>28172</td>\n",
       "      <td>id_677</td>\n",
       "      <td>Dublin</td>\n",
       "      <td>['Irish', 'Steakhouse', 'European', 'Healthy',...</td>\n",
       "      <td>678.0</td>\n",
       "      <td>4.5</td>\n",
       "      <td>$$ - $$$</td>\n",
       "      <td>79.0</td>\n",
       "      <td>[['Brilliant as always', \"Don't know why it's ...</td>\n",
       "      <td>/Restaurant_Review-g186605-d7099464-Reviews-Vi...</td>\n",
       "      <td>d7099464</td>\n",
       "      <td>1</td>\n",
       "      <td>677</td>\n",
       "    </tr>\n",
       "  </tbody>\n",
       "</table>\n",
       "</div>"
      ],
      "text/plain": [
       "      Restaurant_id    City  \\\n",
       "4110        id_1312   Milan   \n",
       "10147        id_627  Vienna   \n",
       "28172        id_677  Dublin   \n",
       "\n",
       "                                           Cuisine Style  Ranking  Rating  \\\n",
       "4110           ['Italian', 'Bar', 'Vegetarian Friendly']   1314.0     3.5   \n",
       "10147  ['Italian', 'Pizza', 'Mediterranean', 'Europea...    628.0     4.0   \n",
       "28172  ['Irish', 'Steakhouse', 'European', 'Healthy',...    678.0     4.5   \n",
       "\n",
       "      Price Range  Number of Reviews  \\\n",
       "4110     $$ - $$$              578.0   \n",
       "10147    $$ - $$$               91.0   \n",
       "28172    $$ - $$$               79.0   \n",
       "\n",
       "                                                 Reviews  \\\n",
       "4110   [['Great place to end a perfect night in Mila....   \n",
       "10147  [['Tasty big pizza!', 'Really tasty pizza'], [...   \n",
       "28172  [['Brilliant as always', \"Don't know why it's ...   \n",
       "\n",
       "                                                  URL_TA      ID_TA  sample  \\\n",
       "4110   /Restaurant_Review-g187849-d1319744-Reviews-Le...   d1319744       1   \n",
       "10147  /Restaurant_Review-g190454-d10386740-Reviews-R...  d10386740       1   \n",
       "28172  /Restaurant_Review-g186605-d7099464-Reviews-Vi...   d7099464       1   \n",
       "\n",
       "       Restaurant_id_NUM  \n",
       "4110                1312  \n",
       "10147                627  \n",
       "28172                677  "
      ]
     },
     "execution_count": 655,
     "metadata": {},
     "output_type": "execute_result"
    }
   ],
   "source": [
    "# глянем пример этих самых id\n",
    "df_train.loc[df['Restaurant_id']=='id_4110']"
   ]
  },
  {
   "cell_type": "code",
   "execution_count": 656,
   "metadata": {
    "scrolled": true
   },
   "outputs": [
    {
     "data": {
      "text/html": [
       "<div>\n",
       "<style scoped>\n",
       "    .dataframe tbody tr th:only-of-type {\n",
       "        vertical-align: middle;\n",
       "    }\n",
       "\n",
       "    .dataframe tbody tr th {\n",
       "        vertical-align: top;\n",
       "    }\n",
       "\n",
       "    .dataframe thead th {\n",
       "        text-align: right;\n",
       "    }\n",
       "</style>\n",
       "<table border=\"1\" class=\"dataframe\">\n",
       "  <thead>\n",
       "    <tr style=\"text-align: right;\">\n",
       "      <th></th>\n",
       "      <th>Restaurant_id</th>\n",
       "      <th>City</th>\n",
       "      <th>Cuisine Style</th>\n",
       "      <th>Ranking</th>\n",
       "      <th>Rating</th>\n",
       "      <th>Price Range</th>\n",
       "      <th>Number of Reviews</th>\n",
       "      <th>Reviews</th>\n",
       "      <th>URL_TA</th>\n",
       "      <th>ID_TA</th>\n",
       "      <th>sample</th>\n",
       "      <th>Restaurant_id_NUM</th>\n",
       "    </tr>\n",
       "  </thead>\n",
       "  <tbody>\n",
       "    <tr>\n",
       "      <td>4104</td>\n",
       "      <td>id_2981</td>\n",
       "      <td>Lisbon</td>\n",
       "      <td>NaN</td>\n",
       "      <td>2984.0</td>\n",
       "      <td>3.5</td>\n",
       "      <td>NaN</td>\n",
       "      <td>6.0</td>\n",
       "      <td>[['Pastries delicious but cappuccino not so g....</td>\n",
       "      <td>/Restaurant_Review-g189158-d12446122-Reviews-A...</td>\n",
       "      <td>d12446122</td>\n",
       "      <td>1</td>\n",
       "      <td>2981</td>\n",
       "    </tr>\n",
       "    <tr>\n",
       "      <td>17897</td>\n",
       "      <td>id_9669</td>\n",
       "      <td>London</td>\n",
       "      <td>['British']</td>\n",
       "      <td>9678.0</td>\n",
       "      <td>4.0</td>\n",
       "      <td>$</td>\n",
       "      <td>29.0</td>\n",
       "      <td>[['Bartender likes to dance', 'They are workin...</td>\n",
       "      <td>/Restaurant_Review-g186338-d2328501-Reviews-Du...</td>\n",
       "      <td>d2328501</td>\n",
       "      <td>1</td>\n",
       "      <td>9669</td>\n",
       "    </tr>\n",
       "    <tr>\n",
       "      <td>19446</td>\n",
       "      <td>id_521</td>\n",
       "      <td>Lisbon</td>\n",
       "      <td>['Mediterranean', 'European', 'Healthy', 'Port...</td>\n",
       "      <td>522.0</td>\n",
       "      <td>5.0</td>\n",
       "      <td>$$ - $$$</td>\n",
       "      <td>43.0</td>\n",
       "      <td>[['Supper', 'Absolutely the best restaurant in...</td>\n",
       "      <td>/Restaurant_Review-g189158-d10317163-Reviews-B...</td>\n",
       "      <td>d10317163</td>\n",
       "      <td>1</td>\n",
       "      <td>521</td>\n",
       "    </tr>\n",
       "  </tbody>\n",
       "</table>\n",
       "</div>"
      ],
      "text/plain": [
       "      Restaurant_id    City  \\\n",
       "4104        id_2981  Lisbon   \n",
       "17897       id_9669  London   \n",
       "19446        id_521  Lisbon   \n",
       "\n",
       "                                           Cuisine Style  Ranking  Rating  \\\n",
       "4104                                                 NaN   2984.0     3.5   \n",
       "17897                                        ['British']   9678.0     4.0   \n",
       "19446  ['Mediterranean', 'European', 'Healthy', 'Port...    522.0     5.0   \n",
       "\n",
       "      Price Range  Number of Reviews  \\\n",
       "4104          NaN                6.0   \n",
       "17897           $               29.0   \n",
       "19446    $$ - $$$               43.0   \n",
       "\n",
       "                                                 Reviews  \\\n",
       "4104   [['Pastries delicious but cappuccino not so g....   \n",
       "17897  [['Bartender likes to dance', 'They are workin...   \n",
       "19446  [['Supper', 'Absolutely the best restaurant in...   \n",
       "\n",
       "                                                  URL_TA      ID_TA  sample  \\\n",
       "4104   /Restaurant_Review-g189158-d12446122-Reviews-A...  d12446122       1   \n",
       "17897  /Restaurant_Review-g186338-d2328501-Reviews-Du...   d2328501       1   \n",
       "19446  /Restaurant_Review-g189158-d10317163-Reviews-B...  d10317163       1   \n",
       "\n",
       "       Restaurant_id_NUM  \n",
       "4104                2981  \n",
       "17897               9669  \n",
       "19446                521  "
      ]
     },
     "execution_count": 656,
     "metadata": {},
     "output_type": "execute_result"
    }
   ],
   "source": [
    "df_train.loc[df['Restaurant_id']=='id_4104']"
   ]
  },
  {
   "cell_type": "markdown",
   "metadata": {},
   "source": [
    "##### Неясность Restaurant_id была обсуждена выше, тут по-прежнему непонятно. Так как строки явно дублируются, возможно это просто какие-то ошибки обновления БД..."
   ]
  },
  {
   "cell_type": "markdown",
   "metadata": {},
   "source": [
    "### ID_TA"
   ]
  },
  {
   "cell_type": "code",
   "execution_count": 657,
   "metadata": {},
   "outputs": [
    {
     "data": {
      "text/plain": [
       "d1153576     1\n",
       "d11906521    1\n",
       "            ..\n",
       "d1315077     2\n",
       "d11674463    2\n",
       "Name: ID_TA, Length: 39980, dtype: int64"
      ]
     },
     "execution_count": 657,
     "metadata": {},
     "output_type": "execute_result"
    }
   ],
   "source": [
    "vc_id_ta = df_train['ID_TA'].value_counts().sort_values()\n",
    "vc_id_ta"
   ]
  },
  {
   "cell_type": "code",
   "execution_count": 658,
   "metadata": {},
   "outputs": [],
   "source": [
    "# тут тоже всё ок"
   ]
  },
  {
   "cell_type": "code",
   "execution_count": 471,
   "metadata": {},
   "outputs": [
    {
     "data": {
      "text/plain": [
       "d11921719    2\n",
       "d11698990    2\n",
       "            ..\n",
       "d1315077     2\n",
       "d11674463    2\n",
       "Name: ID_TA, Length: 20, dtype: int64"
      ]
     },
     "execution_count": 471,
     "metadata": {},
     "output_type": "execute_result"
    }
   ],
   "source": [
    "# дальше такая же странная история как и раньше, возьмем те которые больше раза встречаются \n",
    "vc_id_ta2 = vc_id_ta[vc_id_ta > 1]\n",
    "vc_id_ta2"
   ]
  },
  {
   "cell_type": "code",
   "execution_count": 661,
   "metadata": {},
   "outputs": [],
   "source": [
    "pd.set_option('display.max_rows', 15) # показывать больше строк"
   ]
  },
  {
   "cell_type": "code",
   "execution_count": 473,
   "metadata": {},
   "outputs": [
    {
     "data": {
      "text/html": [
       "<div>\n",
       "<style scoped>\n",
       "    .dataframe tbody tr th:only-of-type {\n",
       "        vertical-align: middle;\n",
       "    }\n",
       "\n",
       "    .dataframe tbody tr th {\n",
       "        vertical-align: top;\n",
       "    }\n",
       "\n",
       "    .dataframe thead th {\n",
       "        text-align: right;\n",
       "    }\n",
       "</style>\n",
       "<table border=\"1\" class=\"dataframe\">\n",
       "  <thead>\n",
       "    <tr style=\"text-align: right;\">\n",
       "      <th></th>\n",
       "      <th>index</th>\n",
       "      <th>Restaurant_id</th>\n",
       "      <th>Ranking</th>\n",
       "      <th>ID_TA</th>\n",
       "      <th>Restaurant_id_NUM</th>\n",
       "    </tr>\n",
       "  </thead>\n",
       "  <tbody>\n",
       "    <tr>\n",
       "      <td>0</td>\n",
       "      <td>10819</td>\n",
       "      <td>\"id_2197\" Vs \"id_2329\"</td>\n",
       "      <td>\"2199.0\" Vs \"2331.0\"</td>\n",
       "      <td>d11921719</td>\n",
       "      <td>\"2197\" Vs \"2329\"</td>\n",
       "    </tr>\n",
       "    <tr>\n",
       "      <td>1</td>\n",
       "      <td>26431</td>\n",
       "      <td>\"id_3238\" Vs \"id_3240\"</td>\n",
       "      <td>\"3240.0\" Vs \"3242.0\"</td>\n",
       "      <td>d11698990</td>\n",
       "      <td>\"3238\" Vs \"3240\"</td>\n",
       "    </tr>\n",
       "    <tr>\n",
       "      <td>2</td>\n",
       "      <td>22924</td>\n",
       "      <td>\"id_2359\" Vs \"id_2467\"</td>\n",
       "      <td>\"2361.0\" Vs \"2469.0\"</td>\n",
       "      <td>d7342803</td>\n",
       "      <td>\"2359\" Vs \"2467\"</td>\n",
       "    </tr>\n",
       "    <tr>\n",
       "      <td>3</td>\n",
       "      <td>10183</td>\n",
       "      <td>\"id_1225\" Vs \"id_1197\"</td>\n",
       "      <td>\"1227.0\" Vs \"1198.0\"</td>\n",
       "      <td>d7337366</td>\n",
       "      <td>\"1225\" Vs \"1197\"</td>\n",
       "    </tr>\n",
       "    <tr>\n",
       "      <td>4</td>\n",
       "      <td>13980</td>\n",
       "      <td>\"id_3239\" Vs \"id_3242\"</td>\n",
       "      <td>\"3241.0\" Vs \"3244.0\"</td>\n",
       "      <td>d10047799</td>\n",
       "      <td>\"3239\" Vs \"3242\"</td>\n",
       "    </tr>\n",
       "    <tr>\n",
       "      <td>...</td>\n",
       "      <td>...</td>\n",
       "      <td>...</td>\n",
       "      <td>...</td>\n",
       "      <td>...</td>\n",
       "      <td>...</td>\n",
       "    </tr>\n",
       "    <tr>\n",
       "      <td>15</td>\n",
       "      <td>16920</td>\n",
       "      <td>\"id_3536\" Vs \"id_3662\"</td>\n",
       "      <td>\"3538.0\" Vs \"3664.0\"</td>\n",
       "      <td>d11999956</td>\n",
       "      <td>\"3536\" Vs \"3662\"</td>\n",
       "    </tr>\n",
       "    <tr>\n",
       "      <td>16</td>\n",
       "      <td>13942</td>\n",
       "      <td>\"id_1103\" Vs \"id_1212\"</td>\n",
       "      <td>\"1104.0\" Vs \"1213.0\"</td>\n",
       "      <td>d8753348</td>\n",
       "      <td>\"1103\" Vs \"1212\"</td>\n",
       "    </tr>\n",
       "    <tr>\n",
       "      <td>17</td>\n",
       "      <td>3942</td>\n",
       "      <td>\"id_5646\" Vs \"id_5617\"</td>\n",
       "      <td>\"5649.0\" Vs \"5620.0\"</td>\n",
       "      <td>d3685055</td>\n",
       "      <td>\"5646\" Vs \"5617\"</td>\n",
       "    </tr>\n",
       "    <tr>\n",
       "      <td>18</td>\n",
       "      <td>10439</td>\n",
       "      <td>\"id_468\" Vs \"id_511\"</td>\n",
       "      <td>\"469.0\" Vs \"512.0\"</td>\n",
       "      <td>d1315077</td>\n",
       "      <td>\"468\" Vs \"511\"</td>\n",
       "    </tr>\n",
       "    <tr>\n",
       "      <td>19</td>\n",
       "      <td>4732</td>\n",
       "      <td>\"id_3804\" Vs \"id_3810\"</td>\n",
       "      <td>\"3806.0\" Vs \"3812.0\"</td>\n",
       "      <td>d11674463</td>\n",
       "      <td>\"3804\" Vs \"3810\"</td>\n",
       "    </tr>\n",
       "  </tbody>\n",
       "</table>\n",
       "<p>20 rows × 5 columns</p>\n",
       "</div>"
      ],
      "text/plain": [
       "    index           Restaurant_id               Ranking      ID_TA  \\\n",
       "0   10819  \"id_2197\" Vs \"id_2329\"  \"2199.0\" Vs \"2331.0\"  d11921719   \n",
       "1   26431  \"id_3238\" Vs \"id_3240\"  \"3240.0\" Vs \"3242.0\"  d11698990   \n",
       "2   22924  \"id_2359\" Vs \"id_2467\"  \"2361.0\" Vs \"2469.0\"   d7342803   \n",
       "3   10183  \"id_1225\" Vs \"id_1197\"  \"1227.0\" Vs \"1198.0\"   d7337366   \n",
       "4   13980  \"id_3239\" Vs \"id_3242\"  \"3241.0\" Vs \"3244.0\"  d10047799   \n",
       "..    ...                     ...                   ...        ...   \n",
       "15  16920  \"id_3536\" Vs \"id_3662\"  \"3538.0\" Vs \"3664.0\"  d11999956   \n",
       "16  13942  \"id_1103\" Vs \"id_1212\"  \"1104.0\" Vs \"1213.0\"   d8753348   \n",
       "17   3942  \"id_5646\" Vs \"id_5617\"  \"5649.0\" Vs \"5620.0\"   d3685055   \n",
       "18  10439    \"id_468\" Vs \"id_511\"    \"469.0\" Vs \"512.0\"   d1315077   \n",
       "19   4732  \"id_3804\" Vs \"id_3810\"  \"3806.0\" Vs \"3812.0\"  d11674463   \n",
       "\n",
       "   Restaurant_id_NUM  \n",
       "0   \"2197\" Vs \"2329\"  \n",
       "1   \"3238\" Vs \"3240\"  \n",
       "2   \"2359\" Vs \"2467\"  \n",
       "3   \"1225\" Vs \"1197\"  \n",
       "4   \"3239\" Vs \"3242\"  \n",
       "..               ...  \n",
       "15  \"3536\" Vs \"3662\"  \n",
       "16  \"1103\" Vs \"1212\"  \n",
       "17  \"5646\" Vs \"5617\"  \n",
       "18    \"468\" Vs \"511\"  \n",
       "19  \"3804\" Vs \"3810\"  \n",
       "\n",
       "[20 rows x 5 columns]"
      ]
     },
     "execution_count": 473,
     "metadata": {},
     "output_type": "execute_result"
    }
   ],
   "source": [
    "# # смотрим разницу\n",
    "# dfXXX = pd.DataFrame(columns=df.columns)\n",
    "# #print(dfXXX)\n",
    "# col_name = 'ID_TA'\n",
    "# res = get_diff_all_rows(vc_id_ta2, df_train, col_name)\n",
    "# res = res.dropna(axis=1, how='all')\n",
    "# res"
   ]
  },
  {
   "cell_type": "code",
   "execution_count": 662,
   "metadata": {},
   "outputs": [
    {
     "data": {
      "text/html": [
       "<div>\n",
       "<style scoped>\n",
       "    .dataframe tbody tr th:only-of-type {\n",
       "        vertical-align: middle;\n",
       "    }\n",
       "\n",
       "    .dataframe tbody tr th {\n",
       "        vertical-align: top;\n",
       "    }\n",
       "\n",
       "    .dataframe thead th {\n",
       "        text-align: right;\n",
       "    }\n",
       "</style>\n",
       "<table border=\"1\" class=\"dataframe\">\n",
       "  <thead>\n",
       "    <tr style=\"text-align: right;\">\n",
       "      <th></th>\n",
       "      <th>index</th>\n",
       "      <th>Restaurant_id</th>\n",
       "      <th>Ranking</th>\n",
       "      <th>ID_TA</th>\n",
       "      <th>Restaurant_id_NUM</th>\n",
       "    </tr>\n",
       "  </thead>\n",
       "  <tbody>\n",
       "    <tr>\n",
       "      <td>0</td>\n",
       "      <td>10819</td>\n",
       "      <td>\"id_2197\" Vs \"id_2329\"</td>\n",
       "      <td>\"2199.0\" Vs \"2331.0\"</td>\n",
       "      <td>d11921719</td>\n",
       "      <td>\"2197\" Vs \"2329\"</td>\n",
       "    </tr>\n",
       "    <tr>\n",
       "      <td>1</td>\n",
       "      <td>26431</td>\n",
       "      <td>\"id_3238\" Vs \"id_3240\"</td>\n",
       "      <td>\"3240.0\" Vs \"3242.0\"</td>\n",
       "      <td>d11698990</td>\n",
       "      <td>\"3238\" Vs \"3240\"</td>\n",
       "    </tr>\n",
       "    <tr>\n",
       "      <td>2</td>\n",
       "      <td>22924</td>\n",
       "      <td>\"id_2359\" Vs \"id_2467\"</td>\n",
       "      <td>\"2361.0\" Vs \"2469.0\"</td>\n",
       "      <td>d7342803</td>\n",
       "      <td>\"2359\" Vs \"2467\"</td>\n",
       "    </tr>\n",
       "    <tr>\n",
       "      <td>3</td>\n",
       "      <td>10183</td>\n",
       "      <td>\"id_1225\" Vs \"id_1197\"</td>\n",
       "      <td>\"1227.0\" Vs \"1198.0\"</td>\n",
       "      <td>d7337366</td>\n",
       "      <td>\"1225\" Vs \"1197\"</td>\n",
       "    </tr>\n",
       "    <tr>\n",
       "      <td>4</td>\n",
       "      <td>13980</td>\n",
       "      <td>\"id_3239\" Vs \"id_3242\"</td>\n",
       "      <td>\"3241.0\" Vs \"3244.0\"</td>\n",
       "      <td>d10047799</td>\n",
       "      <td>\"3239\" Vs \"3242\"</td>\n",
       "    </tr>\n",
       "    <tr>\n",
       "      <td>...</td>\n",
       "      <td>...</td>\n",
       "      <td>...</td>\n",
       "      <td>...</td>\n",
       "      <td>...</td>\n",
       "      <td>...</td>\n",
       "    </tr>\n",
       "    <tr>\n",
       "      <td>15</td>\n",
       "      <td>16920</td>\n",
       "      <td>\"id_3536\" Vs \"id_3662\"</td>\n",
       "      <td>\"3538.0\" Vs \"3664.0\"</td>\n",
       "      <td>d11999956</td>\n",
       "      <td>\"3536\" Vs \"3662\"</td>\n",
       "    </tr>\n",
       "    <tr>\n",
       "      <td>16</td>\n",
       "      <td>13942</td>\n",
       "      <td>\"id_1103\" Vs \"id_1212\"</td>\n",
       "      <td>\"1104.0\" Vs \"1213.0\"</td>\n",
       "      <td>d8753348</td>\n",
       "      <td>\"1103\" Vs \"1212\"</td>\n",
       "    </tr>\n",
       "    <tr>\n",
       "      <td>17</td>\n",
       "      <td>3942</td>\n",
       "      <td>\"id_5646\" Vs \"id_5617\"</td>\n",
       "      <td>\"5649.0\" Vs \"5620.0\"</td>\n",
       "      <td>d3685055</td>\n",
       "      <td>\"5646\" Vs \"5617\"</td>\n",
       "    </tr>\n",
       "    <tr>\n",
       "      <td>18</td>\n",
       "      <td>10439</td>\n",
       "      <td>\"id_468\" Vs \"id_511\"</td>\n",
       "      <td>\"469.0\" Vs \"512.0\"</td>\n",
       "      <td>d1315077</td>\n",
       "      <td>\"468\" Vs \"511\"</td>\n",
       "    </tr>\n",
       "    <tr>\n",
       "      <td>19</td>\n",
       "      <td>4732</td>\n",
       "      <td>\"id_3804\" Vs \"id_3810\"</td>\n",
       "      <td>\"3806.0\" Vs \"3812.0\"</td>\n",
       "      <td>d11674463</td>\n",
       "      <td>\"3804\" Vs \"3810\"</td>\n",
       "    </tr>\n",
       "  </tbody>\n",
       "</table>\n",
       "<p>20 rows × 5 columns</p>\n",
       "</div>"
      ],
      "text/plain": [
       "    index           Restaurant_id               Ranking      ID_TA  \\\n",
       "0   10819  \"id_2197\" Vs \"id_2329\"  \"2199.0\" Vs \"2331.0\"  d11921719   \n",
       "1   26431  \"id_3238\" Vs \"id_3240\"  \"3240.0\" Vs \"3242.0\"  d11698990   \n",
       "2   22924  \"id_2359\" Vs \"id_2467\"  \"2361.0\" Vs \"2469.0\"   d7342803   \n",
       "3   10183  \"id_1225\" Vs \"id_1197\"  \"1227.0\" Vs \"1198.0\"   d7337366   \n",
       "4   13980  \"id_3239\" Vs \"id_3242\"  \"3241.0\" Vs \"3244.0\"  d10047799   \n",
       "..    ...                     ...                   ...        ...   \n",
       "15  16920  \"id_3536\" Vs \"id_3662\"  \"3538.0\" Vs \"3664.0\"  d11999956   \n",
       "16  13942  \"id_1103\" Vs \"id_1212\"  \"1104.0\" Vs \"1213.0\"   d8753348   \n",
       "17   3942  \"id_5646\" Vs \"id_5617\"  \"5649.0\" Vs \"5620.0\"   d3685055   \n",
       "18  10439    \"id_468\" Vs \"id_511\"    \"469.0\" Vs \"512.0\"   d1315077   \n",
       "19   4732  \"id_3804\" Vs \"id_3810\"  \"3806.0\" Vs \"3812.0\"  d11674463   \n",
       "\n",
       "   Restaurant_id_NUM  \n",
       "0   \"2197\" Vs \"2329\"  \n",
       "1   \"3238\" Vs \"3240\"  \n",
       "2   \"2359\" Vs \"2467\"  \n",
       "3   \"1225\" Vs \"1197\"  \n",
       "4   \"3239\" Vs \"3242\"  \n",
       "..               ...  \n",
       "15  \"3536\" Vs \"3662\"  \n",
       "16  \"1103\" Vs \"1212\"  \n",
       "17  \"5646\" Vs \"5617\"  \n",
       "18    \"468\" Vs \"511\"  \n",
       "19  \"3804\" Vs \"3810\"  \n",
       "\n",
       "[20 rows x 5 columns]"
      ]
     },
     "execution_count": 662,
     "metadata": {},
     "output_type": "execute_result"
    }
   ],
   "source": [
    "get_nice_diff_for_column(vc_id_ta2, df_train, 'ID_TA')"
   ]
  },
  {
   "cell_type": "code",
   "execution_count": 474,
   "metadata": {},
   "outputs": [],
   "source": [
    "pd.set_option('display.max_rows', 5) # показывать больше строк"
   ]
  },
  {
   "cell_type": "markdown",
   "metadata": {},
   "source": [
    "### Видно, что с ID_TA то же самое (те же повторы/пересечения) что и с URL_TA. При этом ID_TA это какие-то цифры, попробуем сделать из него числовой признак"
   ]
  },
  {
   "cell_type": "code",
   "execution_count": 494,
   "metadata": {},
   "outputs": [],
   "source": [
    "# # Сделаем номерной признак и подсчитаем корреляцию опять\n",
    "# def idta_to_num(rest_id_str):\n",
    "#     idta_num = int(rest_id_str[1:])\n",
    "#     return idta_num"
   ]
  },
  {
   "cell_type": "code",
   "execution_count": 666,
   "metadata": {
    "scrolled": true
   },
   "outputs": [
    {
     "data": {
      "text/plain": [
       "<matplotlib.axes._subplots.AxesSubplot at 0x1833f597e08>"
      ]
     },
     "execution_count": 666,
     "metadata": {},
     "output_type": "execute_result"
    },
    {
     "data": {
      "image/png": "[encoded data removed]",
      "text/plain": [
       "<Figure size 1080x360 with 1 Axes>"
      ]
     },
     "metadata": {
      "needs_background": "light"
     },
     "output_type": "display_data"
    }
   ],
   "source": [
    "# Сделаем номерной признак и подсчитаем корреляцию опять\n",
    "df['ID_TA_NUM'] = df['ID_TA'].apply(lambda x: idta_to_num(x))\n",
    "df['ID_TA_NUM'].hist(bins=100, figsize=(15,5))\n",
    "\n",
    "# это для корелляции\n",
    "df_train['ID_TA_NUM'] = df_train['ID_TA'].apply(lambda x: idta_to_num(x))\n",
    "df_train['ID_TA_NUM'].hist(bins=100, figsize=(15,5))"
   ]
  },
  {
   "cell_type": "code",
   "execution_count": 668,
   "metadata": {
    "scrolled": true
   },
   "outputs": [
    {
     "name": "stdout",
     "output_type": "stream",
     "text": [
      "                    Ranking    Rating  Number of Reviews  Restaurant_id_NUM  \\\n",
      "Ranking            1.000000 -0.368371          -0.222670           1.000000   \n",
      "Rating            -0.368371  1.000000           0.030964          -0.368308   \n",
      "Number of Reviews -0.222670  0.030964           1.000000          -0.222637   \n",
      "Restaurant_id_NUM  1.000000 -0.368308          -0.222637           1.000000   \n",
      "ID_TA_NUM          0.048826  0.159111          -0.286309           0.048820   \n",
      "\n",
      "                   ID_TA_NUM  \n",
      "Ranking             0.048826  \n",
      "Rating              0.159111  \n",
      "Number of Reviews  -0.286309  \n",
      "Restaurant_id_NUM   0.048820  \n",
      "ID_TA_NUM           1.000000  \n",
      "---------Correlated---------\n",
      "Restaurant_id_NUM \t Ranking \t 0.9999995570800042\n",
      "---------end--------\n"
     ]
    },
    {
     "data": {
      "image/png": "[encoded data removed]",
      "text/plain": [
       "<Figure size 720x720 with 2 Axes>"
      ]
     },
     "metadata": {
      "needs_background": "light"
     },
     "output_type": "display_data"
    }
   ],
   "source": [
    "correlation_workflow(df_train.drop(['sample'], axis=1), 0.7, 0.1, 10)"
   ]
  },
  {
   "cell_type": "code",
   "execution_count": 669,
   "metadata": {},
   "outputs": [],
   "source": [
    "# ничего нового пока"
   ]
  },
  {
   "cell_type": "markdown",
   "metadata": {},
   "source": [
    "### Cuisine"
   ]
  },
  {
   "cell_type": "code",
   "execution_count": 709,
   "metadata": {},
   "outputs": [],
   "source": [
    "# созадние нового столбца списка кухонь\n",
    "def get_cuisines_list(row_next):\n",
    "    #global all_cuisine_types\n",
    "    if (pd.isnull(row_next['Cuisine Style'])==True):\n",
    "        #all_cuisine_types['__unknown'] += 1\n",
    "        return ['__unknown']\n",
    "    next_cuisines = row_next['Cuisine Style'][1:-1].replace(\"'\",\"\").replace(\", \",\",\").split(',')\n",
    "    #for nc in next_cuisines:\n",
    "    #    all_cuisine_types[nc] += 1\n",
    "    return next_cuisines"
   ]
  },
  {
   "cell_type": "code",
   "execution_count": 686,
   "metadata": {},
   "outputs": [],
   "source": [
    "# подсчет количества кухонь\n",
    "def get_cuisines_count(row_next):\n",
    "    if ( (len(row_next['cuisine_list']) == 1) and (row_next['cuisine_list'][0]=='__unknown')):\n",
    "        return 0\n",
    "\n",
    "    return len(row_next['cuisine_list'])"
   ]
  },
  {
   "cell_type": "code",
   "execution_count": 687,
   "metadata": {},
   "outputs": [],
   "source": [
    "# созадние нового столбца вида 0/1\n",
    "def check_cuisine_nan(row_next):\n",
    "    if (row_next['cuisine_count'] == 0):\n",
    "        return 1\n",
    "    return 0"
   ]
  },
  {
   "cell_type": "code",
   "execution_count": 708,
   "metadata": {},
   "outputs": [],
   "source": [
    "def gather_cuisines(row_next):\n",
    "    global all_cuisine_types\n",
    "    if (row_next['cuisine_count'] == 0):\n",
    "        all_cuisine_types['__unknown'] += 1\n",
    "        return\n",
    "    for nc in row_next['cuisine_list']:\n",
    "        all_cuisine_types[nc] += 1\n",
    "    return"
   ]
  },
  {
   "cell_type": "code",
   "execution_count": 710,
   "metadata": {},
   "outputs": [],
   "source": [
    "# найдем частоты всех кухонь\n",
    "all_cuisine_types = collections.Counter()\n",
    "# выключаем предупреждение - здесь создаем колонку, никаких chained-операций\n",
    "pd.options.mode.chained_assignment = None\n",
    "# делаем новые колонки\n",
    "df['cuisine_list'] = df.apply(\n",
    "    (lambda row: get_cuisines_list(row)), axis=1)\n",
    "df['cuisine_count'] = df.apply(\n",
    "     (lambda row: get_cuisines_count(row)), axis=1)\n",
    "df['cuisine_nan'] = df.apply(\n",
    "     (lambda row: check_cuisine_nan(row)), axis=1)\n",
    "df.apply(\n",
    "     (lambda row: gather_cuisines(row)), axis=1)\n",
    "pd.options.mode.chained_assignment = 'warn'"
   ]
  },
  {
   "cell_type": "code",
   "execution_count": 714,
   "metadata": {
    "scrolled": false
   },
   "outputs": [
    {
     "data": {
      "text/plain": [
       "(126,\n",
       " [('Vegetarian Friendly', 14021),\n",
       "  ('European', 12561),\n",
       "  ('__unknown', 11590),\n",
       "  ('Mediterranean', 7820),\n",
       "  ('Italian', 7433),\n",
       "  ('Vegan Options', 5684),\n",
       "  ('Gluten Free Options', 5185),\n",
       "  ('Bar', 4094),\n",
       "  ('French', 3970),\n",
       "  ('Asian', 3786),\n",
       "  ('Pizza', 3502),\n",
       "  ('Spanish', 3456),\n",
       "  ('Pub', 3058),\n",
       "  ('Cafe', 2883),\n",
       "  ('Fast Food', 2122),\n",
       "  ('British', 1992),\n",
       "  ('International', 1966),\n",
       "  ('Seafood', 1878),\n",
       "  ('Japanese', 1860),\n",
       "  ('Central European', 1727),\n",
       "  ('American', 1642),\n",
       "  ('Sushi', 1450),\n",
       "  ('Chinese', 1446),\n",
       "  ('Portuguese', 1385),\n",
       "  ('Indian', 1328),\n",
       "  ('Middle Eastern', 980),\n",
       "  ('Thai', 923),\n",
       "  ('Wine Bar', 877),\n",
       "  ('German', 820),\n",
       "  ('Halal', 773),\n",
       "  ('Greek', 768),\n",
       "  ('Healthy', 758),\n",
       "  ('Fusion', 748),\n",
       "  ('Czech', 745),\n",
       "  ('Steakhouse', 729),\n",
       "  ('Barbecue', 710),\n",
       "  ('Contemporary', 652),\n",
       "  ('Soups', 630),\n",
       "  ('Eastern European', 629),\n",
       "  ('Vietnamese', 622),\n",
       "  ('Grill', 617),\n",
       "  ('Gastropub', 608),\n",
       "  ('Turkish', 574),\n",
       "  ('Mexican', 572),\n",
       "  ('South American', 490),\n",
       "  ('Delicatessen', 473),\n",
       "  ('Austrian', 462),\n",
       "  ('Polish', 453),\n",
       "  ('Scandinavian', 449),\n",
       "  ('Hungarian', 444),\n",
       "  ('Lebanese', 397),\n",
       "  ('Diner', 375),\n",
       "  ('Latin', 373),\n",
       "  ('Dutch', 368),\n",
       "  ('Irish', 352),\n",
       "  ('Street Food', 336),\n",
       "  ('Belgian', 335),\n",
       "  ('Brew Pub', 299),\n",
       "  ('Danish', 225),\n",
       "  ('Swiss', 223),\n",
       "  ('Swedish', 223),\n",
       "  ('Argentinean', 214),\n",
       "  ('Korean', 206),\n",
       "  ('Scottish', 199),\n",
       "  ('African', 193),\n",
       "  ('Moroccan', 173),\n",
       "  ('Central American', 168),\n",
       "  ('Brazilian', 152),\n",
       "  ('Pakistani', 140),\n",
       "  ('Peruvian', 130),\n",
       "  ('Caribbean', 124),\n",
       "  ('Nepali', 121),\n",
       "  ('Balti', 104),\n",
       "  ('Bangladeshi', 100),\n",
       "  ('Norwegian', 96),\n",
       "  ('Israeli', 90),\n",
       "  ('Slovenian', 85),\n",
       "  ('Persian', 77),\n",
       "  ('Indonesian', 71),\n",
       "  ('Russian', 66),\n",
       "  ('Arabic', 58),\n",
       "  ('Kosher', 56),\n",
       "  ('Ethiopian', 51),\n",
       "  ('Venezuelan', 51),\n",
       "  ('Malaysian', 38),\n",
       "  ('Australian', 36),\n",
       "  ('Jamaican', 36),\n",
       "  ('Croatian', 33),\n",
       "  ('Cuban', 32),\n",
       "  ('Colombian', 30),\n",
       "  ('Sri Lankan', 30),\n",
       "  ('Taiwanese', 30),\n",
       "  ('Tibetan', 29),\n",
       "  ('Afghani', 27),\n",
       "  ('Cajun & Creole', 27),\n",
       "  ('Southwestern', 24),\n",
       "  ('Egyptian', 24),\n",
       "  ('Tunisian', 23),\n",
       "  ('Hawaiian', 23),\n",
       "  ('Cambodian', 22),\n",
       "  ('Singaporean', 21),\n",
       "  ('Mongolian', 20),\n",
       "  ('Ukrainian', 20),\n",
       "  ('Georgian', 18),\n",
       "  ('Armenian', 17),\n",
       "  ('Filipino', 17),\n",
       "  ('Chilean', 16),\n",
       "  ('Romanian', 13),\n",
       "  ('Minority Chinese', 12),\n",
       "  ('Central Asian', 12),\n",
       "  ('Ecuadorean', 8),\n",
       "  ('Albanian', 8),\n",
       "  ('Canadian', 7),\n",
       "  ('New Zealand', 7),\n",
       "  ('Native American', 5),\n",
       "  ('Uzbek', 5),\n",
       "  ('Caucasian', 4),\n",
       "  ('Welsh', 3),\n",
       "  ('Azerbaijani', 3),\n",
       "  ('Yunnan', 2),\n",
       "  ('Polynesian', 2),\n",
       "  ('Fujian', 2),\n",
       "  ('Salvadoran', 1),\n",
       "  ('Xinjiang', 1),\n",
       "  ('Burmese', 1),\n",
       "  ('Latvian', 1)])"
      ]
     },
     "execution_count": 714,
     "metadata": {},
     "output_type": "execute_result"
    }
   ],
   "source": [
    "len(all_cuisine_types), all_cuisine_types.most_common(126)"
   ]
  },
  {
   "cell_type": "code",
   "execution_count": 712,
   "metadata": {
    "scrolled": true
   },
   "outputs": [
    {
     "data": {
      "text/plain": [
       "array([[<matplotlib.axes._subplots.AxesSubplot object at 0x0000018343B323C8>]],\n",
       "      dtype=object)"
      ]
     },
     "execution_count": 712,
     "metadata": {},
     "output_type": "execute_result"
    },
    {
     "data": {
      "image/png": "[encoded data removed]",
      "text/plain": [
       "<Figure size 720x360 with 1 Axes>"
      ]
     },
     "metadata": {
      "needs_background": "light"
     },
     "output_type": "display_data"
    }
   ],
   "source": [
    "df_act = pd.DataFrame.from_dict(all_cuisine_types, orient='index').reset_index()\n",
    "df_act = df_act.rename(columns={'index':'cuisine', 0:'count'})\n",
    "df_act.hist(bins=100, figsize=(10, 5))"
   ]
  },
  {
   "cell_type": "code",
   "execution_count": 713,
   "metadata": {},
   "outputs": [
    {
     "data": {
      "text/plain": [
       "<matplotlib.axes._subplots.AxesSubplot at 0x183434b8648>"
      ]
     },
     "execution_count": 713,
     "metadata": {},
     "output_type": "execute_result"
    },
    {
     "data": {
      "image/png": "[encoded data removed]",
      "text/plain": [
       "<Figure size 1440x360 with 1 Axes>"
      ]
     },
     "metadata": {
      "needs_background": "light"
     },
     "output_type": "display_data"
    }
   ],
   "source": [
    "df_act.plot(kind='bar', figsize=(20,5), y='count', x='cuisine')"
   ]
  },
  {
   "cell_type": "code",
   "execution_count": 715,
   "metadata": {},
   "outputs": [],
   "source": [
    "# продублируем для df_train\n",
    "# выключаем предупреждение - здесь создаем колонку, никаких chained-операций\n",
    "pd.options.mode.chained_assignment = None\n",
    "# делаем новые колонки\n",
    "df_train['cuisine_list'] = df_train.apply(\n",
    "    (lambda row: get_cuisines_list(row)), axis=1)\n",
    "df_train['cuisine_count'] = df_train.apply(\n",
    "     (lambda row: get_cuisines_count(row)), axis=1)\n",
    "df_train['cuisine_nan'] = df_train.apply(\n",
    "     (lambda row: check_cuisine_nan(row)), axis=1)\n",
    "pd.options.mode.chained_assignment = 'warn'"
   ]
  },
  {
   "cell_type": "markdown",
   "metadata": {},
   "source": [
    "### Price Range"
   ]
  },
  {
   "cell_type": "code",
   "execution_count": 505,
   "metadata": {},
   "outputs": [
    {
     "data": {
      "text/plain": [
       "$$ - $$$    23041\n",
       "NaN         17361\n",
       "$            7816\n",
       "$$$$         1782\n",
       "Name: Price Range, dtype: int64"
      ]
     },
     "execution_count": 505,
     "metadata": {},
     "output_type": "execute_result"
    }
   ],
   "source": [
    "pr_vc = df['Price Range'].value_counts(dropna=False)\n",
    "pr_vc"
   ]
  },
  {
   "cell_type": "code",
   "execution_count": 506,
   "metadata": {},
   "outputs": [
    {
     "data": {
      "text/plain": [
       "1.0     7816\n",
       "2.5    23041\n",
       "4.0     1782\n",
       "NaN    17361\n",
       "Name: Price Range, dtype: int64"
      ]
     },
     "execution_count": 506,
     "metadata": {},
     "output_type": "execute_result"
    }
   ],
   "source": [
    "# перекодируем для графика\n",
    "pr_vc_ren = pr_vc.rename({'$$ - $$$': 2.5, '$': 1, '$$$$': 4}).sort_index()\n",
    "pr_vc_ren"
   ]
  },
  {
   "cell_type": "code",
   "execution_count": 507,
   "metadata": {
    "scrolled": true
   },
   "outputs": [
    {
     "data": {
      "text/plain": [
       "<matplotlib.axes._subplots.AxesSubplot at 0x1832fac0608>"
      ]
     },
     "execution_count": 507,
     "metadata": {},
     "output_type": "execute_result"
    },
    {
     "data": {
      "image/png": "[encoded data removed]",
      "text/plain": [
       "<Figure size 720x720 with 1 Axes>"
      ]
     },
     "metadata": {
      "needs_background": "light"
     },
     "output_type": "display_data"
    }
   ],
   "source": [
    "pr_vc_ren.plot(kind='bar')"
   ]
  },
  {
   "cell_type": "code",
   "execution_count": 508,
   "metadata": {},
   "outputs": [],
   "source": [
    "encode = {'$$ - $$$': 2.5, '$': 1, '$$$$': 4, np.nan: 2.5}"
   ]
  },
  {
   "cell_type": "code",
   "execution_count": 509,
   "metadata": {},
   "outputs": [],
   "source": [
    "# Предположим, что Nan это самое частое (т.е. нормальное распределение цен) = 2.5\n",
    "# Также надо убрать Nan. Чтобы не потерять эту информацию создадим столбец if_price_range_nan\n",
    "df['if_price_range_nan'] = df.apply(\n",
    "    (lambda row: 1 if (pd.isnull(row['Price Range'])==True) else 0), axis=1)\n",
    "df['price_range_NUM'] = df.apply(\n",
    "    (lambda row: encode[row['Price Range']] if (pd.isnull(row['Price Range'])!=True) else pr_vc_ren.idxmax()), axis=1)"
   ]
  },
  {
   "cell_type": "markdown",
   "metadata": {},
   "source": [
    "### Reviews, Number of Reviews"
   ]
  },
  {
   "cell_type": "code",
   "execution_count": 511,
   "metadata": {},
   "outputs": [
    {
     "data": {
      "text/plain": [
       "[[], []]                                                                                                                8112\n",
       "NaN                                                                                                                        2\n",
       "                                                                                                                        ... \n",
       "[['The best Lebanese food in Geneva so far', 'Wonderful experience at Street Beirut'], ['01/08/2018', '01/03/2018']]       1\n",
       "[['Great Indian food near Kurfürstendam', 'The full experience'], ['01/07/2018', '01/07/2018']]                            1\n",
       "Name: Reviews, Length: 41858, dtype: int64"
      ]
     },
     "execution_count": 511,
     "metadata": {},
     "output_type": "execute_result"
    }
   ],
   "source": [
    "rv_vc = df['Reviews'].value_counts(dropna=False)\n",
    "rv_vc"
   ]
  },
  {
   "cell_type": "code",
   "execution_count": 512,
   "metadata": {},
   "outputs": [
    {
     "data": {
      "text/html": [
       "<div>\n",
       "<style scoped>\n",
       "    .dataframe tbody tr th:only-of-type {\n",
       "        vertical-align: middle;\n",
       "    }\n",
       "\n",
       "    .dataframe tbody tr th {\n",
       "        vertical-align: top;\n",
       "    }\n",
       "\n",
       "    .dataframe thead th {\n",
       "        text-align: right;\n",
       "    }\n",
       "</style>\n",
       "<table border=\"1\" class=\"dataframe\">\n",
       "  <thead>\n",
       "    <tr style=\"text-align: right;\">\n",
       "      <th></th>\n",
       "      <th>Reviews</th>\n",
       "      <th>Number of Reviews</th>\n",
       "    </tr>\n",
       "  </thead>\n",
       "  <tbody>\n",
       "    <tr>\n",
       "      <td>0</td>\n",
       "      <td>[[], []]</td>\n",
       "      <td>4.0</td>\n",
       "    </tr>\n",
       "    <tr>\n",
       "      <td>6</td>\n",
       "      <td>[[], []]</td>\n",
       "      <td>2.0</td>\n",
       "    </tr>\n",
       "    <tr>\n",
       "      <td>...</td>\n",
       "      <td>...</td>\n",
       "      <td>...</td>\n",
       "    </tr>\n",
       "    <tr>\n",
       "      <td>49991</td>\n",
       "      <td>[[], []]</td>\n",
       "      <td>5.0</td>\n",
       "    </tr>\n",
       "    <tr>\n",
       "      <td>49994</td>\n",
       "      <td>[[], []]</td>\n",
       "      <td>6.0</td>\n",
       "    </tr>\n",
       "  </tbody>\n",
       "</table>\n",
       "<p>8112 rows × 2 columns</p>\n",
       "</div>"
      ],
      "text/plain": [
       "        Reviews  Number of Reviews\n",
       "0      [[], []]                4.0\n",
       "6      [[], []]                2.0\n",
       "...         ...                ...\n",
       "49991  [[], []]                5.0\n",
       "49994  [[], []]                6.0\n",
       "\n",
       "[8112 rows x 2 columns]"
      ]
     },
     "execution_count": 512,
     "metadata": {},
     "output_type": "execute_result"
    }
   ],
   "source": [
    "nor = df[df['Reviews']==\"[[], []]\"][['Reviews','Number of Reviews']]\n",
    "nor"
   ]
  },
  {
   "cell_type": "code",
   "execution_count": 513,
   "metadata": {},
   "outputs": [
    {
     "data": {
      "text/html": [
       "<div>\n",
       "<style scoped>\n",
       "    .dataframe tbody tr th:only-of-type {\n",
       "        vertical-align: middle;\n",
       "    }\n",
       "\n",
       "    .dataframe tbody tr th {\n",
       "        vertical-align: top;\n",
       "    }\n",
       "\n",
       "    .dataframe thead th {\n",
       "        text-align: right;\n",
       "    }\n",
       "</style>\n",
       "<table border=\"1\" class=\"dataframe\">\n",
       "  <thead>\n",
       "    <tr style=\"text-align: right;\">\n",
       "      <th></th>\n",
       "      <th>Reviews</th>\n",
       "      <th>Number of Reviews</th>\n",
       "    </tr>\n",
       "  </thead>\n",
       "  <tbody>\n",
       "    <tr>\n",
       "      <td>7</td>\n",
       "      <td>[[], []]</td>\n",
       "      <td>NaN</td>\n",
       "    </tr>\n",
       "    <tr>\n",
       "      <td>25</td>\n",
       "      <td>[[], []]</td>\n",
       "      <td>NaN</td>\n",
       "    </tr>\n",
       "    <tr>\n",
       "      <td>...</td>\n",
       "      <td>...</td>\n",
       "      <td>...</td>\n",
       "    </tr>\n",
       "    <tr>\n",
       "      <td>49986</td>\n",
       "      <td>[[], []]</td>\n",
       "      <td>NaN</td>\n",
       "    </tr>\n",
       "    <tr>\n",
       "      <td>49988</td>\n",
       "      <td>[[], []]</td>\n",
       "      <td>NaN</td>\n",
       "    </tr>\n",
       "  </tbody>\n",
       "</table>\n",
       "<p>2023 rows × 2 columns</p>\n",
       "</div>"
      ],
      "text/plain": [
       "        Reviews  Number of Reviews\n",
       "7      [[], []]                NaN\n",
       "25     [[], []]                NaN\n",
       "...         ...                ...\n",
       "49986  [[], []]                NaN\n",
       "49988  [[], []]                NaN\n",
       "\n",
       "[2023 rows x 2 columns]"
      ]
     },
     "execution_count": 513,
     "metadata": {},
     "output_type": "execute_result"
    }
   ],
   "source": [
    "nor[pd.isnull(nor['Number of Reviews'])]"
   ]
  },
  {
   "cell_type": "code",
   "execution_count": 514,
   "metadata": {
    "scrolled": true
   },
   "outputs": [
    {
     "data": {
      "text/plain": [
       "count    46800.000000\n",
       "mean       124.471197\n",
       "std        294.114345\n",
       "min          2.000000\n",
       "25%          9.000000\n",
       "50%         33.000000\n",
       "75%        115.000000\n",
       "max       9660.000000\n",
       "Name: Number of Reviews, dtype: float64"
      ]
     },
     "execution_count": 514,
     "metadata": {},
     "output_type": "execute_result"
    }
   ],
   "source": [
    "pd.set_option('display.max_rows', 10) # показывать больше строк\n",
    "df['Number of Reviews'].describe()"
   ]
  },
  {
   "cell_type": "code",
   "execution_count": 515,
   "metadata": {},
   "outputs": [
    {
     "data": {
      "text/plain": [
       "(33.0, 0    2.0\n",
       " dtype: float64)"
      ]
     },
     "execution_count": 515,
     "metadata": {},
     "output_type": "execute_result"
    }
   ],
   "source": [
    "df['Number of Reviews'].median(), df['Number of Reviews'].mode()"
   ]
  },
  {
   "cell_type": "code",
   "execution_count": 516,
   "metadata": {},
   "outputs": [
    {
     "data": {
      "text/plain": [
       "NaN       3200\n",
       "2.0       2403\n",
       "3.0       2042\n",
       "4.0       1707\n",
       "5.0       1471\n",
       "          ... \n",
       "5216.0       1\n",
       "1932.0       1\n",
       "1050.0       1\n",
       "1145.0       1\n",
       "1471.0       1\n",
       "Name: Number of Reviews, Length: 1574, dtype: int64"
      ]
     },
     "execution_count": 516,
     "metadata": {},
     "output_type": "execute_result"
    }
   ],
   "source": [
    "nor_vc = df['Number of Reviews'].value_counts(dropna=False)\n",
    "nor_vc"
   ]
  },
  {
   "cell_type": "code",
   "execution_count": 517,
   "metadata": {},
   "outputs": [],
   "source": [
    "pd.set_option('display.max_rows', 5) # показывать меньше строк"
   ]
  },
  {
   "cell_type": "code",
   "execution_count": 522,
   "metadata": {},
   "outputs": [],
   "source": [
    "# очистка значения из колонки Reviews и получение дат\n",
    "def fmt_str_test(input_str):\n",
    "    if (pd.isnull(input_str)==True):\n",
    "        return (False, )\n",
    "    \n",
    "    half_view = input_str.split('], [')\n",
    "    \n",
    "    if (len(half_view) != 2):\n",
    "        print('half_view', len(half_view), half_view) \n",
    "        return (False, )\n",
    "    \n",
    "    sec_part = half_view[1].replace(\"[\",\"\").replace(\"]\",\"\").replace(\", \",\",\").replace(\"'\",\"\").split(',')\n",
    "    \n",
    "    if (len(sec_part) == 1):\n",
    "        if (len(sec_part[0]) == 10):\n",
    "            dt1 = pd.to_datetime(sec_part[0], dayfirst=False, errors ='raise')\n",
    "            return (True, dt1)\n",
    "        else:\n",
    "            return (False, )\n",
    "    \n",
    "    if (len(sec_part) == 2):\n",
    "        if (len(sec_part[1]) == 10):\n",
    "            dt1 = pd.to_datetime(sec_part[0], dayfirst=False, errors ='raise')\n",
    "            dt2 = pd.to_datetime(sec_part[1], dayfirst=False, errors ='raise')\n",
    "            \n",
    "    if (dt1 >= dt2):\n",
    "        return (True, dt1, dt2)\n",
    "    \n",
    "    return (True, dt2, dt1)"
   ]
  },
  {
   "cell_type": "code",
   "execution_count": 523,
   "metadata": {},
   "outputs": [],
   "source": [
    "# функция для преобразования колонки Reviews\n",
    "def fmt_rev(input_row):\n",
    "    #print(type(input_str))\n",
    "    input_str = input_row['Reviews']\n",
    "    res = fmt_str_test(input_str)\n",
    "    if (res[0] == True):\n",
    "        return res[1]\n",
    "    \n",
    "    return np.nan"
   ]
  },
  {
   "cell_type": "code",
   "execution_count": 524,
   "metadata": {},
   "outputs": [],
   "source": [
    "df['latest_review'] = df.apply(\n",
    "    (lambda row: fmt_rev(row)), axis=1)"
   ]
  },
  {
   "cell_type": "code",
   "execution_count": 593,
   "metadata": {
    "scrolled": true
   },
   "outputs": [],
   "source": [
    "#df['latest_review'].value_counts(dropna=False).sort_index()"
   ]
  },
  {
   "cell_type": "code",
   "execution_count": 527,
   "metadata": {},
   "outputs": [],
   "source": [
    "# создаем новую колонку как количество дней между последним отзывом и стартом сайта\n",
    "#(симметрично можно было между текущей датой и датой отзыва)\n",
    "# дата взята как год спустя основания TripAdvisor\n",
    "fill_val = pd.Timestamp(year=2001, month=1, day=1, hour=12)  #my_dt(2001,1,1)\n",
    "df['latest_review'] = df['latest_review'].apply(\n",
    "    (lambda val: (val-fill_val).total_seconds()/86400 if (pd.isnull(val)!=True) else 0))"
   ]
  },
  {
   "cell_type": "code",
   "execution_count": 594,
   "metadata": {},
   "outputs": [],
   "source": [
    "#df['latest_review'].value_counts(dropna=False).sort_index()"
   ]
  },
  {
   "cell_type": "code",
   "execution_count": 532,
   "metadata": {},
   "outputs": [
    {
     "name": "stdout",
     "output_type": "stream",
     "text": [
      "25-й перцентиль: 9.0, 75-й перцентиль: 115.0, IQR: 106.0,  Границы выбросов: [-150.0, 274.0]. минимум: 2.0, максимум: 9660.0,\n"
     ]
    },
    {
     "data": {
      "text/plain": [
       "(106.0, 9.0, 115.0)"
      ]
     },
     "execution_count": 532,
     "metadata": {},
     "output_type": "execute_result"
    },
    {
     "data": {
      "image/png": "[encoded data removed]",
      "text/plain": [
       "<Figure size 720x720 with 1 Axes>"
      ]
     },
     "metadata": {
      "needs_background": "light"
     },
     "output_type": "display_data"
    }
   ],
   "source": [
    "pic_global(df['Number of Reviews'], 100, -1, 300)"
   ]
  },
  {
   "cell_type": "code",
   "execution_count": 535,
   "metadata": {},
   "outputs": [],
   "source": [
    "# создадим новую колонку без Nan по наиболее часто встречающемуся значению\n",
    "df['real_number_of_reviews'] = df['Number of Reviews']\n",
    "df['real_number_of_reviews'].fillna(value=2.0, inplace=True)"
   ]
  },
  {
   "cell_type": "code",
   "execution_count": null,
   "metadata": {},
   "outputs": [],
   "source": []
  },
  {
   "cell_type": "code",
   "execution_count": null,
   "metadata": {},
   "outputs": [],
   "source": []
  },
  {
   "cell_type": "markdown",
   "metadata": {},
   "source": [
    "## Вызов модели"
   ]
  },
  {
   "cell_type": "code",
   "execution_count": 562,
   "metadata": {},
   "outputs": [],
   "source": [
    "train_data = df.query('sample == 1').drop(['sample'], axis=1)\n",
    "test_data = df.query('sample == 0').drop(['sample'], axis=1)"
   ]
  },
  {
   "cell_type": "code",
   "execution_count": null,
   "metadata": {},
   "outputs": [],
   "source": []
  },
  {
   "cell_type": "code",
   "execution_count": null,
   "metadata": {},
   "outputs": [],
   "source": []
  },
  {
   "cell_type": "code",
   "execution_count": 546,
   "metadata": {},
   "outputs": [
    {
     "name": "stderr",
     "output_type": "stream",
     "text": [
      "[Parallel(n_jobs=-1)]: Using backend ThreadingBackend with 8 concurrent workers.\n",
      "[Parallel(n_jobs=-1)]: Done  34 tasks      | elapsed:    2.6s\n"
     ]
    },
    {
     "name": "stdout",
     "output_type": "stream",
     "text": [
      "MAE: 0.3811783083333333\n"
     ]
    },
    {
     "name": "stderr",
     "output_type": "stream",
     "text": [
      "[Parallel(n_jobs=-1)]: Done 100 out of 100 | elapsed:    4.8s finished\n",
      "[Parallel(n_jobs=8)]: Using backend ThreadingBackend with 8 concurrent workers.\n",
      "[Parallel(n_jobs=8)]: Done  34 tasks      | elapsed:    0.0s\n",
      "[Parallel(n_jobs=8)]: Done 100 out of 100 | elapsed:    0.0s finished\n"
     ]
    }
   ],
   "source": [
    "lst_cols = ['Ranking', 'Restaurant_id_NUM','cuisine_count', 'cuisine_nan', 'if_price_range_nan', 'price_range_NUM', 'latest_review','real_number_of_reviews']\n",
    "lst_keep = lst_cols.copy()\n",
    "lst_keep.append('Rating')\n",
    "lst_del = set_cols_to_del(train_data, lst_keep)\n",
    "test_model(lst_del, 'Rating', train_data, pc=0.25)"
   ]
  },
  {
   "cell_type": "code",
   "execution_count": 547,
   "metadata": {},
   "outputs": [
    {
     "data": {
      "image/png": "[encoded data removed]",
      "text/plain": [
       "<Figure size 720x720 with 1 Axes>"
      ]
     },
     "metadata": {
      "needs_background": "light"
     },
     "output_type": "display_data"
    }
   ],
   "source": [
    "plt.rcParams['figure.figsize'] = (10,10)\n",
    "feat_importances = pd.Series(model.feature_importances_, index=lst_cols)\n",
    "feat_importances.nlargest(30).plot(kind='barh');"
   ]
  },
  {
   "cell_type": "markdown",
   "metadata": {},
   "source": [
    "## Предсказание"
   ]
  },
  {
   "cell_type": "code",
   "execution_count": 563,
   "metadata": {
    "scrolled": true
   },
   "outputs": [],
   "source": [
    "test_data = test_data.drop(['Rating'], axis=1)"
   ]
  },
  {
   "cell_type": "code",
   "execution_count": 564,
   "metadata": {},
   "outputs": [],
   "source": [
    "test_data_model = test_data.drop(lst_del, axis = 1)"
   ]
  },
  {
   "cell_type": "code",
   "execution_count": 556,
   "metadata": {},
   "outputs": [
    {
     "name": "stderr",
     "output_type": "stream",
     "text": [
      "[Parallel(n_jobs=8)]: Using backend ThreadingBackend with 8 concurrent workers.\n",
      "[Parallel(n_jobs=8)]: Done  34 tasks      | elapsed:    0.0s\n",
      "[Parallel(n_jobs=8)]: Done 100 out of 100 | elapsed:    0.1s finished\n"
     ]
    }
   ],
   "source": [
    "predict_submission = model.predict(test_data_model)"
   ]
  },
  {
   "cell_type": "code",
   "execution_count": 557,
   "metadata": {
    "scrolled": true
   },
   "outputs": [
    {
     "data": {
      "text/plain": [
       "array([3.99, 4.5 , 4.35, ..., 4.14, 4.32, 3.68])"
      ]
     },
     "execution_count": 557,
     "metadata": {},
     "output_type": "execute_result"
    }
   ],
   "source": [
    "predict_submission"
   ]
  },
  {
   "cell_type": "code",
   "execution_count": 568,
   "metadata": {},
   "outputs": [],
   "source": [
    "# рейтинг кратен 0.5\n",
    "predict_submission_precision = np.round(predict_submission * 2) / 2"
   ]
  },
  {
   "cell_type": "code",
   "execution_count": 569,
   "metadata": {},
   "outputs": [
    {
     "data": {
      "text/plain": [
       "array([4. , 4.5, 4.5, ..., 4. , 4.5, 3.5])"
      ]
     },
     "execution_count": 569,
     "metadata": {},
     "output_type": "execute_result"
    }
   ],
   "source": [
    "predict_submission_precision"
   ]
  },
  {
   "cell_type": "markdown",
   "metadata": {},
   "source": [
    "### Cравним графики для уверенности"
   ]
  },
  {
   "cell_type": "code",
   "execution_count": 587,
   "metadata": {},
   "outputs": [
    {
     "data": {
      "text/plain": [
       "(array([  201.,   139.,   466.,   915.,     0.,  2955.,  6824., 13692.,\n",
       "        10929.,  3879.]),\n",
       " array([1. , 1.4, 1.8, 2.2, 2.6, 3. , 3.4, 3.8, 4.2, 4.6, 5. ]),\n",
       " <a list of 10 Patch objects>)"
      ]
     },
     "execution_count": 587,
     "metadata": {},
     "output_type": "execute_result"
    },
    {
     "data": {
      "image/png": "[encoded data removed]",
      "text/plain": [
       "<Figure size 720x720 with 1 Axes>"
      ]
     },
     "metadata": {
      "needs_background": "light"
     },
     "output_type": "display_data"
    }
   ],
   "source": [
    "plt.hist(train_data['Rating'], bins = 10)"
   ]
  },
  {
   "cell_type": "code",
   "execution_count": 590,
   "metadata": {
    "scrolled": true
   },
   "outputs": [
    {
     "data": {
      "text/plain": [
       "(array([  21.,   67.,    0.,  441.,    0., 2886., 5717.,    0.,  861.,\n",
       "           7.]),\n",
       " array([2. , 2.3, 2.6, 2.9, 3.2, 3.5, 3.8, 4.1, 4.4, 4.7, 5. ]),\n",
       " <a list of 10 Patch objects>)"
      ]
     },
     "execution_count": 590,
     "metadata": {},
     "output_type": "execute_result"
    },
    {
     "data": {
      "image/png": "[encoded data removed]",
      "text/plain": [
       "<Figure size 720x720 with 1 Axes>"
      ]
     },
     "metadata": {
      "needs_background": "light"
     },
     "output_type": "display_data"
    }
   ],
   "source": [
    "plt.hist(predict_submission_precision, bins = 10)"
   ]
  },
  {
   "cell_type": "markdown",
   "metadata": {},
   "source": [
    "## Сохранение результата"
   ]
  },
  {
   "cell_type": "code",
   "execution_count": 598,
   "metadata": {},
   "outputs": [],
   "source": [
    "save_result(test_data, predict_submission_precision, 'submission02')"
   ]
  },
  {
   "cell_type": "code",
   "execution_count": null,
   "metadata": {},
   "outputs": [],
   "source": []
  },
  {
   "cell_type": "code",
   "execution_count": null,
   "metadata": {},
   "outputs": [],
   "source": []
  },
  {
   "cell_type": "markdown",
   "metadata": {},
   "source": [
    "## TO DO - на будущее - разное сделано но не соединено"
   ]
  },
  {
   "cell_type": "markdown",
   "metadata": {},
   "source": [
    "### 1) Парсинг и фильтрация слов обзоров (есть)\n",
    "### 2) Загрузка скачанного датасета (есть) с полярностью (позитивностью) речи"
   ]
  },
  {
   "cell_type": "markdown",
   "metadata": {},
   "source": [
    "## TO DO - не сделано но хочется"
   ]
  },
  {
   "cell_type": "markdown",
   "metadata": {},
   "source": [
    "### 1) про парсинг - сделать проверку отрицания ( \"not so good\", например) и оценивать позитивность\n",
    "### 2) оценивать место ресторана в шкале города "
   ]
  },
  {
   "cell_type": "code",
   "execution_count": 158,
   "metadata": {},
   "outputs": [],
   "source": [
    "all_words = set()"
   ]
  },
  {
   "cell_type": "code",
   "execution_count": 202,
   "metadata": {},
   "outputs": [],
   "source": [
    "def fmt_str_test(input_str):\n",
    "    global all_words\n",
    "    #print(type(input_str))\n",
    "    #input_str = input_row['Reviews']\n",
    "    #clean_view = str(input_str).replace(\"[\",\"\").replace(\"]\",\"\").replace(\", \",\",\").replace(\"'\",\"\")\n",
    "    #print(input_str)\n",
    "    half_view = input_str.split('], [')\n",
    "    \n",
    "    if (len(half_view) != 2):\n",
    "        print('half_view', len(half_view), half_view) \n",
    "        return (False, )\n",
    "    \n",
    "    #print('half_view', half_view[0])\n",
    "    \n",
    "    #sec_part = half_view[0].replace(\"[\",\"\").replace(\"]\",\"\").replace(\",\",\" \").replace(\"  \",\" \").split(' ')\n",
    "    \n",
    "    #txt = \"Hello Sam!\"\n",
    "    mytable = half_view[0].maketrans(\"\", \"\", string.punctuation)\n",
    "    #print(txt.translate(mytable))\n",
    "\n",
    "    translated = half_view[0].translate(mytable)\n",
    "    sec_part = translated.split(' ')\n",
    "    \n",
    "    \n",
    "    #if (len(sec_part) != 2):\n",
    "    #print('sec_part', len(sec_part), sec_part) \n",
    "        #return\n",
    "        \n",
    "    finn = set([sstr for sstr in sec_part if (len(sstr)>3 and not any(elem in sstr for elem in \"1234567890\"))])\n",
    "    #print('finn', len(finn), finn)\n",
    "    #print('all_words', len(all_words), all_words)\n",
    "    all_words.update(finn)\n",
    "\n",
    "    return (True, finn)"
   ]
  },
  {
   "cell_type": "code",
   "execution_count": 175,
   "metadata": {},
   "outputs": [],
   "source": [
    "def fmt_rev(input_row):\n",
    "    #print(type(input_str))\n",
    "    input_str = input_row['Reviews']\n",
    "    if (pd.isnull(input_str)==True):\n",
    "        return \"bad\"\n",
    "    res = fmt_str_test(input_str)\n",
    "    if (res[0] == True):\n",
    "        return \"good\"\n",
    "    \n",
    "    return \"bad\""
   ]
  },
  {
   "cell_type": "code",
   "execution_count": 204,
   "metadata": {},
   "outputs": [],
   "source": [
    "df_w = df.copy()"
   ]
  },
  {
   "cell_type": "code",
   "execution_count": 205,
   "metadata": {},
   "outputs": [],
   "source": [
    "def get_words(df_to):\n",
    "    pd.options.mode.chained_assignment = None\n",
    "    # делаем новую колонку - массив директоров, а не строку\n",
    "    df_to.apply((lambda row: fmt_rev(row)), axis=1)\n",
    "    # включаем предупреждение обратно\n",
    "    pd.options.mode.chained_assignment ='warn'"
   ]
  },
  {
   "cell_type": "code",
   "execution_count": 206,
   "metadata": {},
   "outputs": [
    {
     "name": "stdout",
     "output_type": "stream",
     "text": [
      "<class 'list'> 19078\n"
     ]
    }
   ],
   "source": [
    "all_words = set()\n",
    "get_words(df_w)\n",
    "all_words = sorted(all_words)\n",
    "print(type(all_words), len(all_words))\n",
    "#all_words"
   ]
  },
  {
   "cell_type": "code",
   "execution_count": 207,
   "metadata": {},
   "outputs": [],
   "source": [
    "with open(\"words.txt\", \"w\", encoding=\"utf-8\") as write_file:\n",
    "    for t in all_words:\n",
    "        write_file.write(t+'\\n')"
   ]
  },
  {
   "cell_type": "code",
   "execution_count": null,
   "metadata": {},
   "outputs": [],
   "source": []
  },
  {
   "cell_type": "code",
   "execution_count": null,
   "metadata": {},
   "outputs": [],
   "source": []
  },
  {
   "cell_type": "code",
   "execution_count": null,
   "metadata": {},
   "outputs": [],
   "source": []
  },
  {
   "cell_type": "code",
   "execution_count": 169,
   "metadata": {},
   "outputs": [
    {
     "data": {
      "text/plain": [
       "Restaurant_id                                                  id_8168\n",
       "City                                                            Lisbon\n",
       "Cuisine Style                                                      NaN\n",
       "Ranking                                                           3389\n",
       "Price Range                                                        NaN\n",
       "Number of Reviews                                                    2\n",
       "Reviews                                                            NaN\n",
       "URL_TA               /Restaurant_Review-g189158-d12683988-Reviews-O...\n",
       "ID_TA                                                        d12683988\n",
       "Rating                                                             NaN\n",
       "Name: 8168, dtype: object"
      ]
     },
     "execution_count": 169,
     "metadata": {},
     "output_type": "execute_result"
    }
   ],
   "source": [
    "df_w.iloc[8168]"
   ]
  },
  {
   "cell_type": "code",
   "execution_count": null,
   "metadata": {},
   "outputs": [],
   "source": []
  },
  {
   "cell_type": "code",
   "execution_count": 203,
   "metadata": {},
   "outputs": [
    {
     "data": {
      "text/plain": [
       "['Delicious',\n",
       " 'Excellent',\n",
       " 'Food',\n",
       " 'Good',\n",
       " 'Great',\n",
       " 'Late',\n",
       " 'ServiceGreat',\n",
       " 'Simple',\n",
       " 'Summer',\n",
       " 'Very',\n",
       " 'Wonderful',\n",
       " 'Yummy',\n",
       " 'accommodated',\n",
       " 'burger',\n",
       " 'deli',\n",
       " 'evening',\n",
       " 'food',\n",
       " 'great',\n",
       " 'hamburgers',\n",
       " 'meal',\n",
       " 'night',\n",
       " 'party',\n",
       " 'pleasant',\n",
       " 'service',\n",
       " 'stop',\n",
       " 'street',\n",
       " 'tasty',\n",
       " 'they',\n",
       " 'vegan',\n",
       " 'without']"
      ]
     },
     "execution_count": 203,
     "metadata": {},
     "output_type": "execute_result"
    }
   ],
   "source": [
    "all_words = set()\n",
    "# выключаем предупреждение - здесь создаем колонку, никаких chained-операций\n",
    "pd.options.mode.chained_assignment = None\n",
    "# делаем новую колонку - массив директоров, а не строку\n",
    "test_part['arr'] = test_part.apply(\n",
    "    (lambda row: fmt_rev(row)), axis=1)\n",
    "# включаем предупреждение обратно\n",
    "pd.options.mode.chained_assignment ='warn'\n",
    "# размножаем/дублируем строки так, чтобы в каждой строке был один режиссер\n",
    "#df_cuis_copy_nn_exploded = df_cuis_copy_nn.explode('cuisine')\n",
    "#test_part\n",
    "all_words = sorted(all_words)\n",
    "all_words"
   ]
  },
  {
   "cell_type": "code",
   "execution_count": null,
   "metadata": {},
   "outputs": [],
   "source": []
  },
  {
   "cell_type": "code",
   "execution_count": null,
   "metadata": {},
   "outputs": [],
   "source": []
  },
  {
   "cell_type": "code",
   "execution_count": null,
   "metadata": {},
   "outputs": [],
   "source": []
  },
  {
   "cell_type": "code",
   "execution_count": 217,
   "metadata": {},
   "outputs": [],
   "source": [
    "dict_df = pd.read_csv('subjclueslen.csv',  delimiter=';')"
   ]
  },
  {
   "cell_type": "code",
   "execution_count": 219,
   "metadata": {
    "scrolled": true
   },
   "outputs": [
    {
     "data": {
      "text/html": [
       "<div>\n",
       "<style scoped>\n",
       "    .dataframe tbody tr th:only-of-type {\n",
       "        vertical-align: middle;\n",
       "    }\n",
       "\n",
       "    .dataframe tbody tr th {\n",
       "        vertical-align: top;\n",
       "    }\n",
       "\n",
       "    .dataframe thead th {\n",
       "        text-align: right;\n",
       "    }\n",
       "</style>\n",
       "<table border=\"1\" class=\"dataframe\">\n",
       "  <thead>\n",
       "    <tr style=\"text-align: right;\">\n",
       "      <th></th>\n",
       "      <th>type</th>\n",
       "      <th>word</th>\n",
       "      <th>polarity</th>\n",
       "    </tr>\n",
       "  </thead>\n",
       "  <tbody>\n",
       "    <tr>\n",
       "      <td>0</td>\n",
       "      <td>weak</td>\n",
       "      <td>abandoned</td>\n",
       "      <td>negative</td>\n",
       "    </tr>\n",
       "    <tr>\n",
       "      <td>1</td>\n",
       "      <td>weak</td>\n",
       "      <td>abandonment</td>\n",
       "      <td>negative</td>\n",
       "    </tr>\n",
       "    <tr>\n",
       "      <td>2</td>\n",
       "      <td>weak</td>\n",
       "      <td>abandon</td>\n",
       "      <td>negative</td>\n",
       "    </tr>\n",
       "    <tr>\n",
       "      <td>3</td>\n",
       "      <td>strong</td>\n",
       "      <td>abase</td>\n",
       "      <td>negative</td>\n",
       "    </tr>\n",
       "    <tr>\n",
       "      <td>4</td>\n",
       "      <td>strong</td>\n",
       "      <td>abasement</td>\n",
       "      <td>negative</td>\n",
       "    </tr>\n",
       "    <tr>\n",
       "      <td>...</td>\n",
       "      <td>...</td>\n",
       "      <td>...</td>\n",
       "      <td>...</td>\n",
       "    </tr>\n",
       "    <tr>\n",
       "      <td>8217</td>\n",
       "      <td>strong</td>\n",
       "      <td>zealot</td>\n",
       "      <td>negative</td>\n",
       "    </tr>\n",
       "    <tr>\n",
       "      <td>8218</td>\n",
       "      <td>strong</td>\n",
       "      <td>zealous</td>\n",
       "      <td>negative</td>\n",
       "    </tr>\n",
       "    <tr>\n",
       "      <td>8219</td>\n",
       "      <td>strong</td>\n",
       "      <td>zealously</td>\n",
       "      <td>negative</td>\n",
       "    </tr>\n",
       "    <tr>\n",
       "      <td>8220</td>\n",
       "      <td>strong</td>\n",
       "      <td>zenith</td>\n",
       "      <td>positive</td>\n",
       "    </tr>\n",
       "    <tr>\n",
       "      <td>8221</td>\n",
       "      <td>strong</td>\n",
       "      <td>zest</td>\n",
       "      <td>positive</td>\n",
       "    </tr>\n",
       "  </tbody>\n",
       "</table>\n",
       "<p>8222 rows × 3 columns</p>\n",
       "</div>"
      ],
      "text/plain": [
       "        type         word  polarity\n",
       "0       weak    abandoned  negative\n",
       "1       weak  abandonment  negative\n",
       "2       weak      abandon  negative\n",
       "3     strong        abase  negative\n",
       "4     strong    abasement  negative\n",
       "...      ...          ...       ...\n",
       "8217  strong       zealot  negative\n",
       "8218  strong      zealous  negative\n",
       "8219  strong    zealously  negative\n",
       "8220  strong       zenith  positive\n",
       "8221  strong         zest  positive\n",
       "\n",
       "[8222 rows x 3 columns]"
      ]
     },
     "execution_count": 219,
     "metadata": {},
     "output_type": "execute_result"
    }
   ],
   "source": [
    "dict_df = dict_df.drop(['trash'], axis=1)\n",
    "dict_df"
   ]
  },
  {
   "cell_type": "code",
   "execution_count": 221,
   "metadata": {
    "scrolled": true
   },
   "outputs": [
    {
     "data": {
      "text/plain": [
       "(6886,\n",
       " array(['abandoned', 'abandonment', 'abandon', ..., 'zealously', 'zenith',\n",
       "        'zest'], dtype=object))"
      ]
     },
     "execution_count": 221,
     "metadata": {},
     "output_type": "execute_result"
    }
   ],
   "source": [
    "dict_df['word'].nunique(), dict_df['word'].unique()"
   ]
  },
  {
   "cell_type": "code",
   "execution_count": 222,
   "metadata": {
    "scrolled": true
   },
   "outputs": [
    {
     "data": {
      "text/plain": [
       "welcome        4\n",
       "trouble        4\n",
       "savage         3\n",
       "autocratic     3\n",
       "protest        3\n",
       "              ..\n",
       "dignity        1\n",
       "romanticize    1\n",
       "heresy         1\n",
       "unorthodox     1\n",
       "elatedly       1\n",
       "Name: word, Length: 6886, dtype: int64"
      ]
     },
     "execution_count": 222,
     "metadata": {},
     "output_type": "execute_result"
    }
   ],
   "source": [
    "pp = dict_df['word'].value_counts()\n",
    "pp"
   ]
  },
  {
   "cell_type": "code",
   "execution_count": 223,
   "metadata": {},
   "outputs": [],
   "source": [
    "pp2 = pp[pp > 1]"
   ]
  },
  {
   "cell_type": "code",
   "execution_count": 227,
   "metadata": {},
   "outputs": [
    {
     "data": {
      "text/plain": [
       "'savage'"
      ]
     },
     "execution_count": 227,
     "metadata": {},
     "output_type": "execute_result"
    }
   ],
   "source": [
    "pp2.index[2]"
   ]
  },
  {
   "cell_type": "code",
   "execution_count": 228,
   "metadata": {},
   "outputs": [],
   "source": [
    "pp3 = pp2[:4]"
   ]
  },
  {
   "cell_type": "code",
   "execution_count": 229,
   "metadata": {
    "scrolled": true
   },
   "outputs": [
    {
     "data": {
      "text/plain": [
       "welcome       4\n",
       "trouble       4\n",
       "savage        3\n",
       "autocratic    3\n",
       "Name: word, dtype: int64"
      ]
     },
     "execution_count": 229,
     "metadata": {},
     "output_type": "execute_result"
    }
   ],
   "source": [
    "pp3"
   ]
  },
  {
   "cell_type": "code",
   "execution_count": 248,
   "metadata": {},
   "outputs": [],
   "source": [
    "def check_d(pps, printb=False):\n",
    "    for ind in pp3.index:\n",
    "        if (printb==True):\n",
    "            print(ind)\n",
    "        this_word = dict_df[dict_df['word']==ind]\n",
    "        if (printb==True):\n",
    "            print(this_word)\n",
    "        polart = this_word['polarity'].value_counts()\n",
    "        if (len(polart) != 1):\n",
    "            if (printb==True):\n",
    "                print(\"alert\", polart, len(polart), polart.index[0])\n",
    "            print(\"alert\", polart, len(polart), polart.index[0])\n",
    "        else:\n",
    "            if (printb==True):\n",
    "                print(\"good\", polart.index[0])\n",
    "        strength = this_word['type'].value_counts()\n",
    "        if (len(strength) != 1):\n",
    "            if (printb==True):\n",
    "                print(\"diff\", strength, len(strength))\n",
    "        else:\n",
    "            if (printb==True):\n",
    "                print(\"good\", strength.index[0])"
   ]
  },
  {
   "cell_type": "code",
   "execution_count": 256,
   "metadata": {},
   "outputs": [],
   "source": [
    "def check_d2(pps, printb=False):\n",
    "    global dict_df2_clean\n",
    "    for ind in pp3.index:\n",
    "        if (printb==True):\n",
    "            print(ind)\n",
    "        this_word = dict_df[dict_df['word']==ind]\n",
    "        if (printb==True):\n",
    "            print(this_word)\n",
    "        polart = this_word['polarity'].value_counts()\n",
    "        if (len(polart) != 1):\n",
    "            if (printb==True):\n",
    "                print(\"alert\", polart, len(polart), polart.index[0])\n",
    "            print(\"alert\", polart, len(polart), polart.index[0])\n",
    "        else:\n",
    "            if (printb==True):\n",
    "                print(\"good\", polart.index[0])\n",
    "            dict_df2_clean[dict_df2_clean['word']==ind]['polarity']=polart.index[0]\n",
    "        strength = this_word['type'].value_counts()\n",
    "        if (len(strength) != 1):\n",
    "            if (printb==True):\n",
    "                print(\"diff\", strength, len(strength))\n",
    "            dict_df2_clean[dict_df2_clean['word']==ind]['type']=strength.index[0]\n",
    "        else:\n",
    "            if (printb==True):\n",
    "                print(\"good\", strength.index[0])\n",
    "            dict_df2_clean[dict_df2_clean['word']==ind]['polarity']=polart.index[0]"
   ]
  },
  {
   "cell_type": "code",
   "execution_count": 249,
   "metadata": {},
   "outputs": [],
   "source": [
    "check_d(pp3, False)"
   ]
  },
  {
   "cell_type": "code",
   "execution_count": 250,
   "metadata": {},
   "outputs": [],
   "source": [
    "check_d(pp2, False)"
   ]
  },
  {
   "cell_type": "code",
   "execution_count": 251,
   "metadata": {},
   "outputs": [],
   "source": [
    "dict_df2 = dict_df.copy()"
   ]
  },
  {
   "cell_type": "code",
   "execution_count": 255,
   "metadata": {},
   "outputs": [],
   "source": [
    "dict_df2_clean = dict_df2.drop_duplicates(['word'])"
   ]
  },
  {
   "cell_type": "code",
   "execution_count": 258,
   "metadata": {},
   "outputs": [],
   "source": [
    "pd.options.mode.chained_assignment = None\n",
    "check_d2(pp2, False)\n",
    "pd.options.mode.chained_assignment = 'warn'"
   ]
  },
  {
   "cell_type": "code",
   "execution_count": 259,
   "metadata": {},
   "outputs": [],
   "source": [
    "tst = dict_df2_clean[dict_df2_clean['word']=='welcome'].copy()"
   ]
  },
  {
   "cell_type": "code",
   "execution_count": 260,
   "metadata": {},
   "outputs": [
    {
     "data": {
      "text/html": [
       "<div>\n",
       "<style scoped>\n",
       "    .dataframe tbody tr th:only-of-type {\n",
       "        vertical-align: middle;\n",
       "    }\n",
       "\n",
       "    .dataframe tbody tr th {\n",
       "        vertical-align: top;\n",
       "    }\n",
       "\n",
       "    .dataframe thead th {\n",
       "        text-align: right;\n",
       "    }\n",
       "</style>\n",
       "<table border=\"1\" class=\"dataframe\">\n",
       "  <thead>\n",
       "    <tr style=\"text-align: right;\">\n",
       "      <th></th>\n",
       "      <th>type</th>\n",
       "      <th>word</th>\n",
       "      <th>trash</th>\n",
       "      <th>polarity</th>\n",
       "    </tr>\n",
       "  </thead>\n",
       "  <tbody>\n",
       "    <tr>\n",
       "      <td>8060</td>\n",
       "      <td>strong</td>\n",
       "      <td>welcome</td>\n",
       "      <td>adj stemmed1=n</td>\n",
       "      <td>positive</td>\n",
       "    </tr>\n",
       "  </tbody>\n",
       "</table>\n",
       "</div>"
      ],
      "text/plain": [
       "        type     word           trash  polarity\n",
       "8060  strong  welcome  adj stemmed1=n  positive"
      ]
     },
     "execution_count": 260,
     "metadata": {},
     "output_type": "execute_result"
    }
   ],
   "source": [
    "tst"
   ]
  },
  {
   "cell_type": "code",
   "execution_count": 261,
   "metadata": {},
   "outputs": [
    {
     "name": "stdout",
     "output_type": "stream",
     "text": [
      "<class 'pandas.core.frame.DataFrame'>\n",
      "Int64Index: 6886 entries, 0 to 8221\n",
      "Data columns (total 4 columns):\n",
      "type        6886 non-null object\n",
      "word        6886 non-null object\n",
      "trash       6886 non-null object\n",
      "polarity    6886 non-null object\n",
      "dtypes: object(4)\n",
      "memory usage: 269.0+ KB\n"
     ]
    }
   ],
   "source": [
    "dict_df2_clean.info()"
   ]
  },
  {
   "cell_type": "code",
   "execution_count": null,
   "metadata": {},
   "outputs": [],
   "source": []
  },
  {
   "cell_type": "code",
   "execution_count": 253,
   "metadata": {},
   "outputs": [
    {
     "data": {
      "text/html": [
       "<div>\n",
       "<style scoped>\n",
       "    .dataframe tbody tr th:only-of-type {\n",
       "        vertical-align: middle;\n",
       "    }\n",
       "\n",
       "    .dataframe tbody tr th {\n",
       "        vertical-align: top;\n",
       "    }\n",
       "\n",
       "    .dataframe thead th {\n",
       "        text-align: right;\n",
       "    }\n",
       "</style>\n",
       "<table border=\"1\" class=\"dataframe\">\n",
       "  <thead>\n",
       "    <tr style=\"text-align: right;\">\n",
       "      <th></th>\n",
       "      <th>type</th>\n",
       "      <th>word</th>\n",
       "      <th>trash</th>\n",
       "      <th>polarity</th>\n",
       "    </tr>\n",
       "  </thead>\n",
       "  <tbody>\n",
       "    <tr>\n",
       "      <td>8060</td>\n",
       "      <td>strong</td>\n",
       "      <td>welcome</td>\n",
       "      <td>adj stemmed1=n</td>\n",
       "      <td>positive</td>\n",
       "    </tr>\n",
       "    <tr>\n",
       "      <td>8061</td>\n",
       "      <td>weak</td>\n",
       "      <td>welcome</td>\n",
       "      <td>anypos stemmed1=y</td>\n",
       "      <td>positive</td>\n",
       "    </tr>\n",
       "    <tr>\n",
       "      <td>8062</td>\n",
       "      <td>strong</td>\n",
       "      <td>welcome</td>\n",
       "      <td>noun stemmed1=n</td>\n",
       "      <td>positive</td>\n",
       "    </tr>\n",
       "    <tr>\n",
       "      <td>8063</td>\n",
       "      <td>strong</td>\n",
       "      <td>welcome</td>\n",
       "      <td>verb stemmed1=y</td>\n",
       "      <td>positive</td>\n",
       "    </tr>\n",
       "  </tbody>\n",
       "</table>\n",
       "</div>"
      ],
      "text/plain": [
       "        type     word              trash  polarity\n",
       "8060  strong  welcome     adj stemmed1=n  positive\n",
       "8061    weak  welcome  anypos stemmed1=y  positive\n",
       "8062  strong  welcome    noun stemmed1=n  positive\n",
       "8063  strong  welcome    verb stemmed1=y  positive"
      ]
     },
     "execution_count": 253,
     "metadata": {},
     "output_type": "execute_result"
    }
   ],
   "source": [
    "this_xxword = dict_df[dict_df['word']=='welcome'].copy()\n",
    "this_xxword"
   ]
  },
  {
   "cell_type": "code",
   "execution_count": 254,
   "metadata": {},
   "outputs": [
    {
     "data": {
      "text/html": [
       "<div>\n",
       "<style scoped>\n",
       "    .dataframe tbody tr th:only-of-type {\n",
       "        vertical-align: middle;\n",
       "    }\n",
       "\n",
       "    .dataframe tbody tr th {\n",
       "        vertical-align: top;\n",
       "    }\n",
       "\n",
       "    .dataframe thead th {\n",
       "        text-align: right;\n",
       "    }\n",
       "</style>\n",
       "<table border=\"1\" class=\"dataframe\">\n",
       "  <thead>\n",
       "    <tr style=\"text-align: right;\">\n",
       "      <th></th>\n",
       "      <th>type</th>\n",
       "      <th>word</th>\n",
       "      <th>trash</th>\n",
       "      <th>polarity</th>\n",
       "    </tr>\n",
       "  </thead>\n",
       "  <tbody>\n",
       "    <tr>\n",
       "      <td>8060</td>\n",
       "      <td>strong</td>\n",
       "      <td>welcome</td>\n",
       "      <td>adj stemmed1=n</td>\n",
       "      <td>positive</td>\n",
       "    </tr>\n",
       "  </tbody>\n",
       "</table>\n",
       "</div>"
      ],
      "text/plain": [
       "        type     word           trash  polarity\n",
       "8060  strong  welcome  adj stemmed1=n  positive"
      ]
     },
     "execution_count": 254,
     "metadata": {},
     "output_type": "execute_result"
    }
   ],
   "source": [
    "this_xxword_c = this_xxword.drop_duplicates(['word'])\n",
    "this_xxword_c"
   ]
  },
  {
   "cell_type": "code",
   "execution_count": null,
   "metadata": {},
   "outputs": [],
   "source": []
  },
  {
   "cell_type": "code",
   "execution_count": null,
   "metadata": {},
   "outputs": [],
   "source": []
  },
  {
   "cell_type": "code",
   "execution_count": 224,
   "metadata": {},
   "outputs": [
    {
     "data": {
      "text/plain": [
       "welcome       4\n",
       "trouble       4\n",
       "savage        3\n",
       "autocratic    3\n",
       "protest       3\n",
       "             ..\n",
       "coupists      2\n",
       "eyebrows      2\n",
       "humanists     2\n",
       "defrauding    2\n",
       "spiritual     2\n",
       "Name: word, Length: 1254, dtype: int64"
      ]
     },
     "execution_count": 224,
     "metadata": {},
     "output_type": "execute_result"
    }
   ],
   "source": [
    "pp2"
   ]
  },
  {
   "cell_type": "code",
   "execution_count": 216,
   "metadata": {},
   "outputs": [
    {
     "name": "stdout",
     "output_type": "stream",
     "text": [
      "<class 'pandas.core.frame.DataFrame'>\n",
      "RangeIndex: 8222 entries, 0 to 8221\n",
      "Data columns (total 4 columns):\n",
      "type        8222 non-null object\n",
      "word        8222 non-null object\n",
      "trash       8222 non-null object\n",
      "polarity    8222 non-null object\n",
      "dtypes: object(4)\n",
      "memory usage: 257.1+ KB\n"
     ]
    }
   ],
   "source": [
    "dict_df.info()"
   ]
  },
  {
   "cell_type": "code",
   "execution_count": 214,
   "metadata": {},
   "outputs": [
    {
     "data": {
      "text/html": [
       "<div>\n",
       "<style scoped>\n",
       "    .dataframe tbody tr th:only-of-type {\n",
       "        vertical-align: middle;\n",
       "    }\n",
       "\n",
       "    .dataframe tbody tr th {\n",
       "        vertical-align: top;\n",
       "    }\n",
       "\n",
       "    .dataframe thead th {\n",
       "        text-align: right;\n",
       "    }\n",
       "</style>\n",
       "<table border=\"1\" class=\"dataframe\">\n",
       "  <thead>\n",
       "    <tr style=\"text-align: right;\">\n",
       "      <th></th>\n",
       "      <th>0</th>\n",
       "      <th>1</th>\n",
       "      <th>2</th>\n",
       "      <th>3</th>\n",
       "    </tr>\n",
       "  </thead>\n",
       "  <tbody>\n",
       "    <tr>\n",
       "      <td>947</td>\n",
       "      <td>strong</td>\n",
       "      <td>brutish</td>\n",
       "      <td>adj stemmed1=n</td>\n",
       "      <td>negative</td>\n",
       "    </tr>\n",
       "    <tr>\n",
       "      <td>6619</td>\n",
       "      <td>weak</td>\n",
       "      <td>shake</td>\n",
       "      <td>verb stemmed1=y</td>\n",
       "      <td>negative</td>\n",
       "    </tr>\n",
       "    <tr>\n",
       "      <td>2799</td>\n",
       "      <td>weak</td>\n",
       "      <td>fast-paced</td>\n",
       "      <td>adj stemmed1=n</td>\n",
       "      <td>positive</td>\n",
       "    </tr>\n",
       "    <tr>\n",
       "      <td>5449</td>\n",
       "      <td>strong</td>\n",
       "      <td>partisans</td>\n",
       "      <td>noun stemmed1=n</td>\n",
       "      <td>negative</td>\n",
       "    </tr>\n",
       "    <tr>\n",
       "      <td>957</td>\n",
       "      <td>strong</td>\n",
       "      <td>bully</td>\n",
       "      <td>adj stemmed1=n</td>\n",
       "      <td>negative</td>\n",
       "    </tr>\n",
       "  </tbody>\n",
       "</table>\n",
       "</div>"
      ],
      "text/plain": [
       "           0           1                2         3\n",
       "947   strong     brutish   adj stemmed1=n  negative\n",
       "6619    weak       shake  verb stemmed1=y  negative\n",
       "2799    weak  fast-paced   adj stemmed1=n  positive\n",
       "5449  strong   partisans  noun stemmed1=n  negative\n",
       "957   strong       bully   adj stemmed1=n  negative"
      ]
     },
     "execution_count": 214,
     "metadata": {},
     "output_type": "execute_result"
    }
   ],
   "source": [
    "dict_df.sample(5)"
   ]
  },
  {
   "cell_type": "code",
   "execution_count": null,
   "metadata": {},
   "outputs": [],
   "source": []
  }
 ],
 "metadata": {
  "kernelspec": {
   "display_name": "Python 3",
   "language": "python",
   "name": "python3"
  },
  "language_info": {
   "codemirror_mode": {
    "name": "ipython",
    "version": 3
   },
   "file_extension": ".py",
   "mimetype": "text/x-python",
   "name": "python",
   "nbconvert_exporter": "python",
   "pygments_lexer": "ipython3",
   "version": "3.7.4"
  }
 },
 "nbformat": 4,
 "nbformat_minor": 2
}
