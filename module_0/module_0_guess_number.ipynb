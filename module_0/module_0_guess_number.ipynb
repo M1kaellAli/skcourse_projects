{
 "cells": [
  {
   "cell_type": "code",
   "execution_count": 28,
   "metadata": {},
   "outputs": [],
   "source": [
    "import numpy as np  # для использования random и mean"
   ]
  },
  {
   "cell_type": "code",
   "execution_count": 29,
   "metadata": {},
   "outputs": [],
   "source": [
    "def next_prediction(low_bound, high_bound):\n",
    "    \"\"\"Функция для предсказания следующего варианта в функции 'game_core_log2'\"\"\"\n",
    "    return int(low_bound + (high_bound-low_bound)/2)"
   ]
  },
  {
   "cell_type": "code",
   "execution_count": 30,
   "metadata": {},
   "outputs": [],
   "source": [
    "def game_core_log2(number):\n",
    "    \"\"\"Функция для нахождения числа за log2(100) операций:\n",
    "    делим пополам интервала возможного ответа на каждой итерации\"\"\"\n",
    "    \n",
    "    # инициализируем границы интервала возможного ответа\n",
    "    low_bound = 0\n",
    "    high_bound = 101\n",
    "    \n",
    "    count = 0 # счетчик попыток\n",
    "    predict = next_prediction(low_bound, high_bound)\n",
    "    while number != predict:\n",
    "        count+=1\n",
    "        if number > predict: \n",
    "            low_bound = predict\n",
    "        elif number < predict:\n",
    "            high_bound = predict        \n",
    "        predict = next_prediction(low_bound, high_bound)\n",
    "        \n",
    "    return(count) # число найдено, выходим"
   ]
  },
  {
   "cell_type": "code",
   "execution_count": 31,
   "metadata": {},
   "outputs": [],
   "source": [
    "# функции с другими вариантами поиска числа, будем их использовать для сравнения методов\n",
    "def game_core_v1(number):\n",
    "    '''Просто угадываем на random, никак не используя информацию о больше или меньше.\n",
    "       Функция принимает загаданное число и возвращает число попыток'''\n",
    "    count = 0\n",
    "    while True:\n",
    "        count+=1\n",
    "        predict = np.random.randint(1,101) # предполагаемое число\n",
    "        if number == predict: \n",
    "            return(count) # выход из цикла, если угадали\n",
    "        \n",
    "        \n",
    "def game_core_v2(number):\n",
    "    '''Сначала устанавливаем любое random число, а потом уменьшаем или увеличиваем его в зависимости от того,\n",
    "       больше оно или меньше нужного. Функция принимает загаданное число и возвращает число попыток'''\n",
    "    count = 1\n",
    "    predict = np.random.randint(1,101)\n",
    "    while number != predict:\n",
    "        count+=1\n",
    "        if number > predict: \n",
    "            predict += 1\n",
    "        elif number < predict: \n",
    "            predict -= 1\n",
    "    return(count) # выход из цикла, если угадали"
   ]
  },
  {
   "cell_type": "code",
   "execution_count": 36,
   "metadata": {},
   "outputs": [],
   "source": [
    "def compare_methods(seed_val=1):\n",
    "    \"\"\"Функция сравнения разных вариантов поиска числа:\n",
    "    1. По среднему количеству попыток; 2. По количеству раз когда метод был лучшим.\n",
    "    Методы: log2(N), случайный выбор(random) , инкрементация/декрементация в зависимости от сравненя.\n",
    "    Параметр - число для инициализации генератора случайных чисел.\"\"\"\n",
    "    \n",
    "    # словари для счетчика попыток каждого метода, среднего количества попыток и счетчика лучшего метода в конкретном случае\n",
    "    counter_dict = {}\n",
    "    scores_dict = {}\n",
    "    better_vars_dict = {}\n",
    "    \n",
    "    # словарь методов\n",
    "    funcs_dict = {\"log2\":game_core_log2, \"random\":game_core_v1, \"inc-dec\":game_core_v2}\n",
    "    \n",
    "    # инициализация словарей\n",
    "    for func in funcs_dict.keys():\n",
    "        counter_dict[func] =[]\n",
    "        better_vars_dict[func] = 0\n",
    "        \n",
    "    np.random.seed(seed_val)  # фиксируем RANDOM SEED, чтобы эксперимент был воспроизводим!\n",
    "    tries_number = 1000\n",
    "    random_array = np.random.randint(1,101, size=(tries_number))\n",
    "    for ii, number in enumerate(random_array):\n",
    "        # запускаем каждый метод и находим какой быстрей в этот раз\n",
    "        func_name = ''\n",
    "        current_min = 10000\n",
    "        for func in funcs_dict.keys():\n",
    "            count_var = funcs_dict[func](number)\n",
    "            counter_dict[func].append(count_var)\n",
    "            if (current_min > count_var):\n",
    "                current_min = count_var\n",
    "                func_name = func\n",
    "            \n",
    "        # увеличиваем счетчик лучшего метода\n",
    "        better_vars_dict[func_name] += 1\n",
    "     \n",
    "    # выводим информацию по каждому\n",
    "    for func in funcs_dict.keys():\n",
    "        scores_dict[func] = int(np.mean(counter_dict[func]))\n",
    "        print(f\"\"\"Алгоритм '{func}' угадывает число в среднем за {scores_dict[func]} попыток(ки)\n",
    "            и был лучше в '{better_vars_dict[func]}' случаях из {tries_number} (т.е в {100*better_vars_dict[func]/tries_number}%).\"\"\")\n",
    "        \n",
    "    print()\n",
    "    \n",
    "    # вычисляем и выводим лучший по среднему количеству попыток \n",
    "    min_ave_val = min(scores_dict.values())\n",
    "    min_ave_keys = [key for key, value in scores_dict.items() if value==min_ave_val]\n",
    "    print(f\"\"\"Лучший алгоритм(ы) по среднему числу попыток ({min_ave_val}): {min_ave_keys}\"\"\")\n",
    "        \n",
    "    # вычисляем и выводим лучший по количеству побед \n",
    "    max_best_val = max(better_vars_dict.values())\n",
    "    max_best_keys = [key for key, value in better_vars_dict.items() if value==max_best_val]\n",
    "    print(f\"\"\"Лучший алгоритм(ы) по количеству раз когда был лучшим ({max_best_val}): {max_best_keys}\"\"\")    "
   ]
  },
  {
   "cell_type": "code",
   "execution_count": 37,
   "metadata": {},
   "outputs": [
    {
     "name": "stdout",
     "output_type": "stream",
     "text": [
      "Алгоритм 'log2' угадывает число в среднем за 4 попыток(ки)\n",
      "            и был лучше в '905' случаях из 1000 (т.е в 90.5%).\n",
      "Алгоритм 'random' угадывает число в среднем за 100 попыток(ки)\n",
      "            и был лучше в '35' случаях из 1000 (т.е в 3.5%).\n",
      "Алгоритм 'inc-dec' угадывает число в среднем за 35 попыток(ки)\n",
      "            и был лучше в '60' случаях из 1000 (т.е в 6.0%).\n",
      "\n",
      "Лучший алгоритм(ы) по среднему числу попыток (4): ['log2']\n",
      "Лучший алгоритм(ы) по количеству раз когда был лучшим (905): ['log2']\n"
     ]
    }
   ],
   "source": [
    "# run methods comparing\n",
    "compare_methods()"
   ]
  },
  {
   "cell_type": "code",
   "execution_count": 38,
   "metadata": {},
   "outputs": [
    {
     "name": "stdout",
     "output_type": "stream",
     "text": [
      "Алгоритм 'log2' угадывает число в среднем за 4 попыток(ки)\n",
      "            и был лучше в '907' случаях из 1000 (т.е в 90.7%).\n",
      "Алгоритм 'random' угадывает число в среднем за 103 попыток(ки)\n",
      "            и был лучше в '36' случаях из 1000 (т.е в 3.6%).\n",
      "Алгоритм 'inc-dec' угадывает число в среднем за 35 попыток(ки)\n",
      "            и был лучше в '57' случаях из 1000 (т.е в 5.7%).\n",
      "\n",
      "Лучший алгоритм(ы) по среднему числу попыток (4): ['log2']\n",
      "Лучший алгоритм(ы) по количеству раз когда был лучшим (907): ['log2']\n"
     ]
    }
   ],
   "source": [
    "# run methods comparing\n",
    "compare_methods(33)"
   ]
  },
  {
   "cell_type": "code",
   "execution_count": null,
   "metadata": {},
   "outputs": [],
   "source": []
  }
 ],
 "metadata": {
  "kernelspec": {
   "display_name": "Python 3",
   "language": "python",
   "name": "python3"
  },
  "language_info": {
   "codemirror_mode": {
    "name": "ipython",
    "version": 3
   },
   "file_extension": ".py",
   "mimetype": "text/x-python",
   "name": "python",
   "nbconvert_exporter": "python",
   "pygments_lexer": "ipython3",
   "version": "3.7.4"
  }
 },
 "nbformat": 4,
 "nbformat_minor": 2
}
