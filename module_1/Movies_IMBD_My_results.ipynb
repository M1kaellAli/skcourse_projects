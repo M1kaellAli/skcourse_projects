{
 "cells": [
  {
   "cell_type": "code",
   "execution_count": 12,
   "metadata": {
    "_cell_guid": "b1076dfc-b9ad-4769-8c92-a6c4dae69d19",
    "_uuid": "8f2839f25d086af736a60e9eeb907d3b93b6e0e5",
    "colab": {},
    "colab_type": "code",
    "id": "U2D2gTdJVp90"
   },
   "outputs": [],
   "source": [
    "import pandas as pd\n",
    "from collections import Counter\n",
    "from itertools import combinations"
   ]
  },
  {
   "cell_type": "code",
   "execution_count": 13,
   "metadata": {
    "_cell_guid": "79c7e3d0-c299-4dcb-8224-4455121ee9b0",
    "_uuid": "d629ff2d2480ee46fbb7e2d37f6b5fab8052498a",
    "colab": {},
    "colab_type": "code",
    "id": "oyGfxL3eVp9-"
   },
   "outputs": [
    {
     "data": {
      "text/html": [
       "<div>\n",
       "<style scoped>\n",
       "    .dataframe tbody tr th:only-of-type {\n",
       "        vertical-align: middle;\n",
       "    }\n",
       "\n",
       "    .dataframe tbody tr th {\n",
       "        vertical-align: top;\n",
       "    }\n",
       "\n",
       "    .dataframe thead th {\n",
       "        text-align: right;\n",
       "    }\n",
       "</style>\n",
       "<table border=\"1\" class=\"dataframe\">\n",
       "  <thead>\n",
       "    <tr style=\"text-align: right;\">\n",
       "      <th></th>\n",
       "      <th>imdb_id</th>\n",
       "      <th>budget</th>\n",
       "      <th>revenue</th>\n",
       "      <th>original_title</th>\n",
       "      <th>cast</th>\n",
       "      <th>director</th>\n",
       "      <th>tagline</th>\n",
       "      <th>overview</th>\n",
       "      <th>runtime</th>\n",
       "      <th>genres</th>\n",
       "      <th>production_companies</th>\n",
       "      <th>release_date</th>\n",
       "      <th>vote_average</th>\n",
       "      <th>release_year</th>\n",
       "    </tr>\n",
       "  </thead>\n",
       "  <tbody>\n",
       "    <tr>\n",
       "      <td>1704</td>\n",
       "      <td>tt0462538</td>\n",
       "      <td>75000000</td>\n",
       "      <td>527068851</td>\n",
       "      <td>The Simpsons Movie</td>\n",
       "      <td>Dan Castellaneta|Julie Kavner|Nancy Cartwright...</td>\n",
       "      <td>David Silverman</td>\n",
       "      <td>See our family. And feel better about yours.</td>\n",
       "      <td>After Homer accidentally pollutes the town's w...</td>\n",
       "      <td>87</td>\n",
       "      <td>Animation|Comedy|Family</td>\n",
       "      <td>Gracie Films|Twentieth Century Fox Film Corpor...</td>\n",
       "      <td>7/25/2007</td>\n",
       "      <td>6.9</td>\n",
       "      <td>2007</td>\n",
       "    </tr>\n",
       "    <tr>\n",
       "      <td>1538</td>\n",
       "      <td>tt0452624</td>\n",
       "      <td>32000000</td>\n",
       "      <td>5914908</td>\n",
       "      <td>The Good German</td>\n",
       "      <td>George Clooney|Cate Blanchett|Tobey Maguire|To...</td>\n",
       "      <td>Steven Soderbergh</td>\n",
       "      <td>If war is Hell, then what comes after?</td>\n",
       "      <td>An American journalist played by George Cloone...</td>\n",
       "      <td>108</td>\n",
       "      <td>War|Crime|Drama|Mystery|Romance</td>\n",
       "      <td>Warner Bros.|Section Eight Productions|Sunset ...</td>\n",
       "      <td>12/8/2006</td>\n",
       "      <td>5.8</td>\n",
       "      <td>2006</td>\n",
       "    </tr>\n",
       "    <tr>\n",
       "      <td>677</td>\n",
       "      <td>tt0482606</td>\n",
       "      <td>9000000</td>\n",
       "      <td>82391145</td>\n",
       "      <td>The Strangers</td>\n",
       "      <td>Liv Tyler|Scott Speedman|Alex Fisher|Peter Cla...</td>\n",
       "      <td>Bryan Bertino</td>\n",
       "      <td>Lock the door. Pretend you're safe.</td>\n",
       "      <td>After returning from a wedding reception, a co...</td>\n",
       "      <td>90</td>\n",
       "      <td>Thriller|Horror|Mystery</td>\n",
       "      <td>Rogue Pictures|Vertigo Entertainment</td>\n",
       "      <td>5/29/2008</td>\n",
       "      <td>5.9</td>\n",
       "      <td>2008</td>\n",
       "    </tr>\n",
       "    <tr>\n",
       "      <td>636</td>\n",
       "      <td>tt0455824</td>\n",
       "      <td>130000000</td>\n",
       "      <td>49554002</td>\n",
       "      <td>Australia</td>\n",
       "      <td>Nicole Kidman|Hugh Jackman|Essie Davis|David W...</td>\n",
       "      <td>Baz Luhrmann</td>\n",
       "      <td>Welcome to Australia!</td>\n",
       "      <td>Set in northern Australia before World War II,...</td>\n",
       "      <td>165</td>\n",
       "      <td>Drama</td>\n",
       "      <td>Bazmark Films|Ingenious Film Partners|Twentiet...</td>\n",
       "      <td>11/18/2008</td>\n",
       "      <td>6.3</td>\n",
       "      <td>2008</td>\n",
       "    </tr>\n",
       "    <tr>\n",
       "      <td>1001</td>\n",
       "      <td>tt1259521</td>\n",
       "      <td>30000000</td>\n",
       "      <td>66486080</td>\n",
       "      <td>The Cabin in the Woods</td>\n",
       "      <td>Kristen Connolly|Chris Hemsworth|Anna Hutchiso...</td>\n",
       "      <td>Drew Goddard</td>\n",
       "      <td>If you hear a strange sound outside... have sex</td>\n",
       "      <td>Five college friends spend the weekend at a re...</td>\n",
       "      <td>95</td>\n",
       "      <td>Horror|Thriller</td>\n",
       "      <td>Lionsgate|Mutant Enemy Productions</td>\n",
       "      <td>4/12/2012</td>\n",
       "      <td>6.5</td>\n",
       "      <td>2012</td>\n",
       "    </tr>\n",
       "  </tbody>\n",
       "</table>\n",
       "</div>"
      ],
      "text/plain": [
       "        imdb_id     budget    revenue          original_title  \\\n",
       "1704  tt0462538   75000000  527068851      The Simpsons Movie   \n",
       "1538  tt0452624   32000000    5914908         The Good German   \n",
       "677   tt0482606    9000000   82391145           The Strangers   \n",
       "636   tt0455824  130000000   49554002               Australia   \n",
       "1001  tt1259521   30000000   66486080  The Cabin in the Woods   \n",
       "\n",
       "                                                   cast           director  \\\n",
       "1704  Dan Castellaneta|Julie Kavner|Nancy Cartwright...    David Silverman   \n",
       "1538  George Clooney|Cate Blanchett|Tobey Maguire|To...  Steven Soderbergh   \n",
       "677   Liv Tyler|Scott Speedman|Alex Fisher|Peter Cla...      Bryan Bertino   \n",
       "636   Nicole Kidman|Hugh Jackman|Essie Davis|David W...       Baz Luhrmann   \n",
       "1001  Kristen Connolly|Chris Hemsworth|Anna Hutchiso...       Drew Goddard   \n",
       "\n",
       "                                              tagline  \\\n",
       "1704     See our family. And feel better about yours.   \n",
       "1538           If war is Hell, then what comes after?   \n",
       "677               Lock the door. Pretend you're safe.   \n",
       "636                             Welcome to Australia!   \n",
       "1001  If you hear a strange sound outside... have sex   \n",
       "\n",
       "                                               overview  runtime  \\\n",
       "1704  After Homer accidentally pollutes the town's w...       87   \n",
       "1538  An American journalist played by George Cloone...      108   \n",
       "677   After returning from a wedding reception, a co...       90   \n",
       "636   Set in northern Australia before World War II,...      165   \n",
       "1001  Five college friends spend the weekend at a re...       95   \n",
       "\n",
       "                               genres  \\\n",
       "1704          Animation|Comedy|Family   \n",
       "1538  War|Crime|Drama|Mystery|Romance   \n",
       "677           Thriller|Horror|Mystery   \n",
       "636                             Drama   \n",
       "1001                  Horror|Thriller   \n",
       "\n",
       "                                   production_companies release_date  \\\n",
       "1704  Gracie Films|Twentieth Century Fox Film Corpor...    7/25/2007   \n",
       "1538  Warner Bros.|Section Eight Productions|Sunset ...    12/8/2006   \n",
       "677                Rogue Pictures|Vertigo Entertainment    5/29/2008   \n",
       "636   Bazmark Films|Ingenious Film Partners|Twentiet...   11/18/2008   \n",
       "1001                 Lionsgate|Mutant Enemy Productions    4/12/2012   \n",
       "\n",
       "      vote_average  release_year  \n",
       "1704           6.9          2007  \n",
       "1538           5.8          2006  \n",
       "677            5.9          2008  \n",
       "636            6.3          2008  \n",
       "1001           6.5          2012  "
      ]
     },
     "execution_count": 13,
     "metadata": {},
     "output_type": "execute_result"
    }
   ],
   "source": [
    "data = pd.read_csv('movie_bd_v5.csv')\n",
    "data.sample(5)"
   ]
  },
  {
   "cell_type": "code",
   "execution_count": 14,
   "metadata": {
    "colab": {},
    "colab_type": "code",
    "id": "CoYUnagMVp-C",
    "scrolled": true
   },
   "outputs": [
    {
     "data": {
      "text/html": [
       "<div>\n",
       "<style scoped>\n",
       "    .dataframe tbody tr th:only-of-type {\n",
       "        vertical-align: middle;\n",
       "    }\n",
       "\n",
       "    .dataframe tbody tr th {\n",
       "        vertical-align: top;\n",
       "    }\n",
       "\n",
       "    .dataframe thead th {\n",
       "        text-align: right;\n",
       "    }\n",
       "</style>\n",
       "<table border=\"1\" class=\"dataframe\">\n",
       "  <thead>\n",
       "    <tr style=\"text-align: right;\">\n",
       "      <th></th>\n",
       "      <th>budget</th>\n",
       "      <th>revenue</th>\n",
       "      <th>runtime</th>\n",
       "      <th>vote_average</th>\n",
       "      <th>release_year</th>\n",
       "    </tr>\n",
       "  </thead>\n",
       "  <tbody>\n",
       "    <tr>\n",
       "      <td>count</td>\n",
       "      <td>1.889000e+03</td>\n",
       "      <td>1.889000e+03</td>\n",
       "      <td>1889.000000</td>\n",
       "      <td>1889.000000</td>\n",
       "      <td>1889.000000</td>\n",
       "    </tr>\n",
       "    <tr>\n",
       "      <td>mean</td>\n",
       "      <td>5.431083e+07</td>\n",
       "      <td>1.553653e+08</td>\n",
       "      <td>109.658549</td>\n",
       "      <td>6.140762</td>\n",
       "      <td>2007.860773</td>\n",
       "    </tr>\n",
       "    <tr>\n",
       "      <td>std</td>\n",
       "      <td>4.858721e+07</td>\n",
       "      <td>2.146698e+08</td>\n",
       "      <td>18.017041</td>\n",
       "      <td>0.764763</td>\n",
       "      <td>4.468841</td>\n",
       "    </tr>\n",
       "    <tr>\n",
       "      <td>min</td>\n",
       "      <td>5.000000e+06</td>\n",
       "      <td>2.033165e+06</td>\n",
       "      <td>63.000000</td>\n",
       "      <td>3.300000</td>\n",
       "      <td>2000.000000</td>\n",
       "    </tr>\n",
       "    <tr>\n",
       "      <td>25%</td>\n",
       "      <td>2.000000e+07</td>\n",
       "      <td>3.456058e+07</td>\n",
       "      <td>97.000000</td>\n",
       "      <td>5.600000</td>\n",
       "      <td>2004.000000</td>\n",
       "    </tr>\n",
       "    <tr>\n",
       "      <td>50%</td>\n",
       "      <td>3.800000e+07</td>\n",
       "      <td>8.361541e+07</td>\n",
       "      <td>107.000000</td>\n",
       "      <td>6.100000</td>\n",
       "      <td>2008.000000</td>\n",
       "    </tr>\n",
       "    <tr>\n",
       "      <td>75%</td>\n",
       "      <td>7.200000e+07</td>\n",
       "      <td>1.782626e+08</td>\n",
       "      <td>120.000000</td>\n",
       "      <td>6.600000</td>\n",
       "      <td>2012.000000</td>\n",
       "    </tr>\n",
       "    <tr>\n",
       "      <td>max</td>\n",
       "      <td>3.800000e+08</td>\n",
       "      <td>2.781506e+09</td>\n",
       "      <td>214.000000</td>\n",
       "      <td>8.100000</td>\n",
       "      <td>2015.000000</td>\n",
       "    </tr>\n",
       "  </tbody>\n",
       "</table>\n",
       "</div>"
      ],
      "text/plain": [
       "             budget       revenue      runtime  vote_average  release_year\n",
       "count  1.889000e+03  1.889000e+03  1889.000000   1889.000000   1889.000000\n",
       "mean   5.431083e+07  1.553653e+08   109.658549      6.140762   2007.860773\n",
       "std    4.858721e+07  2.146698e+08    18.017041      0.764763      4.468841\n",
       "min    5.000000e+06  2.033165e+06    63.000000      3.300000   2000.000000\n",
       "25%    2.000000e+07  3.456058e+07    97.000000      5.600000   2004.000000\n",
       "50%    3.800000e+07  8.361541e+07   107.000000      6.100000   2008.000000\n",
       "75%    7.200000e+07  1.782626e+08   120.000000      6.600000   2012.000000\n",
       "max    3.800000e+08  2.781506e+09   214.000000      8.100000   2015.000000"
      ]
     },
     "execution_count": 14,
     "metadata": {},
     "output_type": "execute_result"
    }
   ],
   "source": [
    "data.describe()"
   ]
  },
  {
   "cell_type": "code",
   "execution_count": 15,
   "metadata": {},
   "outputs": [
    {
     "name": "stdout",
     "output_type": "stream",
     "text": [
      "<class 'pandas.core.frame.DataFrame'>\n",
      "RangeIndex: 1889 entries, 0 to 1888\n",
      "Data columns (total 14 columns):\n",
      "imdb_id                 1889 non-null object\n",
      "budget                  1889 non-null int64\n",
      "revenue                 1889 non-null int64\n",
      "original_title          1889 non-null object\n",
      "cast                    1889 non-null object\n",
      "director                1889 non-null object\n",
      "tagline                 1889 non-null object\n",
      "overview                1889 non-null object\n",
      "runtime                 1889 non-null int64\n",
      "genres                  1889 non-null object\n",
      "production_companies    1889 non-null object\n",
      "release_date            1889 non-null object\n",
      "vote_average            1889 non-null float64\n",
      "release_year            1889 non-null int64\n",
      "dtypes: float64(1), int64(4), object(9)\n",
      "memory usage: 206.7+ KB\n"
     ]
    }
   ],
   "source": [
    "data.info()"
   ]
  },
  {
   "cell_type": "markdown",
   "metadata": {
    "colab_type": "text",
    "id": "DTIt7ezGVp-G"
   },
   "source": [
    "# Предобработка"
   ]
  },
  {
   "cell_type": "code",
   "execution_count": 16,
   "metadata": {
    "colab": {},
    "colab_type": "code",
    "id": "jNb40DwKVp-H"
   },
   "outputs": [],
   "source": [
    "answers = {} # создадим словарь для ответов\n",
    "\n",
    "# тут другие ваши предобработки колонок например:\n",
    "# Переведем колонку release_date из формата object в формат datetime64\n",
    "data['release_date'] = pd.to_datetime(data['release_date'])"
   ]
  },
  {
   "cell_type": "code",
   "execution_count": 17,
   "metadata": {},
   "outputs": [],
   "source": [
    "# для задания 21 понадобится получить месяц из числа, а также колонка месяца\n",
    "import calendar\n",
    "data['release_month'] = pd.DatetimeIndex(data['release_date']).month"
   ]
  },
  {
   "cell_type": "code",
   "execution_count": 18,
   "metadata": {},
   "outputs": [],
   "source": [
    "# Создадим колонку прибыльности фильма из разницы между сборами и бюджетом\n",
    "data['profit'] = data['revenue'] - data['budget']"
   ]
  },
  {
   "cell_type": "code",
   "execution_count": 19,
   "metadata": {},
   "outputs": [],
   "source": [
    "# получение имени сезона по номеру месяца\n",
    "def month_to_season(month):\n",
    "    if (month>11 or month<3):\n",
    "        return \"winter\"\n",
    "    elif (month>8):\n",
    "        return \"autumn\"\n",
    "    elif (month>5):\n",
    "        return \"summer\"\n",
    "    \n",
    "    return \"spring\""
   ]
  },
  {
   "cell_type": "code",
   "execution_count": 20,
   "metadata": {},
   "outputs": [],
   "source": [
    "# В ответах часто требуется сделать строку состоящую из имени и кода на imdb.\n",
    "# Чтобы не писать одинаковые крупные конструкции сделаем короткую функцию\n",
    "def answer_string(single_string_dataframe):\n",
    "    # если вход пустой, то возвращаем пустую строку\n",
    "    if (len(single_string_dataframe) == 0):\n",
    "        return ''\n",
    "    dataframe_string = single_string_dataframe.iloc[0]\n",
    "    return dataframe_string['original_title'] + ' (' + dataframe_string['imdb_id'] + ')'"
   ]
  },
  {
   "cell_type": "code",
   "execution_count": 21,
   "metadata": {},
   "outputs": [],
   "source": [
    "# В ответах часто требуются округленные числа уже в integer типе.\n",
    "# round не подходит так как округлив мы все равно имеем десятичное (например, 110.0).\n",
    "# Поэтому напишем функцию\n",
    "def int_round(input_float):\n",
    "    return int(round(input_float))"
   ]
  },
  {
   "cell_type": "code",
   "execution_count": 22,
   "metadata": {},
   "outputs": [],
   "source": [
    "# функция для выбора ответа на вопрос 27. Вызывается один раз, но громоздка и \n",
    "# не относится к сути задания, поэтому вынесена отдельно\n",
    "# на вход варианты ответы из теста, варианты ответа полученные мной и\n",
    "# разделитель вариантов ответов на теста на актеров\n",
    "def check_correct_answer27(test_answer_variants, answer_variants_list, sepp):\n",
    "    \n",
    "    # список листов ответов разделенных по фильмам\n",
    "    test_answer_variants_lists = []\n",
    "\n",
    "    # заполняем список листов ответов разделенных по фильмам\n",
    "    for i in range(0, len(test_answer_variants)):\n",
    "        test_answer_variants_lists.append(test_answer_variants[i].split(sepp))\n",
    "    \n",
    "    have_answer = False\n",
    "    one_answer = ''\n",
    "    for kk in range(0, len(answer_variants_list)):\n",
    "        for i in range(0, len(test_answer_variants_lists)):\n",
    "            for j in range(0, len(test_answer_variants_lists[i])):\n",
    "                if test_answer_variants_lists[i][j] not in answer_variants_list[kk]:\n",
    "                    break\n",
    "            else:\n",
    "                if (have_answer == True):\n",
    "                    print(\"Ошибка - два правильных ответа\")\n",
    "                    # генерируем ошибку\n",
    "                    tt = 2/0\n",
    "                else:\n",
    "                    have_answer = True\n",
    "                    one_answer = test_answer_variants[i]\n",
    "    return one_answer"
   ]
  },
  {
   "cell_type": "code",
   "execution_count": null,
   "metadata": {},
   "outputs": [],
   "source": []
  },
  {
   "cell_type": "markdown",
   "metadata": {
    "colab_type": "text",
    "id": "YxZaH-nPVp-L"
   },
   "source": [
    "# 1. У какого фильма из списка самый большой бюджет?"
   ]
  },
  {
   "cell_type": "markdown",
   "metadata": {
    "colab_type": "text",
    "id": "Nd-G5gX6Vp-M"
   },
   "source": [
    "Использовать варианты ответов в коде решения запрещено.    \n",
    "Вы думаете и в жизни у вас будут варианты ответов?)"
   ]
  },
  {
   "cell_type": "code",
   "execution_count": 23,
   "metadata": {
    "colab": {},
    "colab_type": "code",
    "id": "uVnXAY5RVp-O"
   },
   "outputs": [],
   "source": [
    "# в словарь вставляем номер вопроса и ваш ответ на него\n",
    "# Пример: \n",
    "answers['1'] = '2. Spider-Man 3 (tt0413300)'\n",
    "# запишите свой вариант ответа\n",
    "answers['1'] = '...'\n",
    "# если ответили верно, можете добавить комментарий со значком \"+\""
   ]
  },
  {
   "cell_type": "code",
   "execution_count": 24,
   "metadata": {
    "colab": {},
    "colab_type": "code",
    "id": "dZwb3m28Vp-S"
   },
   "outputs": [
    {
     "name": "stdout",
     "output_type": "stream",
     "text": [
      "Pirates of the Caribbean: On Stranger Tides (tt1298650)\n"
     ]
    }
   ],
   "source": [
    "# +\n",
    "# тут пишем ваш код для решения данного вопроса:\n",
    "# 1. получение строки из базы ответом\n",
    "res_maxb = data[data.budget == data.budget.max()]#[['original_title', 'imdb_id']]\n",
    "# 2. склеивание их в нужную строку ответа\n",
    "answers['1'] = answer_string(res_maxb)\n",
    "# далее при односложных решениях шаги 1 и 2 будут объединены\n",
    "print(answers['1'])"
   ]
  },
  {
   "cell_type": "markdown",
   "metadata": {
    "colab_type": "text",
    "id": "FNRbbI3vVp-c"
   },
   "source": [
    "# 2. Какой из фильмов самый длительный (в минутах)?"
   ]
  },
  {
   "cell_type": "code",
   "execution_count": 25,
   "metadata": {
    "colab": {},
    "colab_type": "code",
    "id": "vHAoEXNTVp-d"
   },
   "outputs": [
    {
     "name": "stdout",
     "output_type": "stream",
     "text": [
      "Gods and Generals (tt0279111)\n"
     ]
    }
   ],
   "source": [
    "# +\n",
    "# думаю логику работы с этим словарем вы уже поняли, \n",
    "# по этому не буду больше его дублировать\n",
    "answers['2'] = answer_string(data[data.runtime == data.runtime.max()])\n",
    "print(answers['2'])"
   ]
  },
  {
   "cell_type": "code",
   "execution_count": null,
   "metadata": {
    "colab": {},
    "colab_type": "code",
    "id": "ot-VX2XrVp-g"
   },
   "outputs": [],
   "source": []
  },
  {
   "cell_type": "markdown",
   "metadata": {
    "colab_type": "text",
    "id": "bapLlpW8Vp-k"
   },
   "source": [
    "# 3. Какой из фильмов самый короткий (в минутах)?\n",
    "\n",
    "\n",
    "\n"
   ]
  },
  {
   "cell_type": "code",
   "execution_count": 26,
   "metadata": {
    "colab": {},
    "colab_type": "code",
    "id": "YBxaSHuAVp-l"
   },
   "outputs": [
    {
     "name": "stdout",
     "output_type": "stream",
     "text": [
      "Winnie the Pooh (tt1449283)\n"
     ]
    }
   ],
   "source": [
    "# +\n",
    "answers['3'] = answer_string(data[data.runtime == data.runtime.min()])\n",
    "print(answers['3'])"
   ]
  },
  {
   "cell_type": "markdown",
   "metadata": {
    "colab_type": "text",
    "id": "TfQbxbfNVp-p"
   },
   "source": [
    "# 4. Какова средняя длительность фильмов?\n"
   ]
  },
  {
   "cell_type": "code",
   "execution_count": 27,
   "metadata": {
    "colab": {},
    "colab_type": "code",
    "id": "5K6dKZYVVp-q"
   },
   "outputs": [
    {
     "name": "stdout",
     "output_type": "stream",
     "text": [
      "110\n"
     ]
    }
   ],
   "source": [
    "# +\n",
    "answers['4'] = int_round(data.describe().runtime['mean'])\n",
    "print(answers['4'])"
   ]
  },
  {
   "cell_type": "markdown",
   "metadata": {
    "colab_type": "text",
    "id": "r5TvbnT_Vp-u"
   },
   "source": [
    "# 5. Каково медианное значение длительности фильмов? "
   ]
  },
  {
   "cell_type": "code",
   "execution_count": 28,
   "metadata": {
    "colab": {},
    "colab_type": "code",
    "id": "iBROplKnVp-v"
   },
   "outputs": [
    {
     "name": "stdout",
     "output_type": "stream",
     "text": [
      "107\n"
     ]
    }
   ],
   "source": [
    "# +\n",
    "# медиана - это 50%-й квантиль\n",
    "answers['5'] = int_round(data.describe().runtime['50%'])\n",
    "print(answers['5'])"
   ]
  },
  {
   "cell_type": "markdown",
   "metadata": {
    "colab_type": "text",
    "id": "39P-deDSVp-y"
   },
   "source": [
    "# 6. Какой самый прибыльный фильм?\n",
    "#### Внимание! Здесь и далее под «прибылью» или «убытками» понимается разность между сборами и бюджетом фильма. (прибыль = сборы - бюджет) в нашем датасете это будет (profit = revenue - budget) "
   ]
  },
  {
   "cell_type": "code",
   "execution_count": 29,
   "metadata": {
    "colab": {},
    "colab_type": "code",
    "id": "UYZh4T9WVp-y"
   },
   "outputs": [
    {
     "name": "stdout",
     "output_type": "stream",
     "text": [
      "Avatar (tt0499549)\n"
     ]
    }
   ],
   "source": [
    "# +\n",
    "answers['6'] = answer_string(data[data.profit == data.profit.max()])\n",
    "print(answers['6'])"
   ]
  },
  {
   "cell_type": "markdown",
   "metadata": {
    "colab_type": "text",
    "id": "M99JmIX4Vp-2"
   },
   "source": [
    "# 7. Какой фильм самый убыточный? "
   ]
  },
  {
   "cell_type": "code",
   "execution_count": 30,
   "metadata": {
    "colab": {},
    "colab_type": "code",
    "id": "w-D2m4XPVp-3"
   },
   "outputs": [
    {
     "name": "stdout",
     "output_type": "stream",
     "text": [
      "The Lone Ranger (tt1210819)\n"
     ]
    }
   ],
   "source": [
    "# +\n",
    "answers['7'] = answer_string(data[data.profit == data.profit.min()])\n",
    "print(answers['7'])"
   ]
  },
  {
   "cell_type": "markdown",
   "metadata": {
    "colab_type": "text",
    "id": "wEOM5ERVVp-6"
   },
   "source": [
    "# 8. У скольких фильмов из датасета объем сборов оказался выше бюджета?"
   ]
  },
  {
   "cell_type": "code",
   "execution_count": 31,
   "metadata": {
    "colab": {},
    "colab_type": "code",
    "id": "y00_7HD6Vp-7"
   },
   "outputs": [
    {
     "name": "stdout",
     "output_type": "stream",
     "text": [
      "1478\n"
     ]
    }
   ],
   "source": [
    "# +\n",
    "answers['8'] = len(data[data.profit >= 0])\n",
    "print(answers['8'])"
   ]
  },
  {
   "cell_type": "markdown",
   "metadata": {
    "colab_type": "text",
    "id": "xhpspA9KVp_A"
   },
   "source": [
    "# 9. Какой фильм оказался самым кассовым в 2008 году?"
   ]
  },
  {
   "cell_type": "code",
   "execution_count": 32,
   "metadata": {
    "colab": {},
    "colab_type": "code",
    "id": "MoUyQr9RVp_B"
   },
   "outputs": [
    {
     "name": "stdout",
     "output_type": "stream",
     "text": [
      "The Dark Knight (tt0468569)\n"
     ]
    }
   ],
   "source": [
    "# +\n",
    "# вначале получим фильмы за 2008 год\n",
    "year_2008_df = data[data.release_year == 2008]\n",
    "# теперь выберем тот, что с максимальной прибылью\n",
    "answers['9'] = answer_string(year_2008_df[year_2008_df.profit == year_2008_df.profit.max()])\n",
    "print(answers['9'])"
   ]
  },
  {
   "cell_type": "markdown",
   "metadata": {
    "colab_type": "text",
    "id": "Zi4hDKidVp_F"
   },
   "source": [
    "# 10. Самый убыточный фильм за период с 2012 по 2014 г. (включительно)?\n"
   ]
  },
  {
   "cell_type": "code",
   "execution_count": 33,
   "metadata": {
    "colab": {},
    "colab_type": "code",
    "id": "XqyRmufJVp_F"
   },
   "outputs": [
    {
     "name": "stdout",
     "output_type": "stream",
     "text": [
      "The Lone Ranger (tt1210819)\n"
     ]
    }
   ],
   "source": [
    "# +\n",
    "# вначале получим фильмы за 2012-2014 года\n",
    "years_12_to_14_df = data[(data.release_year <= 2014) & (data.release_year >= 2012)]\n",
    "# теперь выберем тот, что с максимальной убыточностью\n",
    "answers['10'] = answer_string(years_12_to_14_df[years_12_to_14_df.profit == years_12_to_14_df.profit.min()])\n",
    "print(answers['10'])"
   ]
  },
  {
   "cell_type": "markdown",
   "metadata": {
    "colab_type": "text",
    "id": "EA7Sa9dkVp_I"
   },
   "source": [
    "# 11. Какого жанра фильмов больше всего?"
   ]
  },
  {
   "cell_type": "code",
   "execution_count": 34,
   "metadata": {
    "colab": {},
    "colab_type": "code",
    "id": "zsJAwJ8QVp_J"
   },
   "outputs": [],
   "source": [
    "# +\n",
    "# тут будет код на сразу пять заданий (11, 12, 13, 14, 17), подготовка данных для ответов\n",
    "\n",
    "# создадим счетчики и на жанры фильмов, на жанры прибыльных фильмов, на кассовых режиссеров\n",
    "# и словари на счетчики жанров для режиссеров и актеров\n",
    "genres = Counter()\n",
    "genres_profitable = Counter()\n",
    "directors = Counter()\n",
    "directors_genres = {}\n",
    "\n",
    "actors_genres = {}\n",
    "\n",
    "for row in range(0, len(data)):\n",
    "    # получим строку, чтобы не удлинять код каждый раз\n",
    "    next_row_data = data.iloc[row]\n",
    "    \n",
    "    # идем по всем строкам и добавляем жанры (предварительно разделив строку) в локальный счетчик\n",
    "    local_counter = Counter()\n",
    "    for one_genre in next_row_data.genres.split('|'):\n",
    "        local_counter[one_genre] += 1\n",
    "        \n",
    "    # далее прибавляем локальный к счетчику жанров всегда, \n",
    "    # а к счетчику прибыльных только если фильм прибыльный\n",
    "    genres += local_counter\n",
    "    if (next_row_data.profit > 0):\n",
    "        genres_profitable += local_counter\n",
    "\n",
    "    for one_dir in next_row_data.director.split('|'):\n",
    "        directors[one_dir] += next_row_data.revenue\n",
    "        # получаем текущий счетчик жанров дле режиссера или по умолчанию пустой\n",
    "        one_dir_genres = directors_genres.get(one_dir, Counter())\n",
    "        one_dir_genres += local_counter\n",
    "        # сохраняем счетчик жанров режиссера\n",
    "        directors_genres[one_dir] = one_dir_genres\n",
    "        \n",
    "    for one_actor in next_row_data.cast.split('|'):\n",
    "        # получаем текущий счетчик жанров дле актера или по умолчанию пустой\n",
    "        one_actor_genres = actors_genres.get(one_actor, Counter())\n",
    "        one_actor_genres += local_counter\n",
    "        # сохраняем счетчик жанров актера\n",
    "        actors_genres[one_actor] = one_actor_genres"
   ]
  },
  {
   "cell_type": "code",
   "execution_count": 35,
   "metadata": {},
   "outputs": [
    {
     "name": "stdout",
     "output_type": "stream",
     "text": [
      "Drama\n"
     ]
    }
   ],
   "source": [
    "# получаем максимальное значение счетчика жанров\n",
    "answers['11'] = genres.most_common(1)[0][0]\n",
    "print(answers['11'])"
   ]
  },
  {
   "cell_type": "markdown",
   "metadata": {
    "colab_type": "text",
    "id": "T9_bPWpkVp_Q"
   },
   "source": [
    "# 12. Фильмы какого жанра чаще всего становятся прибыльными? "
   ]
  },
  {
   "cell_type": "code",
   "execution_count": 36,
   "metadata": {
    "colab": {},
    "colab_type": "code",
    "id": "Tmt8MaK1Vp_R"
   },
   "outputs": [
    {
     "name": "stdout",
     "output_type": "stream",
     "text": [
      "Drama\n"
     ]
    }
   ],
   "source": [
    "# +\n",
    "# получаем максимальное значение счетчика самых прибыльных жанров\n",
    "answers['12'] = genres_profitable.most_common(1)[0][0]\n",
    "print(answers['12'])"
   ]
  },
  {
   "cell_type": "markdown",
   "metadata": {
    "colab_type": "text",
    "id": "0F23bgsDVp_U"
   },
   "source": [
    "# 13. У какого режиссера самые большие суммарные кассовые сбооры?"
   ]
  },
  {
   "cell_type": "code",
   "execution_count": 37,
   "metadata": {
    "colab": {},
    "colab_type": "code",
    "id": "K6Z3J8ygVp_X"
   },
   "outputs": [
    {
     "name": "stdout",
     "output_type": "stream",
     "text": [
      "Peter Jackson\n"
     ]
    }
   ],
   "source": [
    "# +\n",
    "# получаем максимальное значение счетчика самых кассовых режиссеров\n",
    "answers['13'] = directors.most_common(1)[0][0]\n",
    "print(answers['13'])"
   ]
  },
  {
   "cell_type": "markdown",
   "metadata": {
    "colab_type": "text",
    "id": "PsYC9FgRVp_a"
   },
   "source": [
    "# 14. Какой режисер снял больше всего фильмов в стиле Action?"
   ]
  },
  {
   "cell_type": "code",
   "execution_count": 38,
   "metadata": {
    "colab": {},
    "colab_type": "code",
    "id": "wd2M-wHeVp_b"
   },
   "outputs": [
    {
     "name": "stdout",
     "output_type": "stream",
     "text": [
      "Robert Rodriguez\n"
     ]
    }
   ],
   "source": [
    "# +\n",
    "# получим отсортированный по количеству Action фильмов словарь на счетчики жанров для режиссеров\n",
    "#лямбда возвращает счетчик фильмов жанраа Action если такие были, иначе 0\n",
    "directors_genres_sorted = sorted(directors_genres.items(), key=lambda i: i[1].get('Action', 0), reverse = True)\n",
    "# получим имя режиссера\n",
    "answers['14'] = directors_genres_sorted[0][0]\n",
    "print(answers['14'])"
   ]
  },
  {
   "cell_type": "markdown",
   "metadata": {
    "colab_type": "text",
    "id": "PQ0KciD7Vp_f"
   },
   "source": [
    "# 15. Фильмы с каким актером принесли самые высокие кассовые сборы в 2012 году? "
   ]
  },
  {
   "cell_type": "code",
   "execution_count": 39,
   "metadata": {
    "colab": {},
    "colab_type": "code",
    "id": "aga62oeKVp_g"
   },
   "outputs": [
    {
     "name": "stdout",
     "output_type": "stream",
     "text": [
      "Chris Hemsworth\n"
     ]
    }
   ],
   "source": [
    "# +\n",
    "# получим фильмы 2012 года\n",
    "year_2012 = data[data.release_year == 2012]\n",
    "\n",
    "# посчитаем кассовые сборы фильмов с каждым актером\n",
    "actors_revenue = Counter()\n",
    "for row in range(0, len(year_2012)):\n",
    "    next_row_data = year_2012.iloc[row]\n",
    "    for one_actor in next_row_data.cast.split('|'):\n",
    "        actors_revenue[one_actor] += next_row_data.revenue\n",
    "\n",
    "# получаем максимальное значение счетчика\n",
    "answers['15'] = actors_revenue.most_common(1)[0][0]\n",
    "print(answers['15'])"
   ]
  },
  {
   "cell_type": "markdown",
   "metadata": {
    "colab_type": "text",
    "id": "mWHyyL7QVp_j"
   },
   "source": [
    "# 16. Какой актер снялся в большем количестве высокобюджетных фильмов?"
   ]
  },
  {
   "cell_type": "code",
   "execution_count": 40,
   "metadata": {
    "colab": {},
    "colab_type": "code",
    "id": "qQtmHKTFVp_k"
   },
   "outputs": [
    {
     "name": "stdout",
     "output_type": "stream",
     "text": [
      "Matt Damon\n"
     ]
    }
   ],
   "source": [
    "# +\n",
    "# получим высокобюджетные фильмы\n",
    "higher_mean = data[data.budget > data.describe().budget['mean']]\n",
    "\n",
    "# посчитаем количество с каждым актером\n",
    "actors_higher_mean = Counter()\n",
    "for row in range(0, len(higher_mean)):\n",
    "    next_row_data = higher_mean.iloc[row]\n",
    "    for one_actor in next_row_data.cast.split('|'):\n",
    "        actors_higher_mean[one_actor] += 1\n",
    "        \n",
    "# получаем максимальное значение счетчика\n",
    "answers['16'] = actors_higher_mean.most_common(1)[0][0]\n",
    "print(answers['16'])"
   ]
  },
  {
   "cell_type": "markdown",
   "metadata": {
    "colab_type": "text",
    "id": "NIh6AaW5Vp_n"
   },
   "source": [
    "# 17. В фильмах какого жанра больше всего снимался Nicolas Cage? "
   ]
  },
  {
   "cell_type": "code",
   "execution_count": 41,
   "metadata": {
    "colab": {},
    "colab_type": "code",
    "id": "H74SJDIBVp_n"
   },
   "outputs": [
    {
     "name": "stdout",
     "output_type": "stream",
     "text": [
      "Action\n"
     ]
    }
   ],
   "source": [
    "# +\n",
    "# ВАРИАНТ 1\n",
    "# получим счетчик жанров Николаса Кейджа\n",
    "only_Cage_genres = actors_genres['Nicolas Cage']\n",
    "# получим имя самого частого жанра\n",
    "answers['17'] = only_Cage_genres.most_common(1)[0][0]\n",
    "print(answers['17'])"
   ]
  },
  {
   "cell_type": "code",
   "execution_count": 43,
   "metadata": {},
   "outputs": [
    {
     "data": {
      "text/plain": [
       "'Action'"
      ]
     },
     "execution_count": 43,
     "metadata": {},
     "output_type": "execute_result"
    }
   ],
   "source": [
    "# +\n",
    "# ВАРИАНТ 2, медленнее\n",
    "genres_Cage = Counter()\n",
    "for row in range(0, len(data)):\n",
    "    next_row_data = data.iloc[row]\n",
    "    if ('Nicolas Cage' in next_row_data.cast):\n",
    "        for one_genre in next_row_data.genres.split('|'):\n",
    "            genres_Cage[one_genre] += 1\n",
    "            \n",
    "genres_Cage.most_common(1)[0][0]"
   ]
  },
  {
   "cell_type": "code",
   "execution_count": 44,
   "metadata": {},
   "outputs": [
    {
     "data": {
      "text/plain": [
       "'Action'"
      ]
     },
     "execution_count": 44,
     "metadata": {},
     "output_type": "execute_result"
    }
   ],
   "source": [
    "# +\n",
    "# ВАРИАНТ 2.5 - фильтрация фильмов без Николаса Кейджа вначале, потом тоже самое\n",
    "movies_with_Cage = data[data.cast.str.contains('Nicolas Cage')]\n",
    "genres_Cage2 = Counter()\n",
    "for row in range(0, len(movies_with_Cage)):\n",
    "    next_row_data = movies_with_Cage.iloc[row]\n",
    "    for one_genre in next_row_data.genres.split('|'):\n",
    "        genres_Cage2[one_genre] += 1\n",
    "            \n",
    "genres_Cage2.most_common(1)[0][0]"
   ]
  },
  {
   "cell_type": "markdown",
   "metadata": {
    "colab_type": "text",
    "id": "RqOmPRfWVp_q"
   },
   "source": [
    "# 18. Самый убыточный фильм от Paramount Pictures"
   ]
  },
  {
   "cell_type": "code",
   "execution_count": 45,
   "metadata": {
    "colab": {},
    "colab_type": "code",
    "id": "9E_B0Y96Vp_r"
   },
   "outputs": [
    {
     "name": "stdout",
     "output_type": "stream",
     "text": [
      "K-19: The Widowmaker (tt0267626)\n"
     ]
    }
   ],
   "source": [
    "# +\n",
    "# вначале получим фильмы Paramount Pictures\n",
    "paramaunt_df = data[data.production_companies.str.contains('Paramount Pictures')]\n",
    "# теперь выберем тот, что с минимальной прибылью т.е. максимальной убыточностью\n",
    "answers['18'] = answer_string(paramaunt_df[paramaunt_df.profit == paramaunt_df.profit.min()])\n",
    "print(answers['18'])"
   ]
  },
  {
   "cell_type": "markdown",
   "metadata": {
    "colab_type": "text",
    "id": "vS8Ur6ddVp_u"
   },
   "source": [
    "# 19. Какой год стал самым успешным по суммарным кассовым сборам?"
   ]
  },
  {
   "cell_type": "code",
   "execution_count": 46,
   "metadata": {
    "colab": {},
    "colab_type": "code",
    "id": "Dnbt4GdIVp_v"
   },
   "outputs": [
    {
     "name": "stdout",
     "output_type": "stream",
     "text": [
      "2015\n"
     ]
    }
   ],
   "source": [
    "# +\n",
    "# Вариант 1\n",
    "# сгруппируем по годам просуммировав сборы\n",
    "revenue_grouped = data.groupby(['release_year']).sum().sort_values(by=['revenue'], ascending=False)\n",
    "# получим самый успешный\n",
    "answers['19'] = revenue_grouped.index[0]\n",
    "print(answers['19'])"
   ]
  },
  {
   "cell_type": "code",
   "execution_count": 48,
   "metadata": {},
   "outputs": [
    {
     "data": {
      "text/plain": [
       "2015"
      ]
     },
     "execution_count": 48,
     "metadata": {},
     "output_type": "execute_result"
    }
   ],
   "source": [
    "# +\n",
    "# Вариант 2 - простой, медленнее\n",
    "revenues_sums = Counter()\n",
    "for row in range(0, len(data)):\n",
    "    next_row_data = data.iloc[row]\n",
    "    revenues_sums[next_row_data.release_year] += next_row_data.revenue\n",
    "revenues_sums.most_common(1)[0][0]"
   ]
  },
  {
   "cell_type": "markdown",
   "metadata": {
    "colab_type": "text",
    "id": "JAzJh4QAVp_z"
   },
   "source": [
    "# 20. Какой самый прибыльный год для студии Warner Bros?"
   ]
  },
  {
   "cell_type": "code",
   "execution_count": 49,
   "metadata": {
    "colab": {},
    "colab_type": "code",
    "id": "wgVu02DEVp_0"
   },
   "outputs": [
    {
     "name": "stdout",
     "output_type": "stream",
     "text": [
      "2014\n"
     ]
    }
   ],
   "source": [
    "# +\n",
    "# вначале получим фильмы Warner Bros\n",
    "warner_df = data[data.production_companies.str.contains('Warner Bros')]\n",
    "# сгруппируем по году и посчитаем сумму прибыли, отсортировав по убыванию\n",
    "profits_by_year = warner_df.groupby(['release_year'])['profit'].sum().sort_values(ascending=False)\n",
    "# получим самый прибыльный\n",
    "answers['20'] = profits_by_year.index[0]\n",
    "print(answers['20'])"
   ]
  },
  {
   "cell_type": "markdown",
   "metadata": {
    "colab_type": "text",
    "id": "8Im1S2HRVp_4"
   },
   "source": [
    "# 21. В каком месяце за все годы суммарно вышло больше всего фильмов?"
   ]
  },
  {
   "cell_type": "code",
   "execution_count": 50,
   "metadata": {
    "colab": {},
    "colab_type": "code",
    "id": "lev6TH7gVp_4"
   },
   "outputs": [
    {
     "name": "stdout",
     "output_type": "stream",
     "text": [
      "Sep\n"
     ]
    }
   ],
   "source": [
    "# +\n",
    "# посчитаем количества значений и получим аббревиатуру для самого частого\n",
    "answers['21'] = calendar.month_abbr[data['release_month'].value_counts().index[0]]\n",
    "### можно было бы без колонки, но получается громоздко\n",
    "### answers['21'] = calendar.month_abbr[pd.DatetimeIndex(data['release_date']).month.value_counts().index[0]]\n",
    "print(answers['21'])"
   ]
  },
  {
   "cell_type": "markdown",
   "metadata": {
    "colab_type": "text",
    "id": "uAJsZ_NeVp_7"
   },
   "source": [
    "# 22. Сколько суммарно вышло фильмов летом? (за июнь, июль, август)"
   ]
  },
  {
   "cell_type": "code",
   "execution_count": 51,
   "metadata": {
    "colab": {},
    "colab_type": "code",
    "id": "Aa-hEREoVp_8"
   },
   "outputs": [
    {
     "name": "stdout",
     "output_type": "stream",
     "text": [
      "450\n"
     ]
    }
   ],
   "source": [
    "# +\n",
    "# создадим колонку сезона, month_to_season определена вначале файла\n",
    "data['season'] = data.apply(lambda row: month_to_season(row['release_month']), axis=1)\n",
    "### если бы не было колонки месяца можно было бы и без нее сразу получить, а так используем имеющееся\n",
    "### data['season'] = data.apply(lambda row: month_to_season(row['release_date'].month), axis=1)\n",
    "\n",
    "# подсчитаем значения и выберем лето\n",
    "answers['22'] = data['season'].value_counts()['summer']\n",
    "print(answers['22'])"
   ]
  },
  {
   "cell_type": "markdown",
   "metadata": {
    "colab_type": "text",
    "id": "G94ppOY1VqAA"
   },
   "source": [
    "# 23. Для какого режиссера зима – самое продуктивное время года? "
   ]
  },
  {
   "cell_type": "code",
   "execution_count": 52,
   "metadata": {
    "colab": {},
    "colab_type": "code",
    "id": "RhNTsamuVqAB"
   },
   "outputs": [
    {
     "name": "stdout",
     "output_type": "stream",
     "text": [
      "Peter Jackson\n"
     ]
    }
   ],
   "source": [
    "# +\n",
    "# выбираем зимние фильмы\n",
    "data_winter = data[data.season == 'winter']\n",
    "# выключаем предупреждение - здесь создаем колонку, никаких chained-операций\n",
    "pd.options.mode.chained_assignment = None\n",
    "# делаем новую колонку - массив директоров, а не строку\n",
    "data_winter['array_directors'] = data_winter.apply(lambda row: row['director'].split('|'), axis=1)\n",
    "# включаем предупреждение обратно\n",
    "pd.options.mode.chained_assignment ='warn'\n",
    "# размножаем/дублируем строки так, чтобы в каждой строке был один режиссер\n",
    "data_winter_exploded = data_winter.explode('array_directors')\n",
    "# выбираем самого продуктивного\n",
    "answers['23'] = data_winter_exploded['array_directors'].value_counts(ascending=False).index[0]\n",
    "print(answers['23'])"
   ]
  },
  {
   "cell_type": "markdown",
   "metadata": {
    "colab_type": "text",
    "id": "RBo0JVjVVqAF"
   },
   "source": [
    "# 24. Какая студия дает самые длинные названия своим фильмам по количеству символов?"
   ]
  },
  {
   "cell_type": "code",
   "execution_count": 53,
   "metadata": {
    "colab": {},
    "colab_type": "code",
    "id": "QRGS8L0iVqAG"
   },
   "outputs": [
    {
     "name": "stdout",
     "output_type": "stream",
     "text": [
      "Four By Two Productions\n"
     ]
    }
   ],
   "source": [
    "# +\n",
    "# создадим выборку (сразу для двух вопросов)\n",
    "df_title_overview_studios = data[['production_companies','original_title','overview']]\n",
    "# выключаем предупреждение - здесь создаем колонки, никаких chained-операций\n",
    "pd.options.mode.chained_assignment = None\n",
    "# создаем столбцы длины названия в словах и длины описания в символах\n",
    "df_title_overview_studios['word_title_count'] = df_title_overview_studios.apply(lambda row: len(row['original_title'].split(' ')), axis=1)\n",
    "df_title_overview_studios['symbol_overview_count'] = df_title_overview_studios.apply(lambda row: len(row['overview']), axis=1)\n",
    "# делаем новую колонку - массив директоров, а не строку\n",
    "df_title_overview_studios['array_production_companies'] = df_title_overview_studios.apply(lambda row: row['production_companies'].split('|'), axis=1)\n",
    "# включаем предупреждение обратно\n",
    "pd.options.mode.chained_assignment ='warn'\n",
    "# размножаем/дублируем строки так, чтобы в каждой строке была одна студия\n",
    "df_exploded = df_title_overview_studios.explode('array_production_companies')\n",
    "# группируем\n",
    "grouped_by_studio = df_exploded.groupby('array_production_companies')\n",
    "# агрегируем\n",
    "aggregated = grouped_by_studio[['word_title_count', 'symbol_overview_count']].agg(['mean'])\n",
    "# получем нужные студии - тут и в следующем вопросе\n",
    "answers['24'] = aggregated[aggregated.word_title_count['mean'] == aggregated.word_title_count['mean'].max()].index[0]\n",
    "print(answers['24'])"
   ]
  },
  {
   "cell_type": "markdown",
   "metadata": {
    "colab_type": "text",
    "id": "9G0hbvR7VqAK"
   },
   "source": [
    "# 25. Описание фильмов какой студии в среднем самые длинные по количеству слов?"
   ]
  },
  {
   "cell_type": "code",
   "execution_count": 54,
   "metadata": {
    "colab": {},
    "colab_type": "code",
    "id": "Ge2GsLNxVqAK"
   },
   "outputs": [
    {
     "name": "stdout",
     "output_type": "stream",
     "text": [
      "Midnight Picture Show\n"
     ]
    }
   ],
   "source": [
    "# +\n",
    "answers['25'] = aggregated[aggregated.symbol_overview_count['mean'] == aggregated.symbol_overview_count['mean'].max()].index[0]\n",
    "print(answers['25'])"
   ]
  },
  {
   "cell_type": "markdown",
   "metadata": {
    "colab_type": "text",
    "id": "FJ1AFt90VqAP"
   },
   "source": [
    "# 26. Какие фильмы входят в 1 процент лучших по рейтингу? \n",
    "по vote_average"
   ]
  },
  {
   "cell_type": "code",
   "execution_count": 55,
   "metadata": {
    "colab": {},
    "colab_type": "code",
    "id": "8qmJVq4CVqAQ"
   },
   "outputs": [
    {
     "name": "stdout",
     "output_type": "stream",
     "text": [
      "Inside Out, The Dark Knight, 12 Years a Slave\n"
     ]
    }
   ],
   "source": [
    "# +\n",
    "# не очень ясно в каком виде давать ответ, поэтому я введу переменные ответов и найду ту, \n",
    "# которая удовлетворяет 1% лучших\n",
    "answer_variants = ['Inside Out, The Dark Knight, 12 Years a Slave', 'BloodRayne, The Adventures of Rocky & Bullwinkle',\n",
    "   'Batman Begins, The Lord of the Rings: The Return of the King, Upside Down', '300, Lucky Number Slevin, Kill Bill: Vol. 1',\n",
    "   'Upside Down, Inside Out, Iron Man']\n",
    "# список листов ответов разделенных по фильмам\n",
    "answer_variants_lists = []\n",
    "\n",
    "# заполняем список листов ответов разделенных по фильмам\n",
    "for i in range(0, len(answer_variants)):\n",
    "    answer_variants_lists.append(answer_variants[i].split(', '))\n",
    "#print(answer_variants_lists)\n",
    "\n",
    "# получаем фильмы из квантиля и переводим в список\n",
    "df_quantile_099 = data[data.vote_average >= data.quantile(0.99).vote_average]\n",
    "df_quantile_099_list = df_quantile_099['original_title'].to_list()\n",
    "\n",
    "# цикл идущий по спискам и проверяющий что фильмы из него в квантиле. Если нет, то сразу переходим к следующему\n",
    "have_answer = False\n",
    "for i in range(0, len(answer_variants_lists)):\n",
    "    for j in range(0, len(answer_variants_lists[i])):\n",
    "        if answer_variants_lists[i][j] not in df_quantile_099_list:\n",
    "            break\n",
    "    else:\n",
    "        if (have_answer == True):\n",
    "            print(\"Ошибка - два правильных ответа\")\n",
    "        else:\n",
    "            have_answer = True\n",
    "            answers['26'] = answer_variants[i]\n",
    "print(answers['26'])"
   ]
  },
  {
   "cell_type": "markdown",
   "metadata": {
    "colab_type": "text",
    "id": "MdXsUXbCVqAV"
   },
   "source": [
    "# 27. Какие актеры чаще всего снимаются в одном фильме вместе?\n"
   ]
  },
  {
   "cell_type": "code",
   "execution_count": 56,
   "metadata": {},
   "outputs": [
    {
     "data": {
      "text/plain": [
       "[('Daniel Radcliffe', 'Emma Watson'),\n",
       " ('Daniel Radcliffe', 'Rupert Grint'),\n",
       " ('Emma Watson', 'Rupert Grint')]"
      ]
     },
     "execution_count": 56,
     "metadata": {},
     "output_type": "execute_result"
    }
   ],
   "source": [
    "# +\n",
    "# отберем одну колонку для удобства\n",
    "df_cast = data[['cast']]\n",
    "# выключаем предупреждение - здесь создаем колонки, никаких chained-операций\n",
    "pd.options.mode.chained_assignment = None\n",
    "# создаем новую колонку в которой массивы комбинаций пар актеров\n",
    "df_cast['actors'] = df_cast.apply(lambda row: list(combinations(sorted(row['cast'].split('|')), 2)), axis=1)\n",
    "# включаем предупреждение обратно\n",
    "pd.options.mode.chained_assignment ='warn'\n",
    "# размножаем/дублируем строки так, чтобы в каждой строке была одна студия\n",
    "df_cast_ex = df_cast.explode('actors')\n",
    "# группируем и аггрегируем\n",
    "pairs_count = df_cast_ex.groupby(['actors']).agg(['count'])\n",
    "pairs_count_max = pairs_count[pairs_count.cast['count'] == pairs_count.cast['count'].max()]\n",
    "pairs_count_max.index.to_list()"
   ]
  },
  {
   "cell_type": "markdown",
   "metadata": {
    "colab_type": "text",
    "id": "4ymnxEVoVqAW"
   },
   "source": [
    "ВАРИАНТ 2"
   ]
  },
  {
   "cell_type": "code",
   "execution_count": 57,
   "metadata": {},
   "outputs": [],
   "source": [
    "# +\n",
    "actors_value_counts = df_cast_ex['actors'].value_counts()\n",
    "top_actors_pairs = actors_value_counts[actors_value_counts == actors_value_counts[0]]"
   ]
  },
  {
   "cell_type": "code",
   "execution_count": 58,
   "metadata": {},
   "outputs": [
    {
     "name": "stdout",
     "output_type": "stream",
     "text": [
      "Daniel Radcliffe & Rupert Grint\n"
     ]
    }
   ],
   "source": [
    "# собственно получение ответа\n",
    "test_answer_variants_27 = ['Johnny Depp & Helena Bonham Carter', \n",
    "                   'Ben Stiller & Owen Wilson',\n",
    "                   'Daniel Radcliffe & Rupert Grint']\n",
    "answers['27'] = check_correct_answer27(test_answer_variants_27, \n",
    "                                       [list(t) for t in pairs_count_max.cast.index.to_list()], \n",
    "                                       ' & ')\n",
    "print(answers['27'])"
   ]
  },
  {
   "cell_type": "code",
   "execution_count": null,
   "metadata": {},
   "outputs": [],
   "source": []
  },
  {
   "cell_type": "markdown",
   "metadata": {
    "colab_type": "text",
    "id": "U0nONFnGVqAX"
   },
   "source": [
    "# Submission"
   ]
  },
  {
   "cell_type": "code",
   "execution_count": 59,
   "metadata": {
    "colab": {},
    "colab_type": "code",
    "id": "IfcaRO9-VqAX",
    "outputId": "0f132912-32bb-4196-c98c-abfbc4ad5a5f"
   },
   "outputs": [
    {
     "data": {
      "text/plain": [
       "{'1': 'Pirates of the Caribbean: On Stranger Tides (tt1298650)',\n",
       " '2': 'Gods and Generals (tt0279111)',\n",
       " '3': 'Winnie the Pooh (tt1449283)',\n",
       " '4': 110,\n",
       " '5': 107,\n",
       " '6': 'Avatar (tt0499549)',\n",
       " '7': 'The Lone Ranger (tt1210819)',\n",
       " '8': 1478,\n",
       " '9': 'The Dark Knight (tt0468569)',\n",
       " '10': 'The Lone Ranger (tt1210819)',\n",
       " '11': 'Drama',\n",
       " '12': 'Drama',\n",
       " '13': 'Peter Jackson',\n",
       " '14': 'Robert Rodriguez',\n",
       " '15': 'Chris Hemsworth',\n",
       " '16': 'Matt Damon',\n",
       " '17': 'Action',\n",
       " '18': 'K-19: The Widowmaker (tt0267626)',\n",
       " '19': 2015,\n",
       " '20': 2014,\n",
       " '21': 'Sep',\n",
       " '22': 450,\n",
       " '23': 'Peter Jackson',\n",
       " '24': 'Four By Two Productions',\n",
       " '25': 'Midnight Picture Show',\n",
       " '26': 'Inside Out, The Dark Knight, 12 Years a Slave',\n",
       " '27': 'Daniel Radcliffe & Rupert Grint'}"
      ]
     },
     "execution_count": 59,
     "metadata": {},
     "output_type": "execute_result"
    }
   ],
   "source": [
    "# в конце можно посмотреть свои ответы к каждому вопросу\n",
    "answers"
   ]
  },
  {
   "cell_type": "code",
   "execution_count": 60,
   "metadata": {
    "colab": {},
    "colab_type": "code",
    "id": "SiRmHPl8VqAd",
    "scrolled": true
   },
   "outputs": [
    {
     "data": {
      "text/plain": [
       "27"
      ]
     },
     "execution_count": 60,
     "metadata": {},
     "output_type": "execute_result"
    }
   ],
   "source": [
    "# убедиться что ничего не пропустил)\n",
    "answers_len = len(answers)\n",
    "# создаем ошибку если количество не равно 27 из теста =)\n",
    "if (answers_len != 27):\n",
    "    answers_len/0\n",
    "answers_len"
   ]
  },
  {
   "cell_type": "markdown",
   "metadata": {},
   "source": [
    "# Как указано тут https://skillfactorydspr.slack.com/archives/C017W2EQTRV/p1603282078051500?thread_ts=1603218900.048700&cid=C017W2EQTRV надо отдельно указать ответы в простом стиле, поэтому указываю"
   ]
  },
  {
   "cell_type": "code",
   "execution_count": 61,
   "metadata": {},
   "outputs": [],
   "source": [
    "answers['1'] = 'Pirates of the Caribbean: On Stranger Tides (tt1298650)'\n",
    "answers['2'] = 'Gods and Generals (tt0279111)'\n",
    "answers['3'] = 'Winnie the Pooh (tt1449283)'\n",
    "answers['4'] = 110\n",
    "answers['5'] = 107\n",
    "answers['6'] = 'Avatar (tt0499549)',\n",
    "answers['7'] = 'The Lone Ranger (tt1210819)'\n",
    "answers['8'] = 1478\n",
    "answers['9'] = 'The Dark Knight (tt0468569)'\n",
    "answers['10'] = 'The Lone Ranger (tt1210819)'\n",
    "answers['11'] = 'Drama'\n",
    "answers['12'] = 'Drama'\n",
    "answers['13'] = 'Peter Jackson'\n",
    "answers['14'] = 'Robert Rodriguez'\n",
    "answers['15'] = 'Chris Hemsworth'\n",
    "answers['16'] = 'Matt Damon'\n",
    "answers['17'] = 'Action'\n",
    "answers['18'] = 'K-19: The Widowmaker (tt0267626)'\n",
    "answers['19'] = 2015\n",
    "answers['21'] = 'Sep'\n",
    "answers['20'] = 2014\n",
    "answers['22'] = 450\n",
    "answers['23'] = 'Peter Jackson'\n",
    "answers['24'] = 'Four By Two Productions'\n",
    "answers['25'] = 'Midnight Picture Show'\n",
    "answers['26'] = 'Inside Out, The Dark Knight, 12 Years a Slave'\n",
    "answers['27'] = 'Daniel Radcliffe & Rupert Grint'"
   ]
  },
  {
   "cell_type": "code",
   "execution_count": 62,
   "metadata": {},
   "outputs": [
    {
     "data": {
      "text/plain": [
       "{'1': 'Pirates of the Caribbean: On Stranger Tides (tt1298650)',\n",
       " '2': 'Gods and Generals (tt0279111)',\n",
       " '3': 'Winnie the Pooh (tt1449283)',\n",
       " '4': 110,\n",
       " '5': 107,\n",
       " '6': ('Avatar (tt0499549)',),\n",
       " '7': 'The Lone Ranger (tt1210819)',\n",
       " '8': 1478,\n",
       " '9': 'The Dark Knight (tt0468569)',\n",
       " '10': 'The Lone Ranger (tt1210819)',\n",
       " '11': 'Drama',\n",
       " '12': 'Drama',\n",
       " '13': 'Peter Jackson',\n",
       " '14': 'Robert Rodriguez',\n",
       " '15': 'Chris Hemsworth',\n",
       " '16': 'Matt Damon',\n",
       " '17': 'Action',\n",
       " '18': 'K-19: The Widowmaker (tt0267626)',\n",
       " '19': 2015,\n",
       " '20': 2014,\n",
       " '21': 'Sep',\n",
       " '22': 450,\n",
       " '23': 'Peter Jackson',\n",
       " '24': 'Four By Two Productions',\n",
       " '25': 'Midnight Picture Show',\n",
       " '26': 'Inside Out, The Dark Knight, 12 Years a Slave',\n",
       " '27': 'Daniel Radcliffe & Rupert Grint'}"
      ]
     },
     "execution_count": 62,
     "metadata": {},
     "output_type": "execute_result"
    }
   ],
   "source": [
    "answers"
   ]
  },
  {
   "cell_type": "code",
   "execution_count": null,
   "metadata": {},
   "outputs": [],
   "source": []
  }
 ],
 "metadata": {
  "colab": {
   "name": "Copy of [SF-DST] Movies IMBD v4.1 TEMPLATE.ipynb",
   "provenance": []
  },
  "kernelspec": {
   "display_name": "Python 3",
   "language": "python",
   "name": "python3"
  },
  "language_info": {
   "codemirror_mode": {
    "name": "ipython",
    "version": 3
   },
   "file_extension": ".py",
   "mimetype": "text/x-python",
   "name": "python",
   "nbconvert_exporter": "python",
   "pygments_lexer": "ipython3",
   "version": "3.7.4"
  }
 },
 "nbformat": 4,
 "nbformat_minor": 1
}
